{
  "nbformat": 4,
  "nbformat_minor": 0,
  "metadata": {
    "colab": {
      "name": "ASSOCIATION RULES.ipynb",
      "provenance": [],
      "collapsed_sections": [],
      "authorship_tag": "ABX9TyOZaon3CvZqZQkwobQlkMqp",
      "include_colab_link": true
    },
    "kernelspec": {
      "name": "ir",
      "display_name": "R"
    },
    "language_info": {
      "name": "R"
    }
  },
  "cells": [
    {
      "cell_type": "markdown",
      "metadata": {
        "id": "view-in-github",
        "colab_type": "text"
      },
      "source": [
        "<a href=\"https://colab.research.google.com/github/MoreenMarutaData/UNSUPERVISED-ANALYSIS-OF-CARREFOUR-KENYA/blob/main/ASSOCIATION_RULES.ipynb\" target=\"_parent\"><img src=\"https://colab.research.google.com/assets/colab-badge.svg\" alt=\"Open In Colab\"/></a>"
      ]
    },
    {
      "cell_type": "markdown",
      "metadata": {
        "id": "dFKd0cAo3t59"
      },
      "source": [
        "Defining the question"
      ]
    },
    {
      "cell_type": "markdown",
      "metadata": {
        "id": "LlZca3aM3taI"
      },
      "source": [
        "This section will require that i create association rules that will allow me to identify relationships between variables in the dataset"
      ]
    },
    {
      "cell_type": "code",
      "metadata": {
        "colab": {
          "base_uri": "https://localhost:8080/"
        },
        "id": "IqczkZaU4r9x",
        "outputId": "19375f2d-ab1d-485b-934b-deccb1d61fe0"
      },
      "source": [
        "install.packages(\"arules\")\n",
        "install.packages(\"tinytex\")\n",
        "library(arules)\n",
        "library(tinytex)"
      ],
      "execution_count": 3,
      "outputs": [
        {
          "output_type": "stream",
          "name": "stderr",
          "text": [
            "Installing package into ‘/usr/local/lib/R/site-library’\n",
            "(as ‘lib’ is unspecified)\n",
            "\n",
            "Installing package into ‘/usr/local/lib/R/site-library’\n",
            "(as ‘lib’ is unspecified)\n",
            "\n",
            "Loading required package: Matrix\n",
            "\n",
            "\n",
            "Attaching package: ‘arules’\n",
            "\n",
            "\n",
            "The following objects are masked from ‘package:base’:\n",
            "\n",
            "    abbreviate, write\n",
            "\n",
            "\n"
          ]
        }
      ]
    },
    {
      "cell_type": "code",
      "metadata": {
        "colab": {
          "base_uri": "https://localhost:8080/"
        },
        "id": "0HZ6fKNK2OXQ",
        "outputId": "d1962e9e-f5d2-4750-befc-913e3ede95a8"
      },
      "source": [
        "df<- read.transactions(\"http://bit.ly/SupermarketDatasetII\", sep=',', header=FALSE) "
      ],
      "execution_count": 4,
      "outputs": [
        {
          "output_type": "stream",
          "name": "stderr",
          "text": [
            "Warning message in asMethod(object):\n",
            "“removing duplicated items in transactions”\n"
          ]
        }
      ]
    },
    {
      "cell_type": "code",
      "metadata": {
        "colab": {
          "base_uri": "https://localhost:8080/",
          "height": 34
        },
        "id": "jIolbpxL4CYX",
        "outputId": "360c85f4-cf90-44ad-dc70-5b1e5174bc89"
      },
      "source": [
        "sum(duplicated(df))"
      ],
      "execution_count": 5,
      "outputs": [
        {
          "output_type": "display_data",
          "data": {
            "text/plain": [
              "[1] 2347"
            ],
            "text/latex": "2347",
            "text/markdown": "2347",
            "text/html": [
              "2347"
            ]
          },
          "metadata": {}
        }
      ]
    },
    {
      "cell_type": "code",
      "metadata": {
        "colab": {
          "base_uri": "https://localhost:8080/",
          "height": 34
        },
        "id": "6wBe5b504GAj",
        "outputId": "63f90668-c3e6-4cdc-fdd0-df1ec57f67fc"
      },
      "source": [
        "class(df)"
      ],
      "execution_count": 6,
      "outputs": [
        {
          "output_type": "display_data",
          "data": {
            "text/plain": [
              "[1] \"transactions\"\n",
              "attr(,\"package\")\n",
              "[1] \"arules\""
            ],
            "text/latex": "'transactions'",
            "text/markdown": "'transactions'",
            "text/html": [
              "'transactions'"
            ]
          },
          "metadata": {}
        }
      ]
    },
    {
      "cell_type": "markdown",
      "metadata": {
        "id": "2D4G3HOm5rIr"
      },
      "source": [
        "check first 8 transactions"
      ]
    },
    {
      "cell_type": "code",
      "metadata": {
        "colab": {
          "base_uri": "https://localhost:8080/"
        },
        "id": "JJqn_1n74eMu",
        "outputId": "1126e5e9-1be6-458c-96dd-bf6a1ec131c3"
      },
      "source": [
        "inspect(df[1:8])"
      ],
      "execution_count": 7,
      "outputs": [
        {
          "output_type": "stream",
          "name": "stdout",
          "text": [
            "    items               \n",
            "[1] {almonds,           \n",
            "     antioxydant juice, \n",
            "     avocado,           \n",
            "     cottage cheese,    \n",
            "     energy drink,      \n",
            "     frozen smoothie,   \n",
            "     green grapes,      \n",
            "     green tea,         \n",
            "     honey,             \n",
            "     low fat yogurt,    \n",
            "     mineral water,     \n",
            "     olive oil,         \n",
            "     salad,             \n",
            "     salmon,            \n",
            "     shrimp,            \n",
            "     spinach,           \n",
            "     tomato juice,      \n",
            "     vegetables mix,    \n",
            "     whole weat flour,  \n",
            "     yams}              \n",
            "[2] {burgers,           \n",
            "     eggs,              \n",
            "     meatballs}         \n",
            "[3] {chutney}           \n",
            "[4] {avocado,           \n",
            "     turkey}            \n",
            "[5] {energy bar,        \n",
            "     green tea,         \n",
            "     milk,              \n",
            "     mineral water,     \n",
            "     whole wheat rice}  \n",
            "[6] {low fat yogurt}    \n",
            "[7] {french fries,      \n",
            "     whole wheat pasta} \n",
            "[8] {light cream,       \n",
            "     shallot,           \n",
            "     soup}              \n"
          ]
        }
      ]
    },
    {
      "cell_type": "code",
      "metadata": {
        "id": "mvbPKNg05xsY"
      },
      "source": [
        "#inspect(df[-1])"
      ],
      "execution_count": 8,
      "outputs": []
    },
    {
      "cell_type": "markdown",
      "metadata": {
        "id": "_Cgf0_zm6bZ_"
      },
      "source": [
        "the rows"
      ]
    },
    {
      "cell_type": "code",
      "metadata": {
        "colab": {
          "base_uri": "https://localhost:8080/",
          "height": 34
        },
        "id": "UWLHDnlV6COv",
        "outputId": "369c5d16-c397-4eaa-a11e-ba2c693a2861"
      },
      "source": [
        "length(df)"
      ],
      "execution_count": 9,
      "outputs": [
        {
          "output_type": "display_data",
          "data": {
            "text/plain": [
              "[1] 7501"
            ],
            "text/latex": "7501",
            "text/markdown": "7501",
            "text/html": [
              "7501"
            ]
          },
          "metadata": {}
        }
      ]
    },
    {
      "cell_type": "markdown",
      "metadata": {
        "id": "s4k3xymo6dCH"
      },
      "source": [
        "dimensions for the dataset"
      ]
    },
    {
      "cell_type": "code",
      "metadata": {
        "colab": {
          "base_uri": "https://localhost:8080/",
          "height": 34
        },
        "id": "m9E9-ipI6Vlr",
        "outputId": "eb8ecadd-2a0b-436e-f3bf-f731bd504dd4"
      },
      "source": [
        "dim(df)"
      ],
      "execution_count": 10,
      "outputs": [
        {
          "output_type": "display_data",
          "data": {
            "text/plain": [
              "[1] 7501  119"
            ],
            "text/latex": "\\begin{enumerate*}\n\\item 7501\n\\item 119\n\\end{enumerate*}\n",
            "text/markdown": "1. 7501\n2. 119\n\n\n",
            "text/html": [
              "<style>\n",
              ".list-inline {list-style: none; margin:0; padding: 0}\n",
              ".list-inline>li {display: inline-block}\n",
              ".list-inline>li:not(:last-child)::after {content: \"\\00b7\"; padding: 0 .5ex}\n",
              "</style>\n",
              "<ol class=list-inline><li>7501</li><li>119</li></ol>\n"
            ]
          },
          "metadata": {}
        }
      ]
    },
    {
      "cell_type": "markdown",
      "metadata": {
        "id": "yuEknzrY6gyF"
      },
      "source": [
        "columns"
      ]
    },
    {
      "cell_type": "code",
      "metadata": {
        "colab": {
          "base_uri": "https://localhost:8080/",
          "height": 34
        },
        "id": "Zhd3SyaK6aB2",
        "outputId": "514b9a65-abf0-4643-d853-daef72d97bf2"
      },
      "source": [
        "ncol(df)"
      ],
      "execution_count": 11,
      "outputs": [
        {
          "output_type": "display_data",
          "data": {
            "text/plain": [
              "[1] 119"
            ],
            "text/latex": "119",
            "text/markdown": "119",
            "text/html": [
              "119"
            ]
          },
          "metadata": {}
        }
      ]
    },
    {
      "cell_type": "code",
      "metadata": {
        "colab": {
          "base_uri": "https://localhost:8080/",
          "height": 478
        },
        "id": "ea6xR1796kH3",
        "outputId": "17fb273b-cbc9-4269-dce8-082457c08cd5"
      },
      "source": [
        "summary(df)"
      ],
      "execution_count": 12,
      "outputs": [
        {
          "output_type": "display_data",
          "data": {
            "text/plain": [
              "transactions as itemMatrix in sparse format with\n",
              " 7501 rows (elements/itemsets/transactions) and\n",
              " 119 columns (items) and a density of 0.03288973 \n",
              "\n",
              "most frequent items:\n",
              "mineral water          eggs     spaghetti  french fries     chocolate \n",
              "         1788          1348          1306          1282          1229 \n",
              "      (Other) \n",
              "        22405 \n",
              "\n",
              "element (itemset/transaction) length distribution:\n",
              "sizes\n",
              "   1    2    3    4    5    6    7    8    9   10   11   12   13   14   15   16 \n",
              "1754 1358 1044  816  667  493  391  324  259  139  102   67   40   22   17    4 \n",
              "  18   19   20 \n",
              "   1    2    1 \n",
              "\n",
              "   Min. 1st Qu.  Median    Mean 3rd Qu.    Max. \n",
              "  1.000   2.000   3.000   3.914   5.000  20.000 \n",
              "\n",
              "includes extended item information - examples:\n",
              "             labels\n",
              "1           almonds\n",
              "2 antioxydant juice\n",
              "3         asparagus"
            ]
          },
          "metadata": {}
        }
      ]
    },
    {
      "cell_type": "markdown",
      "metadata": {
        "id": "JJhfvuMfDHYA"
      },
      "source": [
        "Mineral water, eggs, spaghetti, french fries and chocolate are the most frequently bought products. "
      ]
    },
    {
      "cell_type": "code",
      "metadata": {
        "colab": {
          "base_uri": "https://localhost:8080/",
          "height": 155
        },
        "id": "kjMbXynx6pmv",
        "outputId": "9cd3de2d-50cb-4673-9fe0-c2016535687f"
      },
      "source": [
        "itemLabels(df)"
      ],
      "execution_count": 13,
      "outputs": [
        {
          "output_type": "display_data",
          "data": {
            "text/plain": [
              "  [1] \"almonds\"              \"antioxydant juice\"    \"asparagus\"           \n",
              "  [4] \"avocado\"              \"babies food\"          \"bacon\"               \n",
              "  [7] \"barbecue sauce\"       \"black tea\"            \"blueberries\"         \n",
              " [10] \"body spray\"           \"bramble\"              \"brownies\"            \n",
              " [13] \"bug spray\"            \"burger sauce\"         \"burgers\"             \n",
              " [16] \"butter\"               \"cake\"                 \"candy bars\"          \n",
              " [19] \"carrots\"              \"cauliflower\"          \"cereals\"             \n",
              " [22] \"champagne\"            \"chicken\"              \"chili\"               \n",
              " [25] \"chocolate\"            \"chocolate bread\"      \"chutney\"             \n",
              " [28] \"cider\"                \"clothes accessories\"  \"cookies\"             \n",
              " [31] \"cooking oil\"          \"corn\"                 \"cottage cheese\"      \n",
              " [34] \"cream\"                \"dessert wine\"         \"eggplant\"            \n",
              " [37] \"eggs\"                 \"energy bar\"           \"energy drink\"        \n",
              " [40] \"escalope\"             \"extra dark chocolate\" \"flax seed\"           \n",
              " [43] \"french fries\"         \"french wine\"          \"fresh bread\"         \n",
              " [46] \"fresh tuna\"           \"fromage blanc\"        \"frozen smoothie\"     \n",
              " [49] \"frozen vegetables\"    \"gluten free bar\"      \"grated cheese\"       \n",
              " [52] \"green beans\"          \"green grapes\"         \"green tea\"           \n",
              " [55] \"ground beef\"          \"gums\"                 \"ham\"                 \n",
              " [58] \"hand protein bar\"     \"herb & pepper\"        \"honey\"               \n",
              " [61] \"hot dogs\"             \"ketchup\"              \"light cream\"         \n",
              " [64] \"light mayo\"           \"low fat yogurt\"       \"magazines\"           \n",
              " [67] \"mashed potato\"        \"mayonnaise\"           \"meatballs\"           \n",
              " [70] \"melons\"               \"milk\"                 \"mineral water\"       \n",
              " [73] \"mint\"                 \"mint green tea\"       \"muffins\"             \n",
              " [76] \"mushroom cream sauce\" \"napkins\"              \"nonfat milk\"         \n",
              " [79] \"oatmeal\"              \"oil\"                  \"olive oil\"           \n",
              " [82] \"pancakes\"             \"parmesan cheese\"      \"pasta\"               \n",
              " [85] \"pepper\"               \"pet food\"             \"pickles\"             \n",
              " [88] \"protein bar\"          \"red wine\"             \"rice\"                \n",
              " [91] \"salad\"                \"salmon\"               \"salt\"                \n",
              " [94] \"sandwich\"             \"shallot\"              \"shampoo\"             \n",
              " [97] \"shrimp\"               \"soda\"                 \"soup\"                \n",
              "[100] \"spaghetti\"            \"sparkling water\"      \"spinach\"             \n",
              "[103] \"strawberries\"         \"strong cheese\"        \"tea\"                 \n",
              "[106] \"tomato juice\"         \"tomato sauce\"         \"tomatoes\"            \n",
              "[109] \"toothpaste\"           \"turkey\"               \"vegetables mix\"      \n",
              "[112] \"water spray\"          \"white wine\"           \"whole weat flour\"    \n",
              "[115] \"whole wheat pasta\"    \"whole wheat rice\"     \"yams\"                \n",
              "[118] \"yogurt cake\"          \"zucchini\"            "
            ],
            "text/latex": "\\begin{enumerate*}\n\\item 'almonds'\n\\item 'antioxydant juice'\n\\item 'asparagus'\n\\item 'avocado'\n\\item 'babies food'\n\\item 'bacon'\n\\item 'barbecue sauce'\n\\item 'black tea'\n\\item 'blueberries'\n\\item 'body spray'\n\\item 'bramble'\n\\item 'brownies'\n\\item 'bug spray'\n\\item 'burger sauce'\n\\item 'burgers'\n\\item 'butter'\n\\item 'cake'\n\\item 'candy bars'\n\\item 'carrots'\n\\item 'cauliflower'\n\\item 'cereals'\n\\item 'champagne'\n\\item 'chicken'\n\\item 'chili'\n\\item 'chocolate'\n\\item 'chocolate bread'\n\\item 'chutney'\n\\item 'cider'\n\\item 'clothes accessories'\n\\item 'cookies'\n\\item 'cooking oil'\n\\item 'corn'\n\\item 'cottage cheese'\n\\item 'cream'\n\\item 'dessert wine'\n\\item 'eggplant'\n\\item 'eggs'\n\\item 'energy bar'\n\\item 'energy drink'\n\\item 'escalope'\n\\item 'extra dark chocolate'\n\\item 'flax seed'\n\\item 'french fries'\n\\item 'french wine'\n\\item 'fresh bread'\n\\item 'fresh tuna'\n\\item 'fromage blanc'\n\\item 'frozen smoothie'\n\\item 'frozen vegetables'\n\\item 'gluten free bar'\n\\item 'grated cheese'\n\\item 'green beans'\n\\item 'green grapes'\n\\item 'green tea'\n\\item 'ground beef'\n\\item 'gums'\n\\item 'ham'\n\\item 'hand protein bar'\n\\item 'herb \\& pepper'\n\\item 'honey'\n\\item 'hot dogs'\n\\item 'ketchup'\n\\item 'light cream'\n\\item 'light mayo'\n\\item 'low fat yogurt'\n\\item 'magazines'\n\\item 'mashed potato'\n\\item 'mayonnaise'\n\\item 'meatballs'\n\\item 'melons'\n\\item 'milk'\n\\item 'mineral water'\n\\item 'mint'\n\\item 'mint green tea'\n\\item 'muffins'\n\\item 'mushroom cream sauce'\n\\item 'napkins'\n\\item 'nonfat milk'\n\\item 'oatmeal'\n\\item 'oil'\n\\item 'olive oil'\n\\item 'pancakes'\n\\item 'parmesan cheese'\n\\item 'pasta'\n\\item 'pepper'\n\\item 'pet food'\n\\item 'pickles'\n\\item 'protein bar'\n\\item 'red wine'\n\\item 'rice'\n\\item 'salad'\n\\item 'salmon'\n\\item 'salt'\n\\item 'sandwich'\n\\item 'shallot'\n\\item 'shampoo'\n\\item 'shrimp'\n\\item 'soda'\n\\item 'soup'\n\\item 'spaghetti'\n\\item 'sparkling water'\n\\item 'spinach'\n\\item 'strawberries'\n\\item 'strong cheese'\n\\item 'tea'\n\\item 'tomato juice'\n\\item 'tomato sauce'\n\\item 'tomatoes'\n\\item 'toothpaste'\n\\item 'turkey'\n\\item 'vegetables mix'\n\\item 'water spray'\n\\item 'white wine'\n\\item 'whole weat flour'\n\\item 'whole wheat pasta'\n\\item 'whole wheat rice'\n\\item 'yams'\n\\item 'yogurt cake'\n\\item 'zucchini'\n\\end{enumerate*}\n",
            "text/markdown": "1. 'almonds'\n2. 'antioxydant juice'\n3. 'asparagus'\n4. 'avocado'\n5. 'babies food'\n6. 'bacon'\n7. 'barbecue sauce'\n8. 'black tea'\n9. 'blueberries'\n10. 'body spray'\n11. 'bramble'\n12. 'brownies'\n13. 'bug spray'\n14. 'burger sauce'\n15. 'burgers'\n16. 'butter'\n17. 'cake'\n18. 'candy bars'\n19. 'carrots'\n20. 'cauliflower'\n21. 'cereals'\n22. 'champagne'\n23. 'chicken'\n24. 'chili'\n25. 'chocolate'\n26. 'chocolate bread'\n27. 'chutney'\n28. 'cider'\n29. 'clothes accessories'\n30. 'cookies'\n31. 'cooking oil'\n32. 'corn'\n33. 'cottage cheese'\n34. 'cream'\n35. 'dessert wine'\n36. 'eggplant'\n37. 'eggs'\n38. 'energy bar'\n39. 'energy drink'\n40. 'escalope'\n41. 'extra dark chocolate'\n42. 'flax seed'\n43. 'french fries'\n44. 'french wine'\n45. 'fresh bread'\n46. 'fresh tuna'\n47. 'fromage blanc'\n48. 'frozen smoothie'\n49. 'frozen vegetables'\n50. 'gluten free bar'\n51. 'grated cheese'\n52. 'green beans'\n53. 'green grapes'\n54. 'green tea'\n55. 'ground beef'\n56. 'gums'\n57. 'ham'\n58. 'hand protein bar'\n59. 'herb &amp; pepper'\n60. 'honey'\n61. 'hot dogs'\n62. 'ketchup'\n63. 'light cream'\n64. 'light mayo'\n65. 'low fat yogurt'\n66. 'magazines'\n67. 'mashed potato'\n68. 'mayonnaise'\n69. 'meatballs'\n70. 'melons'\n71. 'milk'\n72. 'mineral water'\n73. 'mint'\n74. 'mint green tea'\n75. 'muffins'\n76. 'mushroom cream sauce'\n77. 'napkins'\n78. 'nonfat milk'\n79. 'oatmeal'\n80. 'oil'\n81. 'olive oil'\n82. 'pancakes'\n83. 'parmesan cheese'\n84. 'pasta'\n85. 'pepper'\n86. 'pet food'\n87. 'pickles'\n88. 'protein bar'\n89. 'red wine'\n90. 'rice'\n91. 'salad'\n92. 'salmon'\n93. 'salt'\n94. 'sandwich'\n95. 'shallot'\n96. 'shampoo'\n97. 'shrimp'\n98. 'soda'\n99. 'soup'\n100. 'spaghetti'\n101. 'sparkling water'\n102. 'spinach'\n103. 'strawberries'\n104. 'strong cheese'\n105. 'tea'\n106. 'tomato juice'\n107. 'tomato sauce'\n108. 'tomatoes'\n109. 'toothpaste'\n110. 'turkey'\n111. 'vegetables mix'\n112. 'water spray'\n113. 'white wine'\n114. 'whole weat flour'\n115. 'whole wheat pasta'\n116. 'whole wheat rice'\n117. 'yams'\n118. 'yogurt cake'\n119. 'zucchini'\n\n\n",
            "text/html": [
              "<style>\n",
              ".list-inline {list-style: none; margin:0; padding: 0}\n",
              ".list-inline>li {display: inline-block}\n",
              ".list-inline>li:not(:last-child)::after {content: \"\\00b7\"; padding: 0 .5ex}\n",
              "</style>\n",
              "<ol class=list-inline><li>'almonds'</li><li>'antioxydant juice'</li><li>'asparagus'</li><li>'avocado'</li><li>'babies food'</li><li>'bacon'</li><li>'barbecue sauce'</li><li>'black tea'</li><li>'blueberries'</li><li>'body spray'</li><li>'bramble'</li><li>'brownies'</li><li>'bug spray'</li><li>'burger sauce'</li><li>'burgers'</li><li>'butter'</li><li>'cake'</li><li>'candy bars'</li><li>'carrots'</li><li>'cauliflower'</li><li>'cereals'</li><li>'champagne'</li><li>'chicken'</li><li>'chili'</li><li>'chocolate'</li><li>'chocolate bread'</li><li>'chutney'</li><li>'cider'</li><li>'clothes accessories'</li><li>'cookies'</li><li>'cooking oil'</li><li>'corn'</li><li>'cottage cheese'</li><li>'cream'</li><li>'dessert wine'</li><li>'eggplant'</li><li>'eggs'</li><li>'energy bar'</li><li>'energy drink'</li><li>'escalope'</li><li>'extra dark chocolate'</li><li>'flax seed'</li><li>'french fries'</li><li>'french wine'</li><li>'fresh bread'</li><li>'fresh tuna'</li><li>'fromage blanc'</li><li>'frozen smoothie'</li><li>'frozen vegetables'</li><li>'gluten free bar'</li><li>'grated cheese'</li><li>'green beans'</li><li>'green grapes'</li><li>'green tea'</li><li>'ground beef'</li><li>'gums'</li><li>'ham'</li><li>'hand protein bar'</li><li>'herb &amp; pepper'</li><li>'honey'</li><li>'hot dogs'</li><li>'ketchup'</li><li>'light cream'</li><li>'light mayo'</li><li>'low fat yogurt'</li><li>'magazines'</li><li>'mashed potato'</li><li>'mayonnaise'</li><li>'meatballs'</li><li>'melons'</li><li>'milk'</li><li>'mineral water'</li><li>'mint'</li><li>'mint green tea'</li><li>'muffins'</li><li>'mushroom cream sauce'</li><li>'napkins'</li><li>'nonfat milk'</li><li>'oatmeal'</li><li>'oil'</li><li>'olive oil'</li><li>'pancakes'</li><li>'parmesan cheese'</li><li>'pasta'</li><li>'pepper'</li><li>'pet food'</li><li>'pickles'</li><li>'protein bar'</li><li>'red wine'</li><li>'rice'</li><li>'salad'</li><li>'salmon'</li><li>'salt'</li><li>'sandwich'</li><li>'shallot'</li><li>'shampoo'</li><li>'shrimp'</li><li>'soda'</li><li>'soup'</li><li>'spaghetti'</li><li>'sparkling water'</li><li>'spinach'</li><li>'strawberries'</li><li>'strong cheese'</li><li>'tea'</li><li>'tomato juice'</li><li>'tomato sauce'</li><li>'tomatoes'</li><li>'toothpaste'</li><li>'turkey'</li><li>'vegetables mix'</li><li>'water spray'</li><li>'white wine'</li><li>'whole weat flour'</li><li>'whole wheat pasta'</li><li>'whole wheat rice'</li><li>'yams'</li><li>'yogurt cake'</li><li>'zucchini'</li></ol>\n"
            ]
          },
          "metadata": {}
        }
      ]
    },
    {
      "cell_type": "markdown",
      "metadata": {
        "id": "Z60pyBTJBXmh"
      },
      "source": [
        "Exploring the frequency of some articles like transacations ranging from 1 to 10 and performing some operation in percentage terms of the total transactions"
      ]
    },
    {
      "cell_type": "code",
      "metadata": {
        "id": "6dqLYYfB7LoB",
        "colab": {
          "base_uri": "https://localhost:8080/",
          "height": 68
        },
        "outputId": "c58ab916-db47-478c-976e-69c696a1335d"
      },
      "source": [
        "\n",
        "itemFrequency(df[, 1:10],type = \"absolute\")\n",
        "\n",
        "round(itemFrequency(df[, 1:10],type = \"relative\")*100,2)"
      ],
      "execution_count": 14,
      "outputs": [
        {
          "output_type": "display_data",
          "data": {
            "text/plain": [
              "          almonds antioxydant juice         asparagus           avocado \n",
              "              153                67                36               250 \n",
              "      babies food             bacon    barbecue sauce         black tea \n",
              "               34                65                81               107 \n",
              "      blueberries        body spray \n",
              "               69                86 "
            ],
            "text/latex": "\\begin{description*}\n\\item[almonds] 153\n\\item[antioxydant juice] 67\n\\item[asparagus] 36\n\\item[avocado] 250\n\\item[babies food] 34\n\\item[bacon] 65\n\\item[barbecue sauce] 81\n\\item[black tea] 107\n\\item[blueberries] 69\n\\item[body spray] 86\n\\end{description*}\n",
            "text/markdown": "almonds\n:   153antioxydant juice\n:   67asparagus\n:   36avocado\n:   250babies food\n:   34bacon\n:   65barbecue sauce\n:   81black tea\n:   107blueberries\n:   69body spray\n:   86\n\n",
            "text/html": [
              "<style>\n",
              ".dl-inline {width: auto; margin:0; padding: 0}\n",
              ".dl-inline>dt, .dl-inline>dd {float: none; width: auto; display: inline-block}\n",
              ".dl-inline>dt::after {content: \":\\0020\"; padding-right: .5ex}\n",
              ".dl-inline>dt:not(:first-of-type) {padding-left: .5ex}\n",
              "</style><dl class=dl-inline><dt>almonds</dt><dd>153</dd><dt>antioxydant juice</dt><dd>67</dd><dt>asparagus</dt><dd>36</dd><dt>avocado</dt><dd>250</dd><dt>babies food</dt><dd>34</dd><dt>bacon</dt><dd>65</dd><dt>barbecue sauce</dt><dd>81</dd><dt>black tea</dt><dd>107</dd><dt>blueberries</dt><dd>69</dd><dt>body spray</dt><dd>86</dd></dl>\n"
            ]
          },
          "metadata": {}
        },
        {
          "output_type": "display_data",
          "data": {
            "text/plain": [
              "          almonds antioxydant juice         asparagus           avocado \n",
              "             2.04              0.89              0.48              3.33 \n",
              "      babies food             bacon    barbecue sauce         black tea \n",
              "             0.45              0.87              1.08              1.43 \n",
              "      blueberries        body spray \n",
              "             0.92              1.15 "
            ],
            "text/latex": "\\begin{description*}\n\\item[almonds] 2.04\n\\item[antioxydant juice] 0.89\n\\item[asparagus] 0.48\n\\item[avocado] 3.33\n\\item[babies food] 0.45\n\\item[bacon] 0.87\n\\item[barbecue sauce] 1.08\n\\item[black tea] 1.43\n\\item[blueberries] 0.92\n\\item[body spray] 1.15\n\\end{description*}\n",
            "text/markdown": "almonds\n:   2.04antioxydant juice\n:   0.89asparagus\n:   0.48avocado\n:   3.33babies food\n:   0.45bacon\n:   0.87barbecue sauce\n:   1.08black tea\n:   1.43blueberries\n:   0.92body spray\n:   1.15\n\n",
            "text/html": [
              "<style>\n",
              ".dl-inline {width: auto; margin:0; padding: 0}\n",
              ".dl-inline>dt, .dl-inline>dd {float: none; width: auto; display: inline-block}\n",
              ".dl-inline>dt::after {content: \":\\0020\"; padding-right: .5ex}\n",
              ".dl-inline>dt:not(:first-of-type) {padding-left: .5ex}\n",
              "</style><dl class=dl-inline><dt>almonds</dt><dd>2.04</dd><dt>antioxydant juice</dt><dd>0.89</dd><dt>asparagus</dt><dd>0.48</dd><dt>avocado</dt><dd>3.33</dd><dt>babies food</dt><dd>0.45</dd><dt>bacon</dt><dd>0.87</dd><dt>barbecue sauce</dt><dd>1.08</dd><dt>black tea</dt><dd>1.43</dd><dt>blueberries</dt><dd>0.92</dd><dt>body spray</dt><dd>1.15</dd></dl>\n"
            ]
          },
          "metadata": {}
        }
      ]
    },
    {
      "cell_type": "code",
      "metadata": {
        "colab": {
          "base_uri": "https://localhost:8080/",
          "height": 52
        },
        "id": "nebalc2-CXzs",
        "outputId": "f626ee3f-9344-4f29-a0e3-310c3b4a70a3"
      },
      "source": [
        "itemFrequency(df[, 18:20],type = \"absolute\")\n",
        "\n",
        "round(itemFrequency(df[, 18:20],type = \"relative\")*100,2)"
      ],
      "execution_count": 15,
      "outputs": [
        {
          "output_type": "display_data",
          "data": {
            "text/plain": [
              " candy bars     carrots cauliflower \n",
              "         73         115          36 "
            ],
            "text/latex": "\\begin{description*}\n\\item[candy bars] 73\n\\item[carrots] 115\n\\item[cauliflower] 36\n\\end{description*}\n",
            "text/markdown": "candy bars\n:   73carrots\n:   115cauliflower\n:   36\n\n",
            "text/html": [
              "<style>\n",
              ".dl-inline {width: auto; margin:0; padding: 0}\n",
              ".dl-inline>dt, .dl-inline>dd {float: none; width: auto; display: inline-block}\n",
              ".dl-inline>dt::after {content: \":\\0020\"; padding-right: .5ex}\n",
              ".dl-inline>dt:not(:first-of-type) {padding-left: .5ex}\n",
              "</style><dl class=dl-inline><dt>candy bars</dt><dd>73</dd><dt>carrots</dt><dd>115</dd><dt>cauliflower</dt><dd>36</dd></dl>\n"
            ]
          },
          "metadata": {}
        },
        {
          "output_type": "display_data",
          "data": {
            "text/plain": [
              " candy bars     carrots cauliflower \n",
              "       0.97        1.53        0.48 "
            ],
            "text/latex": "\\begin{description*}\n\\item[candy bars] 0.97\n\\item[carrots] 1.53\n\\item[cauliflower] 0.48\n\\end{description*}\n",
            "text/markdown": "candy bars\n:   0.97carrots\n:   1.53cauliflower\n:   0.48\n\n",
            "text/html": [
              "<style>\n",
              ".dl-inline {width: auto; margin:0; padding: 0}\n",
              ".dl-inline>dt, .dl-inline>dd {float: none; width: auto; display: inline-block}\n",
              ".dl-inline>dt::after {content: \":\\0020\"; padding-right: .5ex}\n",
              ".dl-inline>dt:not(:first-of-type) {padding-left: .5ex}\n",
              "</style><dl class=dl-inline><dt>candy bars</dt><dd>0.97</dd><dt>carrots</dt><dd>1.53</dd><dt>cauliflower</dt><dd>0.48</dd></dl>\n"
            ]
          },
          "metadata": {}
        }
      ]
    },
    {
      "cell_type": "markdown",
      "metadata": {
        "id": "KlbmyUZeE3oW"
      },
      "source": [
        ""
      ]
    },
    {
      "cell_type": "markdown",
      "metadata": {
        "id": "gCHxxBy9Ii9W"
      },
      "source": [
        "Support per item"
      ]
    },
    {
      "cell_type": "code",
      "metadata": {
        "id": "W8mb_BvZClLV",
        "colab": {
          "base_uri": "https://localhost:8080/",
          "height": 398
        },
        "outputId": "f735d179-5450-42d1-8a82-c901e81e87e6"
      },
      "source": [
        "\n",
        "support <- sort(itemFrequency(df) * 100)\n",
        "support"
      ],
      "execution_count": 16,
      "outputs": [
        {
          "output_type": "display_data",
          "data": {
            "text/plain": [
              "         water spray              napkins                cream \n",
              "          0.03999467           0.06665778           0.09332089 \n",
              "             bramble                  tea              chutney \n",
              "          0.18664178           0.38661512           0.41327823 \n",
              "       mashed potato      chocolate bread         dessert wine \n",
              "          0.41327823           0.42660979           0.43994134 \n",
              "             ketchup              oatmeal          babies food \n",
              "          0.43994134           0.43994134           0.45327290 \n",
              "            sandwich            asparagus          cauliflower \n",
              "          0.45327290           0.47993601           0.47993601 \n",
              "                corn                salad              shampoo \n",
              "          0.47993601           0.49326756           0.49326756 \n",
              "    hand protein bar       mint green tea         burger sauce \n",
              "          0.51993068           0.55992534           0.58658845 \n",
              "             pickles                chili           mayonnaise \n",
              "          0.59992001           0.61325157           0.61325157 \n",
              "                soda      sparkling water             pet food \n",
              "          0.62658312           0.62658312           0.65324623 \n",
              "     gluten free bar              spinach              shallot \n",
              "          0.69324090           0.70657246           0.77323024 \n",
              "       strong cheese           toothpaste  clothes accessories \n",
              "          0.77323024           0.81322490           0.83988801 \n",
              "               bacon            bug spray          green beans \n",
              "          0.86655113           0.86655113           0.86655113 \n",
              "   antioxydant juice            flax seed         green grapes \n",
              "          0.89321424           0.90654579           0.90654579 \n",
              "         blueberries                 salt     whole weat flour \n",
              "          0.91987735           0.91987735           0.93320891 \n",
              "            zucchini           candy bars          nonfat milk \n",
              "          0.94654046           0.97320357           1.03986135 \n",
              "               cider       barbecue sauce            magazines \n",
              "          1.05319291           1.07985602           1.09318757 \n",
              "          body spray                 yams extra dark chocolate \n",
              "          1.14651380           1.14651380           1.19984002 \n",
              "              melons             eggplant                 gums \n",
              "          1.19984002           1.31982402           1.34648714 \n",
              "       fromage blanc         tomato sauce            black tea \n",
              "          1.35981869           1.41314491           1.42647647 \n",
              "             carrots          light cream                pasta \n",
              "          1.53312892           1.55979203           1.57312358 \n",
              "          white wine                 mint          protein bar \n",
              "          1.65311292           1.74643381           1.85308626 \n",
              "                rice mushroom cream sauce      parmesan cheese \n",
              "          1.87974937           1.90641248           1.98640181 \n",
              "             almonds            meatballs         strawberries \n",
              "          2.03972804           2.09305426           2.13304893 \n",
              "          fresh tuna          french wine                  oil \n",
              "          2.22636982           2.25303293           2.30635915 \n",
              "             muffins              cereals       vegetables mix \n",
              "          2.41301160           2.57299027           2.57299027 \n",
              "                 ham               pepper         energy drink \n",
              "          2.65297960           2.65297960           2.66631116 \n",
              "          energy bar           light mayo          yogurt cake \n",
              "          2.70630583           2.71963738           2.73296894 \n",
              "            red wine    whole wheat pasta               butter \n",
              "          2.81295827           2.94627383           3.01293161 \n",
              "        tomato juice       cottage cheese             hot dogs \n",
              "          3.03959472           3.18624183           3.23956806 \n",
              "             avocado             brownies               salmon \n",
              "          3.33288895           3.37288362           4.25276630 \n",
              "         fresh bread            champagne                honey \n",
              "          4.30609252           4.67937608           4.74603386 \n",
              "       herb & pepper                 soup          cooking oil \n",
              "          4.94600720           5.05265965           5.10598587 \n",
              "       grated cheese     whole wheat rice              chicken \n",
              "          5.23930143           5.85255299           5.99920011 \n",
              "              turkey      frozen smoothie            olive oil \n",
              "          6.25249967           6.33248900           6.58578856 \n",
              "            tomatoes               shrimp       low fat yogurt \n",
              "          6.83908812           7.14571390           7.65231302 \n",
              "            escalope              cookies                 cake \n",
              "          7.93227570           8.03892814           8.10558592 \n",
              "             burgers             pancakes    frozen vegetables \n",
              "          8.71883749           9.50539928           9.53206239 \n",
              "         ground beef                 milk            green tea \n",
              "          9.82535662          12.95827223          13.21157179 \n",
              "           chocolate         french fries            spaghetti \n",
              "         16.38448207          17.09105453          17.41101187 \n",
              "                eggs        mineral water \n",
              "         17.97093721          23.83682176 "
            ],
            "text/latex": "\\begin{description*}\n\\item[water spray] 0.039994667377683\n\\item[napkins] 0.066657778962805\n\\item[cream] 0.0933208905479269\n\\item[bramble] 0.186641781095854\n\\item[tea] 0.386615117984269\n\\item[chutney] 0.413278229569391\n\\item[mashed potato] 0.413278229569391\n\\item[chocolate bread] 0.426609785361952\n\\item[dessert wine] 0.439941341154513\n\\item[ketchup] 0.439941341154513\n\\item[oatmeal] 0.439941341154513\n\\item[babies food] 0.453272896947074\n\\item[sandwich] 0.453272896947074\n\\item[asparagus] 0.479936008532196\n\\item[cauliflower] 0.479936008532196\n\\item[corn] 0.479936008532196\n\\item[salad] 0.493267564324757\n\\item[shampoo] 0.493267564324757\n\\item[hand protein bar] 0.519930675909879\n\\item[mint green tea] 0.559925343287562\n\\item[burger sauce] 0.586588454872684\n\\item[pickles] 0.599920010665245\n\\item[chili] 0.613251566457806\n\\item[mayonnaise] 0.613251566457806\n\\item[soda] 0.626583122250367\n\\item[sparkling water] 0.626583122250367\n\\item[pet food] 0.653246233835489\n\\item[gluten free bar] 0.693240901213172\n\\item[spinach] 0.706572457005733\n\\item[shallot] 0.773230235968537\n\\item[strong cheese] 0.773230235968537\n\\item[toothpaste] 0.81322490334622\n\\item[clothes accessories] 0.839888014931343\n\\item[bacon] 0.866551126516464\n\\item[bug spray] 0.866551126516464\n\\item[green beans] 0.866551126516464\n\\item[antioxydant juice] 0.893214238101587\n\\item[flax seed] 0.906545793894147\n\\item[green grapes] 0.906545793894147\n\\item[blueberries] 0.919877349686708\n\\item[salt] 0.919877349686708\n\\item[whole weat flour] 0.933208905479269\n\\item[zucchini] 0.946540461271831\n\\item[candy bars] 0.973203572856952\n\\item[nonfat milk] 1.03986135181976\n\\item[cider] 1.05319290761232\n\\item[barbecue sauce] 1.07985601919744\n\\item[magazines] 1.09318757499\n\\item[body spray] 1.14651379816025\n\\item[yams] 1.14651379816025\n\\item[extra dark chocolate] 1.19984002133049\n\\item[melons] 1.19984002133049\n\\item[eggplant] 1.31982402346354\n\\item[gums] 1.34648713504866\n\\item[fromage blanc] 1.35981869084122\n\\item[tomato sauce] 1.41314491401147\n\\item[black tea] 1.42647646980403\n\\item[carrots] 1.53312891614451\n\\item[light cream] 1.55979202772964\n\\item[pasta] 1.5731235835222\n\\item[white wine] 1.65311291827756\n\\item[mint] 1.74643380882549\n\\item[protein bar] 1.85308625516598\n\\item[rice] 1.8797493667511\n\\item[mushroom cream sauce] 1.90641247833622\n\\item[parmesan cheese] 1.98640181309159\n\\item[almonds] 2.03972803626183\n\\item[meatballs] 2.09305425943208\n\\item[strawberries] 2.13304892680976\n\\item[fresh tuna] 2.22636981735769\n\\item[french wine] 2.25303292894281\n\\item[oil] 2.30635915211305\n\\item[muffins] 2.41301159845354\n\\item[cereals] 2.57299026796427\n\\item[vegetables mix] 2.57299026796427\n\\item[ham] 2.65297960271964\n\\item[pepper] 2.65297960271964\n\\item[energy drink] 2.6663111585122\n\\item[energy bar] 2.70630582588988\n\\item[light mayo] 2.71963738168244\n\\item[yogurt cake] 2.732968937475\n\\item[red wine] 2.81295827223037\n\\item[whole wheat pasta] 2.94627383015598\n\\item[butter] 3.01293160911878\n\\item[tomato juice] 3.03959472070391\n\\item[cottage cheese] 3.18624183442208\n\\item[hot dogs] 3.23956805759232\n\\item[avocado] 3.33288894814025\n\\item[brownies] 3.37288361551793\n\\item[salmon] 4.25276629782696\n\\item[fresh bread] 4.3060925209972\n\\item[champagne] 4.67937608318891\n\\item[honey] 4.74603386215171\n\\item[herb \\textbackslash{}\\& pepper] 4.94600719904013\n\\item[soup] 5.05265964538062\n\\item[cooking oil] 5.10598586855086\n\\item[grated cheese] 5.23930142647647\n\\item[whole wheat rice] 5.85255299293428\n\\item[chicken] 5.99920010665245\n\\item[turkey] 6.2524996667111\n\\item[frozen smoothie] 6.33248900146647\n\\item[olive oil] 6.58578856152513\n\\item[tomatoes] 6.83908812158379\n\\item[shrimp] 7.14571390481269\n\\item[low fat yogurt] 7.65231302493001\n\\item[escalope] 7.93227569657379\n\\item[cookies] 8.03892814291428\n\\item[cake] 8.10558592187708\n\\item[burgers] 8.71883748833489\n\\item[pancakes] 9.50539928009599\n\\item[frozen vegetables] 9.53206239168111\n\\item[ground beef] 9.82535661911745\n\\item[milk] 12.9582722303693\n\\item[green tea] 13.2115717904279\n\\item[chocolate] 16.3844820690575\n\\item[french fries] 17.0910545260632\n\\item[spaghetti] 17.4110118650847\n\\item[eggs] 17.9709372083722\n\\item[mineral water] 23.8368217570991\n\\end{description*}\n",
            "text/markdown": "water spray\n:   0.039994667377683napkins\n:   0.066657778962805cream\n:   0.0933208905479269bramble\n:   0.186641781095854tea\n:   0.386615117984269chutney\n:   0.413278229569391mashed potato\n:   0.413278229569391chocolate bread\n:   0.426609785361952dessert wine\n:   0.439941341154513ketchup\n:   0.439941341154513oatmeal\n:   0.439941341154513babies food\n:   0.453272896947074sandwich\n:   0.453272896947074asparagus\n:   0.479936008532196cauliflower\n:   0.479936008532196corn\n:   0.479936008532196salad\n:   0.493267564324757shampoo\n:   0.493267564324757hand protein bar\n:   0.519930675909879mint green tea\n:   0.559925343287562burger sauce\n:   0.586588454872684pickles\n:   0.599920010665245chili\n:   0.613251566457806mayonnaise\n:   0.613251566457806soda\n:   0.626583122250367sparkling water\n:   0.626583122250367pet food\n:   0.653246233835489gluten free bar\n:   0.693240901213172spinach\n:   0.706572457005733shallot\n:   0.773230235968537strong cheese\n:   0.773230235968537toothpaste\n:   0.81322490334622clothes accessories\n:   0.839888014931343bacon\n:   0.866551126516464bug spray\n:   0.866551126516464green beans\n:   0.866551126516464antioxydant juice\n:   0.893214238101587flax seed\n:   0.906545793894147green grapes\n:   0.906545793894147blueberries\n:   0.919877349686708salt\n:   0.919877349686708whole weat flour\n:   0.933208905479269zucchini\n:   0.946540461271831candy bars\n:   0.973203572856952nonfat milk\n:   1.03986135181976cider\n:   1.05319290761232barbecue sauce\n:   1.07985601919744magazines\n:   1.09318757499body spray\n:   1.14651379816025yams\n:   1.14651379816025extra dark chocolate\n:   1.19984002133049melons\n:   1.19984002133049eggplant\n:   1.31982402346354gums\n:   1.34648713504866fromage blanc\n:   1.35981869084122tomato sauce\n:   1.41314491401147black tea\n:   1.42647646980403carrots\n:   1.53312891614451light cream\n:   1.55979202772964pasta\n:   1.5731235835222white wine\n:   1.65311291827756mint\n:   1.74643380882549protein bar\n:   1.85308625516598rice\n:   1.8797493667511mushroom cream sauce\n:   1.90641247833622parmesan cheese\n:   1.98640181309159almonds\n:   2.03972803626183meatballs\n:   2.09305425943208strawberries\n:   2.13304892680976fresh tuna\n:   2.22636981735769french wine\n:   2.25303292894281oil\n:   2.30635915211305muffins\n:   2.41301159845354cereals\n:   2.57299026796427vegetables mix\n:   2.57299026796427ham\n:   2.65297960271964pepper\n:   2.65297960271964energy drink\n:   2.6663111585122energy bar\n:   2.70630582588988light mayo\n:   2.71963738168244yogurt cake\n:   2.732968937475red wine\n:   2.81295827223037whole wheat pasta\n:   2.94627383015598butter\n:   3.01293160911878tomato juice\n:   3.03959472070391cottage cheese\n:   3.18624183442208hot dogs\n:   3.23956805759232avocado\n:   3.33288894814025brownies\n:   3.37288361551793salmon\n:   4.25276629782696fresh bread\n:   4.3060925209972champagne\n:   4.67937608318891honey\n:   4.74603386215171herb &amp;amp; pepper\n:   4.94600719904013soup\n:   5.05265964538062cooking oil\n:   5.10598586855086grated cheese\n:   5.23930142647647whole wheat rice\n:   5.85255299293428chicken\n:   5.99920010665245turkey\n:   6.2524996667111frozen smoothie\n:   6.33248900146647olive oil\n:   6.58578856152513tomatoes\n:   6.83908812158379shrimp\n:   7.14571390481269low fat yogurt\n:   7.65231302493001escalope\n:   7.93227569657379cookies\n:   8.03892814291428cake\n:   8.10558592187708burgers\n:   8.71883748833489pancakes\n:   9.50539928009599frozen vegetables\n:   9.53206239168111ground beef\n:   9.82535661911745milk\n:   12.9582722303693green tea\n:   13.2115717904279chocolate\n:   16.3844820690575french fries\n:   17.0910545260632spaghetti\n:   17.4110118650847eggs\n:   17.9709372083722mineral water\n:   23.8368217570991\n\n",
            "text/html": [
              "<style>\n",
              ".dl-inline {width: auto; margin:0; padding: 0}\n",
              ".dl-inline>dt, .dl-inline>dd {float: none; width: auto; display: inline-block}\n",
              ".dl-inline>dt::after {content: \":\\0020\"; padding-right: .5ex}\n",
              ".dl-inline>dt:not(:first-of-type) {padding-left: .5ex}\n",
              "</style><dl class=dl-inline><dt>water spray</dt><dd>0.039994667377683</dd><dt>napkins</dt><dd>0.066657778962805</dd><dt>cream</dt><dd>0.0933208905479269</dd><dt>bramble</dt><dd>0.186641781095854</dd><dt>tea</dt><dd>0.386615117984269</dd><dt>chutney</dt><dd>0.413278229569391</dd><dt>mashed potato</dt><dd>0.413278229569391</dd><dt>chocolate bread</dt><dd>0.426609785361952</dd><dt>dessert wine</dt><dd>0.439941341154513</dd><dt>ketchup</dt><dd>0.439941341154513</dd><dt>oatmeal</dt><dd>0.439941341154513</dd><dt>babies food</dt><dd>0.453272896947074</dd><dt>sandwich</dt><dd>0.453272896947074</dd><dt>asparagus</dt><dd>0.479936008532196</dd><dt>cauliflower</dt><dd>0.479936008532196</dd><dt>corn</dt><dd>0.479936008532196</dd><dt>salad</dt><dd>0.493267564324757</dd><dt>shampoo</dt><dd>0.493267564324757</dd><dt>hand protein bar</dt><dd>0.519930675909879</dd><dt>mint green tea</dt><dd>0.559925343287562</dd><dt>burger sauce</dt><dd>0.586588454872684</dd><dt>pickles</dt><dd>0.599920010665245</dd><dt>chili</dt><dd>0.613251566457806</dd><dt>mayonnaise</dt><dd>0.613251566457806</dd><dt>soda</dt><dd>0.626583122250367</dd><dt>sparkling water</dt><dd>0.626583122250367</dd><dt>pet food</dt><dd>0.653246233835489</dd><dt>gluten free bar</dt><dd>0.693240901213172</dd><dt>spinach</dt><dd>0.706572457005733</dd><dt>shallot</dt><dd>0.773230235968537</dd><dt>strong cheese</dt><dd>0.773230235968537</dd><dt>toothpaste</dt><dd>0.81322490334622</dd><dt>clothes accessories</dt><dd>0.839888014931343</dd><dt>bacon</dt><dd>0.866551126516464</dd><dt>bug spray</dt><dd>0.866551126516464</dd><dt>green beans</dt><dd>0.866551126516464</dd><dt>antioxydant juice</dt><dd>0.893214238101587</dd><dt>flax seed</dt><dd>0.906545793894147</dd><dt>green grapes</dt><dd>0.906545793894147</dd><dt>blueberries</dt><dd>0.919877349686708</dd><dt>salt</dt><dd>0.919877349686708</dd><dt>whole weat flour</dt><dd>0.933208905479269</dd><dt>zucchini</dt><dd>0.946540461271831</dd><dt>candy bars</dt><dd>0.973203572856952</dd><dt>nonfat milk</dt><dd>1.03986135181976</dd><dt>cider</dt><dd>1.05319290761232</dd><dt>barbecue sauce</dt><dd>1.07985601919744</dd><dt>magazines</dt><dd>1.09318757499</dd><dt>body spray</dt><dd>1.14651379816025</dd><dt>yams</dt><dd>1.14651379816025</dd><dt>extra dark chocolate</dt><dd>1.19984002133049</dd><dt>melons</dt><dd>1.19984002133049</dd><dt>eggplant</dt><dd>1.31982402346354</dd><dt>gums</dt><dd>1.34648713504866</dd><dt>fromage blanc</dt><dd>1.35981869084122</dd><dt>tomato sauce</dt><dd>1.41314491401147</dd><dt>black tea</dt><dd>1.42647646980403</dd><dt>carrots</dt><dd>1.53312891614451</dd><dt>light cream</dt><dd>1.55979202772964</dd><dt>pasta</dt><dd>1.5731235835222</dd><dt>white wine</dt><dd>1.65311291827756</dd><dt>mint</dt><dd>1.74643380882549</dd><dt>protein bar</dt><dd>1.85308625516598</dd><dt>rice</dt><dd>1.8797493667511</dd><dt>mushroom cream sauce</dt><dd>1.90641247833622</dd><dt>parmesan cheese</dt><dd>1.98640181309159</dd><dt>almonds</dt><dd>2.03972803626183</dd><dt>meatballs</dt><dd>2.09305425943208</dd><dt>strawberries</dt><dd>2.13304892680976</dd><dt>fresh tuna</dt><dd>2.22636981735769</dd><dt>french wine</dt><dd>2.25303292894281</dd><dt>oil</dt><dd>2.30635915211305</dd><dt>muffins</dt><dd>2.41301159845354</dd><dt>cereals</dt><dd>2.57299026796427</dd><dt>vegetables mix</dt><dd>2.57299026796427</dd><dt>ham</dt><dd>2.65297960271964</dd><dt>pepper</dt><dd>2.65297960271964</dd><dt>energy drink</dt><dd>2.6663111585122</dd><dt>energy bar</dt><dd>2.70630582588988</dd><dt>light mayo</dt><dd>2.71963738168244</dd><dt>yogurt cake</dt><dd>2.732968937475</dd><dt>red wine</dt><dd>2.81295827223037</dd><dt>whole wheat pasta</dt><dd>2.94627383015598</dd><dt>butter</dt><dd>3.01293160911878</dd><dt>tomato juice</dt><dd>3.03959472070391</dd><dt>cottage cheese</dt><dd>3.18624183442208</dd><dt>hot dogs</dt><dd>3.23956805759232</dd><dt>avocado</dt><dd>3.33288894814025</dd><dt>brownies</dt><dd>3.37288361551793</dd><dt>salmon</dt><dd>4.25276629782696</dd><dt>fresh bread</dt><dd>4.3060925209972</dd><dt>champagne</dt><dd>4.67937608318891</dd><dt>honey</dt><dd>4.74603386215171</dd><dt>herb &amp; pepper</dt><dd>4.94600719904013</dd><dt>soup</dt><dd>5.05265964538062</dd><dt>cooking oil</dt><dd>5.10598586855086</dd><dt>grated cheese</dt><dd>5.23930142647647</dd><dt>whole wheat rice</dt><dd>5.85255299293428</dd><dt>chicken</dt><dd>5.99920010665245</dd><dt>turkey</dt><dd>6.2524996667111</dd><dt>frozen smoothie</dt><dd>6.33248900146647</dd><dt>olive oil</dt><dd>6.58578856152513</dd><dt>tomatoes</dt><dd>6.83908812158379</dd><dt>shrimp</dt><dd>7.14571390481269</dd><dt>low fat yogurt</dt><dd>7.65231302493001</dd><dt>escalope</dt><dd>7.93227569657379</dd><dt>cookies</dt><dd>8.03892814291428</dd><dt>cake</dt><dd>8.10558592187708</dd><dt>burgers</dt><dd>8.71883748833489</dd><dt>pancakes</dt><dd>9.50539928009599</dd><dt>frozen vegetables</dt><dd>9.53206239168111</dd><dt>ground beef</dt><dd>9.82535661911745</dd><dt>milk</dt><dd>12.9582722303693</dd><dt>green tea</dt><dd>13.2115717904279</dd><dt>chocolate</dt><dd>16.3844820690575</dd><dt>french fries</dt><dd>17.0910545260632</dd><dt>spaghetti</dt><dd>17.4110118650847</dd><dt>eggs</dt><dd>17.9709372083722</dd><dt>mineral water</dt><dd>23.8368217570991</dd></dl>\n"
            ]
          },
          "metadata": {}
        }
      ]
    },
    {
      "cell_type": "markdown",
      "metadata": {
        "id": "JMWC5zAzJT19"
      },
      "source": [
        "only 3 items have a suppor of less than 0.1,, water spray, napkins, cream"
      ]
    },
    {
      "cell_type": "markdown",
      "metadata": {
        "id": "7YHpE7kjQKjB"
      },
      "source": [
        "building a couple of models on association rules"
      ]
    },
    {
      "cell_type": "markdown",
      "metadata": {
        "id": "WNKbXPYTQrmi"
      },
      "source": [
        "lets start by using the minimum support as 0.001 with a confidence of 0.9"
      ]
    },
    {
      "cell_type": "code",
      "metadata": {
        "colab": {
          "base_uri": "https://localhost:8080/",
          "height": 423
        },
        "id": "j_goPAN5QJV9",
        "outputId": "be4128bd-6aea-4695-a33e-72a7f8230a05"
      },
      "source": [
        " \n",
        "model1 <- apriori (df, parameter = list(supp = 0.001, conf = 0.9))\n",
        "model1"
      ],
      "execution_count": 17,
      "outputs": [
        {
          "output_type": "stream",
          "name": "stdout",
          "text": [
            "Apriori\n",
            "\n",
            "Parameter specification:\n",
            " confidence minval smax arem  aval originalSupport maxtime support minlen\n",
            "        0.9    0.1    1 none FALSE            TRUE       5   0.001      1\n",
            " maxlen target  ext\n",
            "     10  rules TRUE\n",
            "\n",
            "Algorithmic control:\n",
            " filter tree heap memopt load sort verbose\n",
            "    0.1 TRUE TRUE  FALSE TRUE    2    TRUE\n",
            "\n",
            "Absolute minimum support count: 7 \n",
            "\n",
            "set item appearances ...[0 item(s)] done [0.00s].\n",
            "set transactions ...[119 item(s), 7501 transaction(s)] done [0.00s].\n",
            "sorting and recoding items ... [116 item(s)] done [0.00s].\n",
            "creating transaction tree ... done [0.00s].\n",
            "checking subsets of size 1 2 3 4 5 6 done [0.01s].\n",
            "writing ... [11 rule(s)] done [0.00s].\n",
            "creating S4 object  ... done [0.00s].\n"
          ]
        },
        {
          "output_type": "display_data",
          "data": {
            "text/plain": [
              "set of 11 rules "
            ]
          },
          "metadata": {}
        }
      ]
    },
    {
      "cell_type": "markdown",
      "metadata": {
        "id": "1d1BsNcQSfDx"
      },
      "source": [
        "lets explore the model"
      ]
    },
    {
      "cell_type": "code",
      "metadata": {
        "colab": {
          "base_uri": "https://localhost:8080/",
          "height": 571
        },
        "id": "zv9nmriASOu8",
        "outputId": "a00c8941-0160-439c-e2f4-7b471e66b00e"
      },
      "source": [
        "summary(model1)"
      ],
      "execution_count": 18,
      "outputs": [
        {
          "output_type": "display_data",
          "data": {
            "text/plain": [
              "set of 11 rules\n",
              "\n",
              "rule length distribution (lhs + rhs):sizes\n",
              "3 4 5 \n",
              "2 7 2 \n",
              "\n",
              "   Min. 1st Qu.  Median    Mean 3rd Qu.    Max. \n",
              "      3       4       4       4       4       5 \n",
              "\n",
              "summary of quality measures:\n",
              "    support           confidence        coverage             lift       \n",
              " Min.   :0.001067   Min.   :0.9000   Min.   :0.001067   Min.   : 3.776  \n",
              " 1st Qu.:0.001200   1st Qu.:0.9091   1st Qu.:0.001200   1st Qu.: 3.865  \n",
              " Median :0.001200   Median :0.9333   Median :0.001333   Median : 4.195  \n",
              " Mean   :0.001394   Mean   :0.9464   Mean   :0.001479   Mean   : 7.086  \n",
              " 3rd Qu.:0.001333   3rd Qu.:1.0000   3rd Qu.:0.001466   3rd Qu.:10.614  \n",
              " Max.   :0.002533   Max.   :1.0000   Max.   :0.002666   Max.   :12.722  \n",
              "     count      \n",
              " Min.   : 8.00  \n",
              " 1st Qu.: 9.00  \n",
              " Median : 9.00  \n",
              " Mean   :10.45  \n",
              " 3rd Qu.:10.00  \n",
              " Max.   :19.00  \n",
              "\n",
              "mining info:\n",
              " data ntransactions support confidence\n",
              "   df          7501   0.001        0.9\n",
              "                                                           call\n",
              " apriori(data = df, parameter = list(supp = 0.001, conf = 0.9))"
            ]
          },
          "metadata": {}
        }
      ]
    },
    {
      "cell_type": "markdown",
      "metadata": {
        "id": "5iQoTUzWTD1H"
      },
      "source": [
        "lets observe the first 5  in our model"
      ]
    },
    {
      "cell_type": "code",
      "metadata": {
        "colab": {
          "base_uri": "https://localhost:8080/"
        },
        "id": "WOqsW7sJTIoQ",
        "outputId": "6d064413-93e8-426f-a9f2-5fbe52144899"
      },
      "source": [
        "inspect(model1[1:5])"
      ],
      "execution_count": 22,
      "outputs": [
        {
          "output_type": "stream",
          "name": "stdout",
          "text": [
            "    lhs                        rhs                 support confidence    coverage      lift count\n",
            "[1] {mushroom cream sauce,                                                                       \n",
            "     pasta}                 => {escalope}      0.002532996  0.9500000 0.002666311 11.976387    19\n",
            "[2] {red wine,                                                                                   \n",
            "     soup}                  => {mineral water} 0.001866418  0.9333333 0.001999733  3.915511    14\n",
            "[3] {french fries,                                                                               \n",
            "     mushroom cream sauce,                                                                       \n",
            "     pasta}                 => {escalope}      0.001066524  1.0000000 0.001066524 12.606723     8\n",
            "[4] {eggs,                                                                                       \n",
            "     mineral water,                                                                              \n",
            "     pasta}                 => {shrimp}        0.001333156  0.9090909 0.001466471 12.722185    10\n",
            "[5] {ground beef,                                                                                \n",
            "     light cream,                                                                                \n",
            "     olive oil}             => {mineral water} 0.001199840  1.0000000 0.001199840  4.195190     9\n"
          ]
        }
      ]
    },
    {
      "cell_type": "markdown",
      "metadata": {
        "id": "vHppUO8zT_4W"
      },
      "source": [
        "sorting by the lift"
      ]
    },
    {
      "cell_type": "code",
      "metadata": {
        "id": "VnbKh0fzE4_L",
        "colab": {
          "base_uri": "https://localhost:8080/"
        },
        "outputId": "bb83e046-7e64-4bb1-c9b2-69b23721f828"
      },
      "source": [
        "model1_s <-sort(model1, by=\"lift\", decreasing=TRUE)\n",
        "inspect(model1_s[1:5])"
      ],
      "execution_count": 25,
      "outputs": [
        {
          "output_type": "stream",
          "name": "stdout",
          "text": [
            "    lhs                        rhs               support confidence    coverage      lift count\n",
            "[1] {eggs,                                                                                     \n",
            "     mineral water,                                                                            \n",
            "     pasta}                 => {shrimp}      0.001333156  0.9090909 0.001466471 12.722185    10\n",
            "[2] {french fries,                                                                             \n",
            "     mushroom cream sauce,                                                                     \n",
            "     pasta}                 => {escalope}    0.001066524  1.0000000 0.001066524 12.606723     8\n",
            "[3] {mushroom cream sauce,                                                                     \n",
            "     pasta}                 => {escalope}    0.002532996  0.9500000 0.002666311 11.976387    19\n",
            "[4] {herb & pepper,                                                                            \n",
            "     mineral water,                                                                            \n",
            "     rice}                  => {ground beef} 0.001333156  0.9090909 0.001466471  9.252498    10\n",
            "[5] {cake,                                                                                     \n",
            "     meatballs,                                                                                \n",
            "     mineral water}         => {milk}        0.001066524  1.0000000 0.001066524  7.717078     8\n"
          ]
        }
      ]
    },
    {
      "cell_type": "markdown",
      "metadata": {
        "id": "e8MNzentUq5Y"
      },
      "source": [
        "shrimp is highly correlated of course with eggs, mineral water and pasta. Before getting shrimp, most customers always buy the 3 with a confidence of 90%"
      ]
    },
    {
      "cell_type": "markdown",
      "metadata": {
        "id": "PAAG1Zd_wMV-"
      },
      "source": [
        "Most customers that buy escalopes, buy mushroom cream sauce and pasta to go with it at a very high rate. Meaning if they're placed in separate aisles and distant from each other, the customer gets to shop more during their stroll as they go to get the must haves that always go together."
      ]
    },
    {
      "cell_type": "markdown",
      "metadata": {
        "id": "ux0mAd3-tiV-"
      },
      "source": [
        ""
      ]
    },
    {
      "cell_type": "markdown",
      "metadata": {
        "id": "8grTL-BlwuPl"
      },
      "source": [
        "let us look at what most customers buy together with mineral water and the rate at which the products are associated."
      ]
    },
    {
      "cell_type": "code",
      "metadata": {
        "colab": {
          "base_uri": "https://localhost:8080/"
        },
        "id": "Gl6zjw1ttrkq",
        "outputId": "208ecbb8-1b96-4098-a671-26273e1f1eb8"
      },
      "source": [
        "\n",
        "escalope <- subset(model1_s, subset = rhs %pin% \"mineral water\")\n",
        "\n",
        "# Order by confidence\n",
        "escalope <-sort(escalope, by=\"confidence\", decreasing=TRUE)\n",
        "\n",
        "# inspect top 3\n",
        "inspect(escalope[1:3])"
      ],
      "execution_count": 39,
      "outputs": [
        {
          "output_type": "stream",
          "name": "stdout",
          "text": [
            "    lhs               rhs                 support confidence    coverage     lift count\n",
            "[1] {ground beef,                                                                      \n",
            "     light cream,                                                                      \n",
            "     olive oil}    => {mineral water} 0.001199840  1.0000000 0.001199840 4.195190     9\n",
            "[2] {cake,                                                                             \n",
            "     olive oil,                                                                        \n",
            "     shrimp}       => {mineral water} 0.001199840  1.0000000 0.001199840 4.195190     9\n",
            "[3] {red wine,                                                                         \n",
            "     soup}         => {mineral water} 0.001866418  0.9333333 0.001999733 3.915511    14\n"
          ]
        }
      ]
    },
    {
      "cell_type": "markdown",
      "metadata": {
        "id": "nKwxnabzvYb8"
      },
      "source": [
        "there's a higher chance that before a customer gets mineral water thry also have olive oil in their shopping basket. This means that both products should be placed on the same aisle to reduce the customers' shopping stroll. "
      ]
    },
    {
      "cell_type": "markdown",
      "metadata": {
        "id": "dGW_LOSnxDwm"
      },
      "source": [
        "lets make another model to observe our findings"
      ]
    },
    {
      "cell_type": "code",
      "metadata": {
        "colab": {
          "base_uri": "https://localhost:8080/",
          "height": 423
        },
        "id": "sia8DEueRSgd",
        "outputId": "84e6c20c-82bf-45eb-ab05-c9e9aaacc49f"
      },
      "source": [
        "model2<- apriori(df, parameter=list(supp=0.001, conf=0.8))\n",
        "model2"
      ],
      "execution_count": 26,
      "outputs": [
        {
          "output_type": "stream",
          "name": "stdout",
          "text": [
            "Apriori\n",
            "\n",
            "Parameter specification:\n",
            " confidence minval smax arem  aval originalSupport maxtime support minlen\n",
            "        0.8    0.1    1 none FALSE            TRUE       5   0.001      1\n",
            " maxlen target  ext\n",
            "     10  rules TRUE\n",
            "\n",
            "Algorithmic control:\n",
            " filter tree heap memopt load sort verbose\n",
            "    0.1 TRUE TRUE  FALSE TRUE    2    TRUE\n",
            "\n",
            "Absolute minimum support count: 7 \n",
            "\n",
            "set item appearances ...[0 item(s)] done [0.00s].\n",
            "set transactions ...[119 item(s), 7501 transaction(s)] done [0.00s].\n",
            "sorting and recoding items ... [116 item(s)] done [0.00s].\n",
            "creating transaction tree ... done [0.00s].\n",
            "checking subsets of size 1 2 3 4 5 6 done [0.01s].\n",
            "writing ... [74 rule(s)] done [0.00s].\n",
            "creating S4 object  ... done [0.00s].\n"
          ]
        },
        {
          "output_type": "display_data",
          "data": {
            "text/plain": [
              "set of 74 rules "
            ]
          },
          "metadata": {}
        }
      ]
    },
    {
      "cell_type": "code",
      "metadata": {
        "id": "tii_-Jn8hk5a"
      },
      "source": [
        ""
      ],
      "execution_count": null,
      "outputs": []
    }
  ]
}