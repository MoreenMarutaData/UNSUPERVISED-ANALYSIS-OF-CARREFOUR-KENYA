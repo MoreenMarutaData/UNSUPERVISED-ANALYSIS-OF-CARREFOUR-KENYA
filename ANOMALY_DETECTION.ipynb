{
  "nbformat": 4,
  "nbformat_minor": 0,
  "metadata": {
    "colab": {
      "name": "ANOMALY DETECTION.ipynb",
      "provenance": [],
      "collapsed_sections": [],
      "authorship_tag": "ABX9TyPdcIv85p4wO4tnviSDsZ3z",
      "include_colab_link": true
    },
    "kernelspec": {
      "name": "ir",
      "display_name": "R"
    },
    "language_info": {
      "name": "R"
    }
  },
  "cells": [
    {
      "cell_type": "markdown",
      "metadata": {
        "id": "view-in-github",
        "colab_type": "text"
      },
      "source": [
        "<a href=\"https://colab.research.google.com/github/MoreenMarutaData/UNSUPERVISED-ANALYSIS-OF-CARREFOUR-KENYA/blob/main/ANOMALY_DETECTION.ipynb\" target=\"_parent\"><img src=\"https://colab.research.google.com/assets/colab-badge.svg\" alt=\"Open In Colab\"/></a>"
      ]
    },
    {
      "cell_type": "markdown",
      "metadata": {
        "id": "s6LJqAA2xvFI"
      },
      "source": [
        "Defining the question"
      ]
    },
    {
      "cell_type": "markdown",
      "metadata": {
        "id": "0IbNrw_CxyuO"
      },
      "source": [
        "You have also been requested to check whether there are any anomalies in the given sales dataset. The objective of this task being fraud detection."
      ]
    },
    {
      "cell_type": "code",
      "metadata": {
        "colab": {
          "base_uri": "https://localhost:8080/"
        },
        "id": "k6QqnuYJxnSM",
        "outputId": "7a2504ba-e182-4516-cb27-097f695ed08a"
      },
      "source": [
        "install.packages(\"anomalize\")\n",
        "library(\"anomalize\")"
      ],
      "execution_count": 5,
      "outputs": [
        {
          "output_type": "stream",
          "name": "stderr",
          "text": [
            "Installing package into ‘/usr/local/lib/R/site-library’\n",
            "(as ‘lib’ is unspecified)\n",
            "\n",
            "also installing the dependencies ‘future.apply’, ‘progressr’, ‘numDeriv’, ‘SQUAREM’, ‘lava’, ‘listenv’, ‘parallelly’, ‘TTR’, ‘prodlim’, ‘future’, ‘globals’, ‘later’, ‘quadprog’, ‘quantmod’, ‘gower’, ‘ipred’, ‘furrr’, ‘htmlwidgets’, ‘lazyeval’, ‘crosstalk’, ‘promises’, ‘warp’, ‘BH’, ‘fracdiff’, ‘lmtest’, ‘tseries’, ‘urca’, ‘RcppArmadillo’, ‘recipes’, ‘rsample’, ‘plotly’, ‘padr’, ‘xts’, ‘zoo’, ‘slider’, ‘anytime’, ‘timeDate’, ‘forecast’, ‘timetk’, ‘sweep’, ‘tibbletime’\n",
            "\n",
            "\n",
            "\u001b[30m══\u001b[39m \u001b[30mUse anomalize to improve your Forecasts by 50%!\u001b[39m \u001b[30m═════════════════════════════\u001b[39m\u001b[34m\n",
            "Business Science offers a 1-hour course - Lab #18: Time Series Anomaly Detection!\n",
            "\u001b[39m\u001b[34m</> Learn more at: https://university.business-science.io/p/learning-labs-pro </>\u001b[39m\n",
            "\n"
          ]
        }
      ]
    },
    {
      "cell_type": "code",
      "metadata": {
        "id": "aSjizzsZ0yyu",
        "colab": {
          "base_uri": "https://localhost:8080/",
          "height": 1000
        },
        "outputId": "97f8f58e-69ae-4436-9557-610867a0e439"
      },
      "source": [
        "df<- read.csv(\"http://bit.ly/CarreFourSalesDataset\")\n",
        "df"
      ],
      "execution_count": 6,
      "outputs": [
        {
          "output_type": "display_data",
          "data": {
            "text/plain": [
              "     Date      Sales    \n",
              "1    1/5/2019  548.9715 \n",
              "2    3/8/2019   80.2200 \n",
              "3    3/3/2019  340.5255 \n",
              "4    1/27/2019 489.0480 \n",
              "5    2/8/2019  634.3785 \n",
              "6    3/25/2019 627.6165 \n",
              "7    2/25/2019 433.6920 \n",
              "8    2/24/2019 772.3800 \n",
              "9    1/10/2019  76.1460 \n",
              "10   2/20/2019 172.7460 \n",
              "11   2/6/2019   60.8160 \n",
              "12   3/9/2019  107.1420 \n",
              "13   2/12/2019 246.4875 \n",
              "14   2/7/2019  453.4950 \n",
              "15   3/29/2019 749.4900 \n",
              "16   1/15/2019 590.4360 \n",
              "17   3/11/2019 506.6355 \n",
              "18   1/1/2019  457.4430 \n",
              "19   1/21/2019 172.2105 \n",
              "20   3/11/2019  84.6300 \n",
              "21   2/25/2019 451.7100 \n",
              "22   3/5/2019  277.1370 \n",
              "23   3/15/2019  69.7200 \n",
              "24   2/17/2019 181.4400 \n",
              "25   3/2/2019  279.1845 \n",
              "26   3/22/2019 441.7560 \n",
              "27   2/8/2019   35.1960 \n",
              "28   3/10/2019 184.1070 \n",
              "29   1/25/2019 463.8900 \n",
              "30   3/15/2019 235.2105 \n",
              "⋮    ⋮         ⋮        \n",
              "971  1/1/2019   888.6150\n",
              "972  2/10/2019  271.2885\n",
              "973  1/26/2019  640.0380\n",
              "974  2/11/2019  252.2520\n",
              "975  2/7/2019   180.8730\n",
              "976  3/6/2019   104.8320\n",
              "977  3/4/2019   313.5720\n",
              "978  2/26/2019  167.5800\n",
              "979  3/10/2019   26.7225\n",
              "980  2/4/2019    71.1585\n",
              "981  1/19/2019  250.2780\n",
              "982  1/23/2019  244.2300\n",
              "983  3/14/2019  921.1860\n",
              "984  1/23/2019  734.7060\n",
              "985  1/9/2019   708.3195\n",
              "986  2/7/2019   334.4775\n",
              "987  2/18/2019   30.9960\n",
              "988  1/3/2019   520.8000\n",
              "989  3/29/2019  864.5700\n",
              "990  1/28/2019  633.1080\n",
              "991  3/22/2019  296.9400\n",
              "992  1/24/2019  804.3000\n",
              "993  3/10/2019  121.8630\n",
              "994  2/22/2019  183.6450\n",
              "995  2/18/2019   63.9975\n",
              "996  1/29/2019   42.3675\n",
              "997  3/2/2019  1022.4900\n",
              "998  2/9/2019    33.4320\n",
              "999  2/22/2019   69.1110\n",
              "1000 2/18/2019  649.2990"
            ],
            "text/latex": "A data.frame: 1000 × 2\n\\begin{tabular}{ll}\n Date & Sales\\\\\n <chr> & <dbl>\\\\\n\\hline\n\t 1/5/2019  & 548.9715\\\\\n\t 3/8/2019  &  80.2200\\\\\n\t 3/3/2019  & 340.5255\\\\\n\t 1/27/2019 & 489.0480\\\\\n\t 2/8/2019  & 634.3785\\\\\n\t 3/25/2019 & 627.6165\\\\\n\t 2/25/2019 & 433.6920\\\\\n\t 2/24/2019 & 772.3800\\\\\n\t 1/10/2019 &  76.1460\\\\\n\t 2/20/2019 & 172.7460\\\\\n\t 2/6/2019  &  60.8160\\\\\n\t 3/9/2019  & 107.1420\\\\\n\t 2/12/2019 & 246.4875\\\\\n\t 2/7/2019  & 453.4950\\\\\n\t 3/29/2019 & 749.4900\\\\\n\t 1/15/2019 & 590.4360\\\\\n\t 3/11/2019 & 506.6355\\\\\n\t 1/1/2019  & 457.4430\\\\\n\t 1/21/2019 & 172.2105\\\\\n\t 3/11/2019 &  84.6300\\\\\n\t 2/25/2019 & 451.7100\\\\\n\t 3/5/2019  & 277.1370\\\\\n\t 3/15/2019 &  69.7200\\\\\n\t 2/17/2019 & 181.4400\\\\\n\t 3/2/2019  & 279.1845\\\\\n\t 3/22/2019 & 441.7560\\\\\n\t 2/8/2019  &  35.1960\\\\\n\t 3/10/2019 & 184.1070\\\\\n\t 1/25/2019 & 463.8900\\\\\n\t 3/15/2019 & 235.2105\\\\\n\t ⋮ & ⋮\\\\\n\t 1/1/2019  &  888.6150\\\\\n\t 2/10/2019 &  271.2885\\\\\n\t 1/26/2019 &  640.0380\\\\\n\t 2/11/2019 &  252.2520\\\\\n\t 2/7/2019  &  180.8730\\\\\n\t 3/6/2019  &  104.8320\\\\\n\t 3/4/2019  &  313.5720\\\\\n\t 2/26/2019 &  167.5800\\\\\n\t 3/10/2019 &   26.7225\\\\\n\t 2/4/2019  &   71.1585\\\\\n\t 1/19/2019 &  250.2780\\\\\n\t 1/23/2019 &  244.2300\\\\\n\t 3/14/2019 &  921.1860\\\\\n\t 1/23/2019 &  734.7060\\\\\n\t 1/9/2019  &  708.3195\\\\\n\t 2/7/2019  &  334.4775\\\\\n\t 2/18/2019 &   30.9960\\\\\n\t 1/3/2019  &  520.8000\\\\\n\t 3/29/2019 &  864.5700\\\\\n\t 1/28/2019 &  633.1080\\\\\n\t 3/22/2019 &  296.9400\\\\\n\t 1/24/2019 &  804.3000\\\\\n\t 3/10/2019 &  121.8630\\\\\n\t 2/22/2019 &  183.6450\\\\\n\t 2/18/2019 &   63.9975\\\\\n\t 1/29/2019 &   42.3675\\\\\n\t 3/2/2019  & 1022.4900\\\\\n\t 2/9/2019  &   33.4320\\\\\n\t 2/22/2019 &   69.1110\\\\\n\t 2/18/2019 &  649.2990\\\\\n\\end{tabular}\n",
            "text/markdown": "\nA data.frame: 1000 × 2\n\n| Date &lt;chr&gt; | Sales &lt;dbl&gt; |\n|---|---|\n| 1/5/2019  | 548.9715 |\n| 3/8/2019  |  80.2200 |\n| 3/3/2019  | 340.5255 |\n| 1/27/2019 | 489.0480 |\n| 2/8/2019  | 634.3785 |\n| 3/25/2019 | 627.6165 |\n| 2/25/2019 | 433.6920 |\n| 2/24/2019 | 772.3800 |\n| 1/10/2019 |  76.1460 |\n| 2/20/2019 | 172.7460 |\n| 2/6/2019  |  60.8160 |\n| 3/9/2019  | 107.1420 |\n| 2/12/2019 | 246.4875 |\n| 2/7/2019  | 453.4950 |\n| 3/29/2019 | 749.4900 |\n| 1/15/2019 | 590.4360 |\n| 3/11/2019 | 506.6355 |\n| 1/1/2019  | 457.4430 |\n| 1/21/2019 | 172.2105 |\n| 3/11/2019 |  84.6300 |\n| 2/25/2019 | 451.7100 |\n| 3/5/2019  | 277.1370 |\n| 3/15/2019 |  69.7200 |\n| 2/17/2019 | 181.4400 |\n| 3/2/2019  | 279.1845 |\n| 3/22/2019 | 441.7560 |\n| 2/8/2019  |  35.1960 |\n| 3/10/2019 | 184.1070 |\n| 1/25/2019 | 463.8900 |\n| 3/15/2019 | 235.2105 |\n| ⋮ | ⋮ |\n| 1/1/2019  |  888.6150 |\n| 2/10/2019 |  271.2885 |\n| 1/26/2019 |  640.0380 |\n| 2/11/2019 |  252.2520 |\n| 2/7/2019  |  180.8730 |\n| 3/6/2019  |  104.8320 |\n| 3/4/2019  |  313.5720 |\n| 2/26/2019 |  167.5800 |\n| 3/10/2019 |   26.7225 |\n| 2/4/2019  |   71.1585 |\n| 1/19/2019 |  250.2780 |\n| 1/23/2019 |  244.2300 |\n| 3/14/2019 |  921.1860 |\n| 1/23/2019 |  734.7060 |\n| 1/9/2019  |  708.3195 |\n| 2/7/2019  |  334.4775 |\n| 2/18/2019 |   30.9960 |\n| 1/3/2019  |  520.8000 |\n| 3/29/2019 |  864.5700 |\n| 1/28/2019 |  633.1080 |\n| 3/22/2019 |  296.9400 |\n| 1/24/2019 |  804.3000 |\n| 3/10/2019 |  121.8630 |\n| 2/22/2019 |  183.6450 |\n| 2/18/2019 |   63.9975 |\n| 1/29/2019 |   42.3675 |\n| 3/2/2019  | 1022.4900 |\n| 2/9/2019  |   33.4320 |\n| 2/22/2019 |   69.1110 |\n| 2/18/2019 |  649.2990 |\n\n",
            "text/html": [
              "<table class=\"dataframe\">\n",
              "<caption>A data.frame: 1000 × 2</caption>\n",
              "<thead>\n",
              "\t<tr><th scope=col>Date</th><th scope=col>Sales</th></tr>\n",
              "\t<tr><th scope=col>&lt;chr&gt;</th><th scope=col>&lt;dbl&gt;</th></tr>\n",
              "</thead>\n",
              "<tbody>\n",
              "\t<tr><td>1/5/2019 </td><td>548.9715</td></tr>\n",
              "\t<tr><td>3/8/2019 </td><td> 80.2200</td></tr>\n",
              "\t<tr><td>3/3/2019 </td><td>340.5255</td></tr>\n",
              "\t<tr><td>1/27/2019</td><td>489.0480</td></tr>\n",
              "\t<tr><td>2/8/2019 </td><td>634.3785</td></tr>\n",
              "\t<tr><td>3/25/2019</td><td>627.6165</td></tr>\n",
              "\t<tr><td>2/25/2019</td><td>433.6920</td></tr>\n",
              "\t<tr><td>2/24/2019</td><td>772.3800</td></tr>\n",
              "\t<tr><td>1/10/2019</td><td> 76.1460</td></tr>\n",
              "\t<tr><td>2/20/2019</td><td>172.7460</td></tr>\n",
              "\t<tr><td>2/6/2019 </td><td> 60.8160</td></tr>\n",
              "\t<tr><td>3/9/2019 </td><td>107.1420</td></tr>\n",
              "\t<tr><td>2/12/2019</td><td>246.4875</td></tr>\n",
              "\t<tr><td>2/7/2019 </td><td>453.4950</td></tr>\n",
              "\t<tr><td>3/29/2019</td><td>749.4900</td></tr>\n",
              "\t<tr><td>1/15/2019</td><td>590.4360</td></tr>\n",
              "\t<tr><td>3/11/2019</td><td>506.6355</td></tr>\n",
              "\t<tr><td>1/1/2019 </td><td>457.4430</td></tr>\n",
              "\t<tr><td>1/21/2019</td><td>172.2105</td></tr>\n",
              "\t<tr><td>3/11/2019</td><td> 84.6300</td></tr>\n",
              "\t<tr><td>2/25/2019</td><td>451.7100</td></tr>\n",
              "\t<tr><td>3/5/2019 </td><td>277.1370</td></tr>\n",
              "\t<tr><td>3/15/2019</td><td> 69.7200</td></tr>\n",
              "\t<tr><td>2/17/2019</td><td>181.4400</td></tr>\n",
              "\t<tr><td>3/2/2019 </td><td>279.1845</td></tr>\n",
              "\t<tr><td>3/22/2019</td><td>441.7560</td></tr>\n",
              "\t<tr><td>2/8/2019 </td><td> 35.1960</td></tr>\n",
              "\t<tr><td>3/10/2019</td><td>184.1070</td></tr>\n",
              "\t<tr><td>1/25/2019</td><td>463.8900</td></tr>\n",
              "\t<tr><td>3/15/2019</td><td>235.2105</td></tr>\n",
              "\t<tr><td>⋮</td><td>⋮</td></tr>\n",
              "\t<tr><td>1/1/2019 </td><td> 888.6150</td></tr>\n",
              "\t<tr><td>2/10/2019</td><td> 271.2885</td></tr>\n",
              "\t<tr><td>1/26/2019</td><td> 640.0380</td></tr>\n",
              "\t<tr><td>2/11/2019</td><td> 252.2520</td></tr>\n",
              "\t<tr><td>2/7/2019 </td><td> 180.8730</td></tr>\n",
              "\t<tr><td>3/6/2019 </td><td> 104.8320</td></tr>\n",
              "\t<tr><td>3/4/2019 </td><td> 313.5720</td></tr>\n",
              "\t<tr><td>2/26/2019</td><td> 167.5800</td></tr>\n",
              "\t<tr><td>3/10/2019</td><td>  26.7225</td></tr>\n",
              "\t<tr><td>2/4/2019 </td><td>  71.1585</td></tr>\n",
              "\t<tr><td>1/19/2019</td><td> 250.2780</td></tr>\n",
              "\t<tr><td>1/23/2019</td><td> 244.2300</td></tr>\n",
              "\t<tr><td>3/14/2019</td><td> 921.1860</td></tr>\n",
              "\t<tr><td>1/23/2019</td><td> 734.7060</td></tr>\n",
              "\t<tr><td>1/9/2019 </td><td> 708.3195</td></tr>\n",
              "\t<tr><td>2/7/2019 </td><td> 334.4775</td></tr>\n",
              "\t<tr><td>2/18/2019</td><td>  30.9960</td></tr>\n",
              "\t<tr><td>1/3/2019 </td><td> 520.8000</td></tr>\n",
              "\t<tr><td>3/29/2019</td><td> 864.5700</td></tr>\n",
              "\t<tr><td>1/28/2019</td><td> 633.1080</td></tr>\n",
              "\t<tr><td>3/22/2019</td><td> 296.9400</td></tr>\n",
              "\t<tr><td>1/24/2019</td><td> 804.3000</td></tr>\n",
              "\t<tr><td>3/10/2019</td><td> 121.8630</td></tr>\n",
              "\t<tr><td>2/22/2019</td><td> 183.6450</td></tr>\n",
              "\t<tr><td>2/18/2019</td><td>  63.9975</td></tr>\n",
              "\t<tr><td>1/29/2019</td><td>  42.3675</td></tr>\n",
              "\t<tr><td>3/2/2019 </td><td>1022.4900</td></tr>\n",
              "\t<tr><td>2/9/2019 </td><td>  33.4320</td></tr>\n",
              "\t<tr><td>2/22/2019</td><td>  69.1110</td></tr>\n",
              "\t<tr><td>2/18/2019</td><td> 649.2990</td></tr>\n",
              "</tbody>\n",
              "</table>\n"
            ]
          },
          "metadata": {}
        }
      ]
    },
    {
      "cell_type": "code",
      "metadata": {
        "colab": {
          "base_uri": "https://localhost:8080/",
          "height": 223
        },
        "id": "2EUWh8JbZe63",
        "outputId": "6337320d-4e85-4ecd-d524-0850dc2ff023"
      },
      "source": [
        "head(df, 4)"
      ],
      "execution_count": 7,
      "outputs": [
        {
          "output_type": "display_data",
          "data": {
            "text/plain": [
              "  Date      Sales   \n",
              "1 1/5/2019  548.9715\n",
              "2 3/8/2019   80.2200\n",
              "3 3/3/2019  340.5255\n",
              "4 1/27/2019 489.0480"
            ],
            "text/latex": "A data.frame: 4 × 2\n\\begin{tabular}{r|ll}\n  & Date & Sales\\\\\n  & <chr> & <dbl>\\\\\n\\hline\n\t1 & 1/5/2019  & 548.9715\\\\\n\t2 & 3/8/2019  &  80.2200\\\\\n\t3 & 3/3/2019  & 340.5255\\\\\n\t4 & 1/27/2019 & 489.0480\\\\\n\\end{tabular}\n",
            "text/markdown": "\nA data.frame: 4 × 2\n\n| <!--/--> | Date &lt;chr&gt; | Sales &lt;dbl&gt; |\n|---|---|---|\n| 1 | 1/5/2019  | 548.9715 |\n| 2 | 3/8/2019  |  80.2200 |\n| 3 | 3/3/2019  | 340.5255 |\n| 4 | 1/27/2019 | 489.0480 |\n\n",
            "text/html": [
              "<table class=\"dataframe\">\n",
              "<caption>A data.frame: 4 × 2</caption>\n",
              "<thead>\n",
              "\t<tr><th></th><th scope=col>Date</th><th scope=col>Sales</th></tr>\n",
              "\t<tr><th></th><th scope=col>&lt;chr&gt;</th><th scope=col>&lt;dbl&gt;</th></tr>\n",
              "</thead>\n",
              "<tbody>\n",
              "\t<tr><th scope=row>1</th><td>1/5/2019 </td><td>548.9715</td></tr>\n",
              "\t<tr><th scope=row>2</th><td>3/8/2019 </td><td> 80.2200</td></tr>\n",
              "\t<tr><th scope=row>3</th><td>3/3/2019 </td><td>340.5255</td></tr>\n",
              "\t<tr><th scope=row>4</th><td>1/27/2019</td><td>489.0480</td></tr>\n",
              "</tbody>\n",
              "</table>\n"
            ]
          },
          "metadata": {}
        }
      ]
    },
    {
      "cell_type": "code",
      "metadata": {
        "colab": {
          "base_uri": "https://localhost:8080/",
          "height": 192
        },
        "id": "g2TdSv60ZhnR",
        "outputId": "2c7a43a4-2cfc-4ffa-c4c3-121a7759879f"
      },
      "source": [
        "tail(df, 3)"
      ],
      "execution_count": 8,
      "outputs": [
        {
          "output_type": "display_data",
          "data": {
            "text/plain": [
              "     Date      Sales  \n",
              "998  2/9/2019   33.432\n",
              "999  2/22/2019  69.111\n",
              "1000 2/18/2019 649.299"
            ],
            "text/latex": "A data.frame: 3 × 2\n\\begin{tabular}{r|ll}\n  & Date & Sales\\\\\n  & <chr> & <dbl>\\\\\n\\hline\n\t998 & 2/9/2019  &  33.432\\\\\n\t999 & 2/22/2019 &  69.111\\\\\n\t1000 & 2/18/2019 & 649.299\\\\\n\\end{tabular}\n",
            "text/markdown": "\nA data.frame: 3 × 2\n\n| <!--/--> | Date &lt;chr&gt; | Sales &lt;dbl&gt; |\n|---|---|---|\n| 998 | 2/9/2019  |  33.432 |\n| 999 | 2/22/2019 |  69.111 |\n| 1000 | 2/18/2019 | 649.299 |\n\n",
            "text/html": [
              "<table class=\"dataframe\">\n",
              "<caption>A data.frame: 3 × 2</caption>\n",
              "<thead>\n",
              "\t<tr><th></th><th scope=col>Date</th><th scope=col>Sales</th></tr>\n",
              "\t<tr><th></th><th scope=col>&lt;chr&gt;</th><th scope=col>&lt;dbl&gt;</th></tr>\n",
              "</thead>\n",
              "<tbody>\n",
              "\t<tr><th scope=row>998</th><td>2/9/2019 </td><td> 33.432</td></tr>\n",
              "\t<tr><th scope=row>999</th><td>2/22/2019</td><td> 69.111</td></tr>\n",
              "\t<tr><th scope=row>1000</th><td>2/18/2019</td><td>649.299</td></tr>\n",
              "</tbody>\n",
              "</table>\n"
            ]
          },
          "metadata": {}
        }
      ]
    },
    {
      "cell_type": "code",
      "metadata": {
        "colab": {
          "base_uri": "https://localhost:8080/",
          "height": 34
        },
        "id": "qWzKGKkfZWTP",
        "outputId": "f3743544-de24-46fd-fb33-cec1e87df807"
      },
      "source": [
        "dim(df)"
      ],
      "execution_count": 9,
      "outputs": [
        {
          "output_type": "display_data",
          "data": {
            "text/plain": [
              "[1] 1000    2"
            ],
            "text/latex": "\\begin{enumerate*}\n\\item 1000\n\\item 2\n\\end{enumerate*}\n",
            "text/markdown": "1. 1000\n2. 2\n\n\n",
            "text/html": [
              "<style>\n",
              ".list-inline {list-style: none; margin:0; padding: 0}\n",
              ".list-inline>li {display: inline-block}\n",
              ".list-inline>li:not(:last-child)::after {content: \"\\00b7\"; padding: 0 .5ex}\n",
              "</style>\n",
              "<ol class=list-inline><li>1000</li><li>2</li></ol>\n"
            ]
          },
          "metadata": {}
        }
      ]
    },
    {
      "cell_type": "code",
      "metadata": {
        "colab": {
          "base_uri": "https://localhost:8080/"
        },
        "id": "R9UqTIVHZYen",
        "outputId": "f27e61d3-3157-47b7-9c08-3e586609f3bd"
      },
      "source": [
        "str(df)"
      ],
      "execution_count": 10,
      "outputs": [
        {
          "output_type": "stream",
          "name": "stdout",
          "text": [
            "'data.frame':\t1000 obs. of  2 variables:\n",
            " $ Date : chr  \"1/5/2019\" \"3/8/2019\" \"3/3/2019\" \"1/27/2019\" ...\n",
            " $ Sales: num  549 80.2 340.5 489 634.4 ...\n"
          ]
        }
      ]
    },
    {
      "cell_type": "code",
      "metadata": {
        "colab": {
          "base_uri": "https://localhost:8080/",
          "height": 34
        },
        "id": "E3Ctjdl707Xb",
        "outputId": "b13c2b00-74d2-4721-f89b-8afd2bc5111b"
      },
      "source": [
        "names(df)<- tolower(names(df))\n",
        "names(df)"
      ],
      "execution_count": 11,
      "outputs": [
        {
          "output_type": "display_data",
          "data": {
            "text/plain": [
              "[1] \"date\"  \"sales\""
            ],
            "text/latex": "\\begin{enumerate*}\n\\item 'date'\n\\item 'sales'\n\\end{enumerate*}\n",
            "text/markdown": "1. 'date'\n2. 'sales'\n\n\n",
            "text/html": [
              "<style>\n",
              ".list-inline {list-style: none; margin:0; padding: 0}\n",
              ".list-inline>li {display: inline-block}\n",
              ".list-inline>li:not(:last-child)::after {content: \"\\00b7\"; padding: 0 .5ex}\n",
              "</style>\n",
              "<ol class=list-inline><li>'date'</li><li>'sales'</li></ol>\n"
            ]
          },
          "metadata": {}
        }
      ]
    },
    {
      "cell_type": "code",
      "metadata": {
        "colab": {
          "base_uri": "https://localhost:8080/"
        },
        "id": "1W0Q-8ulXPX6",
        "outputId": "2bf4a38f-29fc-45e1-831d-2dcf1b426814"
      },
      "source": [
        "df$date <- as.Date(df$date, format = \"%m/%d/%y\")\n",
        "str(df)"
      ],
      "execution_count": 12,
      "outputs": [
        {
          "output_type": "stream",
          "name": "stdout",
          "text": [
            "'data.frame':\t1000 obs. of  2 variables:\n",
            " $ date : Date, format: \"2020-01-05\" \"2020-03-08\" ...\n",
            " $ sales: num  549 80.2 340.5 489 634.4 ...\n"
          ]
        }
      ]
    },
    {
      "cell_type": "markdown",
      "metadata": {
        "id": "zjLFpcFcaRyu"
      },
      "source": [
        "lets sum the sales by dates"
      ]
    },
    {
      "cell_type": "code",
      "metadata": {
        "id": "xl-mwtSzZ3Na"
      },
      "source": [
        "df<- aggregate(df$sales, by=list(date<-df$date), sum)"
      ],
      "execution_count": 13,
      "outputs": []
    },
    {
      "cell_type": "code",
      "metadata": {
        "colab": {
          "base_uri": "https://localhost:8080/",
          "height": 34
        },
        "id": "H7HMY2Z1a1-A",
        "outputId": "1b4e0faf-ea7c-4978-9d41-9121eddbcdd5"
      },
      "source": [
        "names(df)"
      ],
      "execution_count": 14,
      "outputs": [
        {
          "output_type": "display_data",
          "data": {
            "text/plain": [
              "[1] \"Group.1\" \"x\"      "
            ],
            "text/latex": "\\begin{enumerate*}\n\\item 'Group.1'\n\\item 'x'\n\\end{enumerate*}\n",
            "text/markdown": "1. 'Group.1'\n2. 'x'\n\n\n",
            "text/html": [
              "<style>\n",
              ".list-inline {list-style: none; margin:0; padding: 0}\n",
              ".list-inline>li {display: inline-block}\n",
              ".list-inline>li:not(:last-child)::after {content: \"\\00b7\"; padding: 0 .5ex}\n",
              "</style>\n",
              "<ol class=list-inline><li>'Group.1'</li><li>'x'</li></ol>\n"
            ]
          },
          "metadata": {}
        }
      ]
    },
    {
      "cell_type": "markdown",
      "metadata": {
        "id": "jMUqKu1SdIql"
      },
      "source": [
        "rename the columns using indexes"
      ]
    },
    {
      "cell_type": "code",
      "metadata": {
        "id": "LCR6A9PdcYnn"
      },
      "source": [
        "names(df)[1]<- \"date\"\n",
        "names(df)[2]<- \"total.sales\""
      ],
      "execution_count": 15,
      "outputs": []
    },
    {
      "cell_type": "code",
      "metadata": {
        "colab": {
          "base_uri": "https://localhost:8080/",
          "height": 34
        },
        "id": "rMlKMg3CcSIG",
        "outputId": "917262bc-0366-406f-ae3b-a917022a0cc1"
      },
      "source": [
        "names(df)"
      ],
      "execution_count": 16,
      "outputs": [
        {
          "output_type": "display_data",
          "data": {
            "text/plain": [
              "[1] \"date\"        \"total.sales\""
            ],
            "text/latex": "\\begin{enumerate*}\n\\item 'date'\n\\item 'total.sales'\n\\end{enumerate*}\n",
            "text/markdown": "1. 'date'\n2. 'total.sales'\n\n\n",
            "text/html": [
              "<style>\n",
              ".list-inline {list-style: none; margin:0; padding: 0}\n",
              ".list-inline>li {display: inline-block}\n",
              ".list-inline>li:not(:last-child)::after {content: \"\\00b7\"; padding: 0 .5ex}\n",
              "</style>\n",
              "<ol class=list-inline><li>'date'</li><li>'total.sales'</li></ol>\n"
            ]
          },
          "metadata": {}
        }
      ]
    },
    {
      "cell_type": "code",
      "metadata": {
        "colab": {
          "base_uri": "https://localhost:8080/",
          "height": 286
        },
        "id": "5dSQ1ftJcaz3",
        "outputId": "bef852cd-99de-4840-c4a7-d2a0e15d7226"
      },
      "source": [
        "head(df)"
      ],
      "execution_count": 17,
      "outputs": [
        {
          "output_type": "display_data",
          "data": {
            "text/plain": [
              "  date       total.sales\n",
              "1 2020-01-01 4745.181   \n",
              "2 2020-01-02 1945.503   \n",
              "3 2020-01-03 2078.128   \n",
              "4 2020-01-04 1623.688   \n",
              "5 2020-01-05 3536.684   \n",
              "6 2020-01-06 3614.205   "
            ],
            "text/latex": "A data.frame: 6 × 2\n\\begin{tabular}{r|ll}\n  & date & total.sales\\\\\n  & <date> & <dbl>\\\\\n\\hline\n\t1 & 2020-01-01 & 4745.181\\\\\n\t2 & 2020-01-02 & 1945.503\\\\\n\t3 & 2020-01-03 & 2078.128\\\\\n\t4 & 2020-01-04 & 1623.688\\\\\n\t5 & 2020-01-05 & 3536.684\\\\\n\t6 & 2020-01-06 & 3614.205\\\\\n\\end{tabular}\n",
            "text/markdown": "\nA data.frame: 6 × 2\n\n| <!--/--> | date &lt;date&gt; | total.sales &lt;dbl&gt; |\n|---|---|---|\n| 1 | 2020-01-01 | 4745.181 |\n| 2 | 2020-01-02 | 1945.503 |\n| 3 | 2020-01-03 | 2078.128 |\n| 4 | 2020-01-04 | 1623.688 |\n| 5 | 2020-01-05 | 3536.684 |\n| 6 | 2020-01-06 | 3614.205 |\n\n",
            "text/html": [
              "<table class=\"dataframe\">\n",
              "<caption>A data.frame: 6 × 2</caption>\n",
              "<thead>\n",
              "\t<tr><th></th><th scope=col>date</th><th scope=col>total.sales</th></tr>\n",
              "\t<tr><th></th><th scope=col>&lt;date&gt;</th><th scope=col>&lt;dbl&gt;</th></tr>\n",
              "</thead>\n",
              "<tbody>\n",
              "\t<tr><th scope=row>1</th><td>2020-01-01</td><td>4745.181</td></tr>\n",
              "\t<tr><th scope=row>2</th><td>2020-01-02</td><td>1945.503</td></tr>\n",
              "\t<tr><th scope=row>3</th><td>2020-01-03</td><td>2078.128</td></tr>\n",
              "\t<tr><th scope=row>4</th><td>2020-01-04</td><td>1623.688</td></tr>\n",
              "\t<tr><th scope=row>5</th><td>2020-01-05</td><td>3536.684</td></tr>\n",
              "\t<tr><th scope=row>6</th><td>2020-01-06</td><td>3614.205</td></tr>\n",
              "</tbody>\n",
              "</table>\n"
            ]
          },
          "metadata": {}
        }
      ]
    },
    {
      "cell_type": "code",
      "metadata": {
        "colab": {
          "base_uri": "https://localhost:8080/",
          "height": 34
        },
        "id": "SikrM3xocfeX",
        "outputId": "342b6258-2e9e-441c-8fb5-5514e1a1128e"
      },
      "source": [
        "dim(df)"
      ],
      "execution_count": 18,
      "outputs": [
        {
          "output_type": "display_data",
          "data": {
            "text/plain": [
              "[1] 89  2"
            ],
            "text/latex": "\\begin{enumerate*}\n\\item 89\n\\item 2\n\\end{enumerate*}\n",
            "text/markdown": "1. 89\n2. 2\n\n\n",
            "text/html": [
              "<style>\n",
              ".list-inline {list-style: none; margin:0; padding: 0}\n",
              ".list-inline>li {display: inline-block}\n",
              ".list-inline>li:not(:last-child)::after {content: \"\\00b7\"; padding: 0 .5ex}\n",
              "</style>\n",
              "<ol class=list-inline><li>89</li><li>2</li></ol>\n"
            ]
          },
          "metadata": {}
        }
      ]
    },
    {
      "cell_type": "markdown",
      "metadata": {
        "id": "6UOaet47dBhW"
      },
      "source": [
        "the rows reduced to 89 from a 1000"
      ]
    },
    {
      "cell_type": "code",
      "metadata": {
        "colab": {
          "base_uri": "https://localhost:8080/",
          "height": 34
        },
        "id": "OKrzD2oddAlt",
        "outputId": "9566ada5-7808-47f3-d6a7-703e841ff114"
      },
      "source": [
        "colSums(is.na(df))"
      ],
      "execution_count": 19,
      "outputs": [
        {
          "output_type": "display_data",
          "data": {
            "text/plain": [
              "       date total.sales \n",
              "          0           0 "
            ],
            "text/latex": "\\begin{description*}\n\\item[date] 0\n\\item[total.sales] 0\n\\end{description*}\n",
            "text/markdown": "date\n:   0total.sales\n:   0\n\n",
            "text/html": [
              "<style>\n",
              ".dl-inline {width: auto; margin:0; padding: 0}\n",
              ".dl-inline>dt, .dl-inline>dd {float: none; width: auto; display: inline-block}\n",
              ".dl-inline>dt::after {content: \":\\0020\"; padding-right: .5ex}\n",
              ".dl-inline>dt:not(:first-of-type) {padding-left: .5ex}\n",
              "</style><dl class=dl-inline><dt>date</dt><dd>0</dd><dt>total.sales</dt><dd>0</dd></dl>\n"
            ]
          },
          "metadata": {}
        }
      ]
    },
    {
      "cell_type": "markdown",
      "metadata": {
        "id": "iljyEmA1eN3o"
      },
      "source": [
        "no missing values present"
      ]
    },
    {
      "cell_type": "code",
      "metadata": {
        "colab": {
          "base_uri": "https://localhost:8080/",
          "height": 34
        },
        "id": "6Jj2_TA7d5FJ",
        "outputId": "185913be-58b4-4467-93b0-e5a39bc4cca8"
      },
      "source": [
        "sum(duplicated(df))"
      ],
      "execution_count": 20,
      "outputs": [
        {
          "output_type": "display_data",
          "data": {
            "text/plain": [
              "[1] 0"
            ],
            "text/latex": "0",
            "text/markdown": "0",
            "text/html": [
              "0"
            ]
          },
          "metadata": {}
        }
      ]
    },
    {
      "cell_type": "markdown",
      "metadata": {
        "id": "XgHgkDR5eQ1j"
      },
      "source": [
        "no duplicates in the data"
      ]
    },
    {
      "cell_type": "code",
      "metadata": {
        "colab": {
          "base_uri": "https://localhost:8080/",
          "height": 146
        },
        "id": "pOi20FvHeALb",
        "outputId": "f35df9fb-0882-42d3-ed0f-180df4c0416f"
      },
      "source": [
        "summary(df)"
      ],
      "execution_count": 21,
      "outputs": [
        {
          "output_type": "display_data",
          "data": {
            "text/plain": [
              "      date             total.sales    \n",
              " Min.   :2020-01-01   Min.   : 934.2  \n",
              " 1st Qu.:2020-01-23   1st Qu.:2444.5  \n",
              " Median :2020-02-14   Median :3163.2  \n",
              " Mean   :2020-02-14   Mean   :3628.8  \n",
              " 3rd Qu.:2020-03-08   3rd Qu.:4745.2  \n",
              " Max.   :2020-03-30   Max.   :7474.0  "
            ]
          },
          "metadata": {}
        }
      ]
    },
    {
      "cell_type": "markdown",
      "source": [
        ""
      ],
      "metadata": {
        "id": "wThMxkMiLFVo"
      }
    },
    {
      "cell_type": "code",
      "source": [
        "install.packages(\"tibble\")\n",
        "install.packages(\"dplyr\")\n",
        "library(tibble)\n",
        "library(dplyr)"
      ],
      "metadata": {
        "colab": {
          "base_uri": "https://localhost:8080/"
        },
        "id": "9tgDUXc6LUL9",
        "outputId": "84d5ee77-bcda-4dfc-df95-e4c88e894d4e"
      },
      "execution_count": 22,
      "outputs": [
        {
          "output_type": "stream",
          "name": "stderr",
          "text": [
            "Installing package into ‘/usr/local/lib/R/site-library’\n",
            "(as ‘lib’ is unspecified)\n",
            "\n",
            "Installing package into ‘/usr/local/lib/R/site-library’\n",
            "(as ‘lib’ is unspecified)\n",
            "\n"
          ]
        }
      ]
    },
    {
      "cell_type": "code",
      "source": [
        "df1<- as_tibble(df)"
      ],
      "metadata": {
        "id": "qDoncwl1LGNb"
      },
      "execution_count": 23,
      "outputs": []
    },
    {
      "cell_type": "code",
      "source": [
        "is_tibble(df1)"
      ],
      "metadata": {
        "colab": {
          "base_uri": "https://localhost:8080/",
          "height": 34
        },
        "id": "FnARKxQeL_4-",
        "outputId": "ec23f71e-df71-4fb1-c3c5-96bec2ec5a1f"
      },
      "execution_count": 25,
      "outputs": [
        {
          "output_type": "display_data",
          "data": {
            "text/plain": [
              "[1] TRUE"
            ],
            "text/latex": "TRUE",
            "text/markdown": "TRUE",
            "text/html": [
              "TRUE"
            ]
          },
          "metadata": {}
        }
      ]
    },
    {
      "cell_type": "code",
      "source": [
        ""
      ],
      "metadata": {
        "id": "dm0nGCbtMIOz"
      },
      "execution_count": null,
      "outputs": []
    },
    {
      "cell_type": "code",
      "metadata": {
        "id": "H7zoISTQnRxV",
        "colab": {
          "base_uri": "https://localhost:8080/",
          "height": 640
        },
        "outputId": "b1eabf95-d887-4889-dc3d-03ce755604a9"
      },
      "source": [
        " #find and plot anomalies in the data\n",
        "df1 %>%\n",
        " time_decompose(total.sales, method = \"stl\",  frequency = \"auto\", trend = \"auto\") %>%  \n",
        " anomalize(remainder, method = \"gesd\", alpha = 0.05, max_anoms = 0.1) %>% \n",
        " plot_anomaly_decomposition()"
      ],
      "execution_count": 31,
      "outputs": [
        {
          "output_type": "stream",
          "name": "stderr",
          "text": [
            "Converting from tbl_df to tbl_time.\n",
            "Auto-index message: index = date\n",
            "\n",
            "frequency = 7 days\n",
            "\n",
            "trend = 30 days\n",
            "\n",
            "Registered S3 method overwritten by 'quantmod':\n",
            "  method            from\n",
            "  as.zoo.data.frame zoo \n",
            "\n"
          ]
        },
        {
          "output_type": "display_data",
          "data": {
            "image/png": "[encoded data removed]",
            "text/plain": [
              "plot without title"
            ]
          },
          "metadata": {
            "image/png": {
              "width": 420,
              "height": 420
            }
          }
        }
      ]
    },
    {
      "cell_type": "markdown",
      "source": [
        "there are some anomalies. We could try removing the outliers and see what happens"
      ],
      "metadata": {
        "id": "mOe6Jlb8RurD"
      }
    }
  ]
}