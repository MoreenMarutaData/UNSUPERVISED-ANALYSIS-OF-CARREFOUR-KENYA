{
  "nbformat": 4,
  "nbformat_minor": 0,
  "metadata": {
    "colab": {
      "name": "PART 1 & 2.ipynb",
      "provenance": [],
      "collapsed_sections": [],
      "toc_visible": true,
      "authorship_tag": "ABX9TyNrxec2Bm09IXBSgGVkDdK5",
      "include_colab_link": true
    },
    "kernelspec": {
      "name": "ir",
      "display_name": "R"
    },
    "language_info": {
      "name": "R"
    }
  },
  "cells": [
    {
      "cell_type": "markdown",
      "metadata": {
        "id": "view-in-github",
        "colab_type": "text"
      },
      "source": [
        "<a href=\"https://colab.research.google.com/github/MoreenMarutaData/UNSUPERVISED-ANALYSIS-OF-CARREFOUR-KENYA/blob/main/PART_1_%26_2.ipynb\" target=\"_parent\"><img src=\"https://colab.research.google.com/assets/colab-badge.svg\" alt=\"Open In Colab\"/></a>"
      ]
    },
    {
      "cell_type": "markdown",
      "metadata": {
        "id": "_UsTf5NZx4zk"
      },
      "source": [
        "#**DIMENSIONALITY AND FEATURE SELECTION PARTS FOR CARREFOUR DATA ANALYSIS**"
      ]
    },
    {
      "cell_type": "markdown",
      "metadata": {
        "id": "-8H-kL4NyCLE"
      },
      "source": [
        "DEFINING THE QUESTION"
      ]
    },
    {
      "cell_type": "markdown",
      "metadata": {
        "id": "BCshaE_5yVGx"
      },
      "source": [
        ""
      ]
    },
    {
      "cell_type": "markdown",
      "metadata": {
        "id": "UQ3AVLEdyVg1"
      },
      "source": [
        "METRIC FOR SUCCESS"
      ]
    },
    {
      "cell_type": "markdown",
      "metadata": {
        "id": "2GO8WzPsyY1D"
      },
      "source": [
        ""
      ]
    },
    {
      "cell_type": "markdown",
      "metadata": {
        "id": "ajOte-oFyZYC"
      },
      "source": [
        "THE CONTEXT"
      ]
    },
    {
      "cell_type": "markdown",
      "metadata": {
        "id": "Da3r8crDycUZ"
      },
      "source": [
        ""
      ]
    },
    {
      "cell_type": "markdown",
      "metadata": {
        "id": "Y38nVW3Dycx5"
      },
      "source": [
        "EXPERIMENTAL DESIGN TAKEN"
      ]
    },
    {
      "cell_type": "markdown",
      "metadata": {
        "id": "Xe0B6SB5yfoN"
      },
      "source": [
        ""
      ]
    },
    {
      "cell_type": "markdown",
      "metadata": {
        "id": "tx05yabqyhep"
      },
      "source": [
        "## LOADING AND CHECKING THE DATASET"
      ]
    },
    {
      "cell_type": "code",
      "metadata": {
        "colab": {
          "base_uri": "https://localhost:8080/",
          "height": 1000
        },
        "id": "xT4PE5pptA0N",
        "outputId": "0f2c5771-b1b3-422d-e582-038096706752"
      },
      "source": [
        "df<- read.csv(\"http://bit.ly/CarreFourDataset\")\n",
        "df"
      ],
      "execution_count": 231,
      "outputs": [
        {
          "output_type": "display_data",
          "data": {
            "text/plain": [
              "     Invoice.ID  Branch Customer.type Gender Product.line           Unit.price\n",
              "1    750-67-8428 A      Member        Female Health and beauty      74.69     \n",
              "2    226-31-3081 C      Normal        Female Electronic accessories 15.28     \n",
              "3    631-41-3108 A      Normal        Male   Home and lifestyle     46.33     \n",
              "4    123-19-1176 A      Member        Male   Health and beauty      58.22     \n",
              "5    373-73-7910 A      Normal        Male   Sports and travel      86.31     \n",
              "6    699-14-3026 C      Normal        Male   Electronic accessories 85.39     \n",
              "7    355-53-5943 A      Member        Female Electronic accessories 68.84     \n",
              "8    315-22-5665 C      Normal        Female Home and lifestyle     73.56     \n",
              "9    665-32-9167 A      Member        Female Health and beauty      36.26     \n",
              "10   692-92-5582 B      Member        Female Food and beverages     54.84     \n",
              "11   351-62-0822 B      Member        Female Fashion accessories    14.48     \n",
              "12   529-56-3974 B      Member        Male   Electronic accessories 25.51     \n",
              "13   365-64-0515 A      Normal        Female Electronic accessories 46.95     \n",
              "14   252-56-2699 A      Normal        Male   Food and beverages     43.19     \n",
              "15   829-34-3910 A      Normal        Female Health and beauty      71.38     \n",
              "16   299-46-1805 B      Member        Female Sports and travel      93.72     \n",
              "17   656-95-9349 A      Member        Female Health and beauty      68.93     \n",
              "18   765-26-6951 A      Normal        Male   Sports and travel      72.61     \n",
              "19   329-62-1586 A      Normal        Male   Food and beverages     54.67     \n",
              "20   319-50-3348 B      Normal        Female Home and lifestyle     40.30     \n",
              "21   300-71-4605 C      Member        Male   Electronic accessories 86.04     \n",
              "22   371-85-5789 B      Normal        Male   Health and beauty      87.98     \n",
              "23   273-16-6619 B      Normal        Male   Home and lifestyle     33.20     \n",
              "24   636-48-8204 A      Normal        Male   Electronic accessories 34.56     \n",
              "25   549-59-1358 A      Member        Male   Sports and travel      88.63     \n",
              "26   227-03-5010 A      Member        Female Home and lifestyle     52.59     \n",
              "27   649-29-6775 B      Normal        Male   Fashion accessories    33.52     \n",
              "28   189-17-4241 A      Normal        Female Fashion accessories    87.67     \n",
              "29   145-94-9061 B      Normal        Female Food and beverages     88.36     \n",
              "30   848-62-7243 A      Normal        Male   Health and beauty      24.89     \n",
              "⋮    ⋮           ⋮      ⋮             ⋮      ⋮                      ⋮         \n",
              "971  746-04-1077 B      Member        Female Food and beverages     84.63     \n",
              "972  448-34-8700 B      Member        Male   Home and lifestyle     36.91     \n",
              "973  452-04-8808 B      Normal        Male   Electronic accessories 87.08     \n",
              "974  531-56-4728 A      Normal        Male   Home and lifestyle     80.08     \n",
              "975  744-82-9138 C      Normal        Male   Fashion accessories    86.13     \n",
              "976  883-69-1285 B      Member        Male   Fashion accessories    49.92     \n",
              "977  221-25-5073 A      Normal        Female Food and beverages     74.66     \n",
              "978  518-71-6847 B      Member        Male   Food and beverages     26.60     \n",
              "979  156-20-0370 B      Normal        Female Electronic accessories 25.45     \n",
              "980  151-33-7434 B      Normal        Female Food and beverages     67.77     \n",
              "981  728-47-9078 C      Member        Male   Food and beverages     59.59     \n",
              "982  809-46-1866 A      Normal        Male   Health and beauty      58.15     \n",
              "983  139-32-4183 A      Member        Female Sports and travel      97.48     \n",
              "984  148-41-7930 C      Normal        Male   Health and beauty      99.96     \n",
              "985  189-40-5216 C      Normal        Male   Electronic accessories 96.37     \n",
              "986  374-38-5555 B      Normal        Female Fashion accessories    63.71     \n",
              "987  764-44-8999 B      Normal        Female Health and beauty      14.76     \n",
              "988  552-44-5977 B      Member        Male   Health and beauty      62.00     \n",
              "989  267-62-7380 C      Member        Male   Electronic accessories 82.34     \n",
              "990  430-53-4718 B      Member        Male   Health and beauty      75.37     \n",
              "991  886-18-2897 A      Normal        Female Food and beverages     56.56     \n",
              "992  602-16-6955 B      Normal        Female Sports and travel      76.60     \n",
              "993  745-74-0715 A      Normal        Male   Electronic accessories 58.03     \n",
              "994  690-01-6631 B      Normal        Male   Fashion accessories    17.49     \n",
              "995  652-49-6720 C      Member        Female Electronic accessories 60.95     \n",
              "996  233-67-5758 C      Normal        Male   Health and beauty      40.35     \n",
              "997  303-96-2227 B      Normal        Female Home and lifestyle     97.38     \n",
              "998  727-02-1313 A      Member        Male   Food and beverages     31.84     \n",
              "999  347-56-2442 A      Normal        Male   Home and lifestyle     65.82     \n",
              "1000 849-09-3807 A      Member        Female Fashion accessories    88.34     \n",
              "     Quantity Tax     Date      Time  Payment     cogs  \n",
              "1     7       26.1415 1/5/2019  13:08 Ewallet     522.83\n",
              "2     5        3.8200 3/8/2019  10:29 Cash         76.40\n",
              "3     7       16.2155 3/3/2019  13:23 Credit card 324.31\n",
              "4     8       23.2880 1/27/2019 20:33 Ewallet     465.76\n",
              "5     7       30.2085 2/8/2019  10:37 Ewallet     604.17\n",
              "6     7       29.8865 3/25/2019 18:30 Ewallet     597.73\n",
              "7     6       20.6520 2/25/2019 14:36 Ewallet     413.04\n",
              "8    10       36.7800 2/24/2019 11:38 Ewallet     735.60\n",
              "9     2        3.6260 1/10/2019 17:15 Credit card  72.52\n",
              "10    3        8.2260 2/20/2019 13:27 Credit card 164.52\n",
              "11    4        2.8960 2/6/2019  18:07 Ewallet      57.92\n",
              "12    4        5.1020 3/9/2019  17:03 Cash        102.04\n",
              "13    5       11.7375 2/12/2019 10:25 Ewallet     234.75\n",
              "14   10       21.5950 2/7/2019  16:48 Ewallet     431.90\n",
              "15   10       35.6900 3/29/2019 19:21 Cash        713.80\n",
              "16    6       28.1160 1/15/2019 16:19 Cash        562.32\n",
              "17    7       24.1255 3/11/2019 11:03 Credit card 482.51\n",
              "18    6       21.7830 1/1/2019  10:39 Credit card 435.66\n",
              "19    3        8.2005 1/21/2019 18:00 Credit card 164.01\n",
              "20    2        4.0300 3/11/2019 15:30 Ewallet      80.60\n",
              "21    5       21.5100 2/25/2019 11:24 Ewallet     430.20\n",
              "22    3       13.1970 3/5/2019  10:40 Ewallet     263.94\n",
              "23    2        3.3200 3/15/2019 12:20 Credit card  66.40\n",
              "24    5        8.6400 2/17/2019 11:15 Ewallet     172.80\n",
              "25    3       13.2945 3/2/2019  17:36 Ewallet     265.89\n",
              "26    8       21.0360 3/22/2019 19:20 Credit card 420.72\n",
              "27    1        1.6760 2/8/2019  15:31 Cash         33.52\n",
              "28    2        8.7670 3/10/2019 12:17 Credit card 175.34\n",
              "29    5       22.0900 1/25/2019 19:48 Cash        441.80\n",
              "30    9       11.2005 3/15/2019 15:36 Cash        224.01\n",
              "⋮    ⋮        ⋮       ⋮         ⋮     ⋮           ⋮     \n",
              "971  10       42.3150 1/1/2019  11:36 Credit card 846.30\n",
              "972   7       12.9185 2/10/2019 13:51 Ewallet     258.37\n",
              "973   7       30.4780 1/26/2019 15:17 Cash        609.56\n",
              "974   3       12.0120 2/11/2019 15:29 Cash        240.24\n",
              "975   2        8.6130 2/7/2019  17:59 Cash        172.26\n",
              "976   2        4.9920 3/6/2019  11:55 Credit card  99.84\n",
              "977   4       14.9320 3/4/2019  10:39 Cash        298.64\n",
              "978   6        7.9800 2/26/2019 15:10 Ewallet     159.60\n",
              "979   1        1.2725 3/10/2019 18:10 Credit card  25.45\n",
              "980   1        3.3885 2/4/2019  20:43 Credit card  67.77\n",
              "981   4       11.9180 1/19/2019 12:46 Cash        238.36\n",
              "982   4       11.6300 1/23/2019 17:44 Cash        232.60\n",
              "983   9       43.8660 3/14/2019 14:19 Ewallet     877.32\n",
              "984   7       34.9860 1/23/2019 10:33 Cash        699.72\n",
              "985   7       33.7295 1/9/2019  11:40 Cash        674.59\n",
              "986   5       15.9275 2/7/2019  19:30 Ewallet     318.55\n",
              "987   2        1.4760 2/18/2019 14:42 Ewallet      29.52\n",
              "988   8       24.8000 1/3/2019  19:08 Credit card 496.00\n",
              "989  10       41.1700 3/29/2019 19:12 Ewallet     823.40\n",
              "990   8       30.1480 1/28/2019 15:46 Credit card 602.96\n",
              "991   5       14.1400 3/22/2019 19:06 Credit card 282.80\n",
              "992  10       38.3000 1/24/2019 18:10 Ewallet     766.00\n",
              "993   2        5.8030 3/10/2019 20:46 Ewallet     116.06\n",
              "994  10        8.7450 2/22/2019 18:35 Ewallet     174.90\n",
              "995   1        3.0475 2/18/2019 11:40 Ewallet      60.95\n",
              "996   1        2.0175 1/29/2019 13:46 Ewallet      40.35\n",
              "997  10       48.6900 3/2/2019  17:16 Ewallet     973.80\n",
              "998   1        1.5920 2/9/2019  13:22 Cash         31.84\n",
              "999   1        3.2910 2/22/2019 15:33 Cash         65.82\n",
              "1000  7       30.9190 2/18/2019 13:28 Cash        618.38\n",
              "     gross.margin.percentage gross.income Rating Total    \n",
              "1    4.761905                26.1415      9.1    548.9715 \n",
              "2    4.761905                 3.8200      9.6     80.2200 \n",
              "3    4.761905                16.2155      7.4    340.5255 \n",
              "4    4.761905                23.2880      8.4    489.0480 \n",
              "5    4.761905                30.2085      5.3    634.3785 \n",
              "6    4.761905                29.8865      4.1    627.6165 \n",
              "7    4.761905                20.6520      5.8    433.6920 \n",
              "8    4.761905                36.7800      8.0    772.3800 \n",
              "9    4.761905                 3.6260      7.2     76.1460 \n",
              "10   4.761905                 8.2260      5.9    172.7460 \n",
              "11   4.761905                 2.8960      4.5     60.8160 \n",
              "12   4.761905                 5.1020      6.8    107.1420 \n",
              "13   4.761905                11.7375      7.1    246.4875 \n",
              "14   4.761905                21.5950      8.2    453.4950 \n",
              "15   4.761905                35.6900      5.7    749.4900 \n",
              "16   4.761905                28.1160      4.5    590.4360 \n",
              "17   4.761905                24.1255      4.6    506.6355 \n",
              "18   4.761905                21.7830      6.9    457.4430 \n",
              "19   4.761905                 8.2005      8.6    172.2105 \n",
              "20   4.761905                 4.0300      4.4     84.6300 \n",
              "21   4.761905                21.5100      4.8    451.7100 \n",
              "22   4.761905                13.1970      5.1    277.1370 \n",
              "23   4.761905                 3.3200      4.4     69.7200 \n",
              "24   4.761905                 8.6400      9.9    181.4400 \n",
              "25   4.761905                13.2945      6.0    279.1845 \n",
              "26   4.761905                21.0360      8.5    441.7560 \n",
              "27   4.761905                 1.6760      6.7     35.1960 \n",
              "28   4.761905                 8.7670      7.7    184.1070 \n",
              "29   4.761905                22.0900      9.6    463.8900 \n",
              "30   4.761905                11.2005      7.4    235.2105 \n",
              "⋮    ⋮                       ⋮            ⋮      ⋮        \n",
              "971  4.761905                42.3150      9.0     888.6150\n",
              "972  4.761905                12.9185      6.7     271.2885\n",
              "973  4.761905                30.4780      5.5     640.0380\n",
              "974  4.761905                12.0120      5.4     252.2520\n",
              "975  4.761905                 8.6130      8.2     180.8730\n",
              "976  4.761905                 4.9920      7.0     104.8320\n",
              "977  4.761905                14.9320      8.5     313.5720\n",
              "978  4.761905                 7.9800      4.9     167.5800\n",
              "979  4.761905                 1.2725      5.1      26.7225\n",
              "980  4.761905                 3.3885      6.5      71.1585\n",
              "981  4.761905                11.9180      9.8     250.2780\n",
              "982  4.761905                11.6300      8.4     244.2300\n",
              "983  4.761905                43.8660      7.4     921.1860\n",
              "984  4.761905                34.9860      6.1     734.7060\n",
              "985  4.761905                33.7295      6.0     708.3195\n",
              "986  4.761905                15.9275      8.5     334.4775\n",
              "987  4.761905                 1.4760      4.3      30.9960\n",
              "988  4.761905                24.8000      6.2     520.8000\n",
              "989  4.761905                41.1700      4.3     864.5700\n",
              "990  4.761905                30.1480      8.4     633.1080\n",
              "991  4.761905                14.1400      4.5     296.9400\n",
              "992  4.761905                38.3000      6.0     804.3000\n",
              "993  4.761905                 5.8030      8.8     121.8630\n",
              "994  4.761905                 8.7450      6.6     183.6450\n",
              "995  4.761905                 3.0475      5.9      63.9975\n",
              "996  4.761905                 2.0175      6.2      42.3675\n",
              "997  4.761905                48.6900      4.4    1022.4900\n",
              "998  4.761905                 1.5920      7.7      33.4320\n",
              "999  4.761905                 3.2910      4.1      69.1110\n",
              "1000 4.761905                30.9190      6.6     649.2990"
            ],
            "text/latex": "A data.frame: 1000 × 16\n\\begin{tabular}{llllllllllllllll}\n Invoice.ID & Branch & Customer.type & Gender & Product.line & Unit.price & Quantity & Tax & Date & Time & Payment & cogs & gross.margin.percentage & gross.income & Rating & Total\\\\\n <chr> & <chr> & <chr> & <chr> & <chr> & <dbl> & <int> & <dbl> & <chr> & <chr> & <chr> & <dbl> & <dbl> & <dbl> & <dbl> & <dbl>\\\\\n\\hline\n\t 750-67-8428 & A & Member & Female & Health and beauty      & 74.69 &  7 & 26.1415 & 1/5/2019  & 13:08 & Ewallet     & 522.83 & 4.761905 & 26.1415 & 9.1 & 548.9715\\\\\n\t 226-31-3081 & C & Normal & Female & Electronic accessories & 15.28 &  5 &  3.8200 & 3/8/2019  & 10:29 & Cash        &  76.40 & 4.761905 &  3.8200 & 9.6 &  80.2200\\\\\n\t 631-41-3108 & A & Normal & Male   & Home and lifestyle     & 46.33 &  7 & 16.2155 & 3/3/2019  & 13:23 & Credit card & 324.31 & 4.761905 & 16.2155 & 7.4 & 340.5255\\\\\n\t 123-19-1176 & A & Member & Male   & Health and beauty      & 58.22 &  8 & 23.2880 & 1/27/2019 & 20:33 & Ewallet     & 465.76 & 4.761905 & 23.2880 & 8.4 & 489.0480\\\\\n\t 373-73-7910 & A & Normal & Male   & Sports and travel      & 86.31 &  7 & 30.2085 & 2/8/2019  & 10:37 & Ewallet     & 604.17 & 4.761905 & 30.2085 & 5.3 & 634.3785\\\\\n\t 699-14-3026 & C & Normal & Male   & Electronic accessories & 85.39 &  7 & 29.8865 & 3/25/2019 & 18:30 & Ewallet     & 597.73 & 4.761905 & 29.8865 & 4.1 & 627.6165\\\\\n\t 355-53-5943 & A & Member & Female & Electronic accessories & 68.84 &  6 & 20.6520 & 2/25/2019 & 14:36 & Ewallet     & 413.04 & 4.761905 & 20.6520 & 5.8 & 433.6920\\\\\n\t 315-22-5665 & C & Normal & Female & Home and lifestyle     & 73.56 & 10 & 36.7800 & 2/24/2019 & 11:38 & Ewallet     & 735.60 & 4.761905 & 36.7800 & 8.0 & 772.3800\\\\\n\t 665-32-9167 & A & Member & Female & Health and beauty      & 36.26 &  2 &  3.6260 & 1/10/2019 & 17:15 & Credit card &  72.52 & 4.761905 &  3.6260 & 7.2 &  76.1460\\\\\n\t 692-92-5582 & B & Member & Female & Food and beverages     & 54.84 &  3 &  8.2260 & 2/20/2019 & 13:27 & Credit card & 164.52 & 4.761905 &  8.2260 & 5.9 & 172.7460\\\\\n\t 351-62-0822 & B & Member & Female & Fashion accessories    & 14.48 &  4 &  2.8960 & 2/6/2019  & 18:07 & Ewallet     &  57.92 & 4.761905 &  2.8960 & 4.5 &  60.8160\\\\\n\t 529-56-3974 & B & Member & Male   & Electronic accessories & 25.51 &  4 &  5.1020 & 3/9/2019  & 17:03 & Cash        & 102.04 & 4.761905 &  5.1020 & 6.8 & 107.1420\\\\\n\t 365-64-0515 & A & Normal & Female & Electronic accessories & 46.95 &  5 & 11.7375 & 2/12/2019 & 10:25 & Ewallet     & 234.75 & 4.761905 & 11.7375 & 7.1 & 246.4875\\\\\n\t 252-56-2699 & A & Normal & Male   & Food and beverages     & 43.19 & 10 & 21.5950 & 2/7/2019  & 16:48 & Ewallet     & 431.90 & 4.761905 & 21.5950 & 8.2 & 453.4950\\\\\n\t 829-34-3910 & A & Normal & Female & Health and beauty      & 71.38 & 10 & 35.6900 & 3/29/2019 & 19:21 & Cash        & 713.80 & 4.761905 & 35.6900 & 5.7 & 749.4900\\\\\n\t 299-46-1805 & B & Member & Female & Sports and travel      & 93.72 &  6 & 28.1160 & 1/15/2019 & 16:19 & Cash        & 562.32 & 4.761905 & 28.1160 & 4.5 & 590.4360\\\\\n\t 656-95-9349 & A & Member & Female & Health and beauty      & 68.93 &  7 & 24.1255 & 3/11/2019 & 11:03 & Credit card & 482.51 & 4.761905 & 24.1255 & 4.6 & 506.6355\\\\\n\t 765-26-6951 & A & Normal & Male   & Sports and travel      & 72.61 &  6 & 21.7830 & 1/1/2019  & 10:39 & Credit card & 435.66 & 4.761905 & 21.7830 & 6.9 & 457.4430\\\\\n\t 329-62-1586 & A & Normal & Male   & Food and beverages     & 54.67 &  3 &  8.2005 & 1/21/2019 & 18:00 & Credit card & 164.01 & 4.761905 &  8.2005 & 8.6 & 172.2105\\\\\n\t 319-50-3348 & B & Normal & Female & Home and lifestyle     & 40.30 &  2 &  4.0300 & 3/11/2019 & 15:30 & Ewallet     &  80.60 & 4.761905 &  4.0300 & 4.4 &  84.6300\\\\\n\t 300-71-4605 & C & Member & Male   & Electronic accessories & 86.04 &  5 & 21.5100 & 2/25/2019 & 11:24 & Ewallet     & 430.20 & 4.761905 & 21.5100 & 4.8 & 451.7100\\\\\n\t 371-85-5789 & B & Normal & Male   & Health and beauty      & 87.98 &  3 & 13.1970 & 3/5/2019  & 10:40 & Ewallet     & 263.94 & 4.761905 & 13.1970 & 5.1 & 277.1370\\\\\n\t 273-16-6619 & B & Normal & Male   & Home and lifestyle     & 33.20 &  2 &  3.3200 & 3/15/2019 & 12:20 & Credit card &  66.40 & 4.761905 &  3.3200 & 4.4 &  69.7200\\\\\n\t 636-48-8204 & A & Normal & Male   & Electronic accessories & 34.56 &  5 &  8.6400 & 2/17/2019 & 11:15 & Ewallet     & 172.80 & 4.761905 &  8.6400 & 9.9 & 181.4400\\\\\n\t 549-59-1358 & A & Member & Male   & Sports and travel      & 88.63 &  3 & 13.2945 & 3/2/2019  & 17:36 & Ewallet     & 265.89 & 4.761905 & 13.2945 & 6.0 & 279.1845\\\\\n\t 227-03-5010 & A & Member & Female & Home and lifestyle     & 52.59 &  8 & 21.0360 & 3/22/2019 & 19:20 & Credit card & 420.72 & 4.761905 & 21.0360 & 8.5 & 441.7560\\\\\n\t 649-29-6775 & B & Normal & Male   & Fashion accessories    & 33.52 &  1 &  1.6760 & 2/8/2019  & 15:31 & Cash        &  33.52 & 4.761905 &  1.6760 & 6.7 &  35.1960\\\\\n\t 189-17-4241 & A & Normal & Female & Fashion accessories    & 87.67 &  2 &  8.7670 & 3/10/2019 & 12:17 & Credit card & 175.34 & 4.761905 &  8.7670 & 7.7 & 184.1070\\\\\n\t 145-94-9061 & B & Normal & Female & Food and beverages     & 88.36 &  5 & 22.0900 & 1/25/2019 & 19:48 & Cash        & 441.80 & 4.761905 & 22.0900 & 9.6 & 463.8900\\\\\n\t 848-62-7243 & A & Normal & Male   & Health and beauty      & 24.89 &  9 & 11.2005 & 3/15/2019 & 15:36 & Cash        & 224.01 & 4.761905 & 11.2005 & 7.4 & 235.2105\\\\\n\t ⋮ & ⋮ & ⋮ & ⋮ & ⋮ & ⋮ & ⋮ & ⋮ & ⋮ & ⋮ & ⋮ & ⋮ & ⋮ & ⋮ & ⋮ & ⋮\\\\\n\t 746-04-1077 & B & Member & Female & Food and beverages     & 84.63 & 10 & 42.3150 & 1/1/2019  & 11:36 & Credit card & 846.30 & 4.761905 & 42.3150 & 9.0 &  888.6150\\\\\n\t 448-34-8700 & B & Member & Male   & Home and lifestyle     & 36.91 &  7 & 12.9185 & 2/10/2019 & 13:51 & Ewallet     & 258.37 & 4.761905 & 12.9185 & 6.7 &  271.2885\\\\\n\t 452-04-8808 & B & Normal & Male   & Electronic accessories & 87.08 &  7 & 30.4780 & 1/26/2019 & 15:17 & Cash        & 609.56 & 4.761905 & 30.4780 & 5.5 &  640.0380\\\\\n\t 531-56-4728 & A & Normal & Male   & Home and lifestyle     & 80.08 &  3 & 12.0120 & 2/11/2019 & 15:29 & Cash        & 240.24 & 4.761905 & 12.0120 & 5.4 &  252.2520\\\\\n\t 744-82-9138 & C & Normal & Male   & Fashion accessories    & 86.13 &  2 &  8.6130 & 2/7/2019  & 17:59 & Cash        & 172.26 & 4.761905 &  8.6130 & 8.2 &  180.8730\\\\\n\t 883-69-1285 & B & Member & Male   & Fashion accessories    & 49.92 &  2 &  4.9920 & 3/6/2019  & 11:55 & Credit card &  99.84 & 4.761905 &  4.9920 & 7.0 &  104.8320\\\\\n\t 221-25-5073 & A & Normal & Female & Food and beverages     & 74.66 &  4 & 14.9320 & 3/4/2019  & 10:39 & Cash        & 298.64 & 4.761905 & 14.9320 & 8.5 &  313.5720\\\\\n\t 518-71-6847 & B & Member & Male   & Food and beverages     & 26.60 &  6 &  7.9800 & 2/26/2019 & 15:10 & Ewallet     & 159.60 & 4.761905 &  7.9800 & 4.9 &  167.5800\\\\\n\t 156-20-0370 & B & Normal & Female & Electronic accessories & 25.45 &  1 &  1.2725 & 3/10/2019 & 18:10 & Credit card &  25.45 & 4.761905 &  1.2725 & 5.1 &   26.7225\\\\\n\t 151-33-7434 & B & Normal & Female & Food and beverages     & 67.77 &  1 &  3.3885 & 2/4/2019  & 20:43 & Credit card &  67.77 & 4.761905 &  3.3885 & 6.5 &   71.1585\\\\\n\t 728-47-9078 & C & Member & Male   & Food and beverages     & 59.59 &  4 & 11.9180 & 1/19/2019 & 12:46 & Cash        & 238.36 & 4.761905 & 11.9180 & 9.8 &  250.2780\\\\\n\t 809-46-1866 & A & Normal & Male   & Health and beauty      & 58.15 &  4 & 11.6300 & 1/23/2019 & 17:44 & Cash        & 232.60 & 4.761905 & 11.6300 & 8.4 &  244.2300\\\\\n\t 139-32-4183 & A & Member & Female & Sports and travel      & 97.48 &  9 & 43.8660 & 3/14/2019 & 14:19 & Ewallet     & 877.32 & 4.761905 & 43.8660 & 7.4 &  921.1860\\\\\n\t 148-41-7930 & C & Normal & Male   & Health and beauty      & 99.96 &  7 & 34.9860 & 1/23/2019 & 10:33 & Cash        & 699.72 & 4.761905 & 34.9860 & 6.1 &  734.7060\\\\\n\t 189-40-5216 & C & Normal & Male   & Electronic accessories & 96.37 &  7 & 33.7295 & 1/9/2019  & 11:40 & Cash        & 674.59 & 4.761905 & 33.7295 & 6.0 &  708.3195\\\\\n\t 374-38-5555 & B & Normal & Female & Fashion accessories    & 63.71 &  5 & 15.9275 & 2/7/2019  & 19:30 & Ewallet     & 318.55 & 4.761905 & 15.9275 & 8.5 &  334.4775\\\\\n\t 764-44-8999 & B & Normal & Female & Health and beauty      & 14.76 &  2 &  1.4760 & 2/18/2019 & 14:42 & Ewallet     &  29.52 & 4.761905 &  1.4760 & 4.3 &   30.9960\\\\\n\t 552-44-5977 & B & Member & Male   & Health and beauty      & 62.00 &  8 & 24.8000 & 1/3/2019  & 19:08 & Credit card & 496.00 & 4.761905 & 24.8000 & 6.2 &  520.8000\\\\\n\t 267-62-7380 & C & Member & Male   & Electronic accessories & 82.34 & 10 & 41.1700 & 3/29/2019 & 19:12 & Ewallet     & 823.40 & 4.761905 & 41.1700 & 4.3 &  864.5700\\\\\n\t 430-53-4718 & B & Member & Male   & Health and beauty      & 75.37 &  8 & 30.1480 & 1/28/2019 & 15:46 & Credit card & 602.96 & 4.761905 & 30.1480 & 8.4 &  633.1080\\\\\n\t 886-18-2897 & A & Normal & Female & Food and beverages     & 56.56 &  5 & 14.1400 & 3/22/2019 & 19:06 & Credit card & 282.80 & 4.761905 & 14.1400 & 4.5 &  296.9400\\\\\n\t 602-16-6955 & B & Normal & Female & Sports and travel      & 76.60 & 10 & 38.3000 & 1/24/2019 & 18:10 & Ewallet     & 766.00 & 4.761905 & 38.3000 & 6.0 &  804.3000\\\\\n\t 745-74-0715 & A & Normal & Male   & Electronic accessories & 58.03 &  2 &  5.8030 & 3/10/2019 & 20:46 & Ewallet     & 116.06 & 4.761905 &  5.8030 & 8.8 &  121.8630\\\\\n\t 690-01-6631 & B & Normal & Male   & Fashion accessories    & 17.49 & 10 &  8.7450 & 2/22/2019 & 18:35 & Ewallet     & 174.90 & 4.761905 &  8.7450 & 6.6 &  183.6450\\\\\n\t 652-49-6720 & C & Member & Female & Electronic accessories & 60.95 &  1 &  3.0475 & 2/18/2019 & 11:40 & Ewallet     &  60.95 & 4.761905 &  3.0475 & 5.9 &   63.9975\\\\\n\t 233-67-5758 & C & Normal & Male   & Health and beauty      & 40.35 &  1 &  2.0175 & 1/29/2019 & 13:46 & Ewallet     &  40.35 & 4.761905 &  2.0175 & 6.2 &   42.3675\\\\\n\t 303-96-2227 & B & Normal & Female & Home and lifestyle     & 97.38 & 10 & 48.6900 & 3/2/2019  & 17:16 & Ewallet     & 973.80 & 4.761905 & 48.6900 & 4.4 & 1022.4900\\\\\n\t 727-02-1313 & A & Member & Male   & Food and beverages     & 31.84 &  1 &  1.5920 & 2/9/2019  & 13:22 & Cash        &  31.84 & 4.761905 &  1.5920 & 7.7 &   33.4320\\\\\n\t 347-56-2442 & A & Normal & Male   & Home and lifestyle     & 65.82 &  1 &  3.2910 & 2/22/2019 & 15:33 & Cash        &  65.82 & 4.761905 &  3.2910 & 4.1 &   69.1110\\\\\n\t 849-09-3807 & A & Member & Female & Fashion accessories    & 88.34 &  7 & 30.9190 & 2/18/2019 & 13:28 & Cash        & 618.38 & 4.761905 & 30.9190 & 6.6 &  649.2990\\\\\n\\end{tabular}\n",
            "text/markdown": "\nA data.frame: 1000 × 16\n\n| Invoice.ID &lt;chr&gt; | Branch &lt;chr&gt; | Customer.type &lt;chr&gt; | Gender &lt;chr&gt; | Product.line &lt;chr&gt; | Unit.price &lt;dbl&gt; | Quantity &lt;int&gt; | Tax &lt;dbl&gt; | Date &lt;chr&gt; | Time &lt;chr&gt; | Payment &lt;chr&gt; | cogs &lt;dbl&gt; | gross.margin.percentage &lt;dbl&gt; | gross.income &lt;dbl&gt; | Rating &lt;dbl&gt; | Total &lt;dbl&gt; |\n|---|---|---|---|---|---|---|---|---|---|---|---|---|---|---|---|\n| 750-67-8428 | A | Member | Female | Health and beauty      | 74.69 |  7 | 26.1415 | 1/5/2019  | 13:08 | Ewallet     | 522.83 | 4.761905 | 26.1415 | 9.1 | 548.9715 |\n| 226-31-3081 | C | Normal | Female | Electronic accessories | 15.28 |  5 |  3.8200 | 3/8/2019  | 10:29 | Cash        |  76.40 | 4.761905 |  3.8200 | 9.6 |  80.2200 |\n| 631-41-3108 | A | Normal | Male   | Home and lifestyle     | 46.33 |  7 | 16.2155 | 3/3/2019  | 13:23 | Credit card | 324.31 | 4.761905 | 16.2155 | 7.4 | 340.5255 |\n| 123-19-1176 | A | Member | Male   | Health and beauty      | 58.22 |  8 | 23.2880 | 1/27/2019 | 20:33 | Ewallet     | 465.76 | 4.761905 | 23.2880 | 8.4 | 489.0480 |\n| 373-73-7910 | A | Normal | Male   | Sports and travel      | 86.31 |  7 | 30.2085 | 2/8/2019  | 10:37 | Ewallet     | 604.17 | 4.761905 | 30.2085 | 5.3 | 634.3785 |\n| 699-14-3026 | C | Normal | Male   | Electronic accessories | 85.39 |  7 | 29.8865 | 3/25/2019 | 18:30 | Ewallet     | 597.73 | 4.761905 | 29.8865 | 4.1 | 627.6165 |\n| 355-53-5943 | A | Member | Female | Electronic accessories | 68.84 |  6 | 20.6520 | 2/25/2019 | 14:36 | Ewallet     | 413.04 | 4.761905 | 20.6520 | 5.8 | 433.6920 |\n| 315-22-5665 | C | Normal | Female | Home and lifestyle     | 73.56 | 10 | 36.7800 | 2/24/2019 | 11:38 | Ewallet     | 735.60 | 4.761905 | 36.7800 | 8.0 | 772.3800 |\n| 665-32-9167 | A | Member | Female | Health and beauty      | 36.26 |  2 |  3.6260 | 1/10/2019 | 17:15 | Credit card |  72.52 | 4.761905 |  3.6260 | 7.2 |  76.1460 |\n| 692-92-5582 | B | Member | Female | Food and beverages     | 54.84 |  3 |  8.2260 | 2/20/2019 | 13:27 | Credit card | 164.52 | 4.761905 |  8.2260 | 5.9 | 172.7460 |\n| 351-62-0822 | B | Member | Female | Fashion accessories    | 14.48 |  4 |  2.8960 | 2/6/2019  | 18:07 | Ewallet     |  57.92 | 4.761905 |  2.8960 | 4.5 |  60.8160 |\n| 529-56-3974 | B | Member | Male   | Electronic accessories | 25.51 |  4 |  5.1020 | 3/9/2019  | 17:03 | Cash        | 102.04 | 4.761905 |  5.1020 | 6.8 | 107.1420 |\n| 365-64-0515 | A | Normal | Female | Electronic accessories | 46.95 |  5 | 11.7375 | 2/12/2019 | 10:25 | Ewallet     | 234.75 | 4.761905 | 11.7375 | 7.1 | 246.4875 |\n| 252-56-2699 | A | Normal | Male   | Food and beverages     | 43.19 | 10 | 21.5950 | 2/7/2019  | 16:48 | Ewallet     | 431.90 | 4.761905 | 21.5950 | 8.2 | 453.4950 |\n| 829-34-3910 | A | Normal | Female | Health and beauty      | 71.38 | 10 | 35.6900 | 3/29/2019 | 19:21 | Cash        | 713.80 | 4.761905 | 35.6900 | 5.7 | 749.4900 |\n| 299-46-1805 | B | Member | Female | Sports and travel      | 93.72 |  6 | 28.1160 | 1/15/2019 | 16:19 | Cash        | 562.32 | 4.761905 | 28.1160 | 4.5 | 590.4360 |\n| 656-95-9349 | A | Member | Female | Health and beauty      | 68.93 |  7 | 24.1255 | 3/11/2019 | 11:03 | Credit card | 482.51 | 4.761905 | 24.1255 | 4.6 | 506.6355 |\n| 765-26-6951 | A | Normal | Male   | Sports and travel      | 72.61 |  6 | 21.7830 | 1/1/2019  | 10:39 | Credit card | 435.66 | 4.761905 | 21.7830 | 6.9 | 457.4430 |\n| 329-62-1586 | A | Normal | Male   | Food and beverages     | 54.67 |  3 |  8.2005 | 1/21/2019 | 18:00 | Credit card | 164.01 | 4.761905 |  8.2005 | 8.6 | 172.2105 |\n| 319-50-3348 | B | Normal | Female | Home and lifestyle     | 40.30 |  2 |  4.0300 | 3/11/2019 | 15:30 | Ewallet     |  80.60 | 4.761905 |  4.0300 | 4.4 |  84.6300 |\n| 300-71-4605 | C | Member | Male   | Electronic accessories | 86.04 |  5 | 21.5100 | 2/25/2019 | 11:24 | Ewallet     | 430.20 | 4.761905 | 21.5100 | 4.8 | 451.7100 |\n| 371-85-5789 | B | Normal | Male   | Health and beauty      | 87.98 |  3 | 13.1970 | 3/5/2019  | 10:40 | Ewallet     | 263.94 | 4.761905 | 13.1970 | 5.1 | 277.1370 |\n| 273-16-6619 | B | Normal | Male   | Home and lifestyle     | 33.20 |  2 |  3.3200 | 3/15/2019 | 12:20 | Credit card |  66.40 | 4.761905 |  3.3200 | 4.4 |  69.7200 |\n| 636-48-8204 | A | Normal | Male   | Electronic accessories | 34.56 |  5 |  8.6400 | 2/17/2019 | 11:15 | Ewallet     | 172.80 | 4.761905 |  8.6400 | 9.9 | 181.4400 |\n| 549-59-1358 | A | Member | Male   | Sports and travel      | 88.63 |  3 | 13.2945 | 3/2/2019  | 17:36 | Ewallet     | 265.89 | 4.761905 | 13.2945 | 6.0 | 279.1845 |\n| 227-03-5010 | A | Member | Female | Home and lifestyle     | 52.59 |  8 | 21.0360 | 3/22/2019 | 19:20 | Credit card | 420.72 | 4.761905 | 21.0360 | 8.5 | 441.7560 |\n| 649-29-6775 | B | Normal | Male   | Fashion accessories    | 33.52 |  1 |  1.6760 | 2/8/2019  | 15:31 | Cash        |  33.52 | 4.761905 |  1.6760 | 6.7 |  35.1960 |\n| 189-17-4241 | A | Normal | Female | Fashion accessories    | 87.67 |  2 |  8.7670 | 3/10/2019 | 12:17 | Credit card | 175.34 | 4.761905 |  8.7670 | 7.7 | 184.1070 |\n| 145-94-9061 | B | Normal | Female | Food and beverages     | 88.36 |  5 | 22.0900 | 1/25/2019 | 19:48 | Cash        | 441.80 | 4.761905 | 22.0900 | 9.6 | 463.8900 |\n| 848-62-7243 | A | Normal | Male   | Health and beauty      | 24.89 |  9 | 11.2005 | 3/15/2019 | 15:36 | Cash        | 224.01 | 4.761905 | 11.2005 | 7.4 | 235.2105 |\n| ⋮ | ⋮ | ⋮ | ⋮ | ⋮ | ⋮ | ⋮ | ⋮ | ⋮ | ⋮ | ⋮ | ⋮ | ⋮ | ⋮ | ⋮ | ⋮ |\n| 746-04-1077 | B | Member | Female | Food and beverages     | 84.63 | 10 | 42.3150 | 1/1/2019  | 11:36 | Credit card | 846.30 | 4.761905 | 42.3150 | 9.0 |  888.6150 |\n| 448-34-8700 | B | Member | Male   | Home and lifestyle     | 36.91 |  7 | 12.9185 | 2/10/2019 | 13:51 | Ewallet     | 258.37 | 4.761905 | 12.9185 | 6.7 |  271.2885 |\n| 452-04-8808 | B | Normal | Male   | Electronic accessories | 87.08 |  7 | 30.4780 | 1/26/2019 | 15:17 | Cash        | 609.56 | 4.761905 | 30.4780 | 5.5 |  640.0380 |\n| 531-56-4728 | A | Normal | Male   | Home and lifestyle     | 80.08 |  3 | 12.0120 | 2/11/2019 | 15:29 | Cash        | 240.24 | 4.761905 | 12.0120 | 5.4 |  252.2520 |\n| 744-82-9138 | C | Normal | Male   | Fashion accessories    | 86.13 |  2 |  8.6130 | 2/7/2019  | 17:59 | Cash        | 172.26 | 4.761905 |  8.6130 | 8.2 |  180.8730 |\n| 883-69-1285 | B | Member | Male   | Fashion accessories    | 49.92 |  2 |  4.9920 | 3/6/2019  | 11:55 | Credit card |  99.84 | 4.761905 |  4.9920 | 7.0 |  104.8320 |\n| 221-25-5073 | A | Normal | Female | Food and beverages     | 74.66 |  4 | 14.9320 | 3/4/2019  | 10:39 | Cash        | 298.64 | 4.761905 | 14.9320 | 8.5 |  313.5720 |\n| 518-71-6847 | B | Member | Male   | Food and beverages     | 26.60 |  6 |  7.9800 | 2/26/2019 | 15:10 | Ewallet     | 159.60 | 4.761905 |  7.9800 | 4.9 |  167.5800 |\n| 156-20-0370 | B | Normal | Female | Electronic accessories | 25.45 |  1 |  1.2725 | 3/10/2019 | 18:10 | Credit card |  25.45 | 4.761905 |  1.2725 | 5.1 |   26.7225 |\n| 151-33-7434 | B | Normal | Female | Food and beverages     | 67.77 |  1 |  3.3885 | 2/4/2019  | 20:43 | Credit card |  67.77 | 4.761905 |  3.3885 | 6.5 |   71.1585 |\n| 728-47-9078 | C | Member | Male   | Food and beverages     | 59.59 |  4 | 11.9180 | 1/19/2019 | 12:46 | Cash        | 238.36 | 4.761905 | 11.9180 | 9.8 |  250.2780 |\n| 809-46-1866 | A | Normal | Male   | Health and beauty      | 58.15 |  4 | 11.6300 | 1/23/2019 | 17:44 | Cash        | 232.60 | 4.761905 | 11.6300 | 8.4 |  244.2300 |\n| 139-32-4183 | A | Member | Female | Sports and travel      | 97.48 |  9 | 43.8660 | 3/14/2019 | 14:19 | Ewallet     | 877.32 | 4.761905 | 43.8660 | 7.4 |  921.1860 |\n| 148-41-7930 | C | Normal | Male   | Health and beauty      | 99.96 |  7 | 34.9860 | 1/23/2019 | 10:33 | Cash        | 699.72 | 4.761905 | 34.9860 | 6.1 |  734.7060 |\n| 189-40-5216 | C | Normal | Male   | Electronic accessories | 96.37 |  7 | 33.7295 | 1/9/2019  | 11:40 | Cash        | 674.59 | 4.761905 | 33.7295 | 6.0 |  708.3195 |\n| 374-38-5555 | B | Normal | Female | Fashion accessories    | 63.71 |  5 | 15.9275 | 2/7/2019  | 19:30 | Ewallet     | 318.55 | 4.761905 | 15.9275 | 8.5 |  334.4775 |\n| 764-44-8999 | B | Normal | Female | Health and beauty      | 14.76 |  2 |  1.4760 | 2/18/2019 | 14:42 | Ewallet     |  29.52 | 4.761905 |  1.4760 | 4.3 |   30.9960 |\n| 552-44-5977 | B | Member | Male   | Health and beauty      | 62.00 |  8 | 24.8000 | 1/3/2019  | 19:08 | Credit card | 496.00 | 4.761905 | 24.8000 | 6.2 |  520.8000 |\n| 267-62-7380 | C | Member | Male   | Electronic accessories | 82.34 | 10 | 41.1700 | 3/29/2019 | 19:12 | Ewallet     | 823.40 | 4.761905 | 41.1700 | 4.3 |  864.5700 |\n| 430-53-4718 | B | Member | Male   | Health and beauty      | 75.37 |  8 | 30.1480 | 1/28/2019 | 15:46 | Credit card | 602.96 | 4.761905 | 30.1480 | 8.4 |  633.1080 |\n| 886-18-2897 | A | Normal | Female | Food and beverages     | 56.56 |  5 | 14.1400 | 3/22/2019 | 19:06 | Credit card | 282.80 | 4.761905 | 14.1400 | 4.5 |  296.9400 |\n| 602-16-6955 | B | Normal | Female | Sports and travel      | 76.60 | 10 | 38.3000 | 1/24/2019 | 18:10 | Ewallet     | 766.00 | 4.761905 | 38.3000 | 6.0 |  804.3000 |\n| 745-74-0715 | A | Normal | Male   | Electronic accessories | 58.03 |  2 |  5.8030 | 3/10/2019 | 20:46 | Ewallet     | 116.06 | 4.761905 |  5.8030 | 8.8 |  121.8630 |\n| 690-01-6631 | B | Normal | Male   | Fashion accessories    | 17.49 | 10 |  8.7450 | 2/22/2019 | 18:35 | Ewallet     | 174.90 | 4.761905 |  8.7450 | 6.6 |  183.6450 |\n| 652-49-6720 | C | Member | Female | Electronic accessories | 60.95 |  1 |  3.0475 | 2/18/2019 | 11:40 | Ewallet     |  60.95 | 4.761905 |  3.0475 | 5.9 |   63.9975 |\n| 233-67-5758 | C | Normal | Male   | Health and beauty      | 40.35 |  1 |  2.0175 | 1/29/2019 | 13:46 | Ewallet     |  40.35 | 4.761905 |  2.0175 | 6.2 |   42.3675 |\n| 303-96-2227 | B | Normal | Female | Home and lifestyle     | 97.38 | 10 | 48.6900 | 3/2/2019  | 17:16 | Ewallet     | 973.80 | 4.761905 | 48.6900 | 4.4 | 1022.4900 |\n| 727-02-1313 | A | Member | Male   | Food and beverages     | 31.84 |  1 |  1.5920 | 2/9/2019  | 13:22 | Cash        |  31.84 | 4.761905 |  1.5920 | 7.7 |   33.4320 |\n| 347-56-2442 | A | Normal | Male   | Home and lifestyle     | 65.82 |  1 |  3.2910 | 2/22/2019 | 15:33 | Cash        |  65.82 | 4.761905 |  3.2910 | 4.1 |   69.1110 |\n| 849-09-3807 | A | Member | Female | Fashion accessories    | 88.34 |  7 | 30.9190 | 2/18/2019 | 13:28 | Cash        | 618.38 | 4.761905 | 30.9190 | 6.6 |  649.2990 |\n\n",
            "text/html": [
              "<table class=\"dataframe\">\n",
              "<caption>A data.frame: 1000 × 16</caption>\n",
              "<thead>\n",
              "\t<tr><th scope=col>Invoice.ID</th><th scope=col>Branch</th><th scope=col>Customer.type</th><th scope=col>Gender</th><th scope=col>Product.line</th><th scope=col>Unit.price</th><th scope=col>Quantity</th><th scope=col>Tax</th><th scope=col>Date</th><th scope=col>Time</th><th scope=col>Payment</th><th scope=col>cogs</th><th scope=col>gross.margin.percentage</th><th scope=col>gross.income</th><th scope=col>Rating</th><th scope=col>Total</th></tr>\n",
              "\t<tr><th scope=col>&lt;chr&gt;</th><th scope=col>&lt;chr&gt;</th><th scope=col>&lt;chr&gt;</th><th scope=col>&lt;chr&gt;</th><th scope=col>&lt;chr&gt;</th><th scope=col>&lt;dbl&gt;</th><th scope=col>&lt;int&gt;</th><th scope=col>&lt;dbl&gt;</th><th scope=col>&lt;chr&gt;</th><th scope=col>&lt;chr&gt;</th><th scope=col>&lt;chr&gt;</th><th scope=col>&lt;dbl&gt;</th><th scope=col>&lt;dbl&gt;</th><th scope=col>&lt;dbl&gt;</th><th scope=col>&lt;dbl&gt;</th><th scope=col>&lt;dbl&gt;</th></tr>\n",
              "</thead>\n",
              "<tbody>\n",
              "\t<tr><td>750-67-8428</td><td>A</td><td>Member</td><td>Female</td><td>Health and beauty     </td><td>74.69</td><td> 7</td><td>26.1415</td><td>1/5/2019 </td><td>13:08</td><td>Ewallet    </td><td>522.83</td><td>4.761905</td><td>26.1415</td><td>9.1</td><td>548.9715</td></tr>\n",
              "\t<tr><td>226-31-3081</td><td>C</td><td>Normal</td><td>Female</td><td>Electronic accessories</td><td>15.28</td><td> 5</td><td> 3.8200</td><td>3/8/2019 </td><td>10:29</td><td>Cash       </td><td> 76.40</td><td>4.761905</td><td> 3.8200</td><td>9.6</td><td> 80.2200</td></tr>\n",
              "\t<tr><td>631-41-3108</td><td>A</td><td>Normal</td><td>Male  </td><td>Home and lifestyle    </td><td>46.33</td><td> 7</td><td>16.2155</td><td>3/3/2019 </td><td>13:23</td><td>Credit card</td><td>324.31</td><td>4.761905</td><td>16.2155</td><td>7.4</td><td>340.5255</td></tr>\n",
              "\t<tr><td>123-19-1176</td><td>A</td><td>Member</td><td>Male  </td><td>Health and beauty     </td><td>58.22</td><td> 8</td><td>23.2880</td><td>1/27/2019</td><td>20:33</td><td>Ewallet    </td><td>465.76</td><td>4.761905</td><td>23.2880</td><td>8.4</td><td>489.0480</td></tr>\n",
              "\t<tr><td>373-73-7910</td><td>A</td><td>Normal</td><td>Male  </td><td>Sports and travel     </td><td>86.31</td><td> 7</td><td>30.2085</td><td>2/8/2019 </td><td>10:37</td><td>Ewallet    </td><td>604.17</td><td>4.761905</td><td>30.2085</td><td>5.3</td><td>634.3785</td></tr>\n",
              "\t<tr><td>699-14-3026</td><td>C</td><td>Normal</td><td>Male  </td><td>Electronic accessories</td><td>85.39</td><td> 7</td><td>29.8865</td><td>3/25/2019</td><td>18:30</td><td>Ewallet    </td><td>597.73</td><td>4.761905</td><td>29.8865</td><td>4.1</td><td>627.6165</td></tr>\n",
              "\t<tr><td>355-53-5943</td><td>A</td><td>Member</td><td>Female</td><td>Electronic accessories</td><td>68.84</td><td> 6</td><td>20.6520</td><td>2/25/2019</td><td>14:36</td><td>Ewallet    </td><td>413.04</td><td>4.761905</td><td>20.6520</td><td>5.8</td><td>433.6920</td></tr>\n",
              "\t<tr><td>315-22-5665</td><td>C</td><td>Normal</td><td>Female</td><td>Home and lifestyle    </td><td>73.56</td><td>10</td><td>36.7800</td><td>2/24/2019</td><td>11:38</td><td>Ewallet    </td><td>735.60</td><td>4.761905</td><td>36.7800</td><td>8.0</td><td>772.3800</td></tr>\n",
              "\t<tr><td>665-32-9167</td><td>A</td><td>Member</td><td>Female</td><td>Health and beauty     </td><td>36.26</td><td> 2</td><td> 3.6260</td><td>1/10/2019</td><td>17:15</td><td>Credit card</td><td> 72.52</td><td>4.761905</td><td> 3.6260</td><td>7.2</td><td> 76.1460</td></tr>\n",
              "\t<tr><td>692-92-5582</td><td>B</td><td>Member</td><td>Female</td><td>Food and beverages    </td><td>54.84</td><td> 3</td><td> 8.2260</td><td>2/20/2019</td><td>13:27</td><td>Credit card</td><td>164.52</td><td>4.761905</td><td> 8.2260</td><td>5.9</td><td>172.7460</td></tr>\n",
              "\t<tr><td>351-62-0822</td><td>B</td><td>Member</td><td>Female</td><td>Fashion accessories   </td><td>14.48</td><td> 4</td><td> 2.8960</td><td>2/6/2019 </td><td>18:07</td><td>Ewallet    </td><td> 57.92</td><td>4.761905</td><td> 2.8960</td><td>4.5</td><td> 60.8160</td></tr>\n",
              "\t<tr><td>529-56-3974</td><td>B</td><td>Member</td><td>Male  </td><td>Electronic accessories</td><td>25.51</td><td> 4</td><td> 5.1020</td><td>3/9/2019 </td><td>17:03</td><td>Cash       </td><td>102.04</td><td>4.761905</td><td> 5.1020</td><td>6.8</td><td>107.1420</td></tr>\n",
              "\t<tr><td>365-64-0515</td><td>A</td><td>Normal</td><td>Female</td><td>Electronic accessories</td><td>46.95</td><td> 5</td><td>11.7375</td><td>2/12/2019</td><td>10:25</td><td>Ewallet    </td><td>234.75</td><td>4.761905</td><td>11.7375</td><td>7.1</td><td>246.4875</td></tr>\n",
              "\t<tr><td>252-56-2699</td><td>A</td><td>Normal</td><td>Male  </td><td>Food and beverages    </td><td>43.19</td><td>10</td><td>21.5950</td><td>2/7/2019 </td><td>16:48</td><td>Ewallet    </td><td>431.90</td><td>4.761905</td><td>21.5950</td><td>8.2</td><td>453.4950</td></tr>\n",
              "\t<tr><td>829-34-3910</td><td>A</td><td>Normal</td><td>Female</td><td>Health and beauty     </td><td>71.38</td><td>10</td><td>35.6900</td><td>3/29/2019</td><td>19:21</td><td>Cash       </td><td>713.80</td><td>4.761905</td><td>35.6900</td><td>5.7</td><td>749.4900</td></tr>\n",
              "\t<tr><td>299-46-1805</td><td>B</td><td>Member</td><td>Female</td><td>Sports and travel     </td><td>93.72</td><td> 6</td><td>28.1160</td><td>1/15/2019</td><td>16:19</td><td>Cash       </td><td>562.32</td><td>4.761905</td><td>28.1160</td><td>4.5</td><td>590.4360</td></tr>\n",
              "\t<tr><td>656-95-9349</td><td>A</td><td>Member</td><td>Female</td><td>Health and beauty     </td><td>68.93</td><td> 7</td><td>24.1255</td><td>3/11/2019</td><td>11:03</td><td>Credit card</td><td>482.51</td><td>4.761905</td><td>24.1255</td><td>4.6</td><td>506.6355</td></tr>\n",
              "\t<tr><td>765-26-6951</td><td>A</td><td>Normal</td><td>Male  </td><td>Sports and travel     </td><td>72.61</td><td> 6</td><td>21.7830</td><td>1/1/2019 </td><td>10:39</td><td>Credit card</td><td>435.66</td><td>4.761905</td><td>21.7830</td><td>6.9</td><td>457.4430</td></tr>\n",
              "\t<tr><td>329-62-1586</td><td>A</td><td>Normal</td><td>Male  </td><td>Food and beverages    </td><td>54.67</td><td> 3</td><td> 8.2005</td><td>1/21/2019</td><td>18:00</td><td>Credit card</td><td>164.01</td><td>4.761905</td><td> 8.2005</td><td>8.6</td><td>172.2105</td></tr>\n",
              "\t<tr><td>319-50-3348</td><td>B</td><td>Normal</td><td>Female</td><td>Home and lifestyle    </td><td>40.30</td><td> 2</td><td> 4.0300</td><td>3/11/2019</td><td>15:30</td><td>Ewallet    </td><td> 80.60</td><td>4.761905</td><td> 4.0300</td><td>4.4</td><td> 84.6300</td></tr>\n",
              "\t<tr><td>300-71-4605</td><td>C</td><td>Member</td><td>Male  </td><td>Electronic accessories</td><td>86.04</td><td> 5</td><td>21.5100</td><td>2/25/2019</td><td>11:24</td><td>Ewallet    </td><td>430.20</td><td>4.761905</td><td>21.5100</td><td>4.8</td><td>451.7100</td></tr>\n",
              "\t<tr><td>371-85-5789</td><td>B</td><td>Normal</td><td>Male  </td><td>Health and beauty     </td><td>87.98</td><td> 3</td><td>13.1970</td><td>3/5/2019 </td><td>10:40</td><td>Ewallet    </td><td>263.94</td><td>4.761905</td><td>13.1970</td><td>5.1</td><td>277.1370</td></tr>\n",
              "\t<tr><td>273-16-6619</td><td>B</td><td>Normal</td><td>Male  </td><td>Home and lifestyle    </td><td>33.20</td><td> 2</td><td> 3.3200</td><td>3/15/2019</td><td>12:20</td><td>Credit card</td><td> 66.40</td><td>4.761905</td><td> 3.3200</td><td>4.4</td><td> 69.7200</td></tr>\n",
              "\t<tr><td>636-48-8204</td><td>A</td><td>Normal</td><td>Male  </td><td>Electronic accessories</td><td>34.56</td><td> 5</td><td> 8.6400</td><td>2/17/2019</td><td>11:15</td><td>Ewallet    </td><td>172.80</td><td>4.761905</td><td> 8.6400</td><td>9.9</td><td>181.4400</td></tr>\n",
              "\t<tr><td>549-59-1358</td><td>A</td><td>Member</td><td>Male  </td><td>Sports and travel     </td><td>88.63</td><td> 3</td><td>13.2945</td><td>3/2/2019 </td><td>17:36</td><td>Ewallet    </td><td>265.89</td><td>4.761905</td><td>13.2945</td><td>6.0</td><td>279.1845</td></tr>\n",
              "\t<tr><td>227-03-5010</td><td>A</td><td>Member</td><td>Female</td><td>Home and lifestyle    </td><td>52.59</td><td> 8</td><td>21.0360</td><td>3/22/2019</td><td>19:20</td><td>Credit card</td><td>420.72</td><td>4.761905</td><td>21.0360</td><td>8.5</td><td>441.7560</td></tr>\n",
              "\t<tr><td>649-29-6775</td><td>B</td><td>Normal</td><td>Male  </td><td>Fashion accessories   </td><td>33.52</td><td> 1</td><td> 1.6760</td><td>2/8/2019 </td><td>15:31</td><td>Cash       </td><td> 33.52</td><td>4.761905</td><td> 1.6760</td><td>6.7</td><td> 35.1960</td></tr>\n",
              "\t<tr><td>189-17-4241</td><td>A</td><td>Normal</td><td>Female</td><td>Fashion accessories   </td><td>87.67</td><td> 2</td><td> 8.7670</td><td>3/10/2019</td><td>12:17</td><td>Credit card</td><td>175.34</td><td>4.761905</td><td> 8.7670</td><td>7.7</td><td>184.1070</td></tr>\n",
              "\t<tr><td>145-94-9061</td><td>B</td><td>Normal</td><td>Female</td><td>Food and beverages    </td><td>88.36</td><td> 5</td><td>22.0900</td><td>1/25/2019</td><td>19:48</td><td>Cash       </td><td>441.80</td><td>4.761905</td><td>22.0900</td><td>9.6</td><td>463.8900</td></tr>\n",
              "\t<tr><td>848-62-7243</td><td>A</td><td>Normal</td><td>Male  </td><td>Health and beauty     </td><td>24.89</td><td> 9</td><td>11.2005</td><td>3/15/2019</td><td>15:36</td><td>Cash       </td><td>224.01</td><td>4.761905</td><td>11.2005</td><td>7.4</td><td>235.2105</td></tr>\n",
              "\t<tr><td>⋮</td><td>⋮</td><td>⋮</td><td>⋮</td><td>⋮</td><td>⋮</td><td>⋮</td><td>⋮</td><td>⋮</td><td>⋮</td><td>⋮</td><td>⋮</td><td>⋮</td><td>⋮</td><td>⋮</td><td>⋮</td></tr>\n",
              "\t<tr><td>746-04-1077</td><td>B</td><td>Member</td><td>Female</td><td>Food and beverages    </td><td>84.63</td><td>10</td><td>42.3150</td><td>1/1/2019 </td><td>11:36</td><td>Credit card</td><td>846.30</td><td>4.761905</td><td>42.3150</td><td>9.0</td><td> 888.6150</td></tr>\n",
              "\t<tr><td>448-34-8700</td><td>B</td><td>Member</td><td>Male  </td><td>Home and lifestyle    </td><td>36.91</td><td> 7</td><td>12.9185</td><td>2/10/2019</td><td>13:51</td><td>Ewallet    </td><td>258.37</td><td>4.761905</td><td>12.9185</td><td>6.7</td><td> 271.2885</td></tr>\n",
              "\t<tr><td>452-04-8808</td><td>B</td><td>Normal</td><td>Male  </td><td>Electronic accessories</td><td>87.08</td><td> 7</td><td>30.4780</td><td>1/26/2019</td><td>15:17</td><td>Cash       </td><td>609.56</td><td>4.761905</td><td>30.4780</td><td>5.5</td><td> 640.0380</td></tr>\n",
              "\t<tr><td>531-56-4728</td><td>A</td><td>Normal</td><td>Male  </td><td>Home and lifestyle    </td><td>80.08</td><td> 3</td><td>12.0120</td><td>2/11/2019</td><td>15:29</td><td>Cash       </td><td>240.24</td><td>4.761905</td><td>12.0120</td><td>5.4</td><td> 252.2520</td></tr>\n",
              "\t<tr><td>744-82-9138</td><td>C</td><td>Normal</td><td>Male  </td><td>Fashion accessories   </td><td>86.13</td><td> 2</td><td> 8.6130</td><td>2/7/2019 </td><td>17:59</td><td>Cash       </td><td>172.26</td><td>4.761905</td><td> 8.6130</td><td>8.2</td><td> 180.8730</td></tr>\n",
              "\t<tr><td>883-69-1285</td><td>B</td><td>Member</td><td>Male  </td><td>Fashion accessories   </td><td>49.92</td><td> 2</td><td> 4.9920</td><td>3/6/2019 </td><td>11:55</td><td>Credit card</td><td> 99.84</td><td>4.761905</td><td> 4.9920</td><td>7.0</td><td> 104.8320</td></tr>\n",
              "\t<tr><td>221-25-5073</td><td>A</td><td>Normal</td><td>Female</td><td>Food and beverages    </td><td>74.66</td><td> 4</td><td>14.9320</td><td>3/4/2019 </td><td>10:39</td><td>Cash       </td><td>298.64</td><td>4.761905</td><td>14.9320</td><td>8.5</td><td> 313.5720</td></tr>\n",
              "\t<tr><td>518-71-6847</td><td>B</td><td>Member</td><td>Male  </td><td>Food and beverages    </td><td>26.60</td><td> 6</td><td> 7.9800</td><td>2/26/2019</td><td>15:10</td><td>Ewallet    </td><td>159.60</td><td>4.761905</td><td> 7.9800</td><td>4.9</td><td> 167.5800</td></tr>\n",
              "\t<tr><td>156-20-0370</td><td>B</td><td>Normal</td><td>Female</td><td>Electronic accessories</td><td>25.45</td><td> 1</td><td> 1.2725</td><td>3/10/2019</td><td>18:10</td><td>Credit card</td><td> 25.45</td><td>4.761905</td><td> 1.2725</td><td>5.1</td><td>  26.7225</td></tr>\n",
              "\t<tr><td>151-33-7434</td><td>B</td><td>Normal</td><td>Female</td><td>Food and beverages    </td><td>67.77</td><td> 1</td><td> 3.3885</td><td>2/4/2019 </td><td>20:43</td><td>Credit card</td><td> 67.77</td><td>4.761905</td><td> 3.3885</td><td>6.5</td><td>  71.1585</td></tr>\n",
              "\t<tr><td>728-47-9078</td><td>C</td><td>Member</td><td>Male  </td><td>Food and beverages    </td><td>59.59</td><td> 4</td><td>11.9180</td><td>1/19/2019</td><td>12:46</td><td>Cash       </td><td>238.36</td><td>4.761905</td><td>11.9180</td><td>9.8</td><td> 250.2780</td></tr>\n",
              "\t<tr><td>809-46-1866</td><td>A</td><td>Normal</td><td>Male  </td><td>Health and beauty     </td><td>58.15</td><td> 4</td><td>11.6300</td><td>1/23/2019</td><td>17:44</td><td>Cash       </td><td>232.60</td><td>4.761905</td><td>11.6300</td><td>8.4</td><td> 244.2300</td></tr>\n",
              "\t<tr><td>139-32-4183</td><td>A</td><td>Member</td><td>Female</td><td>Sports and travel     </td><td>97.48</td><td> 9</td><td>43.8660</td><td>3/14/2019</td><td>14:19</td><td>Ewallet    </td><td>877.32</td><td>4.761905</td><td>43.8660</td><td>7.4</td><td> 921.1860</td></tr>\n",
              "\t<tr><td>148-41-7930</td><td>C</td><td>Normal</td><td>Male  </td><td>Health and beauty     </td><td>99.96</td><td> 7</td><td>34.9860</td><td>1/23/2019</td><td>10:33</td><td>Cash       </td><td>699.72</td><td>4.761905</td><td>34.9860</td><td>6.1</td><td> 734.7060</td></tr>\n",
              "\t<tr><td>189-40-5216</td><td>C</td><td>Normal</td><td>Male  </td><td>Electronic accessories</td><td>96.37</td><td> 7</td><td>33.7295</td><td>1/9/2019 </td><td>11:40</td><td>Cash       </td><td>674.59</td><td>4.761905</td><td>33.7295</td><td>6.0</td><td> 708.3195</td></tr>\n",
              "\t<tr><td>374-38-5555</td><td>B</td><td>Normal</td><td>Female</td><td>Fashion accessories   </td><td>63.71</td><td> 5</td><td>15.9275</td><td>2/7/2019 </td><td>19:30</td><td>Ewallet    </td><td>318.55</td><td>4.761905</td><td>15.9275</td><td>8.5</td><td> 334.4775</td></tr>\n",
              "\t<tr><td>764-44-8999</td><td>B</td><td>Normal</td><td>Female</td><td>Health and beauty     </td><td>14.76</td><td> 2</td><td> 1.4760</td><td>2/18/2019</td><td>14:42</td><td>Ewallet    </td><td> 29.52</td><td>4.761905</td><td> 1.4760</td><td>4.3</td><td>  30.9960</td></tr>\n",
              "\t<tr><td>552-44-5977</td><td>B</td><td>Member</td><td>Male  </td><td>Health and beauty     </td><td>62.00</td><td> 8</td><td>24.8000</td><td>1/3/2019 </td><td>19:08</td><td>Credit card</td><td>496.00</td><td>4.761905</td><td>24.8000</td><td>6.2</td><td> 520.8000</td></tr>\n",
              "\t<tr><td>267-62-7380</td><td>C</td><td>Member</td><td>Male  </td><td>Electronic accessories</td><td>82.34</td><td>10</td><td>41.1700</td><td>3/29/2019</td><td>19:12</td><td>Ewallet    </td><td>823.40</td><td>4.761905</td><td>41.1700</td><td>4.3</td><td> 864.5700</td></tr>\n",
              "\t<tr><td>430-53-4718</td><td>B</td><td>Member</td><td>Male  </td><td>Health and beauty     </td><td>75.37</td><td> 8</td><td>30.1480</td><td>1/28/2019</td><td>15:46</td><td>Credit card</td><td>602.96</td><td>4.761905</td><td>30.1480</td><td>8.4</td><td> 633.1080</td></tr>\n",
              "\t<tr><td>886-18-2897</td><td>A</td><td>Normal</td><td>Female</td><td>Food and beverages    </td><td>56.56</td><td> 5</td><td>14.1400</td><td>3/22/2019</td><td>19:06</td><td>Credit card</td><td>282.80</td><td>4.761905</td><td>14.1400</td><td>4.5</td><td> 296.9400</td></tr>\n",
              "\t<tr><td>602-16-6955</td><td>B</td><td>Normal</td><td>Female</td><td>Sports and travel     </td><td>76.60</td><td>10</td><td>38.3000</td><td>1/24/2019</td><td>18:10</td><td>Ewallet    </td><td>766.00</td><td>4.761905</td><td>38.3000</td><td>6.0</td><td> 804.3000</td></tr>\n",
              "\t<tr><td>745-74-0715</td><td>A</td><td>Normal</td><td>Male  </td><td>Electronic accessories</td><td>58.03</td><td> 2</td><td> 5.8030</td><td>3/10/2019</td><td>20:46</td><td>Ewallet    </td><td>116.06</td><td>4.761905</td><td> 5.8030</td><td>8.8</td><td> 121.8630</td></tr>\n",
              "\t<tr><td>690-01-6631</td><td>B</td><td>Normal</td><td>Male  </td><td>Fashion accessories   </td><td>17.49</td><td>10</td><td> 8.7450</td><td>2/22/2019</td><td>18:35</td><td>Ewallet    </td><td>174.90</td><td>4.761905</td><td> 8.7450</td><td>6.6</td><td> 183.6450</td></tr>\n",
              "\t<tr><td>652-49-6720</td><td>C</td><td>Member</td><td>Female</td><td>Electronic accessories</td><td>60.95</td><td> 1</td><td> 3.0475</td><td>2/18/2019</td><td>11:40</td><td>Ewallet    </td><td> 60.95</td><td>4.761905</td><td> 3.0475</td><td>5.9</td><td>  63.9975</td></tr>\n",
              "\t<tr><td>233-67-5758</td><td>C</td><td>Normal</td><td>Male  </td><td>Health and beauty     </td><td>40.35</td><td> 1</td><td> 2.0175</td><td>1/29/2019</td><td>13:46</td><td>Ewallet    </td><td> 40.35</td><td>4.761905</td><td> 2.0175</td><td>6.2</td><td>  42.3675</td></tr>\n",
              "\t<tr><td>303-96-2227</td><td>B</td><td>Normal</td><td>Female</td><td>Home and lifestyle    </td><td>97.38</td><td>10</td><td>48.6900</td><td>3/2/2019 </td><td>17:16</td><td>Ewallet    </td><td>973.80</td><td>4.761905</td><td>48.6900</td><td>4.4</td><td>1022.4900</td></tr>\n",
              "\t<tr><td>727-02-1313</td><td>A</td><td>Member</td><td>Male  </td><td>Food and beverages    </td><td>31.84</td><td> 1</td><td> 1.5920</td><td>2/9/2019 </td><td>13:22</td><td>Cash       </td><td> 31.84</td><td>4.761905</td><td> 1.5920</td><td>7.7</td><td>  33.4320</td></tr>\n",
              "\t<tr><td>347-56-2442</td><td>A</td><td>Normal</td><td>Male  </td><td>Home and lifestyle    </td><td>65.82</td><td> 1</td><td> 3.2910</td><td>2/22/2019</td><td>15:33</td><td>Cash       </td><td> 65.82</td><td>4.761905</td><td> 3.2910</td><td>4.1</td><td>  69.1110</td></tr>\n",
              "\t<tr><td>849-09-3807</td><td>A</td><td>Member</td><td>Female</td><td>Fashion accessories   </td><td>88.34</td><td> 7</td><td>30.9190</td><td>2/18/2019</td><td>13:28</td><td>Cash       </td><td>618.38</td><td>4.761905</td><td>30.9190</td><td>6.6</td><td> 649.2990</td></tr>\n",
              "</tbody>\n",
              "</table>\n"
            ]
          },
          "metadata": {}
        }
      ]
    },
    {
      "cell_type": "code",
      "metadata": {
        "colab": {
          "base_uri": "https://localhost:8080/",
          "height": 264
        },
        "id": "6iY4mh39yvzO",
        "outputId": "342ccedb-717c-4244-8882-7f32ccf2880c"
      },
      "source": [
        "head(df,3)"
      ],
      "execution_count": 232,
      "outputs": [
        {
          "output_type": "display_data",
          "data": {
            "text/plain": [
              "  Invoice.ID  Branch Customer.type Gender Product.line           Unit.price\n",
              "1 750-67-8428 A      Member        Female Health and beauty      74.69     \n",
              "2 226-31-3081 C      Normal        Female Electronic accessories 15.28     \n",
              "3 631-41-3108 A      Normal        Male   Home and lifestyle     46.33     \n",
              "  Quantity Tax     Date     Time  Payment     cogs   gross.margin.percentage\n",
              "1 7        26.1415 1/5/2019 13:08 Ewallet     522.83 4.761905               \n",
              "2 5         3.8200 3/8/2019 10:29 Cash         76.40 4.761905               \n",
              "3 7        16.2155 3/3/2019 13:23 Credit card 324.31 4.761905               \n",
              "  gross.income Rating Total   \n",
              "1 26.1415      9.1    548.9715\n",
              "2  3.8200      9.6     80.2200\n",
              "3 16.2155      7.4    340.5255"
            ],
            "text/latex": "A data.frame: 3 × 16\n\\begin{tabular}{r|llllllllllllllll}\n  & Invoice.ID & Branch & Customer.type & Gender & Product.line & Unit.price & Quantity & Tax & Date & Time & Payment & cogs & gross.margin.percentage & gross.income & Rating & Total\\\\\n  & <chr> & <chr> & <chr> & <chr> & <chr> & <dbl> & <int> & <dbl> & <chr> & <chr> & <chr> & <dbl> & <dbl> & <dbl> & <dbl> & <dbl>\\\\\n\\hline\n\t1 & 750-67-8428 & A & Member & Female & Health and beauty      & 74.69 & 7 & 26.1415 & 1/5/2019 & 13:08 & Ewallet     & 522.83 & 4.761905 & 26.1415 & 9.1 & 548.9715\\\\\n\t2 & 226-31-3081 & C & Normal & Female & Electronic accessories & 15.28 & 5 &  3.8200 & 3/8/2019 & 10:29 & Cash        &  76.40 & 4.761905 &  3.8200 & 9.6 &  80.2200\\\\\n\t3 & 631-41-3108 & A & Normal & Male   & Home and lifestyle     & 46.33 & 7 & 16.2155 & 3/3/2019 & 13:23 & Credit card & 324.31 & 4.761905 & 16.2155 & 7.4 & 340.5255\\\\\n\\end{tabular}\n",
            "text/markdown": "\nA data.frame: 3 × 16\n\n| <!--/--> | Invoice.ID &lt;chr&gt; | Branch &lt;chr&gt; | Customer.type &lt;chr&gt; | Gender &lt;chr&gt; | Product.line &lt;chr&gt; | Unit.price &lt;dbl&gt; | Quantity &lt;int&gt; | Tax &lt;dbl&gt; | Date &lt;chr&gt; | Time &lt;chr&gt; | Payment &lt;chr&gt; | cogs &lt;dbl&gt; | gross.margin.percentage &lt;dbl&gt; | gross.income &lt;dbl&gt; | Rating &lt;dbl&gt; | Total &lt;dbl&gt; |\n|---|---|---|---|---|---|---|---|---|---|---|---|---|---|---|---|---|\n| 1 | 750-67-8428 | A | Member | Female | Health and beauty      | 74.69 | 7 | 26.1415 | 1/5/2019 | 13:08 | Ewallet     | 522.83 | 4.761905 | 26.1415 | 9.1 | 548.9715 |\n| 2 | 226-31-3081 | C | Normal | Female | Electronic accessories | 15.28 | 5 |  3.8200 | 3/8/2019 | 10:29 | Cash        |  76.40 | 4.761905 |  3.8200 | 9.6 |  80.2200 |\n| 3 | 631-41-3108 | A | Normal | Male   | Home and lifestyle     | 46.33 | 7 | 16.2155 | 3/3/2019 | 13:23 | Credit card | 324.31 | 4.761905 | 16.2155 | 7.4 | 340.5255 |\n\n",
            "text/html": [
              "<table class=\"dataframe\">\n",
              "<caption>A data.frame: 3 × 16</caption>\n",
              "<thead>\n",
              "\t<tr><th></th><th scope=col>Invoice.ID</th><th scope=col>Branch</th><th scope=col>Customer.type</th><th scope=col>Gender</th><th scope=col>Product.line</th><th scope=col>Unit.price</th><th scope=col>Quantity</th><th scope=col>Tax</th><th scope=col>Date</th><th scope=col>Time</th><th scope=col>Payment</th><th scope=col>cogs</th><th scope=col>gross.margin.percentage</th><th scope=col>gross.income</th><th scope=col>Rating</th><th scope=col>Total</th></tr>\n",
              "\t<tr><th></th><th scope=col>&lt;chr&gt;</th><th scope=col>&lt;chr&gt;</th><th scope=col>&lt;chr&gt;</th><th scope=col>&lt;chr&gt;</th><th scope=col>&lt;chr&gt;</th><th scope=col>&lt;dbl&gt;</th><th scope=col>&lt;int&gt;</th><th scope=col>&lt;dbl&gt;</th><th scope=col>&lt;chr&gt;</th><th scope=col>&lt;chr&gt;</th><th scope=col>&lt;chr&gt;</th><th scope=col>&lt;dbl&gt;</th><th scope=col>&lt;dbl&gt;</th><th scope=col>&lt;dbl&gt;</th><th scope=col>&lt;dbl&gt;</th><th scope=col>&lt;dbl&gt;</th></tr>\n",
              "</thead>\n",
              "<tbody>\n",
              "\t<tr><th scope=row>1</th><td>750-67-8428</td><td>A</td><td>Member</td><td>Female</td><td>Health and beauty     </td><td>74.69</td><td>7</td><td>26.1415</td><td>1/5/2019</td><td>13:08</td><td>Ewallet    </td><td>522.83</td><td>4.761905</td><td>26.1415</td><td>9.1</td><td>548.9715</td></tr>\n",
              "\t<tr><th scope=row>2</th><td>226-31-3081</td><td>C</td><td>Normal</td><td>Female</td><td>Electronic accessories</td><td>15.28</td><td>5</td><td> 3.8200</td><td>3/8/2019</td><td>10:29</td><td>Cash       </td><td> 76.40</td><td>4.761905</td><td> 3.8200</td><td>9.6</td><td> 80.2200</td></tr>\n",
              "\t<tr><th scope=row>3</th><td>631-41-3108</td><td>A</td><td>Normal</td><td>Male  </td><td>Home and lifestyle    </td><td>46.33</td><td>7</td><td>16.2155</td><td>3/3/2019</td><td>13:23</td><td>Credit card</td><td>324.31</td><td>4.761905</td><td>16.2155</td><td>7.4</td><td>340.5255</td></tr>\n",
              "</tbody>\n",
              "</table>\n"
            ]
          },
          "metadata": {}
        }
      ]
    },
    {
      "cell_type": "code",
      "metadata": {
        "colab": {
          "base_uri": "https://localhost:8080/",
          "height": 264
        },
        "id": "aCltFjuGy4d3",
        "outputId": "7dff93b0-2353-4410-87a5-3fa76594d614"
      },
      "source": [
        "tail(df, 3)"
      ],
      "execution_count": 233,
      "outputs": [
        {
          "output_type": "display_data",
          "data": {
            "text/plain": [
              "     Invoice.ID  Branch Customer.type Gender Product.line        Unit.price\n",
              "998  727-02-1313 A      Member        Male   Food and beverages  31.84     \n",
              "999  347-56-2442 A      Normal        Male   Home and lifestyle  65.82     \n",
              "1000 849-09-3807 A      Member        Female Fashion accessories 88.34     \n",
              "     Quantity Tax    Date      Time  Payment cogs   gross.margin.percentage\n",
              "998  1         1.592 2/9/2019  13:22 Cash     31.84 4.761905               \n",
              "999  1         3.291 2/22/2019 15:33 Cash     65.82 4.761905               \n",
              "1000 7        30.919 2/18/2019 13:28 Cash    618.38 4.761905               \n",
              "     gross.income Rating Total  \n",
              "998   1.592       7.7     33.432\n",
              "999   3.291       4.1     69.111\n",
              "1000 30.919       6.6    649.299"
            ],
            "text/latex": "A data.frame: 3 × 16\n\\begin{tabular}{r|llllllllllllllll}\n  & Invoice.ID & Branch & Customer.type & Gender & Product.line & Unit.price & Quantity & Tax & Date & Time & Payment & cogs & gross.margin.percentage & gross.income & Rating & Total\\\\\n  & <chr> & <chr> & <chr> & <chr> & <chr> & <dbl> & <int> & <dbl> & <chr> & <chr> & <chr> & <dbl> & <dbl> & <dbl> & <dbl> & <dbl>\\\\\n\\hline\n\t998 & 727-02-1313 & A & Member & Male   & Food and beverages  & 31.84 & 1 &  1.592 & 2/9/2019  & 13:22 & Cash &  31.84 & 4.761905 &  1.592 & 7.7 &  33.432\\\\\n\t999 & 347-56-2442 & A & Normal & Male   & Home and lifestyle  & 65.82 & 1 &  3.291 & 2/22/2019 & 15:33 & Cash &  65.82 & 4.761905 &  3.291 & 4.1 &  69.111\\\\\n\t1000 & 849-09-3807 & A & Member & Female & Fashion accessories & 88.34 & 7 & 30.919 & 2/18/2019 & 13:28 & Cash & 618.38 & 4.761905 & 30.919 & 6.6 & 649.299\\\\\n\\end{tabular}\n",
            "text/markdown": "\nA data.frame: 3 × 16\n\n| <!--/--> | Invoice.ID &lt;chr&gt; | Branch &lt;chr&gt; | Customer.type &lt;chr&gt; | Gender &lt;chr&gt; | Product.line &lt;chr&gt; | Unit.price &lt;dbl&gt; | Quantity &lt;int&gt; | Tax &lt;dbl&gt; | Date &lt;chr&gt; | Time &lt;chr&gt; | Payment &lt;chr&gt; | cogs &lt;dbl&gt; | gross.margin.percentage &lt;dbl&gt; | gross.income &lt;dbl&gt; | Rating &lt;dbl&gt; | Total &lt;dbl&gt; |\n|---|---|---|---|---|---|---|---|---|---|---|---|---|---|---|---|---|\n| 998 | 727-02-1313 | A | Member | Male   | Food and beverages  | 31.84 | 1 |  1.592 | 2/9/2019  | 13:22 | Cash |  31.84 | 4.761905 |  1.592 | 7.7 |  33.432 |\n| 999 | 347-56-2442 | A | Normal | Male   | Home and lifestyle  | 65.82 | 1 |  3.291 | 2/22/2019 | 15:33 | Cash |  65.82 | 4.761905 |  3.291 | 4.1 |  69.111 |\n| 1000 | 849-09-3807 | A | Member | Female | Fashion accessories | 88.34 | 7 | 30.919 | 2/18/2019 | 13:28 | Cash | 618.38 | 4.761905 | 30.919 | 6.6 | 649.299 |\n\n",
            "text/html": [
              "<table class=\"dataframe\">\n",
              "<caption>A data.frame: 3 × 16</caption>\n",
              "<thead>\n",
              "\t<tr><th></th><th scope=col>Invoice.ID</th><th scope=col>Branch</th><th scope=col>Customer.type</th><th scope=col>Gender</th><th scope=col>Product.line</th><th scope=col>Unit.price</th><th scope=col>Quantity</th><th scope=col>Tax</th><th scope=col>Date</th><th scope=col>Time</th><th scope=col>Payment</th><th scope=col>cogs</th><th scope=col>gross.margin.percentage</th><th scope=col>gross.income</th><th scope=col>Rating</th><th scope=col>Total</th></tr>\n",
              "\t<tr><th></th><th scope=col>&lt;chr&gt;</th><th scope=col>&lt;chr&gt;</th><th scope=col>&lt;chr&gt;</th><th scope=col>&lt;chr&gt;</th><th scope=col>&lt;chr&gt;</th><th scope=col>&lt;dbl&gt;</th><th scope=col>&lt;int&gt;</th><th scope=col>&lt;dbl&gt;</th><th scope=col>&lt;chr&gt;</th><th scope=col>&lt;chr&gt;</th><th scope=col>&lt;chr&gt;</th><th scope=col>&lt;dbl&gt;</th><th scope=col>&lt;dbl&gt;</th><th scope=col>&lt;dbl&gt;</th><th scope=col>&lt;dbl&gt;</th><th scope=col>&lt;dbl&gt;</th></tr>\n",
              "</thead>\n",
              "<tbody>\n",
              "\t<tr><th scope=row>998</th><td>727-02-1313</td><td>A</td><td>Member</td><td>Male  </td><td>Food and beverages </td><td>31.84</td><td>1</td><td> 1.592</td><td>2/9/2019 </td><td>13:22</td><td>Cash</td><td> 31.84</td><td>4.761905</td><td> 1.592</td><td>7.7</td><td> 33.432</td></tr>\n",
              "\t<tr><th scope=row>999</th><td>347-56-2442</td><td>A</td><td>Normal</td><td>Male  </td><td>Home and lifestyle </td><td>65.82</td><td>1</td><td> 3.291</td><td>2/22/2019</td><td>15:33</td><td>Cash</td><td> 65.82</td><td>4.761905</td><td> 3.291</td><td>4.1</td><td> 69.111</td></tr>\n",
              "\t<tr><th scope=row>1000</th><td>849-09-3807</td><td>A</td><td>Member</td><td>Female</td><td>Fashion accessories</td><td>88.34</td><td>7</td><td>30.919</td><td>2/18/2019</td><td>13:28</td><td>Cash</td><td>618.38</td><td>4.761905</td><td>30.919</td><td>6.6</td><td>649.299</td></tr>\n",
              "</tbody>\n",
              "</table>\n"
            ]
          },
          "metadata": {}
        }
      ]
    },
    {
      "cell_type": "code",
      "metadata": {
        "colab": {
          "base_uri": "https://localhost:8080/",
          "height": 34
        },
        "id": "lrjitTwVy52V",
        "outputId": "abb8806d-5961-44e7-e646-35cbc255a182"
      },
      "source": [
        "dim(df)"
      ],
      "execution_count": 234,
      "outputs": [
        {
          "output_type": "display_data",
          "data": {
            "text/plain": [
              "[1] 1000   16"
            ],
            "text/latex": "\\begin{enumerate*}\n\\item 1000\n\\item 16\n\\end{enumerate*}\n",
            "text/markdown": "1. 1000\n2. 16\n\n\n",
            "text/html": [
              "<style>\n",
              ".list-inline {list-style: none; margin:0; padding: 0}\n",
              ".list-inline>li {display: inline-block}\n",
              ".list-inline>li:not(:last-child)::after {content: \"\\00b7\"; padding: 0 .5ex}\n",
              "</style>\n",
              "<ol class=list-inline><li>1000</li><li>16</li></ol>\n"
            ]
          },
          "metadata": {}
        }
      ]
    },
    {
      "cell_type": "code",
      "metadata": {
        "colab": {
          "base_uri": "https://localhost:8080/",
          "height": 34
        },
        "id": "ZL-3A-lyzGwV",
        "outputId": "6e5b4644-34d1-4bbf-88c7-89e5bd4f106f"
      },
      "source": [
        "nrow(df)"
      ],
      "execution_count": 235,
      "outputs": [
        {
          "output_type": "display_data",
          "data": {
            "text/plain": [
              "[1] 1000"
            ],
            "text/latex": "1000",
            "text/markdown": "1000",
            "text/html": [
              "1000"
            ]
          },
          "metadata": {}
        }
      ]
    },
    {
      "cell_type": "code",
      "metadata": {
        "colab": {
          "base_uri": "https://localhost:8080/",
          "height": 34
        },
        "id": "FST-6PVGzJ6V",
        "outputId": "68bac4d9-e1e2-444e-e6ef-2d84ee469652"
      },
      "source": [
        "ncol(df)"
      ],
      "execution_count": 236,
      "outputs": [
        {
          "output_type": "display_data",
          "data": {
            "text/plain": [
              "[1] 16"
            ],
            "text/latex": "16",
            "text/markdown": "16",
            "text/html": [
              "16"
            ]
          },
          "metadata": {}
        }
      ]
    },
    {
      "cell_type": "markdown",
      "metadata": {
        "id": "bHAPyIeVzCIq"
      },
      "source": [
        "The dataset has 1000 rows and 16 columns. lets check the individual columns"
      ]
    },
    {
      "cell_type": "code",
      "metadata": {
        "colab": {
          "base_uri": "https://localhost:8080/",
          "height": 52
        },
        "id": "xvIrY6TMz0vr",
        "outputId": "95e1b9e9-966b-4f1d-afcf-3b4042db8fea"
      },
      "source": [
        "names(df)"
      ],
      "execution_count": 237,
      "outputs": [
        {
          "output_type": "display_data",
          "data": {
            "text/plain": [
              " [1] \"Invoice.ID\"              \"Branch\"                 \n",
              " [3] \"Customer.type\"           \"Gender\"                 \n",
              " [5] \"Product.line\"            \"Unit.price\"             \n",
              " [7] \"Quantity\"                \"Tax\"                    \n",
              " [9] \"Date\"                    \"Time\"                   \n",
              "[11] \"Payment\"                 \"cogs\"                   \n",
              "[13] \"gross.margin.percentage\" \"gross.income\"           \n",
              "[15] \"Rating\"                  \"Total\"                  "
            ],
            "text/latex": "\\begin{enumerate*}\n\\item 'Invoice.ID'\n\\item 'Branch'\n\\item 'Customer.type'\n\\item 'Gender'\n\\item 'Product.line'\n\\item 'Unit.price'\n\\item 'Quantity'\n\\item 'Tax'\n\\item 'Date'\n\\item 'Time'\n\\item 'Payment'\n\\item 'cogs'\n\\item 'gross.margin.percentage'\n\\item 'gross.income'\n\\item 'Rating'\n\\item 'Total'\n\\end{enumerate*}\n",
            "text/markdown": "1. 'Invoice.ID'\n2. 'Branch'\n3. 'Customer.type'\n4. 'Gender'\n5. 'Product.line'\n6. 'Unit.price'\n7. 'Quantity'\n8. 'Tax'\n9. 'Date'\n10. 'Time'\n11. 'Payment'\n12. 'cogs'\n13. 'gross.margin.percentage'\n14. 'gross.income'\n15. 'Rating'\n16. 'Total'\n\n\n",
            "text/html": [
              "<style>\n",
              ".list-inline {list-style: none; margin:0; padding: 0}\n",
              ".list-inline>li {display: inline-block}\n",
              ".list-inline>li:not(:last-child)::after {content: \"\\00b7\"; padding: 0 .5ex}\n",
              "</style>\n",
              "<ol class=list-inline><li>'Invoice.ID'</li><li>'Branch'</li><li>'Customer.type'</li><li>'Gender'</li><li>'Product.line'</li><li>'Unit.price'</li><li>'Quantity'</li><li>'Tax'</li><li>'Date'</li><li>'Time'</li><li>'Payment'</li><li>'cogs'</li><li>'gross.margin.percentage'</li><li>'gross.income'</li><li>'Rating'</li><li>'Total'</li></ol>\n"
            ]
          },
          "metadata": {}
        }
      ]
    },
    {
      "cell_type": "markdown",
      "metadata": {
        "id": "Y-wiqfuBz7rN"
      },
      "source": [
        "we shall  need to align the column names to match while cleaning"
      ]
    },
    {
      "cell_type": "code",
      "metadata": {
        "colab": {
          "base_uri": "https://localhost:8080/"
        },
        "id": "GjeS-_evzAaG",
        "outputId": "7ab4b91b-5f05-4438-c519-8b0b3767d7c8"
      },
      "source": [
        "str(df)"
      ],
      "execution_count": 238,
      "outputs": [
        {
          "output_type": "stream",
          "name": "stdout",
          "text": [
            "'data.frame':\t1000 obs. of  16 variables:\n",
            " $ Invoice.ID             : chr  \"750-67-8428\" \"226-31-3081\" \"631-41-3108\" \"123-19-1176\" ...\n",
            " $ Branch                 : chr  \"A\" \"C\" \"A\" \"A\" ...\n",
            " $ Customer.type          : chr  \"Member\" \"Normal\" \"Normal\" \"Member\" ...\n",
            " $ Gender                 : chr  \"Female\" \"Female\" \"Male\" \"Male\" ...\n",
            " $ Product.line           : chr  \"Health and beauty\" \"Electronic accessories\" \"Home and lifestyle\" \"Health and beauty\" ...\n",
            " $ Unit.price             : num  74.7 15.3 46.3 58.2 86.3 ...\n",
            " $ Quantity               : int  7 5 7 8 7 7 6 10 2 3 ...\n",
            " $ Tax                    : num  26.14 3.82 16.22 23.29 30.21 ...\n",
            " $ Date                   : chr  \"1/5/2019\" \"3/8/2019\" \"3/3/2019\" \"1/27/2019\" ...\n",
            " $ Time                   : chr  \"13:08\" \"10:29\" \"13:23\" \"20:33\" ...\n",
            " $ Payment                : chr  \"Ewallet\" \"Cash\" \"Credit card\" \"Ewallet\" ...\n",
            " $ cogs                   : num  522.8 76.4 324.3 465.8 604.2 ...\n",
            " $ gross.margin.percentage: num  4.76 4.76 4.76 4.76 4.76 ...\n",
            " $ gross.income           : num  26.14 3.82 16.22 23.29 30.21 ...\n",
            " $ Rating                 : num  9.1 9.6 7.4 8.4 5.3 4.1 5.8 8 7.2 5.9 ...\n",
            " $ Total                  : num  549 80.2 340.5 489 634.4 ...\n"
          ]
        }
      ]
    },
    {
      "cell_type": "markdown",
      "metadata": {
        "id": "pUjVYhlW0EPe"
      },
      "source": [
        "we have 8 character columns, 7 numerical columns and 1 integer column"
      ]
    },
    {
      "cell_type": "code",
      "metadata": {
        "colab": {
          "base_uri": "https://localhost:8080/",
          "height": 34
        },
        "id": "--4K9OTt1N2q",
        "outputId": "088cc1a2-0596-4ef8-d6d0-07f14e5df815"
      },
      "source": [
        "sum(duplicated(df))"
      ],
      "execution_count": 239,
      "outputs": [
        {
          "output_type": "display_data",
          "data": {
            "text/plain": [
              "[1] 0"
            ],
            "text/latex": "0",
            "text/markdown": "0",
            "text/html": [
              "0"
            ]
          },
          "metadata": {}
        }
      ]
    },
    {
      "cell_type": "markdown",
      "metadata": {
        "id": "9kE1O2bm1YSN"
      },
      "source": [
        "the dataset has no duplicated values"
      ]
    },
    {
      "cell_type": "code",
      "metadata": {
        "colab": {
          "base_uri": "https://localhost:8080/",
          "height": 34
        },
        "id": "zV6YVIFc1NuX",
        "outputId": "88d6054a-cf2a-4942-d7b5-30bf82b22dc5"
      },
      "source": [
        "sum(is.na(df))"
      ],
      "execution_count": 240,
      "outputs": [
        {
          "output_type": "display_data",
          "data": {
            "text/plain": [
              "[1] 0"
            ],
            "text/latex": "0",
            "text/markdown": "0",
            "text/html": [
              "0"
            ]
          },
          "metadata": {}
        }
      ]
    },
    {
      "cell_type": "markdown",
      "metadata": {
        "id": "EJs3jkUR1cYN"
      },
      "source": [
        "the dataset has no missing values"
      ]
    },
    {
      "cell_type": "markdown",
      "metadata": {
        "id": "7r9q1OYs0pOm"
      },
      "source": [
        "## CLEANING THE DATA"
      ]
    },
    {
      "cell_type": "code",
      "metadata": {
        "colab": {
          "base_uri": "https://localhost:8080/",
          "height": 52
        },
        "id": "cQXr7lMGzTVt",
        "outputId": "3054a622-5f0e-4b5e-a949-f1abe999f1bb"
      },
      "source": [
        "names(df)<- tolower(names(df))\n",
        "names(df)"
      ],
      "execution_count": 241,
      "outputs": [
        {
          "output_type": "display_data",
          "data": {
            "text/plain": [
              " [1] \"invoice.id\"              \"branch\"                 \n",
              " [3] \"customer.type\"           \"gender\"                 \n",
              " [5] \"product.line\"            \"unit.price\"             \n",
              " [7] \"quantity\"                \"tax\"                    \n",
              " [9] \"date\"                    \"time\"                   \n",
              "[11] \"payment\"                 \"cogs\"                   \n",
              "[13] \"gross.margin.percentage\" \"gross.income\"           \n",
              "[15] \"rating\"                  \"total\"                  "
            ],
            "text/latex": "\\begin{enumerate*}\n\\item 'invoice.id'\n\\item 'branch'\n\\item 'customer.type'\n\\item 'gender'\n\\item 'product.line'\n\\item 'unit.price'\n\\item 'quantity'\n\\item 'tax'\n\\item 'date'\n\\item 'time'\n\\item 'payment'\n\\item 'cogs'\n\\item 'gross.margin.percentage'\n\\item 'gross.income'\n\\item 'rating'\n\\item 'total'\n\\end{enumerate*}\n",
            "text/markdown": "1. 'invoice.id'\n2. 'branch'\n3. 'customer.type'\n4. 'gender'\n5. 'product.line'\n6. 'unit.price'\n7. 'quantity'\n8. 'tax'\n9. 'date'\n10. 'time'\n11. 'payment'\n12. 'cogs'\n13. 'gross.margin.percentage'\n14. 'gross.income'\n15. 'rating'\n16. 'total'\n\n\n",
            "text/html": [
              "<style>\n",
              ".list-inline {list-style: none; margin:0; padding: 0}\n",
              ".list-inline>li {display: inline-block}\n",
              ".list-inline>li:not(:last-child)::after {content: \"\\00b7\"; padding: 0 .5ex}\n",
              "</style>\n",
              "<ol class=list-inline><li>'invoice.id'</li><li>'branch'</li><li>'customer.type'</li><li>'gender'</li><li>'product.line'</li><li>'unit.price'</li><li>'quantity'</li><li>'tax'</li><li>'date'</li><li>'time'</li><li>'payment'</li><li>'cogs'</li><li>'gross.margin.percentage'</li><li>'gross.income'</li><li>'rating'</li><li>'total'</li></ol>\n"
            ]
          },
          "metadata": {}
        }
      ]
    },
    {
      "cell_type": "markdown",
      "metadata": {
        "id": "084forEvIyYB"
      },
      "source": [
        "let us extract the month and hour from the date and time columns for plotting and analysis purposes"
      ]
    },
    {
      "cell_type": "code",
      "metadata": {
        "id": "RP9HxdnBO5eH"
      },
      "source": [
        "df$date <- as.Date(df$date, \"%m/%d/%Y\")\n",
        "\n",
        "df$year <- year(ymd(df$date))\n",
        "\n",
        "df$month <- month(ymd(df$date))\n",
        " \n",
        "df$day <- day(ymd(df$date))\n",
        "\n",
        "df$hour = format(strptime(df$time,\"%H:%M\"),'%H')\n"
      ],
      "execution_count": 242,
      "outputs": []
    },
    {
      "cell_type": "markdown",
      "metadata": {
        "id": "BEN5vX8hQygR"
      },
      "source": [
        "then drop date and time columns"
      ]
    },
    {
      "cell_type": "code",
      "metadata": {
        "colab": {
          "base_uri": "https://localhost:8080/"
        },
        "id": "ZYajn3jRRV7W",
        "outputId": "7ce2a7d3-afa6-4161-9af8-540445685148"
      },
      "source": [
        "install.packages(\"dplyr\")\n",
        "library(dplyr)"
      ],
      "execution_count": 243,
      "outputs": [
        {
          "output_type": "stream",
          "name": "stderr",
          "text": [
            "Installing package into ‘/usr/local/lib/R/site-library’\n",
            "(as ‘lib’ is unspecified)\n",
            "\n"
          ]
        }
      ]
    },
    {
      "cell_type": "code",
      "metadata": {
        "id": "HntJ-nbqQ0lz"
      },
      "source": [
        "df<- select(df, -date, -time)"
      ],
      "execution_count": 244,
      "outputs": []
    },
    {
      "cell_type": "code",
      "metadata": {
        "colab": {
          "base_uri": "https://localhost:8080/"
        },
        "id": "-aalvuf2QiAG",
        "outputId": "e223073e-c821-4d92-9c41-ef35f709339f"
      },
      "source": [
        "str(df)"
      ],
      "execution_count": 245,
      "outputs": [
        {
          "output_type": "stream",
          "name": "stdout",
          "text": [
            "'data.frame':\t1000 obs. of  18 variables:\n",
            " $ invoice.id             : chr  \"750-67-8428\" \"226-31-3081\" \"631-41-3108\" \"123-19-1176\" ...\n",
            " $ branch                 : chr  \"A\" \"C\" \"A\" \"A\" ...\n",
            " $ customer.type          : chr  \"Member\" \"Normal\" \"Normal\" \"Member\" ...\n",
            " $ gender                 : chr  \"Female\" \"Female\" \"Male\" \"Male\" ...\n",
            " $ product.line           : chr  \"Health and beauty\" \"Electronic accessories\" \"Home and lifestyle\" \"Health and beauty\" ...\n",
            " $ unit.price             : num  74.7 15.3 46.3 58.2 86.3 ...\n",
            " $ quantity               : int  7 5 7 8 7 7 6 10 2 3 ...\n",
            " $ tax                    : num  26.14 3.82 16.22 23.29 30.21 ...\n",
            " $ payment                : chr  \"Ewallet\" \"Cash\" \"Credit card\" \"Ewallet\" ...\n",
            " $ cogs                   : num  522.8 76.4 324.3 465.8 604.2 ...\n",
            " $ gross.margin.percentage: num  4.76 4.76 4.76 4.76 4.76 ...\n",
            " $ gross.income           : num  26.14 3.82 16.22 23.29 30.21 ...\n",
            " $ rating                 : num  9.1 9.6 7.4 8.4 5.3 4.1 5.8 8 7.2 5.9 ...\n",
            " $ total                  : num  549 80.2 340.5 489 634.4 ...\n",
            " $ year                   : num  2019 2019 2019 2019 2019 ...\n",
            " $ month                  : num  1 3 3 1 2 3 2 2 1 2 ...\n",
            " $ day                    : int  5 8 3 27 8 25 25 24 10 20 ...\n",
            " $ hour                   : chr  \"13\" \"10\" \"13\" \"20\" ...\n"
          ]
        }
      ]
    },
    {
      "cell_type": "markdown",
      "metadata": {
        "id": "cT-pJOQPQZpa"
      },
      "source": [
        "lets check for unique values and anomalies in the columns"
      ]
    },
    {
      "cell_type": "code",
      "metadata": {
        "colab": {
          "base_uri": "https://localhost:8080/",
          "height": 1000
        },
        "id": "4NkqO48oPsFs",
        "outputId": "51d5e8f8-c4d0-46df-8dc1-227e9d60c9cc"
      },
      "source": [
        "a<- lapply(df, unique)\n",
        "a"
      ],
      "execution_count": 246,
      "outputs": [
        {
          "output_type": "display_data",
          "data": {
            "text/plain": [
              "$invoice.id\n",
              "   [1] \"750-67-8428\" \"226-31-3081\" \"631-41-3108\" \"123-19-1176\" \"373-73-7910\"\n",
              "   [6] \"699-14-3026\" \"355-53-5943\" \"315-22-5665\" \"665-32-9167\" \"692-92-5582\"\n",
              "  [11] \"351-62-0822\" \"529-56-3974\" \"365-64-0515\" \"252-56-2699\" \"829-34-3910\"\n",
              "  [16] \"299-46-1805\" \"656-95-9349\" \"765-26-6951\" \"329-62-1586\" \"319-50-3348\"\n",
              "  [21] \"300-71-4605\" \"371-85-5789\" \"273-16-6619\" \"636-48-8204\" \"549-59-1358\"\n",
              "  [26] \"227-03-5010\" \"649-29-6775\" \"189-17-4241\" \"145-94-9061\" \"848-62-7243\"\n",
              "  [31] \"871-79-8483\" \"149-71-6266\" \"640-49-2076\" \"595-11-5460\" \"183-56-6882\"\n",
              "  [36] \"232-16-2483\" \"129-29-8530\" \"272-65-1806\" \"333-73-7901\" \"777-82-7220\"\n",
              "  [41] \"280-35-5823\" \"554-53-8700\" \"354-25-5821\" \"228-96-1411\" \"617-15-4209\"\n",
              "  [46] \"132-32-9879\" \"370-41-7321\" \"727-46-3608\" \"669-54-1719\" \"574-22-5561\"\n",
              "  [51] \"326-78-5178\" \"162-48-8011\" \"616-24-2851\" \"778-71-5554\" \"242-55-6721\"\n",
              "  [56] \"399-46-5918\" \"106-35-6779\" \"635-40-6220\" \"817-48-8732\" \"120-06-4233\"\n",
              "  [61] \"285-68-5083\" \"803-83-5989\" \"347-34-2234\" \"199-75-8169\" \"853-23-2453\"\n",
              "  [66] \"877-22-3308\" \"838-78-4295\" \"109-28-2512\" \"232-11-3025\" \"382-03-4532\"\n",
              "  [71] \"393-65-2792\" \"796-12-2025\" \"510-95-6347\" \"841-35-6630\" \"287-21-9091\"\n",
              "  [76] \"732-94-0499\" \"263-10-3913\" \"381-20-0914\" \"829-49-1914\" \"756-01-7507\"\n",
              "  [81] \"870-72-4431\" \"847-38-7188\" \"480-63-2856\" \"787-56-0757\" \"360-39-5055\"\n",
              "  [86] \"730-50-9884\" \"362-58-8315\" \"633-44-8566\" \"504-35-8843\" \"318-68-5053\"\n",
              "  [91] \"565-80-5980\" \"225-32-0908\" \"873-51-0671\" \"152-08-9985\" \"512-91-0811\"\n",
              "  [96] \"594-34-4444\" \"766-85-7061\" \"871-39-9221\" \"865-92-6136\" \"733-01-9107\"\n",
              " [101] \"163-56-7055\" \"189-98-2939\" \"551-21-3069\" \"212-62-1842\" \"716-39-1409\"\n",
              " [106] \"704-48-3927\" \"628-34-3388\" \"630-74-5166\" \"588-01-7461\" \"861-77-0145\"\n",
              " [111] \"479-26-8945\" \"210-67-5886\" \"227-78-1148\" \"645-44-1170\" \"237-01-6122\"\n",
              " [116] \"225-98-1496\" \"291-32-1427\" \"659-65-8956\" \"642-32-2990\" \"378-24-2715\"\n",
              " [121] \"638-60-7125\" \"659-36-1684\" \"219-22-9386\" \"336-78-2147\" \"268-27-6179\"\n",
              " [126] \"668-90-8900\" \"870-54-3162\" \"189-08-9157\" \"663-86-9076\" \"549-84-7482\"\n",
              " [131] \"191-10-6171\" \"802-70-5316\" \"695-51-0018\" \"590-83-4591\" \"483-71-1164\"\n",
              " [136] \"597-78-7908\" \"700-81-1757\" \"354-39-5160\" \"241-72-9525\" \"575-30-8091\"\n",
              " [141] \"731-81-9469\" \"280-17-4359\" \"338-65-2210\" \"488-25-4221\" \"239-10-7476\"\n",
              " [146] \"458-41-1477\" \"685-64-1609\" \"568-90-5112\" \"262-47-2794\" \"238-49-0436\"\n",
              " [151] \"608-96-3517\" \"584-86-7256\" \"746-94-0204\" \"214-17-6927\" \"400-89-4171\"\n",
              " [156] \"782-95-9291\" \"279-74-2924\" \"307-85-2293\" \"743-04-1105\" \"423-57-2993\"\n",
              " [161] \"894-41-5205\" \"275-28-0149\" \"101-17-6199\" \"423-80-0988\" \"548-46-9322\"\n",
              " [166] \"505-02-0892\" \"234-65-2137\" \"687-47-8271\" \"796-32-9050\" \"105-31-1824\"\n",
              " [171] \"249-42-3782\" \"316-55-4634\" \"733-33-4967\" \"608-27-6295\" \"414-12-7047\"\n",
              " [176] \"827-26-2100\" \"175-54-2529\" \"139-52-2867\" \"407-63-8975\" \"342-65-4817\"\n",
              " [181] \"130-98-8941\" \"434-83-9547\" \"851-28-6367\" \"824-88-3614\" \"586-25-0848\"\n",
              " [186] \"895-66-0685\" \"305-14-0245\" \"732-04-5373\" \"400-60-7251\" \"593-65-1552\"\n",
              " [191] \"284-34-9626\" \"437-58-8131\" \"286-43-6208\" \"641-43-2399\" \"831-07-6050\"\n",
              " [196] \"556-86-3144\" \"848-24-9445\" \"856-22-8149\" \"699-01-4164\" \"420-11-4919\"\n",
              " [201] \"606-80-4905\" \"542-41-0513\" \"426-39-2418\" \"875-46-5808\" \"394-43-4238\"\n",
              " [206] \"749-24-1565\" \"672-51-8681\" \"263-87-5680\" \"573-58-9734\" \"817-69-8206\"\n",
              " [211] \"888-02-0338\" \"677-11-0152\" \"142-63-6033\" \"656-16-1063\" \"891-58-8335\"\n",
              " [216] \"802-43-8934\" \"560-30-5617\" \"319-74-2561\" \"549-03-9315\" \"790-29-1172\"\n",
              " [221] \"239-36-3640\" \"468-01-2051\" \"389-25-3394\" \"279-62-1445\" \"213-72-6612\"\n",
              " [226] \"746-68-6593\" \"836-82-5858\" \"583-72-1480\" \"466-61-5506\" \"721-86-6247\"\n",
              " [231] \"289-65-5721\" \"545-46-3100\" \"418-02-5978\" \"269-04-5750\" \"157-13-5295\"\n",
              " [236] \"645-78-8093\" \"211-30-9270\" \"755-12-3214\" \"346-84-3103\" \"478-06-7835\"\n",
              " [241] \"540-11-4336\" \"448-81-5016\" \"142-72-4741\" \"217-58-1179\" \"376-02-8238\"\n",
              " [246] \"530-90-9855\" \"866-05-7563\" \"604-70-6476\" \"799-71-1548\" \"785-13-7708\"\n",
              " [251] \"845-51-0542\" \"662-47-5456\" \"883-17-4236\" \"290-68-2984\" \"704-11-6354\"\n",
              " [256] \"110-48-7033\" \"366-93-0948\" \"729-09-9681\" \"151-16-1484\" \"380-94-4661\"\n",
              " [261] \"850-41-9669\" \"821-07-3596\" \"655-85-5130\" \"447-15-7839\" \"154-74-7179\"\n",
              " [266] \"253-12-6086\" \"808-65-0703\" \"571-94-0759\" \"144-51-6085\" \"731-14-2199\"\n",
              " [271] \"783-09-1637\" \"687-15-1097\" \"126-54-1082\" \"633-91-1052\" \"477-24-6490\"\n",
              " [276] \"566-19-5475\" \"526-86-8552\" \"376-56-3573\" \"537-72-0426\" \"828-61-5674\"\n",
              " [281] \"136-08-6195\" \"523-38-0215\" \"490-29-1201\" \"667-92-0055\" \"565-17-3836\"\n",
              " [286] \"498-41-1961\" \"593-95-4461\" \"226-71-3580\" \"283-79-9594\" \"430-60-3493\"\n",
              " [291] \"139-20-0155\" \"558-80-4082\" \"278-97-7759\" \"316-68-6352\" \"585-03-5943\"\n",
              " [296] \"211-05-0490\" \"727-75-6477\" \"744-02-5987\" \"307-83-9164\" \"779-06-0012\"\n",
              " [301] \"446-47-6729\" \"573-10-3877\" \"735-06-4124\" \"439-54-7422\" \"396-90-2219\"\n",
              " [306] \"411-77-0180\" \"286-01-5402\" \"803-17-8013\" \"512-98-1403\" \"848-42-2560\"\n",
              " [311] \"532-59-7201\" \"181-94-6432\" \"870-76-1733\" \"423-64-4619\" \"227-07-4446\"\n",
              " [316] \"174-36-3675\" \"428-83-5800\" \"603-07-0961\" \"704-20-4138\" \"787-15-1757\"\n",
              " [321] \"649-11-3678\" \"622-20-1945\" \"372-94-8041\" \"563-91-7120\" \"746-54-5508\"\n",
              " [326] \"276-54-0879\" \"815-11-1168\" \"719-76-3868\" \"730-61-8757\" \"340-66-0321\"\n",
              " [331] \"868-81-1752\" \"634-97-8956\" \"566-71-1091\" \"442-48-3607\" \"835-16-0096\"\n",
              " [336] \"527-09-6272\" \"898-04-2717\" \"692-27-8933\" \"633-09-3463\" \"374-17-3652\"\n",
              " [341] \"378-07-7001\" \"433-75-6987\" \"873-95-4984\" \"416-13-5917\" \"150-89-8043\"\n",
              " [346] \"135-84-8019\" \"441-94-7118\" \"725-96-3778\" \"531-80-1784\" \"400-45-1220\"\n",
              " [351] \"860-79-0874\" \"834-61-8124\" \"115-99-4379\" \"565-67-6697\" \"320-49-6392\"\n",
              " [356] \"889-04-9723\" \"632-90-0281\" \"554-42-2417\" \"453-63-6187\" \"578-80-7669\"\n",
              " [361] \"612-36-5536\" \"605-72-4132\" \"471-41-2823\" \"462-67-9126\" \"272-27-9238\"\n",
              " [366] \"834-25-9262\" \"122-61-9553\" \"468-88-0009\" \"613-59-9758\" \"254-31-0042\"\n",
              " [371] \"201-86-2184\" \"261-12-8671\" \"730-70-9830\" \"382-25-8917\" \"422-29-8786\"\n",
              " [376] \"667-23-5919\" \"843-01-4703\" \"743-88-1662\" \"595-86-2894\" \"182-69-8360\"\n",
              " [381] \"289-15-7034\" \"462-78-5240\" \"868-52-7573\" \"153-58-4872\" \"662-72-2873\"\n",
              " [386] \"525-88-7307\" \"689-16-9784\" \"725-56-0833\" \"394-41-0748\" \"596-42-3999\"\n",
              " [391] \"541-89-9860\" \"173-82-9529\" \"563-36-9814\" \"308-47-4913\" \"885-17-6250\"\n",
              " [396] \"726-27-2396\" \"316-01-3952\" \"760-54-1821\" \"793-10-3222\" \"346-12-3257\"\n",
              " [401] \"110-05-6330\" \"651-61-0874\" \"236-86-3015\" \"831-64-0259\" \"587-03-7455\"\n",
              " [406] \"882-40-4577\" \"732-67-5346\" \"725-32-9708\" \"256-08-8343\" \"372-26-1506\"\n",
              " [411] \"244-08-0162\" \"569-71-4390\" \"132-23-6451\" \"696-90-2548\" \"472-15-9636\"\n",
              " [416] \"268-03-6164\" \"750-57-9686\" \"186-09-3669\" \"848-07-1692\" \"745-71-3520\"\n",
              " [421] \"266-76-6436\" \"740-22-2500\" \"271-88-8734\" \"301-81-8610\" \"489-64-4354\"\n",
              " [426] \"198-84-7132\" \"269-10-8440\" \"650-98-6268\" \"741-73-3559\" \"325-77-6186\"\n",
              " [431] \"286-75-7818\" \"574-57-9721\" \"459-50-7686\" \"616-87-0016\" \"837-55-7229\"\n",
              " [436] \"751-69-0068\" \"257-73-1380\" \"345-08-4992\" \"549-96-4200\" \"810-60-6344\"\n",
              " [441] \"450-28-2866\" \"394-30-3170\" \"138-17-5109\" \"192-98-7397\" \"301-11-9629\"\n",
              " [446] \"390-80-5128\" \"235-46-8343\" \"453-12-7053\" \"296-11-7041\" \"449-27-2918\"\n",
              " [451] \"891-01-7034\" \"744-09-5786\" \"727-17-0390\" \"568-88-3448\" \"187-83-5490\"\n",
              " [456] \"767-54-1907\" \"710-46-4433\" \"533-33-5337\" \"325-90-8763\" \"729-46-7422\"\n",
              " [461] \"639-76-1242\" \"234-03-4040\" \"326-71-2155\" \"320-32-8842\" \"470-32-9057\"\n",
              " [466] \"878-30-2331\" \"440-59-5691\" \"554-53-3790\" \"746-19-0921\" \"233-34-0817\"\n",
              " [471] \"767-05-1286\" \"340-21-9136\" \"405-31-3305\" \"731-59-7531\" \"676-39-6028\"\n",
              " [476] \"502-05-1910\" \"485-30-8700\" \"598-47-9715\" \"701-69-8742\" \"575-67-1508\"\n",
              " [481] \"541-08-3113\" \"246-11-3901\" \"674-15-9296\" \"305-18-3552\" \"493-65-6248\"\n",
              " [486] \"438-01-4015\" \"709-58-4068\" \"795-49-7276\" \"556-72-8512\" \"627-95-3243\"\n",
              " [491] \"686-41-0932\" \"510-09-5628\" \"608-04-3797\" \"148-82-2527\" \"437-53-3084\"\n",
              " [496] \"632-32-4574\" \"556-97-7101\" \"862-59-8517\" \"401-18-8016\" \"420-18-8989\"\n",
              " [501] \"277-63-2961\" \"573-98-8548\" \"620-02-2046\" \"282-35-2475\" \"511-54-3087\"\n",
              " [506] \"726-29-6793\" \"387-49-4215\" \"862-17-9201\" \"291-21-5991\" \"602-80-9671\"\n",
              " [511] \"347-72-6115\" \"209-61-0206\" \"595-27-4851\" \"189-52-0236\" \"503-07-0930\"\n",
              " [516] \"413-20-6708\" \"425-85-2085\" \"521-18-7827\" \"220-28-1851\" \"600-38-9738\"\n",
              " [521] \"734-91-1155\" \"451-28-5717\" \"609-81-8548\" \"133-14-7229\" \"534-01-4457\"\n",
              " [526] \"719-89-8991\" \"286-62-6248\" \"339-38-9982\" \"827-44-5872\" \"827-77-7633\"\n",
              " [531] \"287-83-1405\" \"435-13-4908\" \"857-67-9057\" \"236-27-1144\" \"892-05-6689\"\n",
              " [536] \"583-41-4548\" \"339-12-4827\" \"643-38-7867\" \"308-81-0538\" \"358-88-9262\"\n",
              " [541] \"460-35-4390\" \"343-87-0864\" \"173-50-1108\" \"243-47-2663\" \"841-18-8232\"\n",
              " [546] \"701-23-5550\" \"647-50-1224\" \"541-48-8554\" \"539-21-7227\" \"213-32-1216\"\n",
              " [551] \"747-58-7183\" \"582-52-8065\" \"210-57-1719\" \"399-69-4630\" \"134-75-2619\"\n",
              " [556] \"356-44-8813\" \"198-66-9832\" \"283-26-5248\" \"712-39-0363\" \"218-59-9410\"\n",
              " [561] \"174-75-0888\" \"866-99-7614\" \"134-54-4720\" \"760-90-2357\" \"514-37-2845\"\n",
              " [566] \"698-98-5964\" \"718-57-9773\" \"651-88-7328\" \"241-11-2261\" \"408-26-9866\"\n",
              " [571] \"834-83-1826\" \"343-61-3544\" \"239-48-4278\" \"355-34-6244\" \"550-84-8664\"\n",
              " [576] \"339-96-8318\" \"458-61-0011\" \"592-34-6155\" \"797-88-0493\" \"207-73-1363\"\n",
              " [581] \"390-31-6381\" \"443-82-0585\" \"339-18-7061\" \"359-90-3665\" \"375-72-3056\"\n",
              " [586] \"127-47-6963\" \"278-86-2735\" \"695-28-6250\" \"379-17-6588\" \"227-50-3718\"\n",
              " [591] \"302-15-2162\" \"788-07-8452\" \"560-49-6611\" \"880-35-0356\" \"585-11-6748\"\n",
              " [596] \"470-31-3286\" \"152-68-2907\" \"123-35-4896\" \"258-69-7810\" \"334-64-2006\"\n",
              " [601] \"219-61-4139\" \"881-41-7302\" \"373-09-4567\" \"642-30-6693\" \"484-22-8230\"\n",
              " [606] \"830-58-2383\" \"559-98-9873\" \"544-32-5024\" \"318-12-0304\" \"349-97-8902\"\n",
              " [611] \"421-95-9805\" \"277-35-5865\" \"789-23-8625\" \"284-54-4231\" \"443-59-0061\"\n",
              " [616] \"509-29-3912\" \"327-40-9673\" \"840-19-2096\" \"828-46-6863\" \"641-96-3695\"\n",
              " [621] \"420-97-3340\" \"436-54-4512\" \"670-79-6321\" \"852-62-7105\" \"598-06-7312\"\n",
              " [626] \"135-13-8269\" \"816-57-2053\" \"628-90-8624\" \"856-66-2701\" \"308-39-1707\"\n",
              " [631] \"149-61-1929\" \"655-07-2265\" \"589-02-8023\" \"420-04-7590\" \"182-88-2763\"\n",
              " [636] \"188-55-0967\" \"610-46-4100\" \"318-81-2368\" \"364-33-8584\" \"665-63-9737\"\n",
              " [641] \"695-09-5146\" \"155-45-3814\" \"794-32-2436\" \"131-15-8856\" \"273-84-2164\"\n",
              " [646] \"706-36-6154\" \"778-89-7974\" \"574-31-8277\" \"859-71-0933\" \"740-11-5257\"\n",
              " [651] \"369-82-2676\" \"563-47-4072\" \"742-04-5161\" \"149-15-7606\" \"133-77-3154\"\n",
              " [656] \"169-52-4504\" \"250-81-7186\" \"562-12-5430\" \"816-72-8853\" \"491-38-3499\"\n",
              " [661] \"322-02-2271\" \"842-29-4695\" \"725-67-2480\" \"641-51-2661\" \"714-02-3114\"\n",
              " [666] \"518-17-2983\" \"779-42-2410\" \"190-14-3147\" \"408-66-6712\" \"679-22-6530\"\n",
              " [671] \"588-47-8641\" \"642-61-4706\" \"576-31-4774\" \"556-41-6224\" \"811-03-8790\"\n",
              " [676] \"242-11-3142\" \"752-23-3760\" \"274-05-5470\" \"648-94-3045\" \"130-67-4723\"\n",
              " [681] \"528-87-5606\" \"320-85-2052\" \"370-96-0655\" \"105-10-6182\" \"510-79-0415\"\n",
              " [686] \"241-96-5076\" \"767-97-4650\" \"648-83-1321\" \"173-57-2300\" \"305-03-2383\"\n",
              " [691] \"394-55-6384\" \"266-20-6657\" \"689-05-1884\" \"196-01-2849\" \"372-62-5264\"\n",
              " [696] \"800-09-8606\" \"182-52-7000\" \"826-58-8051\" \"868-06-0466\" \"751-41-9720\"\n",
              " [701] \"626-43-7888\" \"176-64-7711\" \"191-29-0321\" \"729-06-2010\" \"640-48-5028\"\n",
              " [706] \"186-79-9562\" \"834-45-5519\" \"162-65-8559\" \"760-27-5490\" \"445-30-9252\"\n",
              " [711] \"786-94-2700\" \"728-88-7867\" \"183-21-3799\" \"268-20-3585\" \"735-32-9839\"\n",
              " [716] \"258-92-7466\" \"857-16-3520\" \"482-17-1179\" \"788-21-5741\" \"821-14-9046\"\n",
              " [721] \"418-05-0656\" \"678-79-0726\" \"776-68-1096\" \"592-46-1692\" \"434-35-9162\"\n",
              " [726] \"149-14-0304\" \"442-44-6497\" \"174-64-0215\" \"210-74-9613\" \"299-29-0180\"\n",
              " [731] \"247-11-2470\" \"635-28-5728\" \"756-49-0168\" \"438-23-1242\" \"238-45-6950\"\n",
              " [736] \"607-65-2441\" \"386-27-7606\" \"137-63-5492\" \"197-77-7132\" \"805-86-0265\"\n",
              " [741] \"733-29-1227\" \"451-73-2711\" \"373-14-0504\" \"546-80-2899\" \"345-68-9016\"\n",
              " [746] \"390-17-5806\" \"457-13-1708\" \"664-14-2882\" \"487-79-6868\" \"314-23-4520\"\n",
              " [751] \"210-30-7976\" \"585-86-8361\" \"807-14-7833\" \"775-72-1988\" \"288-38-3758\"\n",
              " [756] \"652-43-6591\" \"785-96-0615\" \"406-46-7107\" \"250-17-5703\" \"156-95-3964\"\n",
              " [761] \"842-40-8179\" \"525-09-8450\" \"410-67-1709\" \"587-73-4862\" \"787-87-2010\"\n",
              " [766] \"593-14-4239\" \"801-88-0346\" \"388-76-2555\" \"711-31-1234\" \"886-54-6089\"\n",
              " [771] \"707-32-7409\" \"759-98-4285\" \"201-63-8275\" \"471-06-8611\" \"200-16-5952\"\n",
              " [776] \"120-54-2248\" \"102-77-2261\" \"875-31-8302\" \"102-06-2002\" \"457-94-0464\"\n",
              " [781] \"629-42-4133\" \"534-53-3526\" \"307-04-2070\" \"468-99-7231\" \"516-77-6464\"\n",
              " [786] \"404-91-5964\" \"886-77-9084\" \"790-38-4466\" \"704-10-4056\" \"497-37-6538\"\n",
              " [791] \"651-96-5970\" \"400-80-4065\" \"744-16-7898\" \"263-12-5321\" \"702-72-0487\"\n",
              " [796] \"605-83-1050\" \"443-60-9639\" \"864-24-7918\" \"359-94-5395\" \"401-09-4232\"\n",
              " [801] \"751-15-6198\" \"324-41-6833\" \"474-33-8305\" \"759-29-9521\" \"831-81-6575\"\n",
              " [806] \"220-68-6701\" \"618-34-8551\" \"257-60-7754\" \"559-61-5987\" \"189-55-2313\"\n",
              " [811] \"565-91-4567\" \"380-60-5336\" \"815-04-6282\" \"674-56-6360\" \"778-34-2523\"\n",
              " [816] \"499-27-7781\" \"477-59-2456\" \"832-51-6761\" \"869-11-3082\" \"190-59-3964\"\n",
              " [821] \"366-43-6862\" \"186-43-8965\" \"784-21-9238\" \"276-75-6884\" \"109-86-4363\"\n",
              " [826] \"569-76-2760\" \"222-42-0244\" \"760-53-9233\" \"538-22-0304\" \"416-17-9926\"\n",
              " [831] \"237-44-6163\" \"636-17-0325\" \"343-75-9322\" \"528-14-9470\" \"427-45-9297\"\n",
              " [836] \"807-34-3742\" \"288-62-1085\" \"670-71-7306\" \"660-29-7083\" \"271-77-8740\"\n",
              " [841] \"497-36-0989\" \"291-59-1384\" \"860-73-6466\" \"549-23-9016\" \"896-34-0956\"\n",
              " [846] \"804-38-3935\" \"585-90-0249\" \"862-29-5914\" \"845-94-6841\" \"125-45-2293\"\n",
              " [851] \"843-73-4724\" \"409-33-9708\" \"658-66-3967\" \"866-70-2814\" \"160-22-2687\"\n",
              " [856] \"895-03-6665\" \"770-42-8960\" \"748-45-2862\" \"234-36-2483\" \"316-66-3011\"\n",
              " [861] \"848-95-6252\" \"840-76-5966\" \"152-03-4217\" \"533-66-5566\" \"124-31-1458\"\n",
              " [866] \"176-78-1170\" \"361-59-0574\" \"101-81-4070\" \"631-34-1880\" \"852-82-2749\"\n",
              " [871] \"873-14-6353\" \"584-66-4073\" \"544-55-9589\" \"166-19-2553\" \"737-88-5876\"\n",
              " [876] \"154-87-7367\" \"885-56-0389\" \"608-05-3804\" \"448-61-3783\" \"761-49-0439\"\n",
              " [881] \"490-95-0021\" \"115-38-7388\" \"311-13-6971\" \"291-55-6563\" \"548-48-3156\"\n",
              " [886] \"460-93-5834\" \"325-89-4209\" \"884-80-6021\" \"137-74-8729\" \"880-46-5796\"\n",
              " [891] \"389-70-2397\" \"114-35-5271\" \"607-76-6216\" \"715-20-1673\" \"811-35-1094\"\n",
              " [896] \"699-88-1972\" \"781-84-8059\" \"409-49-6995\" \"725-54-0677\" \"146-09-5432\"\n",
              " [901] \"377-79-7592\" \"509-10-0516\" \"595-94-9924\" \"865-41-9075\" \"545-07-8534\"\n",
              " [906] \"118-62-1812\" \"450-42-3339\" \"851-98-3555\" \"186-71-5196\" \"624-01-8356\"\n",
              " [911] \"313-66-9943\" \"151-27-8496\" \"453-33-6436\" \"522-57-8364\" \"459-45-2396\"\n",
              " [916] \"717-96-4189\" \"722-13-2115\" \"749-81-8133\" \"777-67-2495\" \"636-98-3364\"\n",
              " [921] \"246-55-6923\" \"181-82-6255\" \"838-02-1821\" \"887-42-0517\" \"457-12-0244\"\n",
              " [926] \"226-34-0034\" \"321-49-7382\" \"397-25-8725\" \"431-66-2305\" \"825-94-5922\"\n",
              " [931] \"641-62-7288\" \"756-93-1854\" \"243-55-8457\" \"458-10-8612\" \"501-61-1753\"\n",
              " [936] \"235-06-8510\" \"433-08-7822\" \"361-85-2571\" \"131-70-8179\" \"500-02-2261\"\n",
              " [941] \"720-72-2436\" \"702-83-5291\" \"809-69-9497\" \"449-16-6770\" \"333-23-2632\"\n",
              " [946] \"489-82-1237\" \"859-97-6048\" \"676-10-2200\" \"373-88-1424\" \"365-16-4334\"\n",
              " [951] \"503-21-4385\" \"305-89-2768\" \"574-80-1489\" \"784-08-0310\" \"200-40-6154\"\n",
              " [956] \"846-10-0341\" \"577-34-7579\" \"430-02-3888\" \"867-47-1948\" \"384-59-6655\"\n",
              " [961] \"256-58-3609\" \"324-92-3863\" \"593-08-5916\" \"364-34-2972\" \"794-42-3736\"\n",
              " [966] \"172-42-8274\" \"558-60-5016\" \"195-06-0432\" \"605-03-2706\" \"214-30-2776\"\n",
              " [971] \"746-04-1077\" \"448-34-8700\" \"452-04-8808\" \"531-56-4728\" \"744-82-9138\"\n",
              " [976] \"883-69-1285\" \"221-25-5073\" \"518-71-6847\" \"156-20-0370\" \"151-33-7434\"\n",
              " [981] \"728-47-9078\" \"809-46-1866\" \"139-32-4183\" \"148-41-7930\" \"189-40-5216\"\n",
              " [986] \"374-38-5555\" \"764-44-8999\" \"552-44-5977\" \"267-62-7380\" \"430-53-4718\"\n",
              " [991] \"886-18-2897\" \"602-16-6955\" \"745-74-0715\" \"690-01-6631\" \"652-49-6720\"\n",
              " [996] \"233-67-5758\" \"303-96-2227\" \"727-02-1313\" \"347-56-2442\" \"849-09-3807\"\n",
              "\n",
              "$branch\n",
              "[1] \"A\" \"C\" \"B\"\n",
              "\n",
              "$customer.type\n",
              "[1] \"Member\" \"Normal\"\n",
              "\n",
              "$gender\n",
              "[1] \"Female\" \"Male\"  \n",
              "\n",
              "$product.line\n",
              "[1] \"Health and beauty\"      \"Electronic accessories\" \"Home and lifestyle\"    \n",
              "[4] \"Sports and travel\"      \"Food and beverages\"     \"Fashion accessories\"   \n",
              "\n",
              "$unit.price\n",
              "  [1] 74.69 15.28 46.33 58.22 86.31 85.39 68.84 73.56 36.26 54.84 14.48 25.51\n",
              " [13] 46.95 43.19 71.38 93.72 68.93 72.61 54.67 40.30 86.04 87.98 33.20 34.56\n",
              " [25] 88.63 52.59 33.52 87.67 88.36 24.89 94.13 78.07 83.78 96.58 99.42 68.12\n",
              " [37] 62.62 60.88 54.92 30.12 86.72 56.11 69.12 98.70 15.37 93.96 56.69 20.01\n",
              " [49] 18.93 82.63 91.40 44.59 17.87 15.43 16.16 85.98 44.34 89.60 72.35 30.61\n",
              " [61] 24.74 55.73 55.07 15.81 75.74 15.87 33.47 97.61 78.77 18.33 89.48 62.12\n",
              " [73] 48.52 75.91 74.67 41.65 49.04 78.31 20.38 99.19 96.68 19.25 80.36 48.91\n",
              " [85] 83.06 76.52 49.38 42.47 76.99 47.38 44.86 21.98 64.36 89.75 97.16 87.87\n",
              " [97] 12.45 52.75 82.70 48.71 78.55 23.07 58.26 30.35 88.67 27.38 62.13 33.98\n",
              "[109] 81.97 16.49 98.21 72.84 58.07 80.79 27.02 21.94 51.36 10.96 53.44 99.56\n",
              "[121] 57.12 99.96 63.91 56.47 93.69 32.25 31.73 68.54 90.28 39.62 92.13 34.84\n",
              "[133] 87.45 81.30 90.22 26.31 34.42 51.91 72.50 89.80 90.50 68.60 30.41 77.95\n",
              "[145] 46.26 30.14 66.14 71.86 32.46 91.54 83.24 16.48 80.97 92.29 72.17 50.28\n",
              "[157] 97.22 93.39 43.18 63.69 45.79 76.40 39.90 42.57 95.58 98.98 51.28 69.52\n",
              "[169] 70.01 80.05 20.85 52.89 19.79 33.84 22.17 22.51 73.88 86.80 64.26 38.47\n",
              "[181] 15.50 34.31 12.34 18.08 94.49 46.47 74.07 69.81 77.04 73.52 87.80 25.55\n",
              "[193] 32.71 74.29 43.70 25.29 41.50 71.39 19.15 57.49 61.41 25.90 17.77 23.03\n",
              "[205] 66.65 28.53 30.37 99.73 26.23 93.26 92.36 46.42 29.61 18.28 24.77 94.64\n",
              "[217] 94.87 57.34 45.35 62.08 11.81 12.54 43.25 87.16 69.37 37.06 90.70 63.42\n",
              "[229] 81.37 10.59 84.09 73.82 51.94 93.14 17.41 44.22 13.22 89.69 24.94 59.77\n",
              "[241] 93.20 62.65 93.87 47.59 81.40 17.94 77.72 73.06 46.55 35.19 14.39 23.75\n",
              "[253] 58.90 32.62 66.35 25.91 65.94 75.06 16.45 38.30 22.24 54.45 98.40 35.47\n",
              "[265] 74.60 70.74 35.54 67.43 21.12 21.54 12.03 99.71 47.97 21.82 95.42 70.99\n",
              "[277] 44.02 69.96 37.00 15.34 99.83 47.67 66.68 74.86 48.51 94.88 27.85 62.48\n",
              "[289] 36.36 18.11 51.92 28.84 78.38 60.01 88.61 99.82 39.01 48.61 51.19 14.96\n",
              "[301] 72.20 40.23 88.79 26.48 81.91 79.93 69.33 14.23 15.55 78.13 99.37 21.08\n",
              "[313] 74.79 29.67 44.07 22.93 39.42 15.26 61.77 21.52 97.74 99.78 94.26 51.13\n",
              "[325] 22.02 32.90 77.02 23.48 14.70 28.45 57.95 47.65 42.82 48.09 55.97 76.90\n",
              "[337] 97.03 44.65 77.93 71.95 89.25 26.02 13.50 99.30 51.69 54.73 27.00 30.24\n",
              "[349] 89.14 37.55 95.44 27.50 74.97 80.96 94.47 99.79 73.22 41.24 81.68 51.32\n",
              "[361] 14.36 21.50 26.26 60.96 70.11 42.08 67.09 96.70 35.38 95.49 96.98 23.65\n",
              "[373] 82.33 26.61 99.69 74.89 40.94 75.82 46.77 32.32 54.07 18.22 80.48 37.95\n",
              "[385] 76.82 52.26 79.74 77.50 54.27 13.59 41.06 19.24 39.43 46.22 13.98 39.75\n",
              "[397] 97.79 67.26 13.79 68.71 56.53 23.82 34.21 21.87 20.97 25.84 50.93 96.11\n",
              "[409] 45.38 81.51 57.22 25.22 38.60 84.05 97.21 25.42 16.28 40.61 53.17 20.87\n",
              "[421] 67.27 90.65 69.08 43.27 23.46 95.54 47.44 99.24 82.93 33.99 17.04 40.86\n",
              "[433] 17.44 88.43 89.21 12.78 19.10 27.66 45.74 27.07 39.12 74.71 22.01 63.61\n",
              "[445] 25.00 20.77 29.56 77.40 79.39 46.57 35.89 40.52 73.05 73.95 22.62 51.34\n",
              "[457] 54.55 37.15 37.02 21.58 98.84 83.77 40.05 43.13 72.57 64.44 65.18 33.26\n",
              "[469] 84.07 34.37 65.97 32.80 37.14 60.38 36.98 49.49 41.09 22.96 77.68 34.70\n",
              "[481] 19.66 25.32 12.12 99.89 75.92 63.22 90.24 98.13 51.52 73.97 31.90 69.40\n",
              "[493] 93.31 88.45 24.18 48.50 61.29 15.95 90.74 42.91 54.28 99.55 58.39 51.47\n",
              "[505] 54.86 39.39 34.73 71.92 45.71 83.17 37.44 62.87 81.71 91.41 39.21 59.86\n",
              "[517] 54.36 98.09 25.43 86.68 22.95 16.31 28.32 16.67 73.96 97.94 87.48 30.68\n",
              "[529] 75.88 20.18 18.77 71.20 38.81 29.42 60.95 51.54 66.06 57.27 54.31 58.24\n",
              "[541] 22.21 19.32 37.48 72.04 98.52 41.66 72.42 89.20 42.42 74.51 99.25 81.21\n",
              "[553] 49.33 65.74 79.86 73.98 82.04 26.67 10.13 72.39 85.91 81.31 60.30 31.77\n",
              "[565] 64.27 69.51 27.22 92.98 63.06 51.71 52.34 43.06 59.61 14.62 46.53 24.24\n",
              "[577] 45.58 75.20 96.80 14.82 52.20 46.66 36.85 70.32 83.08 64.99 77.56 54.51\n",
              "[589] 51.89 31.75 53.65 49.79 57.89 28.96 98.97 93.22 80.93 67.45 38.72 72.60\n",
              "[601] 87.91 98.53 43.46 71.68 91.61 94.59 83.25 91.35 78.88 60.87 82.58 53.30\n",
              "[613] 12.09 64.19 99.70 79.91 66.47 28.95 46.20 17.63 52.42 98.79 88.55 55.67\n",
              "[625] 72.52 12.05 19.36 70.21 33.63 15.49 75.66 55.81 72.78 37.32 60.18 15.69\n",
              "[637] 88.15 27.93 55.45 42.97 17.14 58.75 87.10 98.80 48.63 57.74 17.97 47.71\n",
              "[649] 40.62 56.04 93.40 73.41 33.64 45.48 64.08 73.47 58.95 39.48 34.81 49.32\n",
              "[661] 21.48 23.08 49.10 64.83 63.56 72.88 67.10 70.19 55.04 73.38 52.60 87.37\n",
              "[673] 27.04 62.19 69.58 97.50 60.41 19.77 80.47 88.39 71.77 43.00 68.98 15.62\n",
              "[685] 25.70 80.62 75.53 77.63 13.85 35.68 71.46 11.94 17.48 25.56 90.63 44.12\n",
              "[697] 36.77 23.34 28.50 55.57 69.74 97.26 52.18 22.32 56.00 19.70 53.72 81.95\n",
              "[709] 81.20 58.76 91.56 55.61 84.83 71.63 37.69 31.67 38.42 65.23 10.53 12.29\n",
              "[721] 81.23 27.28 17.42 73.28 84.87 97.29 35.74 96.52 18.85 55.39 77.20 72.13\n",
              "[733] 63.88 10.69 55.50 95.46 76.06 13.69 95.64 11.43 85.87 67.99 65.65 28.86\n",
              "[745] 65.31 93.38 25.25 21.80 94.76 30.62 44.01 10.16 74.58 71.89 10.99 60.47\n",
              "[757] 58.91 46.41 68.55 97.37 92.60 46.61 27.18 24.49 92.78 86.69 23.01 30.20\n",
              "[769] 67.39 48.96 75.59 77.47 93.18 50.23 17.75 62.18 10.75 40.26 64.97 95.15\n",
              "[781] 48.62 53.21 45.44 33.88 96.16 47.16 47.68 10.17 60.08 72.11 41.28 64.95\n",
              "[793] 74.22 10.56 62.57 11.85 91.30 40.73 52.38 38.54 44.63 55.87 29.22 39.47\n",
              "[805] 14.87 21.32 93.78 73.26 22.38 99.10 74.10 98.48 53.19 52.79 95.95 36.51\n",
              "[817] 28.31 57.59 47.63 86.27 12.76 11.28 51.07 79.59 33.81 90.53 62.82 24.31\n",
              "[829] 64.59 24.82 56.50 21.43 89.06 23.29 65.26 52.35 90.02 12.10 33.21 10.18\n",
              "[841] 31.99 83.34 87.90 12.19 76.92 83.66 57.91 92.49 28.38 50.45 99.16 60.74\n",
              "[853] 47.27 85.60 35.04 44.84 45.97 27.73 11.53 58.32 84.61 82.88 79.54 49.01\n",
              "[865] 29.15 56.13 93.12 99.60 35.49 42.85 94.67 68.97 35.79 16.37 12.73 83.14\n",
              "[877] 35.22 13.78 88.31 88.25 25.31 99.92 83.35 74.44 63.15 85.72 78.89 92.09\n",
              "[889] 57.29 66.52 45.68 50.79 10.08 93.88 84.25 53.78 35.81 26.43 39.91 21.90\n",
              "[901] 62.85 21.04 65.91 50.49 46.02 15.80 98.66 91.98 20.89 96.82 33.33 38.27\n",
              "[913] 33.30 81.01 34.49 84.63 36.91 87.08 80.08 86.13 49.92 74.66 26.60 25.45\n",
              "[925] 67.77 59.59 58.15 97.48 96.37 63.71 14.76 62.00 82.34 75.37 56.56 76.60\n",
              "[937] 58.03 17.49 40.35 97.38 31.84 65.82 88.34\n",
              "\n",
              "$quantity\n",
              " [1]  7  5  8  6 10  2  3  4  1  9\n",
              "\n",
              "$tax\n",
              "  [1] 26.1415  3.8200 16.2155 23.2880 30.2085 29.8865 20.6520 36.7800  3.6260\n",
              " [10]  8.2260  2.8960  5.1020 11.7375 21.5950 35.6900 28.1160 24.1255 21.7830\n",
              " [19]  8.2005  4.0300 21.5100 13.1970  3.3200  8.6400 13.2945 21.0360  1.6760\n",
              " [28]  8.7670 22.0900 11.2005 23.5325 35.1315 33.5120  9.6580 19.8840  3.4060\n",
              " [37] 15.6550 27.3960 21.9680 12.0480  4.3360  5.6110 20.7360 39.4800  1.5370\n",
              " [46] 18.7920 25.5105  9.0045  5.6790 41.3150 31.9900 11.1475  3.5740  0.7715\n",
              " [55]  1.6160 34.3920  4.4340 35.8400 36.1750  9.1830  3.7110 16.7190 24.7815\n",
              " [64]  7.9050 15.1480  7.9350  3.3470 29.2830 39.3850  0.9165 44.7400 31.0600\n",
              " [73]  7.2780 22.7730 33.6015 20.8250 22.0680 39.1550  5.0950 29.7570 14.5020\n",
              " [82]  7.7000 16.0720 12.2275 29.0710 19.1300 17.2830  2.1235 23.0970  9.4760\n",
              " [91] 22.4300  7.6930 28.9620  4.4875  4.8580 43.9350  3.7350  7.9125 24.8100\n",
              "[100]  2.4355 35.3475 10.3815 17.4780 10.6225 44.3350  8.2140 18.6390 15.2910\n",
              "[109] 40.9850  1.6490 14.7315 25.4940 26.1315 36.3555  4.0530  5.4850  2.5680\n",
              "[118]  5.4800  5.3440 39.8240 19.9920 44.9820 25.5640 22.5880 32.7915  8.0625\n",
              "[127] 14.2785 27.4160 40.6260 13.8670 27.6390  6.9680 26.2350 24.3900 13.5330\n",
              "[136]  6.5775 10.3260 25.9550 29.0000 44.9000 45.2500 34.3000  1.5205 23.3850\n",
              "[145] 13.8780 15.0700 13.2280 28.7440 12.9840 18.3080 12.0960 37.4580  4.9440\n",
              "[154] 32.3880 23.0725  3.6085 12.5700 43.7490 28.0170 17.2720  3.1845 16.0265\n",
              "[163]  7.6400 19.9500 17.0280 47.7900 49.4900 15.3840 24.3320 17.5025 20.0125\n",
              "[172]  8.3400 15.8670  7.9160 15.2280  8.8680  7.8785 22.1640 13.0200 22.4910\n",
              "[181] 15.3880  7.7500 13.7240  4.3190  2.7120 37.7960  9.2940  3.7035 13.9620\n",
              "[190] 11.5560  7.3520 39.5100  5.1100  8.1775  3.7145  4.3700  1.2645  8.3000\n",
              "[199] 17.8475  5.7450 11.4980 21.4935 12.9500  4.4425 10.3635 29.9925 14.2650\n",
              "[208]  4.5555 44.8785 11.8035 41.9670 23.0900  6.9630  0.9140  6.1925 14.1960\n",
              "[217] 37.9480  8.6010 13.6050 21.7280  2.9525  0.6270  4.3250  8.7160 31.2165\n",
              "[226]  7.4120 27.2100 25.3680  8.1370  1.5885 37.8405 14.7640 25.9700  9.3140\n",
              "[235]  4.3525 11.0550  3.3050  4.4845 11.2230  5.9770  9.3200 12.5300 37.5480\n",
              "[244] 19.0360 12.2100  4.4850 15.5440 25.5710 20.9475 17.5950  1.4390  4.7500\n",
              "[253] 23.5600  6.5240  3.3175  7.7730  6.4500 13.1880 33.7770  3.2900  7.6600\n",
              "[262] 11.1200  2.7225 34.4400  7.0940 37.3000 14.1480 17.7700 16.8575  2.1120\n",
              "[271]  9.6930  1.2030 29.9130 16.7895 10.9100 19.0840 35.4950 22.0100 27.9840\n",
              "[280]  1.8500  0.7670 29.9490  9.5340 16.6700  3.7430 10.6875 16.9785 33.2080\n",
              "[289] 20.1500  9.7475  3.1240  3.6360  9.0550 12.9800  5.7680 23.5140 12.0020\n",
              "[298]  4.4305  9.9820  1.9505  2.4305 10.2380  5.9840 25.2700 14.0805 35.5160\n",
              "[307]  3.9720  8.1910 23.9790  6.9330  3.5575  6.9975 39.0650  9.9370  3.1620\n",
              "[316] 18.6975 10.3845  8.8140 10.3185  1.9710  4.5780 15.4425  6.4560 19.5480\n",
              "[325] 24.9450 18.8520 10.2260  7.2720  9.9090  4.9350 19.2550  2.3480  3.6750\n",
              "[334]  7.1125 34.3800 17.3850  7.1475 19.2690  7.2135 19.5895 26.9150 24.2575\n",
              "[343]  6.6975 35.0685  3.5975 35.7000  9.1070  6.7500 49.6500 18.0915 19.1555\n",
              "[352] 12.1500  1.5120 17.8280 18.7750 47.7200  4.1250  3.7485 32.3840 37.7880\n",
              "[361]  9.9790 21.9660  8.2480 16.3360 23.0940  7.1800  9.6750  9.1910  6.0960\n",
              "[370] 21.0330 12.6240 16.7725 24.1750 15.9210 33.4215 19.3960  4.7300 16.4660\n",
              "[379]  2.6610 24.9225 14.9780 10.2350  3.7910 14.0310 16.1600 24.3315  6.3770\n",
              "[388] 12.0720 18.9750  3.8410 26.1300  3.9870 19.3750 13.5675  6.1155 12.3180\n",
              "[397]  8.6580 11.8290  9.2440  0.6990  9.9375 34.2265 13.4520  3.4475 13.7420\n",
              "[406] 11.3060  5.9550 17.1050  2.1870  5.2425  3.8760 20.3720  4.8055  9.0760\n",
              "[415]  4.0755  5.7220  8.8270  5.7900 12.6075 48.6050 10.1680  0.8140 18.2745\n",
              "[424] 18.6095  3.1305 16.8175 45.3250  6.9080  4.3270  7.0380 33.4390  2.3720\n",
              "[433] 44.6580 16.5860 10.1970  3.4080 16.3440  4.3600 35.3720 40.1445  0.6390\n",
              "[442]  6.6850  0.9575 13.8300  6.8610  1.3535  1.9560 22.4130  6.6030 15.9025\n",
              "[451]  1.2500  4.1540  7.3900 34.8300 39.6950 23.2850  1.7945 10.1300 36.5250\n",
              "[460] 14.7900  1.1310 12.8350 27.2750 13.0025 11.1060  1.0790  4.9420 25.1310\n",
              "[469]  8.0100 21.5650 29.0280 16.1100  9.7770  8.3150 16.8140 17.1850  1.9300\n",
              "[478] 26.3880 16.4000  9.2850 30.1900 18.4900  9.8980 20.5450  7.4300  1.1480\n",
              "[487] 34.9560  3.4700  9.8300 10.1280  6.0600  9.9890 30.3680  6.3220 27.0720\n",
              "[496]  4.9065 20.6080  3.6985  1.5950  6.9400  9.3310  4.4225  9.6720  7.2750\n",
              "[505] 25.2150 15.3225  4.7850 31.7590 10.7275 18.9980 34.8425 20.4365  2.5735\n",
              "[514] 13.7150  9.8475  3.4730 17.9800  6.8565 24.9510 11.2320  6.2870 24.5130\n",
              "[523] 22.8525  7.8420  5.9860 27.1800 44.1405  7.6290 34.6720 11.4750  7.3395\n",
              "[532]  7.0800  5.8345  3.6980  4.8970 14.6100 26.2440  4.6020  3.7940  4.0360\n",
              "[541]  5.6310  3.5600  7.7620 14.7100 27.4275 12.8850 19.8180  8.5905 24.4395\n",
              "[550] 26.2080  6.6630  6.7620  5.6220  7.2040 49.2600 12.4980 10.8630  9.7110\n",
              "[559] 44.6000 16.9680 22.3530  9.9250 40.6050 24.6650 29.5830 27.9510 25.8930\n",
              "[568] 20.5100 13.3350  3.5455  7.2390 21.4775 28.4585 12.0600  6.3540 12.8540\n",
              "[577]  6.9510  4.0830 15.5360  9.2980  3.6160  9.4590 10.3420  7.8510 10.7650\n",
              "[586] 29.8050  3.6550 13.9590  8.4840  2.2790 11.2800 14.5200  2.2230  7.8300\n",
              "[595] 20.9970  9.2125  7.0320  3.2495 38.7800 16.3530 18.1615  6.3500 18.7775\n",
              "[604]  9.9580  1.5305  5.7890  1.4480 44.5365 13.9830  4.0465 33.7250 17.4240\n",
              "[613] 21.7800 21.9775 29.5590 13.0380 10.7520  4.5805 33.1065 41.6250  4.5675\n",
              "[622]  7.8880  6.0870 41.2900  7.9950  0.6045 32.0950 11.7465  8.3770 14.9550\n",
              "[631] 11.9865 33.2350 10.1325  2.3100  4.4075  7.8630 14.8185 35.4200  5.5670\n",
              "[640] 29.0080  3.0125  8.7120 21.0630  1.6815  1.5490 12.3700 18.9150 16.7430\n",
              "[649] 36.3900 16.7940 12.0360  2.3535  4.9845 13.2225  6.9825  2.7725  6.4455\n",
              "[658]  5.9990 17.6250 43.5500  9.8800  9.7260  8.6610  3.5940 14.3130  4.0620\n",
              "[667] 28.0200  9.3400 11.0115 13.4560 22.7400 22.4280 14.6940 29.4750 14.5500\n",
              "[676]  1.9740  1.7405 14.7960  2.1480  6.9240  4.9100  6.4830 31.7800  7.2880\n",
              "[685] 10.0650 31.5855 19.2640 24.3150 25.6830 23.6700 21.8425  5.4080 12.4380\n",
              "[694] 31.3110 48.7500 24.1640  4.8480  9.8850 36.2115 39.7755 25.1195  8.6000\n",
              "[703]  3.4490  6.2480  3.8550 24.1860 15.1060 34.9335  6.2325  8.9200 25.0110\n",
              "[712]  1.7910  6.8070  5.2440  8.9460 40.7835  6.6180 12.8695  4.6680 11.4000\n",
              "[721]  8.3355 34.8700 19.4520 18.2630  4.4640  8.4000  0.9850 26.5580  2.6860\n",
              "[730] 40.9750 28.4200 29.3800 36.6240 42.2820 19.4635  4.2415  7.1630  3.7690\n",
              "[739] 12.6680  1.9210 32.6150  2.6325  5.5305 28.4305  6.8200  8.7100 18.3200\n",
              "[748] 12.7305 38.9160 14.2960 28.9560  9.4250 11.0780 38.6000 36.0650 25.5520\n",
              "[757]  2.6725 11.1000 38.1840 11.4090  4.1070 19.1280  3.4290 19.1080 30.0545\n",
              "[766] 23.7965  2.6210  6.5650  7.2150 22.8585  4.6690  6.3125 39.5415  8.7200\n",
              "[775] 18.9520  1.5310 17.6040  2.5400 26.1030 28.7560  2.7475  9.0705 20.6185\n",
              "[784]  2.3205 13.7100 48.6850 32.4100  4.6610  2.7180  3.0435 12.2450  4.6390\n",
              "[793] 21.6725  6.9030 12.0800 23.5865 22.0320 34.0155 15.4940  9.3180 10.0460\n",
              "[802]  0.8875 31.0900  4.3000 20.1300 16.2425  4.7575 19.4480 21.2840 15.9040\n",
              "[811] 13.5520 19.2320 11.7900 10.5780  4.7680  0.5085 10.3065 21.0280  4.4020\n",
              "[820] 32.4495  6.1920 32.4750 37.1100  4.2240 12.5140  4.7400  4.5650 14.2555\n",
              "[829]  2.6190  9.6350 13.3890 27.9350  8.7660  7.7910  3.0150  3.9470  1.4870\n",
              "[838]  1.0660 14.0670  3.6630  1.1190 32.7960 29.7300  3.7050  9.8480 18.6165\n",
              "[847] 26.3950 23.9875 16.4295  8.4480  5.6620 17.2770 21.4335  4.3135  1.2760\n",
              "[856]  5.0760 17.8745 11.9385  5.0715 36.2120  6.2820  3.6465 12.9180  8.6870\n",
              "[865]  2.8250 10.7150 26.7180  4.6580 26.1040  2.6175  1.9875 36.0080  4.8400\n",
              "[874] 16.6050  4.0720 15.9950  8.3340 15.9530  4.3950 36.7350  4.8760 38.4600\n",
              "[883] 20.9150 23.1640 23.1225  7.0950 15.1350 39.6640 21.2590 14.1810 29.9600\n",
              "[892] 15.7680 20.1780  9.1940  6.9325  4.0355  5.8320 15.6760 42.3050 20.7200\n",
              "[901]  7.9540 24.5050  4.3725 11.2260 37.2480 20.5360 14.9400 10.6470  2.1425\n",
              "[910] 18.9340 10.3455  3.9390 16.1055  4.9110  1.2730 29.0990 10.5660  2.7560\n",
              "[919]  4.4155 17.8290 39.7125  2.5310 29.9760  8.3350 37.2200 18.9450 12.8580\n",
              "[928] 27.6115 22.3700 13.8135 17.1870 13.3040 44.9190 22.8400 12.6975  3.5280\n",
              "[937] 32.8580  8.4250  2.6890  8.9525 10.5720  5.9865  3.2850  4.2080 19.7730\n",
              "[946] 14.8995 22.7205 13.8060  7.9000 44.3970  4.5990  2.0890  0.7750 14.5230\n",
              "[955]  3.3330  3.8270 14.9850 12.1515  2.3700  8.6225 42.3150 12.9185 30.4780\n",
              "[964] 12.0120  8.6130  4.9920 14.9320  7.9800  1.2725  3.3885 11.9180 11.6300\n",
              "[973] 43.8660 34.9860 33.7295 15.9275  1.4760 24.8000 41.1700 30.1480 14.1400\n",
              "[982] 38.3000  5.8030  8.7450  3.0475  2.0175 48.6900  1.5920  3.2910 30.9190\n",
              "\n",
              "$payment\n",
              "[1] \"Ewallet\"     \"Cash\"        \"Credit card\"\n",
              "\n",
              "$cogs\n",
              "  [1] 522.83  76.40 324.31 465.76 604.17 597.73 413.04 735.60  72.52 164.52\n",
              " [11]  57.92 102.04 234.75 431.90 713.80 562.32 482.51 435.66 164.01  80.60\n",
              " [21] 430.20 263.94  66.40 172.80 265.89 420.72  33.52 175.34 441.80 224.01\n",
              " [31] 470.65 702.63 670.24 193.16 397.68  68.12 313.10 547.92 439.36 240.96\n",
              " [41]  86.72 112.22 414.72 789.60  30.74 375.84 510.21 180.09 113.58 826.30\n",
              " [51] 639.80 222.95  71.48  15.43  32.32 687.84  88.68 716.80 723.50 183.66\n",
              " [61]  74.22 334.38 495.63 158.10 302.96 158.70  66.94 585.66 787.70  18.33\n",
              " [71] 894.80 621.20 145.56 455.46 672.03 416.50 441.36 783.10 101.90 595.14\n",
              " [81] 290.04 154.00 321.44 244.55 581.42 382.60 345.66  42.47 461.94 189.52\n",
              " [91] 448.60 153.86 579.24  89.75  97.16 878.70  74.70 158.25 496.20  48.71\n",
              "[101] 706.95 207.63 349.56 212.45 886.70 164.28 372.78 305.82 819.70  32.98\n",
              "[111] 294.63 509.88 522.63 727.11  81.06 109.70  51.36 109.60 106.88 796.48\n",
              "[121] 399.84 899.64 511.28 451.76 655.83 161.25 285.57 548.32 812.52 277.34\n",
              "[131] 552.78 139.36 524.70 487.80 270.66 131.55 206.52 519.10 580.00 898.00\n",
              "[141] 905.00 686.00  30.41 467.70 277.56 301.40 264.56 574.88 259.68 366.16\n",
              "[151] 241.92 749.16  98.88 647.76 461.45  72.17 251.40 874.98 560.34 345.44\n",
              "[161]  63.69 320.53 152.80 399.00 340.56 955.80 989.80 307.68 486.64 350.05\n",
              "[171] 400.25 166.80 317.34 158.32 304.56 177.36 157.57 443.28 260.40 449.82\n",
              "[181] 307.76 155.00 274.48  86.38  54.24 755.92 185.88  74.07 279.24 231.12\n",
              "[191] 147.04 790.20 102.20 163.55  74.29  87.40  25.29 166.00 356.95 114.90\n",
              "[201] 229.96 429.87 259.00  88.85 207.27 599.85 285.30  91.11 897.57 236.07\n",
              "[211] 839.34 461.80 139.26  18.28 123.85 283.92 758.96 172.02 272.10 434.56\n",
              "[221]  59.05  12.54  86.50 174.32 624.33 148.24 544.20 507.36 162.74  31.77\n",
              "[231] 756.81 295.28 519.40 186.28  87.05 221.10  66.10  89.69 224.46 119.54\n",
              "[241] 186.40 250.60 750.96 380.72 244.20  89.70 310.88 511.42 418.95 351.90\n",
              "[251]  28.78  95.00 471.20 130.48  66.35 155.46 129.00 263.76 675.54  65.80\n",
              "[261] 153.20 222.40  54.45 688.80 141.88 746.00 282.96 355.40 337.15  42.24\n",
              "[271] 193.86  24.06 598.26 335.79 218.20 381.68 709.90 440.20 559.68  37.00\n",
              "[281]  15.34 598.98 190.68 333.40  74.86 213.75 339.57 664.16 403.00 194.95\n",
              "[291]  62.48  72.72 181.10 259.60 115.36 470.28 240.04  88.61 199.64  39.01\n",
              "[301]  48.61 204.76 119.68 505.40 281.61 710.32  79.44 163.82 479.58 138.66\n",
              "[311]  71.15 139.95 781.30 198.74  63.24 373.95 207.69 176.28 206.37  39.42\n",
              "[321]  91.56 308.85 129.12 390.96 498.90 377.04 204.52 145.44 198.18  98.70\n",
              "[331] 385.10  46.96  73.50 142.25 687.60 347.70 142.95 385.38 144.27 391.79\n",
              "[341] 538.30 485.15 133.95 701.37  71.95 714.00 182.14 135.00 993.00 361.83\n",
              "[351] 383.11 243.00  30.24 356.56 375.50 954.40  82.50  74.97 647.68 755.76\n",
              "[361] 199.58 439.32 164.96 326.72 461.88 143.60 193.50 183.82 121.92 420.66\n",
              "[371] 252.48 335.45 483.50 318.42 668.43 387.92  94.60 329.32  53.22 498.45\n",
              "[381] 299.56 204.70  75.82 280.62 323.20 486.63 127.54 241.44 379.50  76.82\n",
              "[391] 522.60  79.74 387.50 271.35 122.31 246.36 173.16 236.58 184.88  13.98\n",
              "[401] 198.75 684.53 269.04  68.95 274.84 226.12 119.10 342.10  43.74 104.85\n",
              "[411]  77.52 407.44  96.11 181.52  81.51 114.44 176.54 115.80 252.15 972.10\n",
              "[421] 203.36  16.28 365.49 372.19  62.61 336.35 906.50 138.16  86.54 140.76\n",
              "[431] 668.78  47.44 893.16 331.72 203.94  68.16 326.88  87.20 707.44 802.89\n",
              "[441]  12.78 133.70  19.15 276.60 137.22  27.07  39.12 448.26 132.06 318.05\n",
              "[451]  25.00  83.08 147.80 696.60 793.90 465.70  35.89 202.60 730.50 295.80\n",
              "[461]  22.62 256.70 545.50 260.05 222.12  21.58  98.84 502.62 160.20 431.30\n",
              "[471] 580.56 322.20 195.54 166.30 336.28 343.70  38.60 527.76 328.00 185.70\n",
              "[481] 603.80 369.80 197.96 410.90 148.60  22.96 699.12  69.40 196.60 202.56\n",
              "[491] 121.20 199.78 607.36 126.44 541.44  98.13 412.16  73.97  31.90 138.80\n",
              "[501] 186.62  88.45 193.44 145.50 504.30 306.45  95.70 635.18 214.55 379.96\n",
              "[511] 696.85 408.73  51.47 274.30 196.95  69.46 359.60 137.13 499.02 224.64\n",
              "[521] 125.74 490.26 457.05 156.84 119.72 543.60 882.81 152.58 693.44 229.50\n",
              "[531] 146.79 141.60 116.69  73.96  97.94 292.20 524.88  92.04  75.88  80.72\n",
              "[541] 112.62  71.20 155.24 294.20 548.55 257.70 396.36 171.81 488.79 524.16\n",
              "[551] 133.26 135.24 112.44 144.08 985.20 249.96 217.26 194.22 892.00 339.36\n",
              "[561] 447.06 198.50 812.10 493.30 591.66 559.02 517.86 410.20 266.70  70.91\n",
              "[571] 144.78 429.55 569.17 241.20 127.08 257.08 139.02  81.66 310.72 185.96\n",
              "[581]  72.32 189.18 206.84 157.02 215.30 596.10  73.10 279.18 169.68  45.58\n",
              "[591] 225.60 290.40  44.46 156.60 419.94 184.25 140.64  64.99 775.60 327.06\n",
              "[601] 363.23 127.00 375.55 199.16  30.61 115.78  28.96 890.73 279.66  80.93\n",
              "[611] 674.50 348.48 435.60 439.55 591.18 260.76 215.04  91.61 662.13 832.50\n",
              "[621]  91.35 157.76 121.74 825.80 159.90  12.09 641.90 234.93 167.54 299.10\n",
              "[631] 239.73 664.70 202.65  46.20  88.15 157.26 296.37 708.40 111.34 580.16\n",
              "[641]  60.25 174.24 421.26  33.63  30.98 247.40 378.30 334.86 727.80 335.88\n",
              "[651] 240.72  47.07  99.69 264.45 139.65  55.45 128.91 119.98 352.50 871.00\n",
              "[661] 197.60 194.52 173.22  71.88 286.26  81.24 560.40 186.80 220.23 269.12\n",
              "[671] 454.80 448.56 293.88 589.50 291.00  39.48  34.81 295.92  42.96 138.48\n",
              "[681]  98.20 129.66 635.60 145.76 201.30 631.71 385.28 486.30 513.66 473.40\n",
              "[691] 436.85 108.16 248.76 626.22 975.00 483.28  96.96 197.70 724.23 795.51\n",
              "[701] 502.39 172.00  68.98 124.96  77.10 483.72 302.12 698.67 124.65 178.40\n",
              "[711] 500.22  35.82 136.14 104.88 178.92 815.67 132.36 257.39  93.36 228.00\n",
              "[721] 166.71 697.40 389.04 365.26  89.28 168.00  19.70 531.16  53.72 819.50\n",
              "[731] 568.40 587.60 732.48 845.64 389.27  84.83 143.26  75.38 253.36  38.42\n",
              "[741] 652.30  52.65 110.61 568.61 136.40 174.20 366.40 254.61 778.32 285.92\n",
              "[751] 579.12 188.50 221.56 772.00 721.30 511.04  53.45 222.00 763.68 228.18\n",
              "[761]  82.14 382.56  68.58 382.16 601.09 475.93  52.42 131.30 144.30 457.17\n",
              "[771]  93.38 126.25 790.83 174.40 379.04  30.62 352.08  50.80 522.06 575.12\n",
              "[781]  54.95 181.41 412.37  46.41 274.20 973.70 648.20  93.22  54.36  60.87\n",
              "[791] 244.90  92.78 433.45 138.06 241.60 471.73 440.64 680.31 309.88 186.36\n",
              "[801] 200.92  17.75 621.80  86.00 402.60 324.85  95.15 388.96 425.68 318.08\n",
              "[811] 271.04 384.64 235.80 211.56  95.36  10.17 206.13 420.56  88.04 648.99\n",
              "[821] 123.84 649.50 742.20  84.48 250.28  94.80  91.30 285.11  52.38 192.70\n",
              "[831] 267.78 558.70 175.32 155.82  60.30  78.94  29.74  21.32 281.34  73.26\n",
              "[841]  22.38 655.92 594.60  74.10 196.96 372.33 527.90 479.75 328.59 168.96\n",
              "[851] 113.24 345.54 428.67  86.27  25.52 101.52 357.49 238.77 101.43 724.24\n",
              "[861] 125.64  72.93 258.36 173.74  56.50 214.30 534.36  93.16 522.08  52.35\n",
              "[871]  39.75 720.16  96.80 332.10  81.44 319.90 166.68 319.06  87.90 734.70\n",
              "[881]  97.52 769.20 418.30 463.28 462.45 141.90 302.70 793.28 425.18 283.62\n",
              "[891] 599.20 315.36 403.56 183.88 138.65  80.71 116.64 313.52 846.10 414.40\n",
              "[901] 159.08 490.10  87.45 224.52 744.96 410.72 298.80 212.94  42.85 378.68\n",
              "[911] 206.91  78.78 322.11  98.22  25.46 581.98 211.32  55.12  88.31 356.58\n",
              "[921] 794.25  50.62 599.52 166.70 744.40 378.90 257.16 552.23 447.40 276.27\n",
              "[931] 343.74 266.08 898.38 456.80 253.95  70.56 657.16 168.50  53.78 179.05\n",
              "[941] 211.44 119.73  65.70  84.16 395.46 297.99 454.41 276.12 158.00 887.94\n",
              "[951]  91.98  41.78  15.50 290.46  66.66  76.54 299.70 243.03  47.40 172.45\n",
              "[961] 846.30 258.37 609.56 240.24 172.26  99.84 298.64 159.60  25.45  67.77\n",
              "[971] 238.36 232.60 877.32 699.72 674.59 318.55  29.52 496.00 823.40 602.96\n",
              "[981] 282.80 766.00 116.06 174.90  60.95  40.35 973.80  31.84  65.82 618.38\n",
              "\n",
              "$gross.margin.percentage\n",
              "[1] 4.761905\n",
              "\n",
              "$gross.income\n",
              "  [1] 26.1415  3.8200 16.2155 23.2880 30.2085 29.8865 20.6520 36.7800  3.6260\n",
              " [10]  8.2260  2.8960  5.1020 11.7375 21.5950 35.6900 28.1160 24.1255 21.7830\n",
              " [19]  8.2005  4.0300 21.5100 13.1970  3.3200  8.6400 13.2945 21.0360  1.6760\n",
              " [28]  8.7670 22.0900 11.2005 23.5325 35.1315 33.5120  9.6580 19.8840  3.4060\n",
              " [37] 15.6550 27.3960 21.9680 12.0480  4.3360  5.6110 20.7360 39.4800  1.5370\n",
              " [46] 18.7920 25.5105  9.0045  5.6790 41.3150 31.9900 11.1475  3.5740  0.7715\n",
              " [55]  1.6160 34.3920  4.4340 35.8400 36.1750  9.1830  3.7110 16.7190 24.7815\n",
              " [64]  7.9050 15.1480  7.9350  3.3470 29.2830 39.3850  0.9165 44.7400 31.0600\n",
              " [73]  7.2780 22.7730 33.6015 20.8250 22.0680 39.1550  5.0950 29.7570 14.5020\n",
              " [82]  7.7000 16.0720 12.2275 29.0710 19.1300 17.2830  2.1235 23.0970  9.4760\n",
              " [91] 22.4300  7.6930 28.9620  4.4875  4.8580 43.9350  3.7350  7.9125 24.8100\n",
              "[100]  2.4355 35.3475 10.3815 17.4780 10.6225 44.3350  8.2140 18.6390 15.2910\n",
              "[109] 40.9850  1.6490 14.7315 25.4940 26.1315 36.3555  4.0530  5.4850  2.5680\n",
              "[118]  5.4800  5.3440 39.8240 19.9920 44.9820 25.5640 22.5880 32.7915  8.0625\n",
              "[127] 14.2785 27.4160 40.6260 13.8670 27.6390  6.9680 26.2350 24.3900 13.5330\n",
              "[136]  6.5775 10.3260 25.9550 29.0000 44.9000 45.2500 34.3000  1.5205 23.3850\n",
              "[145] 13.8780 15.0700 13.2280 28.7440 12.9840 18.3080 12.0960 37.4580  4.9440\n",
              "[154] 32.3880 23.0725  3.6085 12.5700 43.7490 28.0170 17.2720  3.1845 16.0265\n",
              "[163]  7.6400 19.9500 17.0280 47.7900 49.4900 15.3840 24.3320 17.5025 20.0125\n",
              "[172]  8.3400 15.8670  7.9160 15.2280  8.8680  7.8785 22.1640 13.0200 22.4910\n",
              "[181] 15.3880  7.7500 13.7240  4.3190  2.7120 37.7960  9.2940  3.7035 13.9620\n",
              "[190] 11.5560  7.3520 39.5100  5.1100  8.1775  3.7145  4.3700  1.2645  8.3000\n",
              "[199] 17.8475  5.7450 11.4980 21.4935 12.9500  4.4425 10.3635 29.9925 14.2650\n",
              "[208]  4.5555 44.8785 11.8035 41.9670 23.0900  6.9630  0.9140  6.1925 14.1960\n",
              "[217] 37.9480  8.6010 13.6050 21.7280  2.9525  0.6270  4.3250  8.7160 31.2165\n",
              "[226]  7.4120 27.2100 25.3680  8.1370  1.5885 37.8405 14.7640 25.9700  9.3140\n",
              "[235]  4.3525 11.0550  3.3050  4.4845 11.2230  5.9770  9.3200 12.5300 37.5480\n",
              "[244] 19.0360 12.2100  4.4850 15.5440 25.5710 20.9475 17.5950  1.4390  4.7500\n",
              "[253] 23.5600  6.5240  3.3175  7.7730  6.4500 13.1880 33.7770  3.2900  7.6600\n",
              "[262] 11.1200  2.7225 34.4400  7.0940 37.3000 14.1480 17.7700 16.8575  2.1120\n",
              "[271]  9.6930  1.2030 29.9130 16.7895 10.9100 19.0840 35.4950 22.0100 27.9840\n",
              "[280]  1.8500  0.7670 29.9490  9.5340 16.6700  3.7430 10.6875 16.9785 33.2080\n",
              "[289] 20.1500  9.7475  3.1240  3.6360  9.0550 12.9800  5.7680 23.5140 12.0020\n",
              "[298]  4.4305  9.9820  1.9505  2.4305 10.2380  5.9840 25.2700 14.0805 35.5160\n",
              "[307]  3.9720  8.1910 23.9790  6.9330  3.5575  6.9975 39.0650  9.9370  3.1620\n",
              "[316] 18.6975 10.3845  8.8140 10.3185  1.9710  4.5780 15.4425  6.4560 19.5480\n",
              "[325] 24.9450 18.8520 10.2260  7.2720  9.9090  4.9350 19.2550  2.3480  3.6750\n",
              "[334]  7.1125 34.3800 17.3850  7.1475 19.2690  7.2135 19.5895 26.9150 24.2575\n",
              "[343]  6.6975 35.0685  3.5975 35.7000  9.1070  6.7500 49.6500 18.0915 19.1555\n",
              "[352] 12.1500  1.5120 17.8280 18.7750 47.7200  4.1250  3.7485 32.3840 37.7880\n",
              "[361]  9.9790 21.9660  8.2480 16.3360 23.0940  7.1800  9.6750  9.1910  6.0960\n",
              "[370] 21.0330 12.6240 16.7725 24.1750 15.9210 33.4215 19.3960  4.7300 16.4660\n",
              "[379]  2.6610 24.9225 14.9780 10.2350  3.7910 14.0310 16.1600 24.3315  6.3770\n",
              "[388] 12.0720 18.9750  3.8410 26.1300  3.9870 19.3750 13.5675  6.1155 12.3180\n",
              "[397]  8.6580 11.8290  9.2440  0.6990  9.9375 34.2265 13.4520  3.4475 13.7420\n",
              "[406] 11.3060  5.9550 17.1050  2.1870  5.2425  3.8760 20.3720  4.8055  9.0760\n",
              "[415]  4.0755  5.7220  8.8270  5.7900 12.6075 48.6050 10.1680  0.8140 18.2745\n",
              "[424] 18.6095  3.1305 16.8175 45.3250  6.9080  4.3270  7.0380 33.4390  2.3720\n",
              "[433] 44.6580 16.5860 10.1970  3.4080 16.3440  4.3600 35.3720 40.1445  0.6390\n",
              "[442]  6.6850  0.9575 13.8300  6.8610  1.3535  1.9560 22.4130  6.6030 15.9025\n",
              "[451]  1.2500  4.1540  7.3900 34.8300 39.6950 23.2850  1.7945 10.1300 36.5250\n",
              "[460] 14.7900  1.1310 12.8350 27.2750 13.0025 11.1060  1.0790  4.9420 25.1310\n",
              "[469]  8.0100 21.5650 29.0280 16.1100  9.7770  8.3150 16.8140 17.1850  1.9300\n",
              "[478] 26.3880 16.4000  9.2850 30.1900 18.4900  9.8980 20.5450  7.4300  1.1480\n",
              "[487] 34.9560  3.4700  9.8300 10.1280  6.0600  9.9890 30.3680  6.3220 27.0720\n",
              "[496]  4.9065 20.6080  3.6985  1.5950  6.9400  9.3310  4.4225  9.6720  7.2750\n",
              "[505] 25.2150 15.3225  4.7850 31.7590 10.7275 18.9980 34.8425 20.4365  2.5735\n",
              "[514] 13.7150  9.8475  3.4730 17.9800  6.8565 24.9510 11.2320  6.2870 24.5130\n",
              "[523] 22.8525  7.8420  5.9860 27.1800 44.1405  7.6290 34.6720 11.4750  7.3395\n",
              "[532]  7.0800  5.8345  3.6980  4.8970 14.6100 26.2440  4.6020  3.7940  4.0360\n",
              "[541]  5.6310  3.5600  7.7620 14.7100 27.4275 12.8850 19.8180  8.5905 24.4395\n",
              "[550] 26.2080  6.6630  6.7620  5.6220  7.2040 49.2600 12.4980 10.8630  9.7110\n",
              "[559] 44.6000 16.9680 22.3530  9.9250 40.6050 24.6650 29.5830 27.9510 25.8930\n",
              "[568] 20.5100 13.3350  3.5455  7.2390 21.4775 28.4585 12.0600  6.3540 12.8540\n",
              "[577]  6.9510  4.0830 15.5360  9.2980  3.6160  9.4590 10.3420  7.8510 10.7650\n",
              "[586] 29.8050  3.6550 13.9590  8.4840  2.2790 11.2800 14.5200  2.2230  7.8300\n",
              "[595] 20.9970  9.2125  7.0320  3.2495 38.7800 16.3530 18.1615  6.3500 18.7775\n",
              "[604]  9.9580  1.5305  5.7890  1.4480 44.5365 13.9830  4.0465 33.7250 17.4240\n",
              "[613] 21.7800 21.9775 29.5590 13.0380 10.7520  4.5805 33.1065 41.6250  4.5675\n",
              "[622]  7.8880  6.0870 41.2900  7.9950  0.6045 32.0950 11.7465  8.3770 14.9550\n",
              "[631] 11.9865 33.2350 10.1325  2.3100  4.4075  7.8630 14.8185 35.4200  5.5670\n",
              "[640] 29.0080  3.0125  8.7120 21.0630  1.6815  1.5490 12.3700 18.9150 16.7430\n",
              "[649] 36.3900 16.7940 12.0360  2.3535  4.9845 13.2225  6.9825  2.7725  6.4455\n",
              "[658]  5.9990 17.6250 43.5500  9.8800  9.7260  8.6610  3.5940 14.3130  4.0620\n",
              "[667] 28.0200  9.3400 11.0115 13.4560 22.7400 22.4280 14.6940 29.4750 14.5500\n",
              "[676]  1.9740  1.7405 14.7960  2.1480  6.9240  4.9100  6.4830 31.7800  7.2880\n",
              "[685] 10.0650 31.5855 19.2640 24.3150 25.6830 23.6700 21.8425  5.4080 12.4380\n",
              "[694] 31.3110 48.7500 24.1640  4.8480  9.8850 36.2115 39.7755 25.1195  8.6000\n",
              "[703]  3.4490  6.2480  3.8550 24.1860 15.1060 34.9335  6.2325  8.9200 25.0110\n",
              "[712]  1.7910  6.8070  5.2440  8.9460 40.7835  6.6180 12.8695  4.6680 11.4000\n",
              "[721]  8.3355 34.8700 19.4520 18.2630  4.4640  8.4000  0.9850 26.5580  2.6860\n",
              "[730] 40.9750 28.4200 29.3800 36.6240 42.2820 19.4635  4.2415  7.1630  3.7690\n",
              "[739] 12.6680  1.9210 32.6150  2.6325  5.5305 28.4305  6.8200  8.7100 18.3200\n",
              "[748] 12.7305 38.9160 14.2960 28.9560  9.4250 11.0780 38.6000 36.0650 25.5520\n",
              "[757]  2.6725 11.1000 38.1840 11.4090  4.1070 19.1280  3.4290 19.1080 30.0545\n",
              "[766] 23.7965  2.6210  6.5650  7.2150 22.8585  4.6690  6.3125 39.5415  8.7200\n",
              "[775] 18.9520  1.5310 17.6040  2.5400 26.1030 28.7560  2.7475  9.0705 20.6185\n",
              "[784]  2.3205 13.7100 48.6850 32.4100  4.6610  2.7180  3.0435 12.2450  4.6390\n",
              "[793] 21.6725  6.9030 12.0800 23.5865 22.0320 34.0155 15.4940  9.3180 10.0460\n",
              "[802]  0.8875 31.0900  4.3000 20.1300 16.2425  4.7575 19.4480 21.2840 15.9040\n",
              "[811] 13.5520 19.2320 11.7900 10.5780  4.7680  0.5085 10.3065 21.0280  4.4020\n",
              "[820] 32.4495  6.1920 32.4750 37.1100  4.2240 12.5140  4.7400  4.5650 14.2555\n",
              "[829]  2.6190  9.6350 13.3890 27.9350  8.7660  7.7910  3.0150  3.9470  1.4870\n",
              "[838]  1.0660 14.0670  3.6630  1.1190 32.7960 29.7300  3.7050  9.8480 18.6165\n",
              "[847] 26.3950 23.9875 16.4295  8.4480  5.6620 17.2770 21.4335  4.3135  1.2760\n",
              "[856]  5.0760 17.8745 11.9385  5.0715 36.2120  6.2820  3.6465 12.9180  8.6870\n",
              "[865]  2.8250 10.7150 26.7180  4.6580 26.1040  2.6175  1.9875 36.0080  4.8400\n",
              "[874] 16.6050  4.0720 15.9950  8.3340 15.9530  4.3950 36.7350  4.8760 38.4600\n",
              "[883] 20.9150 23.1640 23.1225  7.0950 15.1350 39.6640 21.2590 14.1810 29.9600\n",
              "[892] 15.7680 20.1780  9.1940  6.9325  4.0355  5.8320 15.6760 42.3050 20.7200\n",
              "[901]  7.9540 24.5050  4.3725 11.2260 37.2480 20.5360 14.9400 10.6470  2.1425\n",
              "[910] 18.9340 10.3455  3.9390 16.1055  4.9110  1.2730 29.0990 10.5660  2.7560\n",
              "[919]  4.4155 17.8290 39.7125  2.5310 29.9760  8.3350 37.2200 18.9450 12.8580\n",
              "[928] 27.6115 22.3700 13.8135 17.1870 13.3040 44.9190 22.8400 12.6975  3.5280\n",
              "[937] 32.8580  8.4250  2.6890  8.9525 10.5720  5.9865  3.2850  4.2080 19.7730\n",
              "[946] 14.8995 22.7205 13.8060  7.9000 44.3970  4.5990  2.0890  0.7750 14.5230\n",
              "[955]  3.3330  3.8270 14.9850 12.1515  2.3700  8.6225 42.3150 12.9185 30.4780\n",
              "[964] 12.0120  8.6130  4.9920 14.9320  7.9800  1.2725  3.3885 11.9180 11.6300\n",
              "[973] 43.8660 34.9860 33.7295 15.9275  1.4760 24.8000 41.1700 30.1480 14.1400\n",
              "[982] 38.3000  5.8030  8.7450  3.0475  2.0175 48.6900  1.5920  3.2910 30.9190\n",
              "\n",
              "$rating\n",
              " [1]  9.1  9.6  7.4  8.4  5.3  4.1  5.8  8.0  7.2  5.9  4.5  6.8  7.1  8.2  5.7\n",
              "[16]  4.6  6.9  8.6  4.4  4.8  5.1  9.9  6.0  8.5  6.7  7.7  7.5  7.0  4.7  7.6\n",
              "[31]  7.9  6.3  5.6  9.5  8.1  6.5  6.1  6.6  5.4  9.3 10.0  6.4  4.3  4.0  8.7\n",
              "[46]  9.4  5.5  8.3  7.3  4.9  4.2  9.2  7.8  5.2  9.0  8.8  6.2  9.8  9.7  5.0\n",
              "[61]  8.9\n",
              "\n",
              "$total\n",
              "  [1]  548.9715   80.2200  340.5255  489.0480  634.3785  627.6165  433.6920\n",
              "  [8]  772.3800   76.1460  172.7460   60.8160  107.1420  246.4875  453.4950\n",
              " [15]  749.4900  590.4360  506.6355  457.4430  172.2105   84.6300  451.7100\n",
              " [22]  277.1370   69.7200  181.4400  279.1845  441.7560   35.1960  184.1070\n",
              " [29]  463.8900  235.2105  494.1825  737.7615  703.7520  202.8180  417.5640\n",
              " [36]   71.5260  328.7550  575.3160  461.3280  253.0080   91.0560  117.8310\n",
              " [43]  435.4560  829.0800   32.2770  394.6320  535.7205  189.0945  119.2590\n",
              " [50]  867.6150  671.7900  234.0975   75.0540   16.2015   33.9360  722.2320\n",
              " [57]   93.1140  752.6400  759.6750  192.8430   77.9310  351.0990  520.4115\n",
              " [64]  166.0050  318.1080  166.6350   70.2870  614.9430  827.0850   19.2465\n",
              " [71]  939.5400  652.2600  152.8380  478.2330  705.6315  437.3250  463.4280\n",
              " [78]  822.2550  106.9950  624.8970  304.5420  161.7000  337.5120  256.7775\n",
              " [85]  610.4910  401.7300  362.9430   44.5935  485.0370  198.9960  471.0300\n",
              " [92]  161.5530  608.2020   94.2375  102.0180  922.6350   78.4350  166.1625\n",
              " [99]  521.0100   51.1455  742.2975  218.0115  367.0380  223.0725  931.0350\n",
              "[106]  172.4940  391.4190  321.1110  860.6850   34.6290  309.3615  535.3740\n",
              "[113]  548.7615  763.4655   85.1130  115.1850   53.9280  115.0800  112.2240\n",
              "[120]  836.3040  419.8320  944.6220  536.8440  474.3480  688.6215  169.3125\n",
              "[127]  299.8485  575.7360  853.1460  291.2070  580.4190  146.3280  550.9350\n",
              "[134]  512.1900  284.1930  138.1275  216.8460  545.0550  609.0000  942.9000\n",
              "[141]  950.2500  720.3000   31.9305  491.0850  291.4380  316.4700  277.7880\n",
              "[148]  603.6240  272.6640  384.4680  254.0160  786.6180  103.8240  680.1480\n",
              "[155]  484.5225   75.7785  263.9700  918.7290  588.3570  362.7120   66.8745\n",
              "[162]  336.5565  160.4400  418.9500  357.5880 1003.5900 1039.2900  323.0640\n",
              "[169]  510.9720  367.5525  420.2625  175.1400  333.2070  166.2360  319.7880\n",
              "[176]  186.2280  165.4485  465.4440  273.4200  472.3110  323.1480  162.7500\n",
              "[183]  288.2040   90.6990   56.9520  793.7160  195.1740   77.7735  293.2020\n",
              "[190]  242.6760  154.3920  829.7100  107.3100  171.7275   78.0045   91.7700\n",
              "[197]   26.5545  174.3000  374.7975  120.6450  241.4580  451.3635  271.9500\n",
              "[204]   93.2925  217.6335  629.8425  299.5650   95.6655  942.4485  247.8735\n",
              "[211]  881.3070  484.8900  146.2230   19.1940  130.0425  298.1160  796.9080\n",
              "[218]  180.6210  285.7050  456.2880   62.0025   13.1670   90.8250  183.0360\n",
              "[225]  655.5465  155.6520  571.4100  532.7280  170.8770   33.3585  794.6505\n",
              "[232]  310.0440  545.3700  195.5940   91.4025  232.1550   69.4050   94.1745\n",
              "[239]  235.6830  125.5170  195.7200  263.1300  788.5080  399.7560  256.4100\n",
              "[246]   94.1850  326.4240  536.9910  439.8975  369.4950   30.2190   99.7500\n",
              "[253]  494.7600  137.0040   69.6675  163.2330  135.4500  276.9480  709.3170\n",
              "[260]   69.0900  160.8600  233.5200   57.1725  723.2400  148.9740  783.3000\n",
              "[267]  297.1080  373.1700  354.0075   44.3520  203.5530   25.2630  628.1730\n",
              "[274]  352.5795  229.1100  400.7640  745.3950  462.2100  587.6640   38.8500\n",
              "[281]   16.1070  628.9290  200.2140  350.0700   78.6030  224.4375  356.5485\n",
              "[288]  697.3680  423.1500  204.6975   65.6040   76.3560  190.1550  272.5800\n",
              "[295]  121.1280  493.7940  252.0420   93.0405  209.6220   40.9605   51.0405\n",
              "[302]  214.9980  125.6640  530.6700  295.6905  745.8360   83.4120  172.0110\n",
              "[309]  503.5590  145.5930   74.7075  146.9475  820.3650  208.6770   66.4020\n",
              "[316]  392.6475  218.0745  185.0940  216.6885   41.3910   96.1380  324.2925\n",
              "[323]  135.5760  410.5080  523.8450  395.8920  214.7460  152.7120  208.0890\n",
              "[330]  103.6350  404.3550   49.3080   77.1750  149.3625  721.9800  365.0850\n",
              "[337]  150.0975  404.6490  151.4835  411.3795  565.2150  509.4075  140.6475\n",
              "[344]  736.4385   75.5475  749.7000  191.2470  141.7500 1042.6500  379.9215\n",
              "[351]  402.2655  255.1500   31.7520  374.3880  394.2750 1002.1200   86.6250\n",
              "[358]   78.7185  680.0640  793.5480  209.5590  461.2860  173.2080  343.0560\n",
              "[365]  484.9740  150.7800  203.1750  193.0110  128.0160  441.6930  265.1040\n",
              "[372]  352.2225  507.6750  334.3410  701.8515  407.3160   99.3300  345.7860\n",
              "[379]   55.8810  523.3725  314.5380  214.9350   79.6110  294.6510  339.3600\n",
              "[386]  510.9615  133.9170  253.5120  398.4750   80.6610  548.7300   83.7270\n",
              "[393]  406.8750  284.9175  128.4255  258.6780  181.8180  248.4090  194.1240\n",
              "[400]   14.6790  208.6875  718.7565  282.4920   72.3975  288.5820  237.4260\n",
              "[407]  125.0550  359.2050   45.9270  110.0925   81.3960  427.8120  100.9155\n",
              "[414]  190.5960   85.5855  120.1620  185.3670  121.5900  264.7575 1020.7050\n",
              "[421]  213.5280   17.0940  383.7645  390.7995   65.7405  353.1675  951.8250\n",
              "[428]  145.0680   90.8670  147.7980  702.2190   49.8120  937.8180  348.3060\n",
              "[435]  214.1370   71.5680  343.2240   91.5600  742.8120  843.0345   13.4190\n",
              "[442]  140.3850   20.1075  290.4300  144.0810   28.4235   41.0760  470.6730\n",
              "[449]  138.6630  333.9525   26.2500   87.2340  155.1900  731.4300  833.5950\n",
              "[456]  488.9850   37.6845  212.7300  767.0250  310.5900   23.7510  269.5350\n",
              "[463]  572.7750  273.0525  233.2260   22.6590  103.7820  527.7510  168.2100\n",
              "[470]  452.8650  609.5880  338.3100  205.3170  174.6150  353.0940  360.8850\n",
              "[477]   40.5300  554.1480  344.4000  194.9850  633.9900  388.2900  207.8580\n",
              "[484]  431.4450  156.0300   24.1080  734.0760   72.8700  206.4300  212.6880\n",
              "[491]  127.2600  209.7690  637.7280  132.7620  568.5120  103.0365  432.7680\n",
              "[498]   77.6685   33.4950  145.7400  195.9510   92.8725  203.1120  152.7750\n",
              "[505]  529.5150  321.7725  100.4850  666.9390  225.2775  398.9580  731.6925\n",
              "[512]  429.1665   54.0435  288.0150  206.7975   72.9330  377.5800  143.9865\n",
              "[519]  523.9710  235.8720  132.0270  514.7730  479.9025  164.6820  125.7060\n",
              "[526]  570.7800  926.9505  160.2090  728.1120  240.9750  154.1295  148.6800\n",
              "[533]  122.5245   77.6580  102.8370  306.8100  551.1240   96.6420   79.6740\n",
              "[540]   84.7560  118.2510   74.7600  163.0020  308.9100  575.9775  270.5850\n",
              "[547]  416.1780  180.4005  513.2295  550.3680  139.9230  142.0020  118.0620\n",
              "[554]  151.2840 1034.4600  262.4580  228.1230  203.9310  936.6000  356.3280\n",
              "[561]  469.4130  208.4250  852.7050  517.9650  621.2430  586.9710  543.7530\n",
              "[568]  430.7100  280.0350   74.4555  152.0190  451.0275  597.6285  253.2600\n",
              "[575]  133.4340  269.9340  145.9710   85.7430  326.2560  195.2580   75.9360\n",
              "[582]  198.6390  217.1820  164.8710  226.0650  625.9050   76.7550  293.1390\n",
              "[589]  178.1640   47.8590  236.8800  304.9200   46.6830  164.4300  440.9370\n",
              "[596]  193.4625  147.6720   68.2395  814.3800  343.4130  381.3915  133.3500\n",
              "[603]  394.3275  209.1180   32.1405  121.5690   30.4080  935.2665  293.6430\n",
              "[610]   84.9765  708.2250  365.9040  457.3800  461.5275  620.7390  273.7980\n",
              "[617]  225.7920   96.1905  695.2365  874.1250   95.9175  165.6480  127.8270\n",
              "[624]  867.0900  167.8950   12.6945  673.9950  246.6765  175.9170  314.0550\n",
              "[631]  251.7165  697.9350  212.7825   48.5100   92.5575  165.1230  311.1885\n",
              "[638]  743.8200  116.9070  609.1680   63.2625  182.9520  442.3230   35.3115\n",
              "[645]   32.5290  259.7700  397.2150  351.6030  764.1900  352.6740  252.7560\n",
              "[652]   49.4235  104.6745  277.6725  146.6325   58.2225  135.3555  125.9790\n",
              "[659]  370.1250  914.5500  207.4800  204.2460  181.8810   75.4740  300.5730\n",
              "[666]   85.3020  588.4200  196.1400  231.2415  282.5760  477.5400  470.9880\n",
              "[673]  308.5740  618.9750  305.5500   41.4540   36.5505  310.7160   45.1080\n",
              "[680]  145.4040  103.1100  136.1430  667.3800  153.0480  211.3650  663.2955\n",
              "[687]  404.5440  510.6150  539.3430  497.0700  458.6925  113.5680  261.1980\n",
              "[694]  657.5310 1023.7500  507.4440  101.8080  207.5850  760.4415  835.2855\n",
              "[701]  527.5095  180.6000   72.4290  131.2080   80.9550  507.9060  317.2260\n",
              "[708]  733.6035  130.8825  187.3200  525.2310   37.6110  142.9470  110.1240\n",
              "[715]  187.8660  856.4535  138.9780  270.2595   98.0280  239.4000  175.0455\n",
              "[722]  732.2700  408.4920  383.5230   93.7440  176.4000   20.6850  557.7180\n",
              "[729]   56.4060  860.4750  596.8200  616.9800  769.1040  887.9220  408.7335\n",
              "[736]   89.0715  150.4230   79.1490  266.0280   40.3410  684.9150   55.2825\n",
              "[743]  116.1405  597.0405  143.2200  182.9100  384.7200  267.3405  817.2360\n",
              "[750]  300.2160  608.0760  197.9250  232.6380  810.6000  757.3650  536.5920\n",
              "[757]   56.1225  233.1000  801.8640  239.5890   86.2470  401.6880   72.0090\n",
              "[764]  401.2680  631.1445  499.7265   55.0410  137.8650  151.5150  480.0285\n",
              "[771]   98.0490  132.5625  830.3715  183.1200  397.9920   32.1510  369.6840\n",
              "[778]   53.3400  548.1630  603.8760   57.6975  190.4805  432.9885   48.7305\n",
              "[785]  287.9100 1022.3850  680.6100   97.8810   57.0780   63.9135  257.1450\n",
              "[792]   97.4190  455.1225  144.9630  253.6800  495.3165  462.6720  714.3255\n",
              "[799]  325.3740  195.6780  210.9660   18.6375  652.8900   90.3000  422.7300\n",
              "[806]  341.0925   99.9075  408.4080  446.9640  333.9840  284.5920  403.8720\n",
              "[813]  247.5900  222.1380  100.1280   10.6785  216.4365  441.5880   92.4420\n",
              "[820]  681.4395  130.0320  681.9750  779.3100   88.7040  262.7940   99.5400\n",
              "[827]   95.8650  299.3655   54.9990  202.3350  281.1690  586.6350  184.0860\n",
              "[834]  163.6110   63.3150   82.8870   31.2270   22.3860  295.4070   76.9230\n",
              "[841]   23.4990  688.7160  624.3300   77.8050  206.8080  390.9465  554.2950\n",
              "[848]  503.7375  345.0195  177.4080  118.9020  362.8170  450.1035   90.5835\n",
              "[855]   26.7960  106.5960  375.3645  250.7085  106.5015  760.4520  131.9220\n",
              "[862]   76.5765  271.2780  182.4270   59.3250  225.0150  561.0780   97.8180\n",
              "[869]  548.1840   54.9675   41.7375  756.1680  101.6400  348.7050   85.5120\n",
              "[876]  335.8950  175.0140  335.0130   92.2950  771.4350  102.3960  807.6600\n",
              "[883]  439.2150  486.4440  485.5725  148.9950  317.8350  832.9440  446.4390\n",
              "[890]  297.8010  629.1600  331.1280  423.7380  193.0740  145.5825   84.7455\n",
              "[897]  122.4720  329.1960  888.4050  435.1200  167.0340  514.6050   91.8225\n",
              "[904]  235.7460  782.2080  431.2560  313.7400  223.5870   44.9925  397.6140\n",
              "[911]  217.2555   82.7190  338.2155  103.1310   26.7330  611.0790  221.8860\n",
              "[918]   57.8760   92.7255  374.4090  833.9625   53.1510  629.4960  175.0350\n",
              "[925]  781.6200  397.8450  270.0180  579.8415  469.7700  290.0835  360.9270\n",
              "[932]  279.3840  943.2990  479.6400  266.6475   74.0880  690.0180  176.9250\n",
              "[939]   56.4690  188.0025  222.0120  125.7165   68.9850   88.3680  415.2330\n",
              "[946]  312.8895  477.1305  289.9260  165.9000  932.3370   96.5790   43.8690\n",
              "[953]   16.2750  304.9830   69.9930   80.3670  314.6850  255.1815   49.7700\n",
              "[960]  181.0725  888.6150  271.2885  640.0380  252.2520  180.8730  104.8320\n",
              "[967]  313.5720  167.5800   26.7225   71.1585  250.2780  244.2300  921.1860\n",
              "[974]  734.7060  708.3195  334.4775   30.9960  520.8000  864.5700  633.1080\n",
              "[981]  296.9400  804.3000  121.8630  183.6450   63.9975   42.3675 1022.4900\n",
              "[988]   33.4320   69.1110  649.2990\n",
              "\n",
              "$year\n",
              "[1] 2019\n",
              "\n",
              "$month\n",
              "[1] 1 3 2\n",
              "\n",
              "$day\n",
              " [1]  5  8  3 27 25 24 10 20  6  9 12  7 29 15 11  1 21 17  2 22 28 23  4 16 19\n",
              "[26] 14 13 26 18 30 31\n",
              "\n",
              "$hour\n",
              " [1] \"13\" \"10\" \"20\" \"18\" \"14\" \"11\" \"17\" \"16\" \"19\" \"15\" \"12\"\n"
            ],
            "text/latex": "\\begin{description}\n\\item[\\$invoice.id] \\begin{enumerate*}\n\\item '750-67-8428'\n\\item '226-31-3081'\n\\item '631-41-3108'\n\\item '123-19-1176'\n\\item '373-73-7910'\n\\item '699-14-3026'\n\\item '355-53-5943'\n\\item '315-22-5665'\n\\item '665-32-9167'\n\\item '692-92-5582'\n\\item '351-62-0822'\n\\item '529-56-3974'\n\\item '365-64-0515'\n\\item '252-56-2699'\n\\item '829-34-3910'\n\\item '299-46-1805'\n\\item '656-95-9349'\n\\item '765-26-6951'\n\\item '329-62-1586'\n\\item '319-50-3348'\n\\item '300-71-4605'\n\\item '371-85-5789'\n\\item '273-16-6619'\n\\item '636-48-8204'\n\\item '549-59-1358'\n\\item '227-03-5010'\n\\item '649-29-6775'\n\\item '189-17-4241'\n\\item '145-94-9061'\n\\item '848-62-7243'\n\\item '871-79-8483'\n\\item '149-71-6266'\n\\item '640-49-2076'\n\\item '595-11-5460'\n\\item '183-56-6882'\n\\item '232-16-2483'\n\\item '129-29-8530'\n\\item '272-65-1806'\n\\item '333-73-7901'\n\\item '777-82-7220'\n\\item '280-35-5823'\n\\item '554-53-8700'\n\\item '354-25-5821'\n\\item '228-96-1411'\n\\item '617-15-4209'\n\\item '132-32-9879'\n\\item '370-41-7321'\n\\item '727-46-3608'\n\\item '669-54-1719'\n\\item '574-22-5561'\n\\item '326-78-5178'\n\\item '162-48-8011'\n\\item '616-24-2851'\n\\item '778-71-5554'\n\\item '242-55-6721'\n\\item '399-46-5918'\n\\item '106-35-6779'\n\\item '635-40-6220'\n\\item '817-48-8732'\n\\item '120-06-4233'\n\\item '285-68-5083'\n\\item '803-83-5989'\n\\item '347-34-2234'\n\\item '199-75-8169'\n\\item '853-23-2453'\n\\item '877-22-3308'\n\\item '838-78-4295'\n\\item '109-28-2512'\n\\item '232-11-3025'\n\\item '382-03-4532'\n\\item '393-65-2792'\n\\item '796-12-2025'\n\\item '510-95-6347'\n\\item '841-35-6630'\n\\item '287-21-9091'\n\\item '732-94-0499'\n\\item '263-10-3913'\n\\item '381-20-0914'\n\\item '829-49-1914'\n\\item '756-01-7507'\n\\item '870-72-4431'\n\\item '847-38-7188'\n\\item '480-63-2856'\n\\item '787-56-0757'\n\\item '360-39-5055'\n\\item '730-50-9884'\n\\item '362-58-8315'\n\\item '633-44-8566'\n\\item '504-35-8843'\n\\item '318-68-5053'\n\\item '565-80-5980'\n\\item '225-32-0908'\n\\item '873-51-0671'\n\\item '152-08-9985'\n\\item '512-91-0811'\n\\item '594-34-4444'\n\\item '766-85-7061'\n\\item '871-39-9221'\n\\item '865-92-6136'\n\\item '733-01-9107'\n\\item '163-56-7055'\n\\item '189-98-2939'\n\\item '551-21-3069'\n\\item '212-62-1842'\n\\item '716-39-1409'\n\\item '704-48-3927'\n\\item '628-34-3388'\n\\item '630-74-5166'\n\\item '588-01-7461'\n\\item '861-77-0145'\n\\item '479-26-8945'\n\\item '210-67-5886'\n\\item '227-78-1148'\n\\item '645-44-1170'\n\\item '237-01-6122'\n\\item '225-98-1496'\n\\item '291-32-1427'\n\\item '659-65-8956'\n\\item '642-32-2990'\n\\item '378-24-2715'\n\\item '638-60-7125'\n\\item '659-36-1684'\n\\item '219-22-9386'\n\\item '336-78-2147'\n\\item '268-27-6179'\n\\item '668-90-8900'\n\\item '870-54-3162'\n\\item '189-08-9157'\n\\item '663-86-9076'\n\\item '549-84-7482'\n\\item '191-10-6171'\n\\item '802-70-5316'\n\\item '695-51-0018'\n\\item '590-83-4591'\n\\item '483-71-1164'\n\\item '597-78-7908'\n\\item '700-81-1757'\n\\item '354-39-5160'\n\\item '241-72-9525'\n\\item '575-30-8091'\n\\item '731-81-9469'\n\\item '280-17-4359'\n\\item '338-65-2210'\n\\item '488-25-4221'\n\\item '239-10-7476'\n\\item '458-41-1477'\n\\item '685-64-1609'\n\\item '568-90-5112'\n\\item '262-47-2794'\n\\item '238-49-0436'\n\\item '608-96-3517'\n\\item '584-86-7256'\n\\item '746-94-0204'\n\\item '214-17-6927'\n\\item '400-89-4171'\n\\item '782-95-9291'\n\\item '279-74-2924'\n\\item '307-85-2293'\n\\item '743-04-1105'\n\\item '423-57-2993'\n\\item '894-41-5205'\n\\item '275-28-0149'\n\\item '101-17-6199'\n\\item '423-80-0988'\n\\item '548-46-9322'\n\\item '505-02-0892'\n\\item '234-65-2137'\n\\item '687-47-8271'\n\\item '796-32-9050'\n\\item '105-31-1824'\n\\item '249-42-3782'\n\\item '316-55-4634'\n\\item '733-33-4967'\n\\item '608-27-6295'\n\\item '414-12-7047'\n\\item '827-26-2100'\n\\item '175-54-2529'\n\\item '139-52-2867'\n\\item '407-63-8975'\n\\item '342-65-4817'\n\\item '130-98-8941'\n\\item '434-83-9547'\n\\item '851-28-6367'\n\\item '824-88-3614'\n\\item '586-25-0848'\n\\item '895-66-0685'\n\\item '305-14-0245'\n\\item '732-04-5373'\n\\item '400-60-7251'\n\\item '593-65-1552'\n\\item '284-34-9626'\n\\item '437-58-8131'\n\\item '286-43-6208'\n\\item '641-43-2399'\n\\item '831-07-6050'\n\\item '556-86-3144'\n\\item '848-24-9445'\n\\item '856-22-8149'\n\\item '699-01-4164'\n\\item '420-11-4919'\n\\item ⋯\n\\item '751-15-6198'\n\\item '324-41-6833'\n\\item '474-33-8305'\n\\item '759-29-9521'\n\\item '831-81-6575'\n\\item '220-68-6701'\n\\item '618-34-8551'\n\\item '257-60-7754'\n\\item '559-61-5987'\n\\item '189-55-2313'\n\\item '565-91-4567'\n\\item '380-60-5336'\n\\item '815-04-6282'\n\\item '674-56-6360'\n\\item '778-34-2523'\n\\item '499-27-7781'\n\\item '477-59-2456'\n\\item '832-51-6761'\n\\item '869-11-3082'\n\\item '190-59-3964'\n\\item '366-43-6862'\n\\item '186-43-8965'\n\\item '784-21-9238'\n\\item '276-75-6884'\n\\item '109-86-4363'\n\\item '569-76-2760'\n\\item '222-42-0244'\n\\item '760-53-9233'\n\\item '538-22-0304'\n\\item '416-17-9926'\n\\item '237-44-6163'\n\\item '636-17-0325'\n\\item '343-75-9322'\n\\item '528-14-9470'\n\\item '427-45-9297'\n\\item '807-34-3742'\n\\item '288-62-1085'\n\\item '670-71-7306'\n\\item '660-29-7083'\n\\item '271-77-8740'\n\\item '497-36-0989'\n\\item '291-59-1384'\n\\item '860-73-6466'\n\\item '549-23-9016'\n\\item '896-34-0956'\n\\item '804-38-3935'\n\\item '585-90-0249'\n\\item '862-29-5914'\n\\item '845-94-6841'\n\\item '125-45-2293'\n\\item '843-73-4724'\n\\item '409-33-9708'\n\\item '658-66-3967'\n\\item '866-70-2814'\n\\item '160-22-2687'\n\\item '895-03-6665'\n\\item '770-42-8960'\n\\item '748-45-2862'\n\\item '234-36-2483'\n\\item '316-66-3011'\n\\item '848-95-6252'\n\\item '840-76-5966'\n\\item '152-03-4217'\n\\item '533-66-5566'\n\\item '124-31-1458'\n\\item '176-78-1170'\n\\item '361-59-0574'\n\\item '101-81-4070'\n\\item '631-34-1880'\n\\item '852-82-2749'\n\\item '873-14-6353'\n\\item '584-66-4073'\n\\item '544-55-9589'\n\\item '166-19-2553'\n\\item '737-88-5876'\n\\item '154-87-7367'\n\\item '885-56-0389'\n\\item '608-05-3804'\n\\item '448-61-3783'\n\\item '761-49-0439'\n\\item '490-95-0021'\n\\item '115-38-7388'\n\\item '311-13-6971'\n\\item '291-55-6563'\n\\item '548-48-3156'\n\\item '460-93-5834'\n\\item '325-89-4209'\n\\item '884-80-6021'\n\\item '137-74-8729'\n\\item '880-46-5796'\n\\item '389-70-2397'\n\\item '114-35-5271'\n\\item '607-76-6216'\n\\item '715-20-1673'\n\\item '811-35-1094'\n\\item '699-88-1972'\n\\item '781-84-8059'\n\\item '409-49-6995'\n\\item '725-54-0677'\n\\item '146-09-5432'\n\\item '377-79-7592'\n\\item '509-10-0516'\n\\item '595-94-9924'\n\\item '865-41-9075'\n\\item '545-07-8534'\n\\item '118-62-1812'\n\\item '450-42-3339'\n\\item '851-98-3555'\n\\item '186-71-5196'\n\\item '624-01-8356'\n\\item '313-66-9943'\n\\item '151-27-8496'\n\\item '453-33-6436'\n\\item '522-57-8364'\n\\item '459-45-2396'\n\\item '717-96-4189'\n\\item '722-13-2115'\n\\item '749-81-8133'\n\\item '777-67-2495'\n\\item '636-98-3364'\n\\item '246-55-6923'\n\\item '181-82-6255'\n\\item '838-02-1821'\n\\item '887-42-0517'\n\\item '457-12-0244'\n\\item '226-34-0034'\n\\item '321-49-7382'\n\\item '397-25-8725'\n\\item '431-66-2305'\n\\item '825-94-5922'\n\\item '641-62-7288'\n\\item '756-93-1854'\n\\item '243-55-8457'\n\\item '458-10-8612'\n\\item '501-61-1753'\n\\item '235-06-8510'\n\\item '433-08-7822'\n\\item '361-85-2571'\n\\item '131-70-8179'\n\\item '500-02-2261'\n\\item '720-72-2436'\n\\item '702-83-5291'\n\\item '809-69-9497'\n\\item '449-16-6770'\n\\item '333-23-2632'\n\\item '489-82-1237'\n\\item '859-97-6048'\n\\item '676-10-2200'\n\\item '373-88-1424'\n\\item '365-16-4334'\n\\item '503-21-4385'\n\\item '305-89-2768'\n\\item '574-80-1489'\n\\item '784-08-0310'\n\\item '200-40-6154'\n\\item '846-10-0341'\n\\item '577-34-7579'\n\\item '430-02-3888'\n\\item '867-47-1948'\n\\item '384-59-6655'\n\\item '256-58-3609'\n\\item '324-92-3863'\n\\item '593-08-5916'\n\\item '364-34-2972'\n\\item '794-42-3736'\n\\item '172-42-8274'\n\\item '558-60-5016'\n\\item '195-06-0432'\n\\item '605-03-2706'\n\\item '214-30-2776'\n\\item '746-04-1077'\n\\item '448-34-8700'\n\\item '452-04-8808'\n\\item '531-56-4728'\n\\item '744-82-9138'\n\\item '883-69-1285'\n\\item '221-25-5073'\n\\item '518-71-6847'\n\\item '156-20-0370'\n\\item '151-33-7434'\n\\item '728-47-9078'\n\\item '809-46-1866'\n\\item '139-32-4183'\n\\item '148-41-7930'\n\\item '189-40-5216'\n\\item '374-38-5555'\n\\item '764-44-8999'\n\\item '552-44-5977'\n\\item '267-62-7380'\n\\item '430-53-4718'\n\\item '886-18-2897'\n\\item '602-16-6955'\n\\item '745-74-0715'\n\\item '690-01-6631'\n\\item '652-49-6720'\n\\item '233-67-5758'\n\\item '303-96-2227'\n\\item '727-02-1313'\n\\item '347-56-2442'\n\\item '849-09-3807'\n\\end{enumerate*}\n\n\\item[\\$branch] \\begin{enumerate*}\n\\item 'A'\n\\item 'C'\n\\item 'B'\n\\end{enumerate*}\n\n\\item[\\$customer.type] \\begin{enumerate*}\n\\item 'Member'\n\\item 'Normal'\n\\end{enumerate*}\n\n\\item[\\$gender] \\begin{enumerate*}\n\\item 'Female'\n\\item 'Male'\n\\end{enumerate*}\n\n\\item[\\$product.line] \\begin{enumerate*}\n\\item 'Health and beauty'\n\\item 'Electronic accessories'\n\\item 'Home and lifestyle'\n\\item 'Sports and travel'\n\\item 'Food and beverages'\n\\item 'Fashion accessories'\n\\end{enumerate*}\n\n\\item[\\$unit.price] \\begin{enumerate*}\n\\item 74.69\n\\item 15.28\n\\item 46.33\n\\item 58.22\n\\item 86.31\n\\item 85.39\n\\item 68.84\n\\item 73.56\n\\item 36.26\n\\item 54.84\n\\item 14.48\n\\item 25.51\n\\item 46.95\n\\item 43.19\n\\item 71.38\n\\item 93.72\n\\item 68.93\n\\item 72.61\n\\item 54.67\n\\item 40.3\n\\item 86.04\n\\item 87.98\n\\item 33.2\n\\item 34.56\n\\item 88.63\n\\item 52.59\n\\item 33.52\n\\item 87.67\n\\item 88.36\n\\item 24.89\n\\item 94.13\n\\item 78.07\n\\item 83.78\n\\item 96.58\n\\item 99.42\n\\item 68.12\n\\item 62.62\n\\item 60.88\n\\item 54.92\n\\item 30.12\n\\item 86.72\n\\item 56.11\n\\item 69.12\n\\item 98.7\n\\item 15.37\n\\item 93.96\n\\item 56.69\n\\item 20.01\n\\item 18.93\n\\item 82.63\n\\item 91.4\n\\item 44.59\n\\item 17.87\n\\item 15.43\n\\item 16.16\n\\item 85.98\n\\item 44.34\n\\item 89.6\n\\item 72.35\n\\item 30.61\n\\item 24.74\n\\item 55.73\n\\item 55.07\n\\item 15.81\n\\item 75.74\n\\item 15.87\n\\item 33.47\n\\item 97.61\n\\item 78.77\n\\item 18.33\n\\item 89.48\n\\item 62.12\n\\item 48.52\n\\item 75.91\n\\item 74.67\n\\item 41.65\n\\item 49.04\n\\item 78.31\n\\item 20.38\n\\item 99.19\n\\item 96.68\n\\item 19.25\n\\item 80.36\n\\item 48.91\n\\item 83.06\n\\item 76.52\n\\item 49.38\n\\item 42.47\n\\item 76.99\n\\item 47.38\n\\item 44.86\n\\item 21.98\n\\item 64.36\n\\item 89.75\n\\item 97.16\n\\item 87.87\n\\item 12.45\n\\item 52.75\n\\item 82.7\n\\item 48.71\n\\item 78.55\n\\item 23.07\n\\item 58.26\n\\item 30.35\n\\item 88.67\n\\item 27.38\n\\item 62.13\n\\item 33.98\n\\item 81.97\n\\item 16.49\n\\item 98.21\n\\item 72.84\n\\item 58.07\n\\item 80.79\n\\item 27.02\n\\item 21.94\n\\item 51.36\n\\item 10.96\n\\item 53.44\n\\item 99.56\n\\item 57.12\n\\item 99.96\n\\item 63.91\n\\item 56.47\n\\item 93.69\n\\item 32.25\n\\item 31.73\n\\item 68.54\n\\item 90.28\n\\item 39.62\n\\item 92.13\n\\item 34.84\n\\item 87.45\n\\item 81.3\n\\item 90.22\n\\item 26.31\n\\item 34.42\n\\item 51.91\n\\item 72.5\n\\item 89.8\n\\item 90.5\n\\item 68.6\n\\item 30.41\n\\item 77.95\n\\item 46.26\n\\item 30.14\n\\item 66.14\n\\item 71.86\n\\item 32.46\n\\item 91.54\n\\item 83.24\n\\item 16.48\n\\item 80.97\n\\item 92.29\n\\item 72.17\n\\item 50.28\n\\item 97.22\n\\item 93.39\n\\item 43.18\n\\item 63.69\n\\item 45.79\n\\item 76.4\n\\item 39.9\n\\item 42.57\n\\item 95.58\n\\item 98.98\n\\item 51.28\n\\item 69.52\n\\item 70.01\n\\item 80.05\n\\item 20.85\n\\item 52.89\n\\item 19.79\n\\item 33.84\n\\item 22.17\n\\item 22.51\n\\item 73.88\n\\item 86.8\n\\item 64.26\n\\item 38.47\n\\item 15.5\n\\item 34.31\n\\item 12.34\n\\item 18.08\n\\item 94.49\n\\item 46.47\n\\item 74.07\n\\item 69.81\n\\item 77.04\n\\item 73.52\n\\item 87.8\n\\item 25.55\n\\item 32.71\n\\item 74.29\n\\item 43.7\n\\item 25.29\n\\item 41.5\n\\item 71.39\n\\item 19.15\n\\item 57.49\n\\item ⋯\n\\item 28.86\n\\item 65.31\n\\item 93.38\n\\item 25.25\n\\item 21.8\n\\item 94.76\n\\item 30.62\n\\item 44.01\n\\item 10.16\n\\item 74.58\n\\item 71.89\n\\item 10.99\n\\item 60.47\n\\item 58.91\n\\item 46.41\n\\item 68.55\n\\item 97.37\n\\item 92.6\n\\item 46.61\n\\item 27.18\n\\item 24.49\n\\item 92.78\n\\item 86.69\n\\item 23.01\n\\item 30.2\n\\item 67.39\n\\item 48.96\n\\item 75.59\n\\item 77.47\n\\item 93.18\n\\item 50.23\n\\item 17.75\n\\item 62.18\n\\item 10.75\n\\item 40.26\n\\item 64.97\n\\item 95.15\n\\item 48.62\n\\item 53.21\n\\item 45.44\n\\item 33.88\n\\item 96.16\n\\item 47.16\n\\item 47.68\n\\item 10.17\n\\item 60.08\n\\item 72.11\n\\item 41.28\n\\item 64.95\n\\item 74.22\n\\item 10.56\n\\item 62.57\n\\item 11.85\n\\item 91.3\n\\item 40.73\n\\item 52.38\n\\item 38.54\n\\item 44.63\n\\item 55.87\n\\item 29.22\n\\item 39.47\n\\item 14.87\n\\item 21.32\n\\item 93.78\n\\item 73.26\n\\item 22.38\n\\item 99.1\n\\item 74.1\n\\item 98.48\n\\item 53.19\n\\item 52.79\n\\item 95.95\n\\item 36.51\n\\item 28.31\n\\item 57.59\n\\item 47.63\n\\item 86.27\n\\item 12.76\n\\item 11.28\n\\item 51.07\n\\item 79.59\n\\item 33.81\n\\item 90.53\n\\item 62.82\n\\item 24.31\n\\item 64.59\n\\item 24.82\n\\item 56.5\n\\item 21.43\n\\item 89.06\n\\item 23.29\n\\item 65.26\n\\item 52.35\n\\item 90.02\n\\item 12.1\n\\item 33.21\n\\item 10.18\n\\item 31.99\n\\item 83.34\n\\item 87.9\n\\item 12.19\n\\item 76.92\n\\item 83.66\n\\item 57.91\n\\item 92.49\n\\item 28.38\n\\item 50.45\n\\item 99.16\n\\item 60.74\n\\item 47.27\n\\item 85.6\n\\item 35.04\n\\item 44.84\n\\item 45.97\n\\item 27.73\n\\item 11.53\n\\item 58.32\n\\item 84.61\n\\item 82.88\n\\item 79.54\n\\item 49.01\n\\item 29.15\n\\item 56.13\n\\item 93.12\n\\item 99.6\n\\item 35.49\n\\item 42.85\n\\item 94.67\n\\item 68.97\n\\item 35.79\n\\item 16.37\n\\item 12.73\n\\item 83.14\n\\item 35.22\n\\item 13.78\n\\item 88.31\n\\item 88.25\n\\item 25.31\n\\item 99.92\n\\item 83.35\n\\item 74.44\n\\item 63.15\n\\item 85.72\n\\item 78.89\n\\item 92.09\n\\item 57.29\n\\item 66.52\n\\item 45.68\n\\item 50.79\n\\item 10.08\n\\item 93.88\n\\item 84.25\n\\item 53.78\n\\item 35.81\n\\item 26.43\n\\item 39.91\n\\item 21.9\n\\item 62.85\n\\item 21.04\n\\item 65.91\n\\item 50.49\n\\item 46.02\n\\item 15.8\n\\item 98.66\n\\item 91.98\n\\item 20.89\n\\item 96.82\n\\item 33.33\n\\item 38.27\n\\item 33.3\n\\item 81.01\n\\item 34.49\n\\item 84.63\n\\item 36.91\n\\item 87.08\n\\item 80.08\n\\item 86.13\n\\item 49.92\n\\item 74.66\n\\item 26.6\n\\item 25.45\n\\item 67.77\n\\item 59.59\n\\item 58.15\n\\item 97.48\n\\item 96.37\n\\item 63.71\n\\item 14.76\n\\item 62\n\\item 82.34\n\\item 75.37\n\\item 56.56\n\\item 76.6\n\\item 58.03\n\\item 17.49\n\\item 40.35\n\\item 97.38\n\\item 31.84\n\\item 65.82\n\\item 88.34\n\\end{enumerate*}\n\n\\item[\\$quantity] \\begin{enumerate*}\n\\item 7\n\\item 5\n\\item 8\n\\item 6\n\\item 10\n\\item 2\n\\item 3\n\\item 4\n\\item 1\n\\item 9\n\\end{enumerate*}\n\n\\item[\\$tax] \\begin{enumerate*}\n\\item 26.1415\n\\item 3.82\n\\item 16.2155\n\\item 23.288\n\\item 30.2085\n\\item 29.8865\n\\item 20.652\n\\item 36.78\n\\item 3.626\n\\item 8.226\n\\item 2.896\n\\item 5.102\n\\item 11.7375\n\\item 21.595\n\\item 35.69\n\\item 28.116\n\\item 24.1255\n\\item 21.783\n\\item 8.2005\n\\item 4.03\n\\item 21.51\n\\item 13.197\n\\item 3.32\n\\item 8.64\n\\item 13.2945\n\\item 21.036\n\\item 1.676\n\\item 8.767\n\\item 22.09\n\\item 11.2005\n\\item 23.5325\n\\item 35.1315\n\\item 33.512\n\\item 9.658\n\\item 19.884\n\\item 3.406\n\\item 15.655\n\\item 27.396\n\\item 21.968\n\\item 12.048\n\\item 4.336\n\\item 5.611\n\\item 20.736\n\\item 39.48\n\\item 1.537\n\\item 18.792\n\\item 25.5105\n\\item 9.0045\n\\item 5.679\n\\item 41.315\n\\item 31.99\n\\item 11.1475\n\\item 3.574\n\\item 0.7715\n\\item 1.616\n\\item 34.392\n\\item 4.434\n\\item 35.84\n\\item 36.175\n\\item 9.183\n\\item 3.711\n\\item 16.719\n\\item 24.7815\n\\item 7.905\n\\item 15.148\n\\item 7.935\n\\item 3.347\n\\item 29.283\n\\item 39.385\n\\item 0.9165\n\\item 44.74\n\\item 31.06\n\\item 7.278\n\\item 22.773\n\\item 33.6015\n\\item 20.825\n\\item 22.068\n\\item 39.155\n\\item 5.095\n\\item 29.757\n\\item 14.502\n\\item 7.7\n\\item 16.072\n\\item 12.2275\n\\item 29.071\n\\item 19.13\n\\item 17.283\n\\item 2.1235\n\\item 23.097\n\\item 9.476\n\\item 22.43\n\\item 7.693\n\\item 28.962\n\\item 4.4875\n\\item 4.858\n\\item 43.935\n\\item 3.735\n\\item 7.9125\n\\item 24.81\n\\item 2.4355\n\\item 35.3475\n\\item 10.3815\n\\item 17.478\n\\item 10.6225\n\\item 44.335\n\\item 8.214\n\\item 18.639\n\\item 15.291\n\\item 40.985\n\\item 1.649\n\\item 14.7315\n\\item 25.494\n\\item 26.1315\n\\item 36.3555\n\\item 4.053\n\\item 5.485\n\\item 2.568\n\\item 5.48\n\\item 5.344\n\\item 39.824\n\\item 19.992\n\\item 44.982\n\\item 25.564\n\\item 22.588\n\\item 32.7915\n\\item 8.0625\n\\item 14.2785\n\\item 27.416\n\\item 40.626\n\\item 13.867\n\\item 27.639\n\\item 6.968\n\\item 26.235\n\\item 24.39\n\\item 13.533\n\\item 6.5775\n\\item 10.326\n\\item 25.955\n\\item 29\n\\item 44.9\n\\item 45.25\n\\item 34.3\n\\item 1.5205\n\\item 23.385\n\\item 13.878\n\\item 15.07\n\\item 13.228\n\\item 28.744\n\\item 12.984\n\\item 18.308\n\\item 12.096\n\\item 37.458\n\\item 4.944\n\\item 32.388\n\\item 23.0725\n\\item 3.6085\n\\item 12.57\n\\item 43.749\n\\item 28.017\n\\item 17.272\n\\item 3.1845\n\\item 16.0265\n\\item 7.64\n\\item 19.95\n\\item 17.028\n\\item 47.79\n\\item 49.49\n\\item 15.384\n\\item 24.332\n\\item 17.5025\n\\item 20.0125\n\\item 8.34\n\\item 15.867\n\\item 7.916\n\\item 15.228\n\\item 8.868\n\\item 7.8785\n\\item 22.164\n\\item 13.02\n\\item 22.491\n\\item 15.388\n\\item 7.75\n\\item 13.724\n\\item 4.319\n\\item 2.712\n\\item 37.796\n\\item 9.294\n\\item 3.7035\n\\item 13.962\n\\item 11.556\n\\item 7.352\n\\item 39.51\n\\item 5.11\n\\item 8.1775\n\\item 3.7145\n\\item 4.37\n\\item 1.2645\n\\item 8.3\n\\item 17.8475\n\\item 5.745\n\\item ⋯\n\\item 12.245\n\\item 4.639\n\\item 21.6725\n\\item 6.903\n\\item 12.08\n\\item 23.5865\n\\item 22.032\n\\item 34.0155\n\\item 15.494\n\\item 9.318\n\\item 10.046\n\\item 0.8875\n\\item 31.09\n\\item 4.3\n\\item 20.13\n\\item 16.2425\n\\item 4.7575\n\\item 19.448\n\\item 21.284\n\\item 15.904\n\\item 13.552\n\\item 19.232\n\\item 11.79\n\\item 10.578\n\\item 4.768\n\\item 0.5085\n\\item 10.3065\n\\item 21.028\n\\item 4.402\n\\item 32.4495\n\\item 6.192\n\\item 32.475\n\\item 37.11\n\\item 4.224\n\\item 12.514\n\\item 4.74\n\\item 4.565\n\\item 14.2555\n\\item 2.619\n\\item 9.635\n\\item 13.389\n\\item 27.935\n\\item 8.766\n\\item 7.791\n\\item 3.015\n\\item 3.947\n\\item 1.487\n\\item 1.066\n\\item 14.067\n\\item 3.663\n\\item 1.119\n\\item 32.796\n\\item 29.73\n\\item 3.705\n\\item 9.848\n\\item 18.6165\n\\item 26.395\n\\item 23.9875\n\\item 16.4295\n\\item 8.448\n\\item 5.662\n\\item 17.277\n\\item 21.4335\n\\item 4.3135\n\\item 1.276\n\\item 5.076\n\\item 17.8745\n\\item 11.9385\n\\item 5.0715\n\\item 36.212\n\\item 6.282\n\\item 3.6465\n\\item 12.918\n\\item 8.687\n\\item 2.825\n\\item 10.715\n\\item 26.718\n\\item 4.658\n\\item 26.104\n\\item 2.6175\n\\item 1.9875\n\\item 36.008\n\\item 4.84\n\\item 16.605\n\\item 4.072\n\\item 15.995\n\\item 8.334\n\\item 15.953\n\\item 4.395\n\\item 36.735\n\\item 4.876\n\\item 38.46\n\\item 20.915\n\\item 23.164\n\\item 23.1225\n\\item 7.095\n\\item 15.135\n\\item 39.664\n\\item 21.259\n\\item 14.181\n\\item 29.96\n\\item 15.768\n\\item 20.178\n\\item 9.194\n\\item 6.9325\n\\item 4.0355\n\\item 5.832\n\\item 15.676\n\\item 42.305\n\\item 20.72\n\\item 7.954\n\\item 24.505\n\\item 4.3725\n\\item 11.226\n\\item 37.248\n\\item 20.536\n\\item 14.94\n\\item 10.647\n\\item 2.1425\n\\item 18.934\n\\item 10.3455\n\\item 3.939\n\\item 16.1055\n\\item 4.911\n\\item 1.273\n\\item 29.099\n\\item 10.566\n\\item 2.756\n\\item 4.4155\n\\item 17.829\n\\item 39.7125\n\\item 2.531\n\\item 29.976\n\\item 8.335\n\\item 37.22\n\\item 18.945\n\\item 12.858\n\\item 27.6115\n\\item 22.37\n\\item 13.8135\n\\item 17.187\n\\item 13.304\n\\item 44.919\n\\item 22.84\n\\item 12.6975\n\\item 3.528\n\\item 32.858\n\\item 8.425\n\\item 2.689\n\\item 8.9525\n\\item 10.572\n\\item 5.9865\n\\item 3.285\n\\item 4.208\n\\item 19.773\n\\item 14.8995\n\\item 22.7205\n\\item 13.806\n\\item 7.9\n\\item 44.397\n\\item 4.599\n\\item 2.089\n\\item 0.775\n\\item 14.523\n\\item 3.333\n\\item 3.827\n\\item 14.985\n\\item 12.1515\n\\item 2.37\n\\item 8.6225\n\\item 42.315\n\\item 12.9185\n\\item 30.478\n\\item 12.012\n\\item 8.613\n\\item 4.992\n\\item 14.932\n\\item 7.98\n\\item 1.2725\n\\item 3.3885\n\\item 11.918\n\\item 11.63\n\\item 43.866\n\\item 34.986\n\\item 33.7295\n\\item 15.9275\n\\item 1.476\n\\item 24.8\n\\item 41.17\n\\item 30.148\n\\item 14.14\n\\item 38.3\n\\item 5.803\n\\item 8.745\n\\item 3.0475\n\\item 2.0175\n\\item 48.69\n\\item 1.592\n\\item 3.291\n\\item 30.919\n\\end{enumerate*}\n\n\\item[\\$payment] \\begin{enumerate*}\n\\item 'Ewallet'\n\\item 'Cash'\n\\item 'Credit card'\n\\end{enumerate*}\n\n\\item[\\$cogs] \\begin{enumerate*}\n\\item 522.83\n\\item 76.4\n\\item 324.31\n\\item 465.76\n\\item 604.17\n\\item 597.73\n\\item 413.04\n\\item 735.6\n\\item 72.52\n\\item 164.52\n\\item 57.92\n\\item 102.04\n\\item 234.75\n\\item 431.9\n\\item 713.8\n\\item 562.32\n\\item 482.51\n\\item 435.66\n\\item 164.01\n\\item 80.6\n\\item 430.2\n\\item 263.94\n\\item 66.4\n\\item 172.8\n\\item 265.89\n\\item 420.72\n\\item 33.52\n\\item 175.34\n\\item 441.8\n\\item 224.01\n\\item 470.65\n\\item 702.63\n\\item 670.24\n\\item 193.16\n\\item 397.68\n\\item 68.12\n\\item 313.1\n\\item 547.92\n\\item 439.36\n\\item 240.96\n\\item 86.72\n\\item 112.22\n\\item 414.72\n\\item 789.6\n\\item 30.74\n\\item 375.84\n\\item 510.21\n\\item 180.09\n\\item 113.58\n\\item 826.3\n\\item 639.8\n\\item 222.95\n\\item 71.48\n\\item 15.43\n\\item 32.32\n\\item 687.84\n\\item 88.68\n\\item 716.8\n\\item 723.5\n\\item 183.66\n\\item 74.22\n\\item 334.38\n\\item 495.63\n\\item 158.1\n\\item 302.96\n\\item 158.7\n\\item 66.94\n\\item 585.66\n\\item 787.7\n\\item 18.33\n\\item 894.8\n\\item 621.2\n\\item 145.56\n\\item 455.46\n\\item 672.03\n\\item 416.5\n\\item 441.36\n\\item 783.1\n\\item 101.9\n\\item 595.14\n\\item 290.04\n\\item 154\n\\item 321.44\n\\item 244.55\n\\item 581.42\n\\item 382.6\n\\item 345.66\n\\item 42.47\n\\item 461.94\n\\item 189.52\n\\item 448.6\n\\item 153.86\n\\item 579.24\n\\item 89.75\n\\item 97.16\n\\item 878.7\n\\item 74.7\n\\item 158.25\n\\item 496.2\n\\item 48.71\n\\item 706.95\n\\item 207.63\n\\item 349.56\n\\item 212.45\n\\item 886.7\n\\item 164.28\n\\item 372.78\n\\item 305.82\n\\item 819.7\n\\item 32.98\n\\item 294.63\n\\item 509.88\n\\item 522.63\n\\item 727.11\n\\item 81.06\n\\item 109.7\n\\item 51.36\n\\item 109.6\n\\item 106.88\n\\item 796.48\n\\item 399.84\n\\item 899.64\n\\item 511.28\n\\item 451.76\n\\item 655.83\n\\item 161.25\n\\item 285.57\n\\item 548.32\n\\item 812.52\n\\item 277.34\n\\item 552.78\n\\item 139.36\n\\item 524.7\n\\item 487.8\n\\item 270.66\n\\item 131.55\n\\item 206.52\n\\item 519.1\n\\item 580\n\\item 898\n\\item 905\n\\item 686\n\\item 30.41\n\\item 467.7\n\\item 277.56\n\\item 301.4\n\\item 264.56\n\\item 574.88\n\\item 259.68\n\\item 366.16\n\\item 241.92\n\\item 749.16\n\\item 98.88\n\\item 647.76\n\\item 461.45\n\\item 72.17\n\\item 251.4\n\\item 874.98\n\\item 560.34\n\\item 345.44\n\\item 63.69\n\\item 320.53\n\\item 152.8\n\\item 399\n\\item 340.56\n\\item 955.8\n\\item 989.8\n\\item 307.68\n\\item 486.64\n\\item 350.05\n\\item 400.25\n\\item 166.8\n\\item 317.34\n\\item 158.32\n\\item 304.56\n\\item 177.36\n\\item 157.57\n\\item 443.28\n\\item 260.4\n\\item 449.82\n\\item 307.76\n\\item 155\n\\item 274.48\n\\item 86.38\n\\item 54.24\n\\item 755.92\n\\item 185.88\n\\item 74.07\n\\item 279.24\n\\item 231.12\n\\item 147.04\n\\item 790.2\n\\item 102.2\n\\item 163.55\n\\item 74.29\n\\item 87.4\n\\item 25.29\n\\item 166\n\\item 356.95\n\\item 114.9\n\\item ⋯\n\\item 244.9\n\\item 92.78\n\\item 433.45\n\\item 138.06\n\\item 241.6\n\\item 471.73\n\\item 440.64\n\\item 680.31\n\\item 309.88\n\\item 186.36\n\\item 200.92\n\\item 17.75\n\\item 621.8\n\\item 86\n\\item 402.6\n\\item 324.85\n\\item 95.15\n\\item 388.96\n\\item 425.68\n\\item 318.08\n\\item 271.04\n\\item 384.64\n\\item 235.8\n\\item 211.56\n\\item 95.36\n\\item 10.17\n\\item 206.13\n\\item 420.56\n\\item 88.04\n\\item 648.99\n\\item 123.84\n\\item 649.5\n\\item 742.2\n\\item 84.48\n\\item 250.28\n\\item 94.8\n\\item 91.3\n\\item 285.11\n\\item 52.38\n\\item 192.7\n\\item 267.78\n\\item 558.7\n\\item 175.32\n\\item 155.82\n\\item 60.3\n\\item 78.94\n\\item 29.74\n\\item 21.32\n\\item 281.34\n\\item 73.26\n\\item 22.38\n\\item 655.92\n\\item 594.6\n\\item 74.1\n\\item 196.96\n\\item 372.33\n\\item 527.9\n\\item 479.75\n\\item 328.59\n\\item 168.96\n\\item 113.24\n\\item 345.54\n\\item 428.67\n\\item 86.27\n\\item 25.52\n\\item 101.52\n\\item 357.49\n\\item 238.77\n\\item 101.43\n\\item 724.24\n\\item 125.64\n\\item 72.93\n\\item 258.36\n\\item 173.74\n\\item 56.5\n\\item 214.3\n\\item 534.36\n\\item 93.16\n\\item 522.08\n\\item 52.35\n\\item 39.75\n\\item 720.16\n\\item 96.8\n\\item 332.1\n\\item 81.44\n\\item 319.9\n\\item 166.68\n\\item 319.06\n\\item 87.9\n\\item 734.7\n\\item 97.52\n\\item 769.2\n\\item 418.3\n\\item 463.28\n\\item 462.45\n\\item 141.9\n\\item 302.7\n\\item 793.28\n\\item 425.18\n\\item 283.62\n\\item 599.2\n\\item 315.36\n\\item 403.56\n\\item 183.88\n\\item 138.65\n\\item 80.71\n\\item 116.64\n\\item 313.52\n\\item 846.1\n\\item 414.4\n\\item 159.08\n\\item 490.1\n\\item 87.45\n\\item 224.52\n\\item 744.96\n\\item 410.72\n\\item 298.8\n\\item 212.94\n\\item 42.85\n\\item 378.68\n\\item 206.91\n\\item 78.78\n\\item 322.11\n\\item 98.22\n\\item 25.46\n\\item 581.98\n\\item 211.32\n\\item 55.12\n\\item 88.31\n\\item 356.58\n\\item 794.25\n\\item 50.62\n\\item 599.52\n\\item 166.7\n\\item 744.4\n\\item 378.9\n\\item 257.16\n\\item 552.23\n\\item 447.4\n\\item 276.27\n\\item 343.74\n\\item 266.08\n\\item 898.38\n\\item 456.8\n\\item 253.95\n\\item 70.56\n\\item 657.16\n\\item 168.5\n\\item 53.78\n\\item 179.05\n\\item 211.44\n\\item 119.73\n\\item 65.7\n\\item 84.16\n\\item 395.46\n\\item 297.99\n\\item 454.41\n\\item 276.12\n\\item 158\n\\item 887.94\n\\item 91.98\n\\item 41.78\n\\item 15.5\n\\item 290.46\n\\item 66.66\n\\item 76.54\n\\item 299.7\n\\item 243.03\n\\item 47.4\n\\item 172.45\n\\item 846.3\n\\item 258.37\n\\item 609.56\n\\item 240.24\n\\item 172.26\n\\item 99.84\n\\item 298.64\n\\item 159.6\n\\item 25.45\n\\item 67.77\n\\item 238.36\n\\item 232.6\n\\item 877.32\n\\item 699.72\n\\item 674.59\n\\item 318.55\n\\item 29.52\n\\item 496\n\\item 823.4\n\\item 602.96\n\\item 282.8\n\\item 766\n\\item 116.06\n\\item 174.9\n\\item 60.95\n\\item 40.35\n\\item 973.8\n\\item 31.84\n\\item 65.82\n\\item 618.38\n\\end{enumerate*}\n\n\\item[\\$gross.margin.percentage] 4.761904762\n\\item[\\$gross.income] \\begin{enumerate*}\n\\item 26.1415\n\\item 3.82\n\\item 16.2155\n\\item 23.288\n\\item 30.2085\n\\item 29.8865\n\\item 20.652\n\\item 36.78\n\\item 3.626\n\\item 8.226\n\\item 2.896\n\\item 5.102\n\\item 11.7375\n\\item 21.595\n\\item 35.69\n\\item 28.116\n\\item 24.1255\n\\item 21.783\n\\item 8.2005\n\\item 4.03\n\\item 21.51\n\\item 13.197\n\\item 3.32\n\\item 8.64\n\\item 13.2945\n\\item 21.036\n\\item 1.676\n\\item 8.767\n\\item 22.09\n\\item 11.2005\n\\item 23.5325\n\\item 35.1315\n\\item 33.512\n\\item 9.658\n\\item 19.884\n\\item 3.406\n\\item 15.655\n\\item 27.396\n\\item 21.968\n\\item 12.048\n\\item 4.336\n\\item 5.611\n\\item 20.736\n\\item 39.48\n\\item 1.537\n\\item 18.792\n\\item 25.5105\n\\item 9.0045\n\\item 5.679\n\\item 41.315\n\\item 31.99\n\\item 11.1475\n\\item 3.574\n\\item 0.7715\n\\item 1.616\n\\item 34.392\n\\item 4.434\n\\item 35.84\n\\item 36.175\n\\item 9.183\n\\item 3.711\n\\item 16.719\n\\item 24.7815\n\\item 7.905\n\\item 15.148\n\\item 7.935\n\\item 3.347\n\\item 29.283\n\\item 39.385\n\\item 0.9165\n\\item 44.74\n\\item 31.06\n\\item 7.278\n\\item 22.773\n\\item 33.6015\n\\item 20.825\n\\item 22.068\n\\item 39.155\n\\item 5.095\n\\item 29.757\n\\item 14.502\n\\item 7.7\n\\item 16.072\n\\item 12.2275\n\\item 29.071\n\\item 19.13\n\\item 17.283\n\\item 2.1235\n\\item 23.097\n\\item 9.476\n\\item 22.43\n\\item 7.693\n\\item 28.962\n\\item 4.4875\n\\item 4.858\n\\item 43.935\n\\item 3.735\n\\item 7.9125\n\\item 24.81\n\\item 2.4355\n\\item 35.3475\n\\item 10.3815\n\\item 17.478\n\\item 10.6225\n\\item 44.335\n\\item 8.214\n\\item 18.639\n\\item 15.291\n\\item 40.985\n\\item 1.649\n\\item 14.7315\n\\item 25.494\n\\item 26.1315\n\\item 36.3555\n\\item 4.053\n\\item 5.485\n\\item 2.568\n\\item 5.48\n\\item 5.344\n\\item 39.824\n\\item 19.992\n\\item 44.982\n\\item 25.564\n\\item 22.588\n\\item 32.7915\n\\item 8.0625\n\\item 14.2785\n\\item 27.416\n\\item 40.626\n\\item 13.867\n\\item 27.639\n\\item 6.968\n\\item 26.235\n\\item 24.39\n\\item 13.533\n\\item 6.5775\n\\item 10.326\n\\item 25.955\n\\item 29\n\\item 44.9\n\\item 45.25\n\\item 34.3\n\\item 1.5205\n\\item 23.385\n\\item 13.878\n\\item 15.07\n\\item 13.228\n\\item 28.744\n\\item 12.984\n\\item 18.308\n\\item 12.096\n\\item 37.458\n\\item 4.944\n\\item 32.388\n\\item 23.0725\n\\item 3.6085\n\\item 12.57\n\\item 43.749\n\\item 28.017\n\\item 17.272\n\\item 3.1845\n\\item 16.0265\n\\item 7.64\n\\item 19.95\n\\item 17.028\n\\item 47.79\n\\item 49.49\n\\item 15.384\n\\item 24.332\n\\item 17.5025\n\\item 20.0125\n\\item 8.34\n\\item 15.867\n\\item 7.916\n\\item 15.228\n\\item 8.868\n\\item 7.8785\n\\item 22.164\n\\item 13.02\n\\item 22.491\n\\item 15.388\n\\item 7.75\n\\item 13.724\n\\item 4.319\n\\item 2.712\n\\item 37.796\n\\item 9.294\n\\item 3.7035\n\\item 13.962\n\\item 11.556\n\\item 7.352\n\\item 39.51\n\\item 5.11\n\\item 8.1775\n\\item 3.7145\n\\item 4.37\n\\item 1.2645\n\\item 8.3\n\\item 17.8475\n\\item 5.745\n\\item ⋯\n\\item 12.245\n\\item 4.639\n\\item 21.6725\n\\item 6.903\n\\item 12.08\n\\item 23.5865\n\\item 22.032\n\\item 34.0155\n\\item 15.494\n\\item 9.318\n\\item 10.046\n\\item 0.8875\n\\item 31.09\n\\item 4.3\n\\item 20.13\n\\item 16.2425\n\\item 4.7575\n\\item 19.448\n\\item 21.284\n\\item 15.904\n\\item 13.552\n\\item 19.232\n\\item 11.79\n\\item 10.578\n\\item 4.768\n\\item 0.5085\n\\item 10.3065\n\\item 21.028\n\\item 4.402\n\\item 32.4495\n\\item 6.192\n\\item 32.475\n\\item 37.11\n\\item 4.224\n\\item 12.514\n\\item 4.74\n\\item 4.565\n\\item 14.2555\n\\item 2.619\n\\item 9.635\n\\item 13.389\n\\item 27.935\n\\item 8.766\n\\item 7.791\n\\item 3.015\n\\item 3.947\n\\item 1.487\n\\item 1.066\n\\item 14.067\n\\item 3.663\n\\item 1.119\n\\item 32.796\n\\item 29.73\n\\item 3.705\n\\item 9.848\n\\item 18.6165\n\\item 26.395\n\\item 23.9875\n\\item 16.4295\n\\item 8.448\n\\item 5.662\n\\item 17.277\n\\item 21.4335\n\\item 4.3135\n\\item 1.276\n\\item 5.076\n\\item 17.8745\n\\item 11.9385\n\\item 5.0715\n\\item 36.212\n\\item 6.282\n\\item 3.6465\n\\item 12.918\n\\item 8.687\n\\item 2.825\n\\item 10.715\n\\item 26.718\n\\item 4.658\n\\item 26.104\n\\item 2.6175\n\\item 1.9875\n\\item 36.008\n\\item 4.84\n\\item 16.605\n\\item 4.072\n\\item 15.995\n\\item 8.334\n\\item 15.953\n\\item 4.395\n\\item 36.735\n\\item 4.876\n\\item 38.46\n\\item 20.915\n\\item 23.164\n\\item 23.1225\n\\item 7.095\n\\item 15.135\n\\item 39.664\n\\item 21.259\n\\item 14.181\n\\item 29.96\n\\item 15.768\n\\item 20.178\n\\item 9.194\n\\item 6.9325\n\\item 4.0355\n\\item 5.832\n\\item 15.676\n\\item 42.305\n\\item 20.72\n\\item 7.954\n\\item 24.505\n\\item 4.3725\n\\item 11.226\n\\item 37.248\n\\item 20.536\n\\item 14.94\n\\item 10.647\n\\item 2.1425\n\\item 18.934\n\\item 10.3455\n\\item 3.939\n\\item 16.1055\n\\item 4.911\n\\item 1.273\n\\item 29.099\n\\item 10.566\n\\item 2.756\n\\item 4.4155\n\\item 17.829\n\\item 39.7125\n\\item 2.531\n\\item 29.976\n\\item 8.335\n\\item 37.22\n\\item 18.945\n\\item 12.858\n\\item 27.6115\n\\item 22.37\n\\item 13.8135\n\\item 17.187\n\\item 13.304\n\\item 44.919\n\\item 22.84\n\\item 12.6975\n\\item 3.528\n\\item 32.858\n\\item 8.425\n\\item 2.689\n\\item 8.9525\n\\item 10.572\n\\item 5.9865\n\\item 3.285\n\\item 4.208\n\\item 19.773\n\\item 14.8995\n\\item 22.7205\n\\item 13.806\n\\item 7.9\n\\item 44.397\n\\item 4.599\n\\item 2.089\n\\item 0.775\n\\item 14.523\n\\item 3.333\n\\item 3.827\n\\item 14.985\n\\item 12.1515\n\\item 2.37\n\\item 8.6225\n\\item 42.315\n\\item 12.9185\n\\item 30.478\n\\item 12.012\n\\item 8.613\n\\item 4.992\n\\item 14.932\n\\item 7.98\n\\item 1.2725\n\\item 3.3885\n\\item 11.918\n\\item 11.63\n\\item 43.866\n\\item 34.986\n\\item 33.7295\n\\item 15.9275\n\\item 1.476\n\\item 24.8\n\\item 41.17\n\\item 30.148\n\\item 14.14\n\\item 38.3\n\\item 5.803\n\\item 8.745\n\\item 3.0475\n\\item 2.0175\n\\item 48.69\n\\item 1.592\n\\item 3.291\n\\item 30.919\n\\end{enumerate*}\n\n\\item[\\$rating] \\begin{enumerate*}\n\\item 9.1\n\\item 9.6\n\\item 7.4\n\\item 8.4\n\\item 5.3\n\\item 4.1\n\\item 5.8\n\\item 8\n\\item 7.2\n\\item 5.9\n\\item 4.5\n\\item 6.8\n\\item 7.1\n\\item 8.2\n\\item 5.7\n\\item 4.6\n\\item 6.9\n\\item 8.6\n\\item 4.4\n\\item 4.8\n\\item 5.1\n\\item 9.9\n\\item 6\n\\item 8.5\n\\item 6.7\n\\item 7.7\n\\item 7.5\n\\item 7\n\\item 4.7\n\\item 7.6\n\\item 7.9\n\\item 6.3\n\\item 5.6\n\\item 9.5\n\\item 8.1\n\\item 6.5\n\\item 6.1\n\\item 6.6\n\\item 5.4\n\\item 9.3\n\\item 10\n\\item 6.4\n\\item 4.3\n\\item 4\n\\item 8.7\n\\item 9.4\n\\item 5.5\n\\item 8.3\n\\item 7.3\n\\item 4.9\n\\item 4.2\n\\item 9.2\n\\item 7.8\n\\item 5.2\n\\item 9\n\\item 8.8\n\\item 6.2\n\\item 9.8\n\\item 9.7\n\\item 5\n\\item 8.9\n\\end{enumerate*}\n\n\\item[\\$total] \\begin{enumerate*}\n\\item 548.9715\n\\item 80.22\n\\item 340.5255\n\\item 489.048\n\\item 634.3785\n\\item 627.6165\n\\item 433.692\n\\item 772.38\n\\item 76.146\n\\item 172.746\n\\item 60.816\n\\item 107.142\n\\item 246.4875\n\\item 453.495\n\\item 749.49\n\\item 590.436\n\\item 506.6355\n\\item 457.443\n\\item 172.2105\n\\item 84.63\n\\item 451.71\n\\item 277.137\n\\item 69.72\n\\item 181.44\n\\item 279.1845\n\\item 441.756\n\\item 35.196\n\\item 184.107\n\\item 463.89\n\\item 235.2105\n\\item 494.1825\n\\item 737.7615\n\\item 703.752\n\\item 202.818\n\\item 417.564\n\\item 71.526\n\\item 328.755\n\\item 575.316\n\\item 461.328\n\\item 253.008\n\\item 91.056\n\\item 117.831\n\\item 435.456\n\\item 829.08\n\\item 32.277\n\\item 394.632\n\\item 535.7205\n\\item 189.0945\n\\item 119.259\n\\item 867.615\n\\item 671.79\n\\item 234.0975\n\\item 75.054\n\\item 16.2015\n\\item 33.936\n\\item 722.232\n\\item 93.114\n\\item 752.64\n\\item 759.675\n\\item 192.843\n\\item 77.931\n\\item 351.099\n\\item 520.4115\n\\item 166.005\n\\item 318.108\n\\item 166.635\n\\item 70.287\n\\item 614.943\n\\item 827.085\n\\item 19.2465\n\\item 939.54\n\\item 652.26\n\\item 152.838\n\\item 478.233\n\\item 705.6315\n\\item 437.325\n\\item 463.428\n\\item 822.255\n\\item 106.995\n\\item 624.897\n\\item 304.542\n\\item 161.7\n\\item 337.512\n\\item 256.7775\n\\item 610.491\n\\item 401.73\n\\item 362.943\n\\item 44.5935\n\\item 485.037\n\\item 198.996\n\\item 471.03\n\\item 161.553\n\\item 608.202\n\\item 94.2375\n\\item 102.018\n\\item 922.635\n\\item 78.435\n\\item 166.1625\n\\item 521.01\n\\item 51.1455\n\\item 742.2975\n\\item 218.0115\n\\item 367.038\n\\item 223.0725\n\\item 931.035\n\\item 172.494\n\\item 391.419\n\\item 321.111\n\\item 860.685\n\\item 34.629\n\\item 309.3615\n\\item 535.374\n\\item 548.7615\n\\item 763.4655\n\\item 85.113\n\\item 115.185\n\\item 53.928\n\\item 115.08\n\\item 112.224\n\\item 836.304\n\\item 419.832\n\\item 944.622\n\\item 536.844\n\\item 474.348\n\\item 688.6215\n\\item 169.3125\n\\item 299.8485\n\\item 575.736\n\\item 853.146\n\\item 291.207\n\\item 580.419\n\\item 146.328\n\\item 550.935\n\\item 512.19\n\\item 284.193\n\\item 138.1275\n\\item 216.846\n\\item 545.055\n\\item 609\n\\item 942.9\n\\item 950.25\n\\item 720.3\n\\item 31.9305\n\\item 491.085\n\\item 291.438\n\\item 316.47\n\\item 277.788\n\\item 603.624\n\\item 272.664\n\\item 384.468\n\\item 254.016\n\\item 786.618\n\\item 103.824\n\\item 680.148\n\\item 484.5225\n\\item 75.7785\n\\item 263.97\n\\item 918.729\n\\item 588.357\n\\item 362.712\n\\item 66.8745\n\\item 336.5565\n\\item 160.44\n\\item 418.95\n\\item 357.588\n\\item 1003.59\n\\item 1039.29\n\\item 323.064\n\\item 510.972\n\\item 367.5525\n\\item 420.2625\n\\item 175.14\n\\item 333.207\n\\item 166.236\n\\item 319.788\n\\item 186.228\n\\item 165.4485\n\\item 465.444\n\\item 273.42\n\\item 472.311\n\\item 323.148\n\\item 162.75\n\\item 288.204\n\\item 90.699\n\\item 56.952\n\\item 793.716\n\\item 195.174\n\\item 77.7735\n\\item 293.202\n\\item 242.676\n\\item 154.392\n\\item 829.71\n\\item 107.31\n\\item 171.7275\n\\item 78.0045\n\\item 91.77\n\\item 26.5545\n\\item 174.3\n\\item 374.7975\n\\item 120.645\n\\item ⋯\n\\item 257.145\n\\item 97.419\n\\item 455.1225\n\\item 144.963\n\\item 253.68\n\\item 495.3165\n\\item 462.672\n\\item 714.3255\n\\item 325.374\n\\item 195.678\n\\item 210.966\n\\item 18.6375\n\\item 652.89\n\\item 90.3\n\\item 422.73\n\\item 341.0925\n\\item 99.9075\n\\item 408.408\n\\item 446.964\n\\item 333.984\n\\item 284.592\n\\item 403.872\n\\item 247.59\n\\item 222.138\n\\item 100.128\n\\item 10.6785\n\\item 216.4365\n\\item 441.588\n\\item 92.442\n\\item 681.4395\n\\item 130.032\n\\item 681.975\n\\item 779.31\n\\item 88.704\n\\item 262.794\n\\item 99.54\n\\item 95.865\n\\item 299.3655\n\\item 54.999\n\\item 202.335\n\\item 281.169\n\\item 586.635\n\\item 184.086\n\\item 163.611\n\\item 63.315\n\\item 82.887\n\\item 31.227\n\\item 22.386\n\\item 295.407\n\\item 76.923\n\\item 23.499\n\\item 688.716\n\\item 624.33\n\\item 77.805\n\\item 206.808\n\\item 390.9465\n\\item 554.295\n\\item 503.7375\n\\item 345.0195\n\\item 177.408\n\\item 118.902\n\\item 362.817\n\\item 450.1035\n\\item 90.5835\n\\item 26.796\n\\item 106.596\n\\item 375.3645\n\\item 250.7085\n\\item 106.5015\n\\item 760.452\n\\item 131.922\n\\item 76.5765\n\\item 271.278\n\\item 182.427\n\\item 59.325\n\\item 225.015\n\\item 561.078\n\\item 97.818\n\\item 548.184\n\\item 54.9675\n\\item 41.7375\n\\item 756.168\n\\item 101.64\n\\item 348.705\n\\item 85.512\n\\item 335.895\n\\item 175.014\n\\item 335.013\n\\item 92.295\n\\item 771.435\n\\item 102.396\n\\item 807.66\n\\item 439.215\n\\item 486.444\n\\item 485.5725\n\\item 148.995\n\\item 317.835\n\\item 832.944\n\\item 446.439\n\\item 297.801\n\\item 629.16\n\\item 331.128\n\\item 423.738\n\\item 193.074\n\\item 145.5825\n\\item 84.7455\n\\item 122.472\n\\item 329.196\n\\item 888.405\n\\item 435.12\n\\item 167.034\n\\item 514.605\n\\item 91.8225\n\\item 235.746\n\\item 782.208\n\\item 431.256\n\\item 313.74\n\\item 223.587\n\\item 44.9925\n\\item 397.614\n\\item 217.2555\n\\item 82.719\n\\item 338.2155\n\\item 103.131\n\\item 26.733\n\\item 611.079\n\\item 221.886\n\\item 57.876\n\\item 92.7255\n\\item 374.409\n\\item 833.9625\n\\item 53.151\n\\item 629.496\n\\item 175.035\n\\item 781.62\n\\item 397.845\n\\item 270.018\n\\item 579.8415\n\\item 469.77\n\\item 290.0835\n\\item 360.927\n\\item 279.384\n\\item 943.299\n\\item 479.64\n\\item 266.6475\n\\item 74.088\n\\item 690.018\n\\item 176.925\n\\item 56.469\n\\item 188.0025\n\\item 222.012\n\\item 125.7165\n\\item 68.985\n\\item 88.368\n\\item 415.233\n\\item 312.8895\n\\item 477.1305\n\\item 289.926\n\\item 165.9\n\\item 932.337\n\\item 96.579\n\\item 43.869\n\\item 16.275\n\\item 304.983\n\\item 69.993\n\\item 80.367\n\\item 314.685\n\\item 255.1815\n\\item 49.77\n\\item 181.0725\n\\item 888.615\n\\item 271.2885\n\\item 640.038\n\\item 252.252\n\\item 180.873\n\\item 104.832\n\\item 313.572\n\\item 167.58\n\\item 26.7225\n\\item 71.1585\n\\item 250.278\n\\item 244.23\n\\item 921.186\n\\item 734.706\n\\item 708.3195\n\\item 334.4775\n\\item 30.996\n\\item 520.8\n\\item 864.57\n\\item 633.108\n\\item 296.94\n\\item 804.3\n\\item 121.863\n\\item 183.645\n\\item 63.9975\n\\item 42.3675\n\\item 1022.49\n\\item 33.432\n\\item 69.111\n\\item 649.299\n\\end{enumerate*}\n\n\\item[\\$year] 2019\n\\item[\\$month] \\begin{enumerate*}\n\\item 1\n\\item 3\n\\item 2\n\\end{enumerate*}\n\n\\item[\\$day] \\begin{enumerate*}\n\\item 5\n\\item 8\n\\item 3\n\\item 27\n\\item 25\n\\item 24\n\\item 10\n\\item 20\n\\item 6\n\\item 9\n\\item 12\n\\item 7\n\\item 29\n\\item 15\n\\item 11\n\\item 1\n\\item 21\n\\item 17\n\\item 2\n\\item 22\n\\item 28\n\\item 23\n\\item 4\n\\item 16\n\\item 19\n\\item 14\n\\item 13\n\\item 26\n\\item 18\n\\item 30\n\\item 31\n\\end{enumerate*}\n\n\\item[\\$hour] \\begin{enumerate*}\n\\item '13'\n\\item '10'\n\\item '20'\n\\item '18'\n\\item '14'\n\\item '11'\n\\item '17'\n\\item '16'\n\\item '19'\n\\item '15'\n\\item '12'\n\\end{enumerate*}\n\n\\end{description}\n",
            "text/markdown": "$invoice.id\n:   1. '750-67-8428'\n2. '226-31-3081'\n3. '631-41-3108'\n4. '123-19-1176'\n5. '373-73-7910'\n6. '699-14-3026'\n7. '355-53-5943'\n8. '315-22-5665'\n9. '665-32-9167'\n10. '692-92-5582'\n11. '351-62-0822'\n12. '529-56-3974'\n13. '365-64-0515'\n14. '252-56-2699'\n15. '829-34-3910'\n16. '299-46-1805'\n17. '656-95-9349'\n18. '765-26-6951'\n19. '329-62-1586'\n20. '319-50-3348'\n21. '300-71-4605'\n22. '371-85-5789'\n23. '273-16-6619'\n24. '636-48-8204'\n25. '549-59-1358'\n26. '227-03-5010'\n27. '649-29-6775'\n28. '189-17-4241'\n29. '145-94-9061'\n30. '848-62-7243'\n31. '871-79-8483'\n32. '149-71-6266'\n33. '640-49-2076'\n34. '595-11-5460'\n35. '183-56-6882'\n36. '232-16-2483'\n37. '129-29-8530'\n38. '272-65-1806'\n39. '333-73-7901'\n40. '777-82-7220'\n41. '280-35-5823'\n42. '554-53-8700'\n43. '354-25-5821'\n44. '228-96-1411'\n45. '617-15-4209'\n46. '132-32-9879'\n47. '370-41-7321'\n48. '727-46-3608'\n49. '669-54-1719'\n50. '574-22-5561'\n51. '326-78-5178'\n52. '162-48-8011'\n53. '616-24-2851'\n54. '778-71-5554'\n55. '242-55-6721'\n56. '399-46-5918'\n57. '106-35-6779'\n58. '635-40-6220'\n59. '817-48-8732'\n60. '120-06-4233'\n61. '285-68-5083'\n62. '803-83-5989'\n63. '347-34-2234'\n64. '199-75-8169'\n65. '853-23-2453'\n66. '877-22-3308'\n67. '838-78-4295'\n68. '109-28-2512'\n69. '232-11-3025'\n70. '382-03-4532'\n71. '393-65-2792'\n72. '796-12-2025'\n73. '510-95-6347'\n74. '841-35-6630'\n75. '287-21-9091'\n76. '732-94-0499'\n77. '263-10-3913'\n78. '381-20-0914'\n79. '829-49-1914'\n80. '756-01-7507'\n81. '870-72-4431'\n82. '847-38-7188'\n83. '480-63-2856'\n84. '787-56-0757'\n85. '360-39-5055'\n86. '730-50-9884'\n87. '362-58-8315'\n88. '633-44-8566'\n89. '504-35-8843'\n90. '318-68-5053'\n91. '565-80-5980'\n92. '225-32-0908'\n93. '873-51-0671'\n94. '152-08-9985'\n95. '512-91-0811'\n96. '594-34-4444'\n97. '766-85-7061'\n98. '871-39-9221'\n99. '865-92-6136'\n100. '733-01-9107'\n101. '163-56-7055'\n102. '189-98-2939'\n103. '551-21-3069'\n104. '212-62-1842'\n105. '716-39-1409'\n106. '704-48-3927'\n107. '628-34-3388'\n108. '630-74-5166'\n109. '588-01-7461'\n110. '861-77-0145'\n111. '479-26-8945'\n112. '210-67-5886'\n113. '227-78-1148'\n114. '645-44-1170'\n115. '237-01-6122'\n116. '225-98-1496'\n117. '291-32-1427'\n118. '659-65-8956'\n119. '642-32-2990'\n120. '378-24-2715'\n121. '638-60-7125'\n122. '659-36-1684'\n123. '219-22-9386'\n124. '336-78-2147'\n125. '268-27-6179'\n126. '668-90-8900'\n127. '870-54-3162'\n128. '189-08-9157'\n129. '663-86-9076'\n130. '549-84-7482'\n131. '191-10-6171'\n132. '802-70-5316'\n133. '695-51-0018'\n134. '590-83-4591'\n135. '483-71-1164'\n136. '597-78-7908'\n137. '700-81-1757'\n138. '354-39-5160'\n139. '241-72-9525'\n140. '575-30-8091'\n141. '731-81-9469'\n142. '280-17-4359'\n143. '338-65-2210'\n144. '488-25-4221'\n145. '239-10-7476'\n146. '458-41-1477'\n147. '685-64-1609'\n148. '568-90-5112'\n149. '262-47-2794'\n150. '238-49-0436'\n151. '608-96-3517'\n152. '584-86-7256'\n153. '746-94-0204'\n154. '214-17-6927'\n155. '400-89-4171'\n156. '782-95-9291'\n157. '279-74-2924'\n158. '307-85-2293'\n159. '743-04-1105'\n160. '423-57-2993'\n161. '894-41-5205'\n162. '275-28-0149'\n163. '101-17-6199'\n164. '423-80-0988'\n165. '548-46-9322'\n166. '505-02-0892'\n167. '234-65-2137'\n168. '687-47-8271'\n169. '796-32-9050'\n170. '105-31-1824'\n171. '249-42-3782'\n172. '316-55-4634'\n173. '733-33-4967'\n174. '608-27-6295'\n175. '414-12-7047'\n176. '827-26-2100'\n177. '175-54-2529'\n178. '139-52-2867'\n179. '407-63-8975'\n180. '342-65-4817'\n181. '130-98-8941'\n182. '434-83-9547'\n183. '851-28-6367'\n184. '824-88-3614'\n185. '586-25-0848'\n186. '895-66-0685'\n187. '305-14-0245'\n188. '732-04-5373'\n189. '400-60-7251'\n190. '593-65-1552'\n191. '284-34-9626'\n192. '437-58-8131'\n193. '286-43-6208'\n194. '641-43-2399'\n195. '831-07-6050'\n196. '556-86-3144'\n197. '848-24-9445'\n198. '856-22-8149'\n199. '699-01-4164'\n200. '420-11-4919'\n201. ⋯\n202. '751-15-6198'\n203. '324-41-6833'\n204. '474-33-8305'\n205. '759-29-9521'\n206. '831-81-6575'\n207. '220-68-6701'\n208. '618-34-8551'\n209. '257-60-7754'\n210. '559-61-5987'\n211. '189-55-2313'\n212. '565-91-4567'\n213. '380-60-5336'\n214. '815-04-6282'\n215. '674-56-6360'\n216. '778-34-2523'\n217. '499-27-7781'\n218. '477-59-2456'\n219. '832-51-6761'\n220. '869-11-3082'\n221. '190-59-3964'\n222. '366-43-6862'\n223. '186-43-8965'\n224. '784-21-9238'\n225. '276-75-6884'\n226. '109-86-4363'\n227. '569-76-2760'\n228. '222-42-0244'\n229. '760-53-9233'\n230. '538-22-0304'\n231. '416-17-9926'\n232. '237-44-6163'\n233. '636-17-0325'\n234. '343-75-9322'\n235. '528-14-9470'\n236. '427-45-9297'\n237. '807-34-3742'\n238. '288-62-1085'\n239. '670-71-7306'\n240. '660-29-7083'\n241. '271-77-8740'\n242. '497-36-0989'\n243. '291-59-1384'\n244. '860-73-6466'\n245. '549-23-9016'\n246. '896-34-0956'\n247. '804-38-3935'\n248. '585-90-0249'\n249. '862-29-5914'\n250. '845-94-6841'\n251. '125-45-2293'\n252. '843-73-4724'\n253. '409-33-9708'\n254. '658-66-3967'\n255. '866-70-2814'\n256. '160-22-2687'\n257. '895-03-6665'\n258. '770-42-8960'\n259. '748-45-2862'\n260. '234-36-2483'\n261. '316-66-3011'\n262. '848-95-6252'\n263. '840-76-5966'\n264. '152-03-4217'\n265. '533-66-5566'\n266. '124-31-1458'\n267. '176-78-1170'\n268. '361-59-0574'\n269. '101-81-4070'\n270. '631-34-1880'\n271. '852-82-2749'\n272. '873-14-6353'\n273. '584-66-4073'\n274. '544-55-9589'\n275. '166-19-2553'\n276. '737-88-5876'\n277. '154-87-7367'\n278. '885-56-0389'\n279. '608-05-3804'\n280. '448-61-3783'\n281. '761-49-0439'\n282. '490-95-0021'\n283. '115-38-7388'\n284. '311-13-6971'\n285. '291-55-6563'\n286. '548-48-3156'\n287. '460-93-5834'\n288. '325-89-4209'\n289. '884-80-6021'\n290. '137-74-8729'\n291. '880-46-5796'\n292. '389-70-2397'\n293. '114-35-5271'\n294. '607-76-6216'\n295. '715-20-1673'\n296. '811-35-1094'\n297. '699-88-1972'\n298. '781-84-8059'\n299. '409-49-6995'\n300. '725-54-0677'\n301. '146-09-5432'\n302. '377-79-7592'\n303. '509-10-0516'\n304. '595-94-9924'\n305. '865-41-9075'\n306. '545-07-8534'\n307. '118-62-1812'\n308. '450-42-3339'\n309. '851-98-3555'\n310. '186-71-5196'\n311. '624-01-8356'\n312. '313-66-9943'\n313. '151-27-8496'\n314. '453-33-6436'\n315. '522-57-8364'\n316. '459-45-2396'\n317. '717-96-4189'\n318. '722-13-2115'\n319. '749-81-8133'\n320. '777-67-2495'\n321. '636-98-3364'\n322. '246-55-6923'\n323. '181-82-6255'\n324. '838-02-1821'\n325. '887-42-0517'\n326. '457-12-0244'\n327. '226-34-0034'\n328. '321-49-7382'\n329. '397-25-8725'\n330. '431-66-2305'\n331. '825-94-5922'\n332. '641-62-7288'\n333. '756-93-1854'\n334. '243-55-8457'\n335. '458-10-8612'\n336. '501-61-1753'\n337. '235-06-8510'\n338. '433-08-7822'\n339. '361-85-2571'\n340. '131-70-8179'\n341. '500-02-2261'\n342. '720-72-2436'\n343. '702-83-5291'\n344. '809-69-9497'\n345. '449-16-6770'\n346. '333-23-2632'\n347. '489-82-1237'\n348. '859-97-6048'\n349. '676-10-2200'\n350. '373-88-1424'\n351. '365-16-4334'\n352. '503-21-4385'\n353. '305-89-2768'\n354. '574-80-1489'\n355. '784-08-0310'\n356. '200-40-6154'\n357. '846-10-0341'\n358. '577-34-7579'\n359. '430-02-3888'\n360. '867-47-1948'\n361. '384-59-6655'\n362. '256-58-3609'\n363. '324-92-3863'\n364. '593-08-5916'\n365. '364-34-2972'\n366. '794-42-3736'\n367. '172-42-8274'\n368. '558-60-5016'\n369. '195-06-0432'\n370. '605-03-2706'\n371. '214-30-2776'\n372. '746-04-1077'\n373. '448-34-8700'\n374. '452-04-8808'\n375. '531-56-4728'\n376. '744-82-9138'\n377. '883-69-1285'\n378. '221-25-5073'\n379. '518-71-6847'\n380. '156-20-0370'\n381. '151-33-7434'\n382. '728-47-9078'\n383. '809-46-1866'\n384. '139-32-4183'\n385. '148-41-7930'\n386. '189-40-5216'\n387. '374-38-5555'\n388. '764-44-8999'\n389. '552-44-5977'\n390. '267-62-7380'\n391. '430-53-4718'\n392. '886-18-2897'\n393. '602-16-6955'\n394. '745-74-0715'\n395. '690-01-6631'\n396. '652-49-6720'\n397. '233-67-5758'\n398. '303-96-2227'\n399. '727-02-1313'\n400. '347-56-2442'\n401. '849-09-3807'\n\n\n\n$branch\n:   1. 'A'\n2. 'C'\n3. 'B'\n\n\n\n$customer.type\n:   1. 'Member'\n2. 'Normal'\n\n\n\n$gender\n:   1. 'Female'\n2. 'Male'\n\n\n\n$product.line\n:   1. 'Health and beauty'\n2. 'Electronic accessories'\n3. 'Home and lifestyle'\n4. 'Sports and travel'\n5. 'Food and beverages'\n6. 'Fashion accessories'\n\n\n\n$unit.price\n:   1. 74.69\n2. 15.28\n3. 46.33\n4. 58.22\n5. 86.31\n6. 85.39\n7. 68.84\n8. 73.56\n9. 36.26\n10. 54.84\n11. 14.48\n12. 25.51\n13. 46.95\n14. 43.19\n15. 71.38\n16. 93.72\n17. 68.93\n18. 72.61\n19. 54.67\n20. 40.3\n21. 86.04\n22. 87.98\n23. 33.2\n24. 34.56\n25. 88.63\n26. 52.59\n27. 33.52\n28. 87.67\n29. 88.36\n30. 24.89\n31. 94.13\n32. 78.07\n33. 83.78\n34. 96.58\n35. 99.42\n36. 68.12\n37. 62.62\n38. 60.88\n39. 54.92\n40. 30.12\n41. 86.72\n42. 56.11\n43. 69.12\n44. 98.7\n45. 15.37\n46. 93.96\n47. 56.69\n48. 20.01\n49. 18.93\n50. 82.63\n51. 91.4\n52. 44.59\n53. 17.87\n54. 15.43\n55. 16.16\n56. 85.98\n57. 44.34\n58. 89.6\n59. 72.35\n60. 30.61\n61. 24.74\n62. 55.73\n63. 55.07\n64. 15.81\n65. 75.74\n66. 15.87\n67. 33.47\n68. 97.61\n69. 78.77\n70. 18.33\n71. 89.48\n72. 62.12\n73. 48.52\n74. 75.91\n75. 74.67\n76. 41.65\n77. 49.04\n78. 78.31\n79. 20.38\n80. 99.19\n81. 96.68\n82. 19.25\n83. 80.36\n84. 48.91\n85. 83.06\n86. 76.52\n87. 49.38\n88. 42.47\n89. 76.99\n90. 47.38\n91. 44.86\n92. 21.98\n93. 64.36\n94. 89.75\n95. 97.16\n96. 87.87\n97. 12.45\n98. 52.75\n99. 82.7\n100. 48.71\n101. 78.55\n102. 23.07\n103. 58.26\n104. 30.35\n105. 88.67\n106. 27.38\n107. 62.13\n108. 33.98\n109. 81.97\n110. 16.49\n111. 98.21\n112. 72.84\n113. 58.07\n114. 80.79\n115. 27.02\n116. 21.94\n117. 51.36\n118. 10.96\n119. 53.44\n120. 99.56\n121. 57.12\n122. 99.96\n123. 63.91\n124. 56.47\n125. 93.69\n126. 32.25\n127. 31.73\n128. 68.54\n129. 90.28\n130. 39.62\n131. 92.13\n132. 34.84\n133. 87.45\n134. 81.3\n135. 90.22\n136. 26.31\n137. 34.42\n138. 51.91\n139. 72.5\n140. 89.8\n141. 90.5\n142. 68.6\n143. 30.41\n144. 77.95\n145. 46.26\n146. 30.14\n147. 66.14\n148. 71.86\n149. 32.46\n150. 91.54\n151. 83.24\n152. 16.48\n153. 80.97\n154. 92.29\n155. 72.17\n156. 50.28\n157. 97.22\n158. 93.39\n159. 43.18\n160. 63.69\n161. 45.79\n162. 76.4\n163. 39.9\n164. 42.57\n165. 95.58\n166. 98.98\n167. 51.28\n168. 69.52\n169. 70.01\n170. 80.05\n171. 20.85\n172. 52.89\n173. 19.79\n174. 33.84\n175. 22.17\n176. 22.51\n177. 73.88\n178. 86.8\n179. 64.26\n180. 38.47\n181. 15.5\n182. 34.31\n183. 12.34\n184. 18.08\n185. 94.49\n186. 46.47\n187. 74.07\n188. 69.81\n189. 77.04\n190. 73.52\n191. 87.8\n192. 25.55\n193. 32.71\n194. 74.29\n195. 43.7\n196. 25.29\n197. 41.5\n198. 71.39\n199. 19.15\n200. 57.49\n201. ⋯\n202. 28.86\n203. 65.31\n204. 93.38\n205. 25.25\n206. 21.8\n207. 94.76\n208. 30.62\n209. 44.01\n210. 10.16\n211. 74.58\n212. 71.89\n213. 10.99\n214. 60.47\n215. 58.91\n216. 46.41\n217. 68.55\n218. 97.37\n219. 92.6\n220. 46.61\n221. 27.18\n222. 24.49\n223. 92.78\n224. 86.69\n225. 23.01\n226. 30.2\n227. 67.39\n228. 48.96\n229. 75.59\n230. 77.47\n231. 93.18\n232. 50.23\n233. 17.75\n234. 62.18\n235. 10.75\n236. 40.26\n237. 64.97\n238. 95.15\n239. 48.62\n240. 53.21\n241. 45.44\n242. 33.88\n243. 96.16\n244. 47.16\n245. 47.68\n246. 10.17\n247. 60.08\n248. 72.11\n249. 41.28\n250. 64.95\n251. 74.22\n252. 10.56\n253. 62.57\n254. 11.85\n255. 91.3\n256. 40.73\n257. 52.38\n258. 38.54\n259. 44.63\n260. 55.87\n261. 29.22\n262. 39.47\n263. 14.87\n264. 21.32\n265. 93.78\n266. 73.26\n267. 22.38\n268. 99.1\n269. 74.1\n270. 98.48\n271. 53.19\n272. 52.79\n273. 95.95\n274. 36.51\n275. 28.31\n276. 57.59\n277. 47.63\n278. 86.27\n279. 12.76\n280. 11.28\n281. 51.07\n282. 79.59\n283. 33.81\n284. 90.53\n285. 62.82\n286. 24.31\n287. 64.59\n288. 24.82\n289. 56.5\n290. 21.43\n291. 89.06\n292. 23.29\n293. 65.26\n294. 52.35\n295. 90.02\n296. 12.1\n297. 33.21\n298. 10.18\n299. 31.99\n300. 83.34\n301. 87.9\n302. 12.19\n303. 76.92\n304. 83.66\n305. 57.91\n306. 92.49\n307. 28.38\n308. 50.45\n309. 99.16\n310. 60.74\n311. 47.27\n312. 85.6\n313. 35.04\n314. 44.84\n315. 45.97\n316. 27.73\n317. 11.53\n318. 58.32\n319. 84.61\n320. 82.88\n321. 79.54\n322. 49.01\n323. 29.15\n324. 56.13\n325. 93.12\n326. 99.6\n327. 35.49\n328. 42.85\n329. 94.67\n330. 68.97\n331. 35.79\n332. 16.37\n333. 12.73\n334. 83.14\n335. 35.22\n336. 13.78\n337. 88.31\n338. 88.25\n339. 25.31\n340. 99.92\n341. 83.35\n342. 74.44\n343. 63.15\n344. 85.72\n345. 78.89\n346. 92.09\n347. 57.29\n348. 66.52\n349. 45.68\n350. 50.79\n351. 10.08\n352. 93.88\n353. 84.25\n354. 53.78\n355. 35.81\n356. 26.43\n357. 39.91\n358. 21.9\n359. 62.85\n360. 21.04\n361. 65.91\n362. 50.49\n363. 46.02\n364. 15.8\n365. 98.66\n366. 91.98\n367. 20.89\n368. 96.82\n369. 33.33\n370. 38.27\n371. 33.3\n372. 81.01\n373. 34.49\n374. 84.63\n375. 36.91\n376. 87.08\n377. 80.08\n378. 86.13\n379. 49.92\n380. 74.66\n381. 26.6\n382. 25.45\n383. 67.77\n384. 59.59\n385. 58.15\n386. 97.48\n387. 96.37\n388. 63.71\n389. 14.76\n390. 62\n391. 82.34\n392. 75.37\n393. 56.56\n394. 76.6\n395. 58.03\n396. 17.49\n397. 40.35\n398. 97.38\n399. 31.84\n400. 65.82\n401. 88.34\n\n\n\n$quantity\n:   1. 7\n2. 5\n3. 8\n4. 6\n5. 10\n6. 2\n7. 3\n8. 4\n9. 1\n10. 9\n\n\n\n$tax\n:   1. 26.1415\n2. 3.82\n3. 16.2155\n4. 23.288\n5. 30.2085\n6. 29.8865\n7. 20.652\n8. 36.78\n9. 3.626\n10. 8.226\n11. 2.896\n12. 5.102\n13. 11.7375\n14. 21.595\n15. 35.69\n16. 28.116\n17. 24.1255\n18. 21.783\n19. 8.2005\n20. 4.03\n21. 21.51\n22. 13.197\n23. 3.32\n24. 8.64\n25. 13.2945\n26. 21.036\n27. 1.676\n28. 8.767\n29. 22.09\n30. 11.2005\n31. 23.5325\n32. 35.1315\n33. 33.512\n34. 9.658\n35. 19.884\n36. 3.406\n37. 15.655\n38. 27.396\n39. 21.968\n40. 12.048\n41. 4.336\n42. 5.611\n43. 20.736\n44. 39.48\n45. 1.537\n46. 18.792\n47. 25.5105\n48. 9.0045\n49. 5.679\n50. 41.315\n51. 31.99\n52. 11.1475\n53. 3.574\n54. 0.7715\n55. 1.616\n56. 34.392\n57. 4.434\n58. 35.84\n59. 36.175\n60. 9.183\n61. 3.711\n62. 16.719\n63. 24.7815\n64. 7.905\n65. 15.148\n66. 7.935\n67. 3.347\n68. 29.283\n69. 39.385\n70. 0.9165\n71. 44.74\n72. 31.06\n73. 7.278\n74. 22.773\n75. 33.6015\n76. 20.825\n77. 22.068\n78. 39.155\n79. 5.095\n80. 29.757\n81. 14.502\n82. 7.7\n83. 16.072\n84. 12.2275\n85. 29.071\n86. 19.13\n87. 17.283\n88. 2.1235\n89. 23.097\n90. 9.476\n91. 22.43\n92. 7.693\n93. 28.962\n94. 4.4875\n95. 4.858\n96. 43.935\n97. 3.735\n98. 7.9125\n99. 24.81\n100. 2.4355\n101. 35.3475\n102. 10.3815\n103. 17.478\n104. 10.6225\n105. 44.335\n106. 8.214\n107. 18.639\n108. 15.291\n109. 40.985\n110. 1.649\n111. 14.7315\n112. 25.494\n113. 26.1315\n114. 36.3555\n115. 4.053\n116. 5.485\n117. 2.568\n118. 5.48\n119. 5.344\n120. 39.824\n121. 19.992\n122. 44.982\n123. 25.564\n124. 22.588\n125. 32.7915\n126. 8.0625\n127. 14.2785\n128. 27.416\n129. 40.626\n130. 13.867\n131. 27.639\n132. 6.968\n133. 26.235\n134. 24.39\n135. 13.533\n136. 6.5775\n137. 10.326\n138. 25.955\n139. 29\n140. 44.9\n141. 45.25\n142. 34.3\n143. 1.5205\n144. 23.385\n145. 13.878\n146. 15.07\n147. 13.228\n148. 28.744\n149. 12.984\n150. 18.308\n151. 12.096\n152. 37.458\n153. 4.944\n154. 32.388\n155. 23.0725\n156. 3.6085\n157. 12.57\n158. 43.749\n159. 28.017\n160. 17.272\n161. 3.1845\n162. 16.0265\n163. 7.64\n164. 19.95\n165. 17.028\n166. 47.79\n167. 49.49\n168. 15.384\n169. 24.332\n170. 17.5025\n171. 20.0125\n172. 8.34\n173. 15.867\n174. 7.916\n175. 15.228\n176. 8.868\n177. 7.8785\n178. 22.164\n179. 13.02\n180. 22.491\n181. 15.388\n182. 7.75\n183. 13.724\n184. 4.319\n185. 2.712\n186. 37.796\n187. 9.294\n188. 3.7035\n189. 13.962\n190. 11.556\n191. 7.352\n192. 39.51\n193. 5.11\n194. 8.1775\n195. 3.7145\n196. 4.37\n197. 1.2645\n198. 8.3\n199. 17.8475\n200. 5.745\n201. ⋯\n202. 12.245\n203. 4.639\n204. 21.6725\n205. 6.903\n206. 12.08\n207. 23.5865\n208. 22.032\n209. 34.0155\n210. 15.494\n211. 9.318\n212. 10.046\n213. 0.8875\n214. 31.09\n215. 4.3\n216. 20.13\n217. 16.2425\n218. 4.7575\n219. 19.448\n220. 21.284\n221. 15.904\n222. 13.552\n223. 19.232\n224. 11.79\n225. 10.578\n226. 4.768\n227. 0.5085\n228. 10.3065\n229. 21.028\n230. 4.402\n231. 32.4495\n232. 6.192\n233. 32.475\n234. 37.11\n235. 4.224\n236. 12.514\n237. 4.74\n238. 4.565\n239. 14.2555\n240. 2.619\n241. 9.635\n242. 13.389\n243. 27.935\n244. 8.766\n245. 7.791\n246. 3.015\n247. 3.947\n248. 1.487\n249. 1.066\n250. 14.067\n251. 3.663\n252. 1.119\n253. 32.796\n254. 29.73\n255. 3.705\n256. 9.848\n257. 18.6165\n258. 26.395\n259. 23.9875\n260. 16.4295\n261. 8.448\n262. 5.662\n263. 17.277\n264. 21.4335\n265. 4.3135\n266. 1.276\n267. 5.076\n268. 17.8745\n269. 11.9385\n270. 5.0715\n271. 36.212\n272. 6.282\n273. 3.6465\n274. 12.918\n275. 8.687\n276. 2.825\n277. 10.715\n278. 26.718\n279. 4.658\n280. 26.104\n281. 2.6175\n282. 1.9875\n283. 36.008\n284. 4.84\n285. 16.605\n286. 4.072\n287. 15.995\n288. 8.334\n289. 15.953\n290. 4.395\n291. 36.735\n292. 4.876\n293. 38.46\n294. 20.915\n295. 23.164\n296. 23.1225\n297. 7.095\n298. 15.135\n299. 39.664\n300. 21.259\n301. 14.181\n302. 29.96\n303. 15.768\n304. 20.178\n305. 9.194\n306. 6.9325\n307. 4.0355\n308. 5.832\n309. 15.676\n310. 42.305\n311. 20.72\n312. 7.954\n313. 24.505\n314. 4.3725\n315. 11.226\n316. 37.248\n317. 20.536\n318. 14.94\n319. 10.647\n320. 2.1425\n321. 18.934\n322. 10.3455\n323. 3.939\n324. 16.1055\n325. 4.911\n326. 1.273\n327. 29.099\n328. 10.566\n329. 2.756\n330. 4.4155\n331. 17.829\n332. 39.7125\n333. 2.531\n334. 29.976\n335. 8.335\n336. 37.22\n337. 18.945\n338. 12.858\n339. 27.6115\n340. 22.37\n341. 13.8135\n342. 17.187\n343. 13.304\n344. 44.919\n345. 22.84\n346. 12.6975\n347. 3.528\n348. 32.858\n349. 8.425\n350. 2.689\n351. 8.9525\n352. 10.572\n353. 5.9865\n354. 3.285\n355. 4.208\n356. 19.773\n357. 14.8995\n358. 22.7205\n359. 13.806\n360. 7.9\n361. 44.397\n362. 4.599\n363. 2.089\n364. 0.775\n365. 14.523\n366. 3.333\n367. 3.827\n368. 14.985\n369. 12.1515\n370. 2.37\n371. 8.6225\n372. 42.315\n373. 12.9185\n374. 30.478\n375. 12.012\n376. 8.613\n377. 4.992\n378. 14.932\n379. 7.98\n380. 1.2725\n381. 3.3885\n382. 11.918\n383. 11.63\n384. 43.866\n385. 34.986\n386. 33.7295\n387. 15.9275\n388. 1.476\n389. 24.8\n390. 41.17\n391. 30.148\n392. 14.14\n393. 38.3\n394. 5.803\n395. 8.745\n396. 3.0475\n397. 2.0175\n398. 48.69\n399. 1.592\n400. 3.291\n401. 30.919\n\n\n\n$payment\n:   1. 'Ewallet'\n2. 'Cash'\n3. 'Credit card'\n\n\n\n$cogs\n:   1. 522.83\n2. 76.4\n3. 324.31\n4. 465.76\n5. 604.17\n6. 597.73\n7. 413.04\n8. 735.6\n9. 72.52\n10. 164.52\n11. 57.92\n12. 102.04\n13. 234.75\n14. 431.9\n15. 713.8\n16. 562.32\n17. 482.51\n18. 435.66\n19. 164.01\n20. 80.6\n21. 430.2\n22. 263.94\n23. 66.4\n24. 172.8\n25. 265.89\n26. 420.72\n27. 33.52\n28. 175.34\n29. 441.8\n30. 224.01\n31. 470.65\n32. 702.63\n33. 670.24\n34. 193.16\n35. 397.68\n36. 68.12\n37. 313.1\n38. 547.92\n39. 439.36\n40. 240.96\n41. 86.72\n42. 112.22\n43. 414.72\n44. 789.6\n45. 30.74\n46. 375.84\n47. 510.21\n48. 180.09\n49. 113.58\n50. 826.3\n51. 639.8\n52. 222.95\n53. 71.48\n54. 15.43\n55. 32.32\n56. 687.84\n57. 88.68\n58. 716.8\n59. 723.5\n60. 183.66\n61. 74.22\n62. 334.38\n63. 495.63\n64. 158.1\n65. 302.96\n66. 158.7\n67. 66.94\n68. 585.66\n69. 787.7\n70. 18.33\n71. 894.8\n72. 621.2\n73. 145.56\n74. 455.46\n75. 672.03\n76. 416.5\n77. 441.36\n78. 783.1\n79. 101.9\n80. 595.14\n81. 290.04\n82. 154\n83. 321.44\n84. 244.55\n85. 581.42\n86. 382.6\n87. 345.66\n88. 42.47\n89. 461.94\n90. 189.52\n91. 448.6\n92. 153.86\n93. 579.24\n94. 89.75\n95. 97.16\n96. 878.7\n97. 74.7\n98. 158.25\n99. 496.2\n100. 48.71\n101. 706.95\n102. 207.63\n103. 349.56\n104. 212.45\n105. 886.7\n106. 164.28\n107. 372.78\n108. 305.82\n109. 819.7\n110. 32.98\n111. 294.63\n112. 509.88\n113. 522.63\n114. 727.11\n115. 81.06\n116. 109.7\n117. 51.36\n118. 109.6\n119. 106.88\n120. 796.48\n121. 399.84\n122. 899.64\n123. 511.28\n124. 451.76\n125. 655.83\n126. 161.25\n127. 285.57\n128. 548.32\n129. 812.52\n130. 277.34\n131. 552.78\n132. 139.36\n133. 524.7\n134. 487.8\n135. 270.66\n136. 131.55\n137. 206.52\n138. 519.1\n139. 580\n140. 898\n141. 905\n142. 686\n143. 30.41\n144. 467.7\n145. 277.56\n146. 301.4\n147. 264.56\n148. 574.88\n149. 259.68\n150. 366.16\n151. 241.92\n152. 749.16\n153. 98.88\n154. 647.76\n155. 461.45\n156. 72.17\n157. 251.4\n158. 874.98\n159. 560.34\n160. 345.44\n161. 63.69\n162. 320.53\n163. 152.8\n164. 399\n165. 340.56\n166. 955.8\n167. 989.8\n168. 307.68\n169. 486.64\n170. 350.05\n171. 400.25\n172. 166.8\n173. 317.34\n174. 158.32\n175. 304.56\n176. 177.36\n177. 157.57\n178. 443.28\n179. 260.4\n180. 449.82\n181. 307.76\n182. 155\n183. 274.48\n184. 86.38\n185. 54.24\n186. 755.92\n187. 185.88\n188. 74.07\n189. 279.24\n190. 231.12\n191. 147.04\n192. 790.2\n193. 102.2\n194. 163.55\n195. 74.29\n196. 87.4\n197. 25.29\n198. 166\n199. 356.95\n200. 114.9\n201. ⋯\n202. 244.9\n203. 92.78\n204. 433.45\n205. 138.06\n206. 241.6\n207. 471.73\n208. 440.64\n209. 680.31\n210. 309.88\n211. 186.36\n212. 200.92\n213. 17.75\n214. 621.8\n215. 86\n216. 402.6\n217. 324.85\n218. 95.15\n219. 388.96\n220. 425.68\n221. 318.08\n222. 271.04\n223. 384.64\n224. 235.8\n225. 211.56\n226. 95.36\n227. 10.17\n228. 206.13\n229. 420.56\n230. 88.04\n231. 648.99\n232. 123.84\n233. 649.5\n234. 742.2\n235. 84.48\n236. 250.28\n237. 94.8\n238. 91.3\n239. 285.11\n240. 52.38\n241. 192.7\n242. 267.78\n243. 558.7\n244. 175.32\n245. 155.82\n246. 60.3\n247. 78.94\n248. 29.74\n249. 21.32\n250. 281.34\n251. 73.26\n252. 22.38\n253. 655.92\n254. 594.6\n255. 74.1\n256. 196.96\n257. 372.33\n258. 527.9\n259. 479.75\n260. 328.59\n261. 168.96\n262. 113.24\n263. 345.54\n264. 428.67\n265. 86.27\n266. 25.52\n267. 101.52\n268. 357.49\n269. 238.77\n270. 101.43\n271. 724.24\n272. 125.64\n273. 72.93\n274. 258.36\n275. 173.74\n276. 56.5\n277. 214.3\n278. 534.36\n279. 93.16\n280. 522.08\n281. 52.35\n282. 39.75\n283. 720.16\n284. 96.8\n285. 332.1\n286. 81.44\n287. 319.9\n288. 166.68\n289. 319.06\n290. 87.9\n291. 734.7\n292. 97.52\n293. 769.2\n294. 418.3\n295. 463.28\n296. 462.45\n297. 141.9\n298. 302.7\n299. 793.28\n300. 425.18\n301. 283.62\n302. 599.2\n303. 315.36\n304. 403.56\n305. 183.88\n306. 138.65\n307. 80.71\n308. 116.64\n309. 313.52\n310. 846.1\n311. 414.4\n312. 159.08\n313. 490.1\n314. 87.45\n315. 224.52\n316. 744.96\n317. 410.72\n318. 298.8\n319. 212.94\n320. 42.85\n321. 378.68\n322. 206.91\n323. 78.78\n324. 322.11\n325. 98.22\n326. 25.46\n327. 581.98\n328. 211.32\n329. 55.12\n330. 88.31\n331. 356.58\n332. 794.25\n333. 50.62\n334. 599.52\n335. 166.7\n336. 744.4\n337. 378.9\n338. 257.16\n339. 552.23\n340. 447.4\n341. 276.27\n342. 343.74\n343. 266.08\n344. 898.38\n345. 456.8\n346. 253.95\n347. 70.56\n348. 657.16\n349. 168.5\n350. 53.78\n351. 179.05\n352. 211.44\n353. 119.73\n354. 65.7\n355. 84.16\n356. 395.46\n357. 297.99\n358. 454.41\n359. 276.12\n360. 158\n361. 887.94\n362. 91.98\n363. 41.78\n364. 15.5\n365. 290.46\n366. 66.66\n367. 76.54\n368. 299.7\n369. 243.03\n370. 47.4\n371. 172.45\n372. 846.3\n373. 258.37\n374. 609.56\n375. 240.24\n376. 172.26\n377. 99.84\n378. 298.64\n379. 159.6\n380. 25.45\n381. 67.77\n382. 238.36\n383. 232.6\n384. 877.32\n385. 699.72\n386. 674.59\n387. 318.55\n388. 29.52\n389. 496\n390. 823.4\n391. 602.96\n392. 282.8\n393. 766\n394. 116.06\n395. 174.9\n396. 60.95\n397. 40.35\n398. 973.8\n399. 31.84\n400. 65.82\n401. 618.38\n\n\n\n$gross.margin.percentage\n:   4.761904762\n$gross.income\n:   1. 26.1415\n2. 3.82\n3. 16.2155\n4. 23.288\n5. 30.2085\n6. 29.8865\n7. 20.652\n8. 36.78\n9. 3.626\n10. 8.226\n11. 2.896\n12. 5.102\n13. 11.7375\n14. 21.595\n15. 35.69\n16. 28.116\n17. 24.1255\n18. 21.783\n19. 8.2005\n20. 4.03\n21. 21.51\n22. 13.197\n23. 3.32\n24. 8.64\n25. 13.2945\n26. 21.036\n27. 1.676\n28. 8.767\n29. 22.09\n30. 11.2005\n31. 23.5325\n32. 35.1315\n33. 33.512\n34. 9.658\n35. 19.884\n36. 3.406\n37. 15.655\n38. 27.396\n39. 21.968\n40. 12.048\n41. 4.336\n42. 5.611\n43. 20.736\n44. 39.48\n45. 1.537\n46. 18.792\n47. 25.5105\n48. 9.0045\n49. 5.679\n50. 41.315\n51. 31.99\n52. 11.1475\n53. 3.574\n54. 0.7715\n55. 1.616\n56. 34.392\n57. 4.434\n58. 35.84\n59. 36.175\n60. 9.183\n61. 3.711\n62. 16.719\n63. 24.7815\n64. 7.905\n65. 15.148\n66. 7.935\n67. 3.347\n68. 29.283\n69. 39.385\n70. 0.9165\n71. 44.74\n72. 31.06\n73. 7.278\n74. 22.773\n75. 33.6015\n76. 20.825\n77. 22.068\n78. 39.155\n79. 5.095\n80. 29.757\n81. 14.502\n82. 7.7\n83. 16.072\n84. 12.2275\n85. 29.071\n86. 19.13\n87. 17.283\n88. 2.1235\n89. 23.097\n90. 9.476\n91. 22.43\n92. 7.693\n93. 28.962\n94. 4.4875\n95. 4.858\n96. 43.935\n97. 3.735\n98. 7.9125\n99. 24.81\n100. 2.4355\n101. 35.3475\n102. 10.3815\n103. 17.478\n104. 10.6225\n105. 44.335\n106. 8.214\n107. 18.639\n108. 15.291\n109. 40.985\n110. 1.649\n111. 14.7315\n112. 25.494\n113. 26.1315\n114. 36.3555\n115. 4.053\n116. 5.485\n117. 2.568\n118. 5.48\n119. 5.344\n120. 39.824\n121. 19.992\n122. 44.982\n123. 25.564\n124. 22.588\n125. 32.7915\n126. 8.0625\n127. 14.2785\n128. 27.416\n129. 40.626\n130. 13.867\n131. 27.639\n132. 6.968\n133. 26.235\n134. 24.39\n135. 13.533\n136. 6.5775\n137. 10.326\n138. 25.955\n139. 29\n140. 44.9\n141. 45.25\n142. 34.3\n143. 1.5205\n144. 23.385\n145. 13.878\n146. 15.07\n147. 13.228\n148. 28.744\n149. 12.984\n150. 18.308\n151. 12.096\n152. 37.458\n153. 4.944\n154. 32.388\n155. 23.0725\n156. 3.6085\n157. 12.57\n158. 43.749\n159. 28.017\n160. 17.272\n161. 3.1845\n162. 16.0265\n163. 7.64\n164. 19.95\n165. 17.028\n166. 47.79\n167. 49.49\n168. 15.384\n169. 24.332\n170. 17.5025\n171. 20.0125\n172. 8.34\n173. 15.867\n174. 7.916\n175. 15.228\n176. 8.868\n177. 7.8785\n178. 22.164\n179. 13.02\n180. 22.491\n181. 15.388\n182. 7.75\n183. 13.724\n184. 4.319\n185. 2.712\n186. 37.796\n187. 9.294\n188. 3.7035\n189. 13.962\n190. 11.556\n191. 7.352\n192. 39.51\n193. 5.11\n194. 8.1775\n195. 3.7145\n196. 4.37\n197. 1.2645\n198. 8.3\n199. 17.8475\n200. 5.745\n201. ⋯\n202. 12.245\n203. 4.639\n204. 21.6725\n205. 6.903\n206. 12.08\n207. 23.5865\n208. 22.032\n209. 34.0155\n210. 15.494\n211. 9.318\n212. 10.046\n213. 0.8875\n214. 31.09\n215. 4.3\n216. 20.13\n217. 16.2425\n218. 4.7575\n219. 19.448\n220. 21.284\n221. 15.904\n222. 13.552\n223. 19.232\n224. 11.79\n225. 10.578\n226. 4.768\n227. 0.5085\n228. 10.3065\n229. 21.028\n230. 4.402\n231. 32.4495\n232. 6.192\n233. 32.475\n234. 37.11\n235. 4.224\n236. 12.514\n237. 4.74\n238. 4.565\n239. 14.2555\n240. 2.619\n241. 9.635\n242. 13.389\n243. 27.935\n244. 8.766\n245. 7.791\n246. 3.015\n247. 3.947\n248. 1.487\n249. 1.066\n250. 14.067\n251. 3.663\n252. 1.119\n253. 32.796\n254. 29.73\n255. 3.705\n256. 9.848\n257. 18.6165\n258. 26.395\n259. 23.9875\n260. 16.4295\n261. 8.448\n262. 5.662\n263. 17.277\n264. 21.4335\n265. 4.3135\n266. 1.276\n267. 5.076\n268. 17.8745\n269. 11.9385\n270. 5.0715\n271. 36.212\n272. 6.282\n273. 3.6465\n274. 12.918\n275. 8.687\n276. 2.825\n277. 10.715\n278. 26.718\n279. 4.658\n280. 26.104\n281. 2.6175\n282. 1.9875\n283. 36.008\n284. 4.84\n285. 16.605\n286. 4.072\n287. 15.995\n288. 8.334\n289. 15.953\n290. 4.395\n291. 36.735\n292. 4.876\n293. 38.46\n294. 20.915\n295. 23.164\n296. 23.1225\n297. 7.095\n298. 15.135\n299. 39.664\n300. 21.259\n301. 14.181\n302. 29.96\n303. 15.768\n304. 20.178\n305. 9.194\n306. 6.9325\n307. 4.0355\n308. 5.832\n309. 15.676\n310. 42.305\n311. 20.72\n312. 7.954\n313. 24.505\n314. 4.3725\n315. 11.226\n316. 37.248\n317. 20.536\n318. 14.94\n319. 10.647\n320. 2.1425\n321. 18.934\n322. 10.3455\n323. 3.939\n324. 16.1055\n325. 4.911\n326. 1.273\n327. 29.099\n328. 10.566\n329. 2.756\n330. 4.4155\n331. 17.829\n332. 39.7125\n333. 2.531\n334. 29.976\n335. 8.335\n336. 37.22\n337. 18.945\n338. 12.858\n339. 27.6115\n340. 22.37\n341. 13.8135\n342. 17.187\n343. 13.304\n344. 44.919\n345. 22.84\n346. 12.6975\n347. 3.528\n348. 32.858\n349. 8.425\n350. 2.689\n351. 8.9525\n352. 10.572\n353. 5.9865\n354. 3.285\n355. 4.208\n356. 19.773\n357. 14.8995\n358. 22.7205\n359. 13.806\n360. 7.9\n361. 44.397\n362. 4.599\n363. 2.089\n364. 0.775\n365. 14.523\n366. 3.333\n367. 3.827\n368. 14.985\n369. 12.1515\n370. 2.37\n371. 8.6225\n372. 42.315\n373. 12.9185\n374. 30.478\n375. 12.012\n376. 8.613\n377. 4.992\n378. 14.932\n379. 7.98\n380. 1.2725\n381. 3.3885\n382. 11.918\n383. 11.63\n384. 43.866\n385. 34.986\n386. 33.7295\n387. 15.9275\n388. 1.476\n389. 24.8\n390. 41.17\n391. 30.148\n392. 14.14\n393. 38.3\n394. 5.803\n395. 8.745\n396. 3.0475\n397. 2.0175\n398. 48.69\n399. 1.592\n400. 3.291\n401. 30.919\n\n\n\n$rating\n:   1. 9.1\n2. 9.6\n3. 7.4\n4. 8.4\n5. 5.3\n6. 4.1\n7. 5.8\n8. 8\n9. 7.2\n10. 5.9\n11. 4.5\n12. 6.8\n13. 7.1\n14. 8.2\n15. 5.7\n16. 4.6\n17. 6.9\n18. 8.6\n19. 4.4\n20. 4.8\n21. 5.1\n22. 9.9\n23. 6\n24. 8.5\n25. 6.7\n26. 7.7\n27. 7.5\n28. 7\n29. 4.7\n30. 7.6\n31. 7.9\n32. 6.3\n33. 5.6\n34. 9.5\n35. 8.1\n36. 6.5\n37. 6.1\n38. 6.6\n39. 5.4\n40. 9.3\n41. 10\n42. 6.4\n43. 4.3\n44. 4\n45. 8.7\n46. 9.4\n47. 5.5\n48. 8.3\n49. 7.3\n50. 4.9\n51. 4.2\n52. 9.2\n53. 7.8\n54. 5.2\n55. 9\n56. 8.8\n57. 6.2\n58. 9.8\n59. 9.7\n60. 5\n61. 8.9\n\n\n\n$total\n:   1. 548.9715\n2. 80.22\n3. 340.5255\n4. 489.048\n5. 634.3785\n6. 627.6165\n7. 433.692\n8. 772.38\n9. 76.146\n10. 172.746\n11. 60.816\n12. 107.142\n13. 246.4875\n14. 453.495\n15. 749.49\n16. 590.436\n17. 506.6355\n18. 457.443\n19. 172.2105\n20. 84.63\n21. 451.71\n22. 277.137\n23. 69.72\n24. 181.44\n25. 279.1845\n26. 441.756\n27. 35.196\n28. 184.107\n29. 463.89\n30. 235.2105\n31. 494.1825\n32. 737.7615\n33. 703.752\n34. 202.818\n35. 417.564\n36. 71.526\n37. 328.755\n38. 575.316\n39. 461.328\n40. 253.008\n41. 91.056\n42. 117.831\n43. 435.456\n44. 829.08\n45. 32.277\n46. 394.632\n47. 535.7205\n48. 189.0945\n49. 119.259\n50. 867.615\n51. 671.79\n52. 234.0975\n53. 75.054\n54. 16.2015\n55. 33.936\n56. 722.232\n57. 93.114\n58. 752.64\n59. 759.675\n60. 192.843\n61. 77.931\n62. 351.099\n63. 520.4115\n64. 166.005\n65. 318.108\n66. 166.635\n67. 70.287\n68. 614.943\n69. 827.085\n70. 19.2465\n71. 939.54\n72. 652.26\n73. 152.838\n74. 478.233\n75. 705.6315\n76. 437.325\n77. 463.428\n78. 822.255\n79. 106.995\n80. 624.897\n81. 304.542\n82. 161.7\n83. 337.512\n84. 256.7775\n85. 610.491\n86. 401.73\n87. 362.943\n88. 44.5935\n89. 485.037\n90. 198.996\n91. 471.03\n92. 161.553\n93. 608.202\n94. 94.2375\n95. 102.018\n96. 922.635\n97. 78.435\n98. 166.1625\n99. 521.01\n100. 51.1455\n101. 742.2975\n102. 218.0115\n103. 367.038\n104. 223.0725\n105. 931.035\n106. 172.494\n107. 391.419\n108. 321.111\n109. 860.685\n110. 34.629\n111. 309.3615\n112. 535.374\n113. 548.7615\n114. 763.4655\n115. 85.113\n116. 115.185\n117. 53.928\n118. 115.08\n119. 112.224\n120. 836.304\n121. 419.832\n122. 944.622\n123. 536.844\n124. 474.348\n125. 688.6215\n126. 169.3125\n127. 299.8485\n128. 575.736\n129. 853.146\n130. 291.207\n131. 580.419\n132. 146.328\n133. 550.935\n134. 512.19\n135. 284.193\n136. 138.1275\n137. 216.846\n138. 545.055\n139. 609\n140. 942.9\n141. 950.25\n142. 720.3\n143. 31.9305\n144. 491.085\n145. 291.438\n146. 316.47\n147. 277.788\n148. 603.624\n149. 272.664\n150. 384.468\n151. 254.016\n152. 786.618\n153. 103.824\n154. 680.148\n155. 484.5225\n156. 75.7785\n157. 263.97\n158. 918.729\n159. 588.357\n160. 362.712\n161. 66.8745\n162. 336.5565\n163. 160.44\n164. 418.95\n165. 357.588\n166. 1003.59\n167. 1039.29\n168. 323.064\n169. 510.972\n170. 367.5525\n171. 420.2625\n172. 175.14\n173. 333.207\n174. 166.236\n175. 319.788\n176. 186.228\n177. 165.4485\n178. 465.444\n179. 273.42\n180. 472.311\n181. 323.148\n182. 162.75\n183. 288.204\n184. 90.699\n185. 56.952\n186. 793.716\n187. 195.174\n188. 77.7735\n189. 293.202\n190. 242.676\n191. 154.392\n192. 829.71\n193. 107.31\n194. 171.7275\n195. 78.0045\n196. 91.77\n197. 26.5545\n198. 174.3\n199. 374.7975\n200. 120.645\n201. ⋯\n202. 257.145\n203. 97.419\n204. 455.1225\n205. 144.963\n206. 253.68\n207. 495.3165\n208. 462.672\n209. 714.3255\n210. 325.374\n211. 195.678\n212. 210.966\n213. 18.6375\n214. 652.89\n215. 90.3\n216. 422.73\n217. 341.0925\n218. 99.9075\n219. 408.408\n220. 446.964\n221. 333.984\n222. 284.592\n223. 403.872\n224. 247.59\n225. 222.138\n226. 100.128\n227. 10.6785\n228. 216.4365\n229. 441.588\n230. 92.442\n231. 681.4395\n232. 130.032\n233. 681.975\n234. 779.31\n235. 88.704\n236. 262.794\n237. 99.54\n238. 95.865\n239. 299.3655\n240. 54.999\n241. 202.335\n242. 281.169\n243. 586.635\n244. 184.086\n245. 163.611\n246. 63.315\n247. 82.887\n248. 31.227\n249. 22.386\n250. 295.407\n251. 76.923\n252. 23.499\n253. 688.716\n254. 624.33\n255. 77.805\n256. 206.808\n257. 390.9465\n258. 554.295\n259. 503.7375\n260. 345.0195\n261. 177.408\n262. 118.902\n263. 362.817\n264. 450.1035\n265. 90.5835\n266. 26.796\n267. 106.596\n268. 375.3645\n269. 250.7085\n270. 106.5015\n271. 760.452\n272. 131.922\n273. 76.5765\n274. 271.278\n275. 182.427\n276. 59.325\n277. 225.015\n278. 561.078\n279. 97.818\n280. 548.184\n281. 54.9675\n282. 41.7375\n283. 756.168\n284. 101.64\n285. 348.705\n286. 85.512\n287. 335.895\n288. 175.014\n289. 335.013\n290. 92.295\n291. 771.435\n292. 102.396\n293. 807.66\n294. 439.215\n295. 486.444\n296. 485.5725\n297. 148.995\n298. 317.835\n299. 832.944\n300. 446.439\n301. 297.801\n302. 629.16\n303. 331.128\n304. 423.738\n305. 193.074\n306. 145.5825\n307. 84.7455\n308. 122.472\n309. 329.196\n310. 888.405\n311. 435.12\n312. 167.034\n313. 514.605\n314. 91.8225\n315. 235.746\n316. 782.208\n317. 431.256\n318. 313.74\n319. 223.587\n320. 44.9925\n321. 397.614\n322. 217.2555\n323. 82.719\n324. 338.2155\n325. 103.131\n326. 26.733\n327. 611.079\n328. 221.886\n329. 57.876\n330. 92.7255\n331. 374.409\n332. 833.9625\n333. 53.151\n334. 629.496\n335. 175.035\n336. 781.62\n337. 397.845\n338. 270.018\n339. 579.8415\n340. 469.77\n341. 290.0835\n342. 360.927\n343. 279.384\n344. 943.299\n345. 479.64\n346. 266.6475\n347. 74.088\n348. 690.018\n349. 176.925\n350. 56.469\n351. 188.0025\n352. 222.012\n353. 125.7165\n354. 68.985\n355. 88.368\n356. 415.233\n357. 312.8895\n358. 477.1305\n359. 289.926\n360. 165.9\n361. 932.337\n362. 96.579\n363. 43.869\n364. 16.275\n365. 304.983\n366. 69.993\n367. 80.367\n368. 314.685\n369. 255.1815\n370. 49.77\n371. 181.0725\n372. 888.615\n373. 271.2885\n374. 640.038\n375. 252.252\n376. 180.873\n377. 104.832\n378. 313.572\n379. 167.58\n380. 26.7225\n381. 71.1585\n382. 250.278\n383. 244.23\n384. 921.186\n385. 734.706\n386. 708.3195\n387. 334.4775\n388. 30.996\n389. 520.8\n390. 864.57\n391. 633.108\n392. 296.94\n393. 804.3\n394. 121.863\n395. 183.645\n396. 63.9975\n397. 42.3675\n398. 1022.49\n399. 33.432\n400. 69.111\n401. 649.299\n\n\n\n$year\n:   2019\n$month\n:   1. 1\n2. 3\n3. 2\n\n\n\n$day\n:   1. 5\n2. 8\n3. 3\n4. 27\n5. 25\n6. 24\n7. 10\n8. 20\n9. 6\n10. 9\n11. 12\n12. 7\n13. 29\n14. 15\n15. 11\n16. 1\n17. 21\n18. 17\n19. 2\n20. 22\n21. 28\n22. 23\n23. 4\n24. 16\n25. 19\n26. 14\n27. 13\n28. 26\n29. 18\n30. 30\n31. 31\n\n\n\n$hour\n:   1. '13'\n2. '10'\n3. '20'\n4. '18'\n5. '14'\n6. '11'\n7. '17'\n8. '16'\n9. '19'\n10. '15'\n11. '12'\n\n\n\n\n\n",
            "text/html": [
              "<dl>\n",
              "\t<dt>$invoice.id</dt>\n",
              "\t\t<dd><style>\n",
              ".list-inline {list-style: none; margin:0; padding: 0}\n",
              ".list-inline>li {display: inline-block}\n",
              ".list-inline>li:not(:last-child)::after {content: \"\\00b7\"; padding: 0 .5ex}\n",
              "</style>\n",
              "<ol class=list-inline><li>'750-67-8428'</li><li>'226-31-3081'</li><li>'631-41-3108'</li><li>'123-19-1176'</li><li>'373-73-7910'</li><li>'699-14-3026'</li><li>'355-53-5943'</li><li>'315-22-5665'</li><li>'665-32-9167'</li><li>'692-92-5582'</li><li>'351-62-0822'</li><li>'529-56-3974'</li><li>'365-64-0515'</li><li>'252-56-2699'</li><li>'829-34-3910'</li><li>'299-46-1805'</li><li>'656-95-9349'</li><li>'765-26-6951'</li><li>'329-62-1586'</li><li>'319-50-3348'</li><li>'300-71-4605'</li><li>'371-85-5789'</li><li>'273-16-6619'</li><li>'636-48-8204'</li><li>'549-59-1358'</li><li>'227-03-5010'</li><li>'649-29-6775'</li><li>'189-17-4241'</li><li>'145-94-9061'</li><li>'848-62-7243'</li><li>'871-79-8483'</li><li>'149-71-6266'</li><li>'640-49-2076'</li><li>'595-11-5460'</li><li>'183-56-6882'</li><li>'232-16-2483'</li><li>'129-29-8530'</li><li>'272-65-1806'</li><li>'333-73-7901'</li><li>'777-82-7220'</li><li>'280-35-5823'</li><li>'554-53-8700'</li><li>'354-25-5821'</li><li>'228-96-1411'</li><li>'617-15-4209'</li><li>'132-32-9879'</li><li>'370-41-7321'</li><li>'727-46-3608'</li><li>'669-54-1719'</li><li>'574-22-5561'</li><li>'326-78-5178'</li><li>'162-48-8011'</li><li>'616-24-2851'</li><li>'778-71-5554'</li><li>'242-55-6721'</li><li>'399-46-5918'</li><li>'106-35-6779'</li><li>'635-40-6220'</li><li>'817-48-8732'</li><li>'120-06-4233'</li><li>'285-68-5083'</li><li>'803-83-5989'</li><li>'347-34-2234'</li><li>'199-75-8169'</li><li>'853-23-2453'</li><li>'877-22-3308'</li><li>'838-78-4295'</li><li>'109-28-2512'</li><li>'232-11-3025'</li><li>'382-03-4532'</li><li>'393-65-2792'</li><li>'796-12-2025'</li><li>'510-95-6347'</li><li>'841-35-6630'</li><li>'287-21-9091'</li><li>'732-94-0499'</li><li>'263-10-3913'</li><li>'381-20-0914'</li><li>'829-49-1914'</li><li>'756-01-7507'</li><li>'870-72-4431'</li><li>'847-38-7188'</li><li>'480-63-2856'</li><li>'787-56-0757'</li><li>'360-39-5055'</li><li>'730-50-9884'</li><li>'362-58-8315'</li><li>'633-44-8566'</li><li>'504-35-8843'</li><li>'318-68-5053'</li><li>'565-80-5980'</li><li>'225-32-0908'</li><li>'873-51-0671'</li><li>'152-08-9985'</li><li>'512-91-0811'</li><li>'594-34-4444'</li><li>'766-85-7061'</li><li>'871-39-9221'</li><li>'865-92-6136'</li><li>'733-01-9107'</li><li>'163-56-7055'</li><li>'189-98-2939'</li><li>'551-21-3069'</li><li>'212-62-1842'</li><li>'716-39-1409'</li><li>'704-48-3927'</li><li>'628-34-3388'</li><li>'630-74-5166'</li><li>'588-01-7461'</li><li>'861-77-0145'</li><li>'479-26-8945'</li><li>'210-67-5886'</li><li>'227-78-1148'</li><li>'645-44-1170'</li><li>'237-01-6122'</li><li>'225-98-1496'</li><li>'291-32-1427'</li><li>'659-65-8956'</li><li>'642-32-2990'</li><li>'378-24-2715'</li><li>'638-60-7125'</li><li>'659-36-1684'</li><li>'219-22-9386'</li><li>'336-78-2147'</li><li>'268-27-6179'</li><li>'668-90-8900'</li><li>'870-54-3162'</li><li>'189-08-9157'</li><li>'663-86-9076'</li><li>'549-84-7482'</li><li>'191-10-6171'</li><li>'802-70-5316'</li><li>'695-51-0018'</li><li>'590-83-4591'</li><li>'483-71-1164'</li><li>'597-78-7908'</li><li>'700-81-1757'</li><li>'354-39-5160'</li><li>'241-72-9525'</li><li>'575-30-8091'</li><li>'731-81-9469'</li><li>'280-17-4359'</li><li>'338-65-2210'</li><li>'488-25-4221'</li><li>'239-10-7476'</li><li>'458-41-1477'</li><li>'685-64-1609'</li><li>'568-90-5112'</li><li>'262-47-2794'</li><li>'238-49-0436'</li><li>'608-96-3517'</li><li>'584-86-7256'</li><li>'746-94-0204'</li><li>'214-17-6927'</li><li>'400-89-4171'</li><li>'782-95-9291'</li><li>'279-74-2924'</li><li>'307-85-2293'</li><li>'743-04-1105'</li><li>'423-57-2993'</li><li>'894-41-5205'</li><li>'275-28-0149'</li><li>'101-17-6199'</li><li>'423-80-0988'</li><li>'548-46-9322'</li><li>'505-02-0892'</li><li>'234-65-2137'</li><li>'687-47-8271'</li><li>'796-32-9050'</li><li>'105-31-1824'</li><li>'249-42-3782'</li><li>'316-55-4634'</li><li>'733-33-4967'</li><li>'608-27-6295'</li><li>'414-12-7047'</li><li>'827-26-2100'</li><li>'175-54-2529'</li><li>'139-52-2867'</li><li>'407-63-8975'</li><li>'342-65-4817'</li><li>'130-98-8941'</li><li>'434-83-9547'</li><li>'851-28-6367'</li><li>'824-88-3614'</li><li>'586-25-0848'</li><li>'895-66-0685'</li><li>'305-14-0245'</li><li>'732-04-5373'</li><li>'400-60-7251'</li><li>'593-65-1552'</li><li>'284-34-9626'</li><li>'437-58-8131'</li><li>'286-43-6208'</li><li>'641-43-2399'</li><li>'831-07-6050'</li><li>'556-86-3144'</li><li>'848-24-9445'</li><li>'856-22-8149'</li><li>'699-01-4164'</li><li>'420-11-4919'</li><li>⋯</li><li>'751-15-6198'</li><li>'324-41-6833'</li><li>'474-33-8305'</li><li>'759-29-9521'</li><li>'831-81-6575'</li><li>'220-68-6701'</li><li>'618-34-8551'</li><li>'257-60-7754'</li><li>'559-61-5987'</li><li>'189-55-2313'</li><li>'565-91-4567'</li><li>'380-60-5336'</li><li>'815-04-6282'</li><li>'674-56-6360'</li><li>'778-34-2523'</li><li>'499-27-7781'</li><li>'477-59-2456'</li><li>'832-51-6761'</li><li>'869-11-3082'</li><li>'190-59-3964'</li><li>'366-43-6862'</li><li>'186-43-8965'</li><li>'784-21-9238'</li><li>'276-75-6884'</li><li>'109-86-4363'</li><li>'569-76-2760'</li><li>'222-42-0244'</li><li>'760-53-9233'</li><li>'538-22-0304'</li><li>'416-17-9926'</li><li>'237-44-6163'</li><li>'636-17-0325'</li><li>'343-75-9322'</li><li>'528-14-9470'</li><li>'427-45-9297'</li><li>'807-34-3742'</li><li>'288-62-1085'</li><li>'670-71-7306'</li><li>'660-29-7083'</li><li>'271-77-8740'</li><li>'497-36-0989'</li><li>'291-59-1384'</li><li>'860-73-6466'</li><li>'549-23-9016'</li><li>'896-34-0956'</li><li>'804-38-3935'</li><li>'585-90-0249'</li><li>'862-29-5914'</li><li>'845-94-6841'</li><li>'125-45-2293'</li><li>'843-73-4724'</li><li>'409-33-9708'</li><li>'658-66-3967'</li><li>'866-70-2814'</li><li>'160-22-2687'</li><li>'895-03-6665'</li><li>'770-42-8960'</li><li>'748-45-2862'</li><li>'234-36-2483'</li><li>'316-66-3011'</li><li>'848-95-6252'</li><li>'840-76-5966'</li><li>'152-03-4217'</li><li>'533-66-5566'</li><li>'124-31-1458'</li><li>'176-78-1170'</li><li>'361-59-0574'</li><li>'101-81-4070'</li><li>'631-34-1880'</li><li>'852-82-2749'</li><li>'873-14-6353'</li><li>'584-66-4073'</li><li>'544-55-9589'</li><li>'166-19-2553'</li><li>'737-88-5876'</li><li>'154-87-7367'</li><li>'885-56-0389'</li><li>'608-05-3804'</li><li>'448-61-3783'</li><li>'761-49-0439'</li><li>'490-95-0021'</li><li>'115-38-7388'</li><li>'311-13-6971'</li><li>'291-55-6563'</li><li>'548-48-3156'</li><li>'460-93-5834'</li><li>'325-89-4209'</li><li>'884-80-6021'</li><li>'137-74-8729'</li><li>'880-46-5796'</li><li>'389-70-2397'</li><li>'114-35-5271'</li><li>'607-76-6216'</li><li>'715-20-1673'</li><li>'811-35-1094'</li><li>'699-88-1972'</li><li>'781-84-8059'</li><li>'409-49-6995'</li><li>'725-54-0677'</li><li>'146-09-5432'</li><li>'377-79-7592'</li><li>'509-10-0516'</li><li>'595-94-9924'</li><li>'865-41-9075'</li><li>'545-07-8534'</li><li>'118-62-1812'</li><li>'450-42-3339'</li><li>'851-98-3555'</li><li>'186-71-5196'</li><li>'624-01-8356'</li><li>'313-66-9943'</li><li>'151-27-8496'</li><li>'453-33-6436'</li><li>'522-57-8364'</li><li>'459-45-2396'</li><li>'717-96-4189'</li><li>'722-13-2115'</li><li>'749-81-8133'</li><li>'777-67-2495'</li><li>'636-98-3364'</li><li>'246-55-6923'</li><li>'181-82-6255'</li><li>'838-02-1821'</li><li>'887-42-0517'</li><li>'457-12-0244'</li><li>'226-34-0034'</li><li>'321-49-7382'</li><li>'397-25-8725'</li><li>'431-66-2305'</li><li>'825-94-5922'</li><li>'641-62-7288'</li><li>'756-93-1854'</li><li>'243-55-8457'</li><li>'458-10-8612'</li><li>'501-61-1753'</li><li>'235-06-8510'</li><li>'433-08-7822'</li><li>'361-85-2571'</li><li>'131-70-8179'</li><li>'500-02-2261'</li><li>'720-72-2436'</li><li>'702-83-5291'</li><li>'809-69-9497'</li><li>'449-16-6770'</li><li>'333-23-2632'</li><li>'489-82-1237'</li><li>'859-97-6048'</li><li>'676-10-2200'</li><li>'373-88-1424'</li><li>'365-16-4334'</li><li>'503-21-4385'</li><li>'305-89-2768'</li><li>'574-80-1489'</li><li>'784-08-0310'</li><li>'200-40-6154'</li><li>'846-10-0341'</li><li>'577-34-7579'</li><li>'430-02-3888'</li><li>'867-47-1948'</li><li>'384-59-6655'</li><li>'256-58-3609'</li><li>'324-92-3863'</li><li>'593-08-5916'</li><li>'364-34-2972'</li><li>'794-42-3736'</li><li>'172-42-8274'</li><li>'558-60-5016'</li><li>'195-06-0432'</li><li>'605-03-2706'</li><li>'214-30-2776'</li><li>'746-04-1077'</li><li>'448-34-8700'</li><li>'452-04-8808'</li><li>'531-56-4728'</li><li>'744-82-9138'</li><li>'883-69-1285'</li><li>'221-25-5073'</li><li>'518-71-6847'</li><li>'156-20-0370'</li><li>'151-33-7434'</li><li>'728-47-9078'</li><li>'809-46-1866'</li><li>'139-32-4183'</li><li>'148-41-7930'</li><li>'189-40-5216'</li><li>'374-38-5555'</li><li>'764-44-8999'</li><li>'552-44-5977'</li><li>'267-62-7380'</li><li>'430-53-4718'</li><li>'886-18-2897'</li><li>'602-16-6955'</li><li>'745-74-0715'</li><li>'690-01-6631'</li><li>'652-49-6720'</li><li>'233-67-5758'</li><li>'303-96-2227'</li><li>'727-02-1313'</li><li>'347-56-2442'</li><li>'849-09-3807'</li></ol>\n",
              "</dd>\n",
              "\t<dt>$branch</dt>\n",
              "\t\t<dd><style>\n",
              ".list-inline {list-style: none; margin:0; padding: 0}\n",
              ".list-inline>li {display: inline-block}\n",
              ".list-inline>li:not(:last-child)::after {content: \"\\00b7\"; padding: 0 .5ex}\n",
              "</style>\n",
              "<ol class=list-inline><li>'A'</li><li>'C'</li><li>'B'</li></ol>\n",
              "</dd>\n",
              "\t<dt>$customer.type</dt>\n",
              "\t\t<dd><style>\n",
              ".list-inline {list-style: none; margin:0; padding: 0}\n",
              ".list-inline>li {display: inline-block}\n",
              ".list-inline>li:not(:last-child)::after {content: \"\\00b7\"; padding: 0 .5ex}\n",
              "</style>\n",
              "<ol class=list-inline><li>'Member'</li><li>'Normal'</li></ol>\n",
              "</dd>\n",
              "\t<dt>$gender</dt>\n",
              "\t\t<dd><style>\n",
              ".list-inline {list-style: none; margin:0; padding: 0}\n",
              ".list-inline>li {display: inline-block}\n",
              ".list-inline>li:not(:last-child)::after {content: \"\\00b7\"; padding: 0 .5ex}\n",
              "</style>\n",
              "<ol class=list-inline><li>'Female'</li><li>'Male'</li></ol>\n",
              "</dd>\n",
              "\t<dt>$product.line</dt>\n",
              "\t\t<dd><style>\n",
              ".list-inline {list-style: none; margin:0; padding: 0}\n",
              ".list-inline>li {display: inline-block}\n",
              ".list-inline>li:not(:last-child)::after {content: \"\\00b7\"; padding: 0 .5ex}\n",
              "</style>\n",
              "<ol class=list-inline><li>'Health and beauty'</li><li>'Electronic accessories'</li><li>'Home and lifestyle'</li><li>'Sports and travel'</li><li>'Food and beverages'</li><li>'Fashion accessories'</li></ol>\n",
              "</dd>\n",
              "\t<dt>$unit.price</dt>\n",
              "\t\t<dd><style>\n",
              ".list-inline {list-style: none; margin:0; padding: 0}\n",
              ".list-inline>li {display: inline-block}\n",
              ".list-inline>li:not(:last-child)::after {content: \"\\00b7\"; padding: 0 .5ex}\n",
              "</style>\n",
              "<ol class=list-inline><li>74.69</li><li>15.28</li><li>46.33</li><li>58.22</li><li>86.31</li><li>85.39</li><li>68.84</li><li>73.56</li><li>36.26</li><li>54.84</li><li>14.48</li><li>25.51</li><li>46.95</li><li>43.19</li><li>71.38</li><li>93.72</li><li>68.93</li><li>72.61</li><li>54.67</li><li>40.3</li><li>86.04</li><li>87.98</li><li>33.2</li><li>34.56</li><li>88.63</li><li>52.59</li><li>33.52</li><li>87.67</li><li>88.36</li><li>24.89</li><li>94.13</li><li>78.07</li><li>83.78</li><li>96.58</li><li>99.42</li><li>68.12</li><li>62.62</li><li>60.88</li><li>54.92</li><li>30.12</li><li>86.72</li><li>56.11</li><li>69.12</li><li>98.7</li><li>15.37</li><li>93.96</li><li>56.69</li><li>20.01</li><li>18.93</li><li>82.63</li><li>91.4</li><li>44.59</li><li>17.87</li><li>15.43</li><li>16.16</li><li>85.98</li><li>44.34</li><li>89.6</li><li>72.35</li><li>30.61</li><li>24.74</li><li>55.73</li><li>55.07</li><li>15.81</li><li>75.74</li><li>15.87</li><li>33.47</li><li>97.61</li><li>78.77</li><li>18.33</li><li>89.48</li><li>62.12</li><li>48.52</li><li>75.91</li><li>74.67</li><li>41.65</li><li>49.04</li><li>78.31</li><li>20.38</li><li>99.19</li><li>96.68</li><li>19.25</li><li>80.36</li><li>48.91</li><li>83.06</li><li>76.52</li><li>49.38</li><li>42.47</li><li>76.99</li><li>47.38</li><li>44.86</li><li>21.98</li><li>64.36</li><li>89.75</li><li>97.16</li><li>87.87</li><li>12.45</li><li>52.75</li><li>82.7</li><li>48.71</li><li>78.55</li><li>23.07</li><li>58.26</li><li>30.35</li><li>88.67</li><li>27.38</li><li>62.13</li><li>33.98</li><li>81.97</li><li>16.49</li><li>98.21</li><li>72.84</li><li>58.07</li><li>80.79</li><li>27.02</li><li>21.94</li><li>51.36</li><li>10.96</li><li>53.44</li><li>99.56</li><li>57.12</li><li>99.96</li><li>63.91</li><li>56.47</li><li>93.69</li><li>32.25</li><li>31.73</li><li>68.54</li><li>90.28</li><li>39.62</li><li>92.13</li><li>34.84</li><li>87.45</li><li>81.3</li><li>90.22</li><li>26.31</li><li>34.42</li><li>51.91</li><li>72.5</li><li>89.8</li><li>90.5</li><li>68.6</li><li>30.41</li><li>77.95</li><li>46.26</li><li>30.14</li><li>66.14</li><li>71.86</li><li>32.46</li><li>91.54</li><li>83.24</li><li>16.48</li><li>80.97</li><li>92.29</li><li>72.17</li><li>50.28</li><li>97.22</li><li>93.39</li><li>43.18</li><li>63.69</li><li>45.79</li><li>76.4</li><li>39.9</li><li>42.57</li><li>95.58</li><li>98.98</li><li>51.28</li><li>69.52</li><li>70.01</li><li>80.05</li><li>20.85</li><li>52.89</li><li>19.79</li><li>33.84</li><li>22.17</li><li>22.51</li><li>73.88</li><li>86.8</li><li>64.26</li><li>38.47</li><li>15.5</li><li>34.31</li><li>12.34</li><li>18.08</li><li>94.49</li><li>46.47</li><li>74.07</li><li>69.81</li><li>77.04</li><li>73.52</li><li>87.8</li><li>25.55</li><li>32.71</li><li>74.29</li><li>43.7</li><li>25.29</li><li>41.5</li><li>71.39</li><li>19.15</li><li>57.49</li><li>⋯</li><li>28.86</li><li>65.31</li><li>93.38</li><li>25.25</li><li>21.8</li><li>94.76</li><li>30.62</li><li>44.01</li><li>10.16</li><li>74.58</li><li>71.89</li><li>10.99</li><li>60.47</li><li>58.91</li><li>46.41</li><li>68.55</li><li>97.37</li><li>92.6</li><li>46.61</li><li>27.18</li><li>24.49</li><li>92.78</li><li>86.69</li><li>23.01</li><li>30.2</li><li>67.39</li><li>48.96</li><li>75.59</li><li>77.47</li><li>93.18</li><li>50.23</li><li>17.75</li><li>62.18</li><li>10.75</li><li>40.26</li><li>64.97</li><li>95.15</li><li>48.62</li><li>53.21</li><li>45.44</li><li>33.88</li><li>96.16</li><li>47.16</li><li>47.68</li><li>10.17</li><li>60.08</li><li>72.11</li><li>41.28</li><li>64.95</li><li>74.22</li><li>10.56</li><li>62.57</li><li>11.85</li><li>91.3</li><li>40.73</li><li>52.38</li><li>38.54</li><li>44.63</li><li>55.87</li><li>29.22</li><li>39.47</li><li>14.87</li><li>21.32</li><li>93.78</li><li>73.26</li><li>22.38</li><li>99.1</li><li>74.1</li><li>98.48</li><li>53.19</li><li>52.79</li><li>95.95</li><li>36.51</li><li>28.31</li><li>57.59</li><li>47.63</li><li>86.27</li><li>12.76</li><li>11.28</li><li>51.07</li><li>79.59</li><li>33.81</li><li>90.53</li><li>62.82</li><li>24.31</li><li>64.59</li><li>24.82</li><li>56.5</li><li>21.43</li><li>89.06</li><li>23.29</li><li>65.26</li><li>52.35</li><li>90.02</li><li>12.1</li><li>33.21</li><li>10.18</li><li>31.99</li><li>83.34</li><li>87.9</li><li>12.19</li><li>76.92</li><li>83.66</li><li>57.91</li><li>92.49</li><li>28.38</li><li>50.45</li><li>99.16</li><li>60.74</li><li>47.27</li><li>85.6</li><li>35.04</li><li>44.84</li><li>45.97</li><li>27.73</li><li>11.53</li><li>58.32</li><li>84.61</li><li>82.88</li><li>79.54</li><li>49.01</li><li>29.15</li><li>56.13</li><li>93.12</li><li>99.6</li><li>35.49</li><li>42.85</li><li>94.67</li><li>68.97</li><li>35.79</li><li>16.37</li><li>12.73</li><li>83.14</li><li>35.22</li><li>13.78</li><li>88.31</li><li>88.25</li><li>25.31</li><li>99.92</li><li>83.35</li><li>74.44</li><li>63.15</li><li>85.72</li><li>78.89</li><li>92.09</li><li>57.29</li><li>66.52</li><li>45.68</li><li>50.79</li><li>10.08</li><li>93.88</li><li>84.25</li><li>53.78</li><li>35.81</li><li>26.43</li><li>39.91</li><li>21.9</li><li>62.85</li><li>21.04</li><li>65.91</li><li>50.49</li><li>46.02</li><li>15.8</li><li>98.66</li><li>91.98</li><li>20.89</li><li>96.82</li><li>33.33</li><li>38.27</li><li>33.3</li><li>81.01</li><li>34.49</li><li>84.63</li><li>36.91</li><li>87.08</li><li>80.08</li><li>86.13</li><li>49.92</li><li>74.66</li><li>26.6</li><li>25.45</li><li>67.77</li><li>59.59</li><li>58.15</li><li>97.48</li><li>96.37</li><li>63.71</li><li>14.76</li><li>62</li><li>82.34</li><li>75.37</li><li>56.56</li><li>76.6</li><li>58.03</li><li>17.49</li><li>40.35</li><li>97.38</li><li>31.84</li><li>65.82</li><li>88.34</li></ol>\n",
              "</dd>\n",
              "\t<dt>$quantity</dt>\n",
              "\t\t<dd><style>\n",
              ".list-inline {list-style: none; margin:0; padding: 0}\n",
              ".list-inline>li {display: inline-block}\n",
              ".list-inline>li:not(:last-child)::after {content: \"\\00b7\"; padding: 0 .5ex}\n",
              "</style>\n",
              "<ol class=list-inline><li>7</li><li>5</li><li>8</li><li>6</li><li>10</li><li>2</li><li>3</li><li>4</li><li>1</li><li>9</li></ol>\n",
              "</dd>\n",
              "\t<dt>$tax</dt>\n",
              "\t\t<dd><style>\n",
              ".list-inline {list-style: none; margin:0; padding: 0}\n",
              ".list-inline>li {display: inline-block}\n",
              ".list-inline>li:not(:last-child)::after {content: \"\\00b7\"; padding: 0 .5ex}\n",
              "</style>\n",
              "<ol class=list-inline><li>26.1415</li><li>3.82</li><li>16.2155</li><li>23.288</li><li>30.2085</li><li>29.8865</li><li>20.652</li><li>36.78</li><li>3.626</li><li>8.226</li><li>2.896</li><li>5.102</li><li>11.7375</li><li>21.595</li><li>35.69</li><li>28.116</li><li>24.1255</li><li>21.783</li><li>8.2005</li><li>4.03</li><li>21.51</li><li>13.197</li><li>3.32</li><li>8.64</li><li>13.2945</li><li>21.036</li><li>1.676</li><li>8.767</li><li>22.09</li><li>11.2005</li><li>23.5325</li><li>35.1315</li><li>33.512</li><li>9.658</li><li>19.884</li><li>3.406</li><li>15.655</li><li>27.396</li><li>21.968</li><li>12.048</li><li>4.336</li><li>5.611</li><li>20.736</li><li>39.48</li><li>1.537</li><li>18.792</li><li>25.5105</li><li>9.0045</li><li>5.679</li><li>41.315</li><li>31.99</li><li>11.1475</li><li>3.574</li><li>0.7715</li><li>1.616</li><li>34.392</li><li>4.434</li><li>35.84</li><li>36.175</li><li>9.183</li><li>3.711</li><li>16.719</li><li>24.7815</li><li>7.905</li><li>15.148</li><li>7.935</li><li>3.347</li><li>29.283</li><li>39.385</li><li>0.9165</li><li>44.74</li><li>31.06</li><li>7.278</li><li>22.773</li><li>33.6015</li><li>20.825</li><li>22.068</li><li>39.155</li><li>5.095</li><li>29.757</li><li>14.502</li><li>7.7</li><li>16.072</li><li>12.2275</li><li>29.071</li><li>19.13</li><li>17.283</li><li>2.1235</li><li>23.097</li><li>9.476</li><li>22.43</li><li>7.693</li><li>28.962</li><li>4.4875</li><li>4.858</li><li>43.935</li><li>3.735</li><li>7.9125</li><li>24.81</li><li>2.4355</li><li>35.3475</li><li>10.3815</li><li>17.478</li><li>10.6225</li><li>44.335</li><li>8.214</li><li>18.639</li><li>15.291</li><li>40.985</li><li>1.649</li><li>14.7315</li><li>25.494</li><li>26.1315</li><li>36.3555</li><li>4.053</li><li>5.485</li><li>2.568</li><li>5.48</li><li>5.344</li><li>39.824</li><li>19.992</li><li>44.982</li><li>25.564</li><li>22.588</li><li>32.7915</li><li>8.0625</li><li>14.2785</li><li>27.416</li><li>40.626</li><li>13.867</li><li>27.639</li><li>6.968</li><li>26.235</li><li>24.39</li><li>13.533</li><li>6.5775</li><li>10.326</li><li>25.955</li><li>29</li><li>44.9</li><li>45.25</li><li>34.3</li><li>1.5205</li><li>23.385</li><li>13.878</li><li>15.07</li><li>13.228</li><li>28.744</li><li>12.984</li><li>18.308</li><li>12.096</li><li>37.458</li><li>4.944</li><li>32.388</li><li>23.0725</li><li>3.6085</li><li>12.57</li><li>43.749</li><li>28.017</li><li>17.272</li><li>3.1845</li><li>16.0265</li><li>7.64</li><li>19.95</li><li>17.028</li><li>47.79</li><li>49.49</li><li>15.384</li><li>24.332</li><li>17.5025</li><li>20.0125</li><li>8.34</li><li>15.867</li><li>7.916</li><li>15.228</li><li>8.868</li><li>7.8785</li><li>22.164</li><li>13.02</li><li>22.491</li><li>15.388</li><li>7.75</li><li>13.724</li><li>4.319</li><li>2.712</li><li>37.796</li><li>9.294</li><li>3.7035</li><li>13.962</li><li>11.556</li><li>7.352</li><li>39.51</li><li>5.11</li><li>8.1775</li><li>3.7145</li><li>4.37</li><li>1.2645</li><li>8.3</li><li>17.8475</li><li>5.745</li><li>⋯</li><li>12.245</li><li>4.639</li><li>21.6725</li><li>6.903</li><li>12.08</li><li>23.5865</li><li>22.032</li><li>34.0155</li><li>15.494</li><li>9.318</li><li>10.046</li><li>0.8875</li><li>31.09</li><li>4.3</li><li>20.13</li><li>16.2425</li><li>4.7575</li><li>19.448</li><li>21.284</li><li>15.904</li><li>13.552</li><li>19.232</li><li>11.79</li><li>10.578</li><li>4.768</li><li>0.5085</li><li>10.3065</li><li>21.028</li><li>4.402</li><li>32.4495</li><li>6.192</li><li>32.475</li><li>37.11</li><li>4.224</li><li>12.514</li><li>4.74</li><li>4.565</li><li>14.2555</li><li>2.619</li><li>9.635</li><li>13.389</li><li>27.935</li><li>8.766</li><li>7.791</li><li>3.015</li><li>3.947</li><li>1.487</li><li>1.066</li><li>14.067</li><li>3.663</li><li>1.119</li><li>32.796</li><li>29.73</li><li>3.705</li><li>9.848</li><li>18.6165</li><li>26.395</li><li>23.9875</li><li>16.4295</li><li>8.448</li><li>5.662</li><li>17.277</li><li>21.4335</li><li>4.3135</li><li>1.276</li><li>5.076</li><li>17.8745</li><li>11.9385</li><li>5.0715</li><li>36.212</li><li>6.282</li><li>3.6465</li><li>12.918</li><li>8.687</li><li>2.825</li><li>10.715</li><li>26.718</li><li>4.658</li><li>26.104</li><li>2.6175</li><li>1.9875</li><li>36.008</li><li>4.84</li><li>16.605</li><li>4.072</li><li>15.995</li><li>8.334</li><li>15.953</li><li>4.395</li><li>36.735</li><li>4.876</li><li>38.46</li><li>20.915</li><li>23.164</li><li>23.1225</li><li>7.095</li><li>15.135</li><li>39.664</li><li>21.259</li><li>14.181</li><li>29.96</li><li>15.768</li><li>20.178</li><li>9.194</li><li>6.9325</li><li>4.0355</li><li>5.832</li><li>15.676</li><li>42.305</li><li>20.72</li><li>7.954</li><li>24.505</li><li>4.3725</li><li>11.226</li><li>37.248</li><li>20.536</li><li>14.94</li><li>10.647</li><li>2.1425</li><li>18.934</li><li>10.3455</li><li>3.939</li><li>16.1055</li><li>4.911</li><li>1.273</li><li>29.099</li><li>10.566</li><li>2.756</li><li>4.4155</li><li>17.829</li><li>39.7125</li><li>2.531</li><li>29.976</li><li>8.335</li><li>37.22</li><li>18.945</li><li>12.858</li><li>27.6115</li><li>22.37</li><li>13.8135</li><li>17.187</li><li>13.304</li><li>44.919</li><li>22.84</li><li>12.6975</li><li>3.528</li><li>32.858</li><li>8.425</li><li>2.689</li><li>8.9525</li><li>10.572</li><li>5.9865</li><li>3.285</li><li>4.208</li><li>19.773</li><li>14.8995</li><li>22.7205</li><li>13.806</li><li>7.9</li><li>44.397</li><li>4.599</li><li>2.089</li><li>0.775</li><li>14.523</li><li>3.333</li><li>3.827</li><li>14.985</li><li>12.1515</li><li>2.37</li><li>8.6225</li><li>42.315</li><li>12.9185</li><li>30.478</li><li>12.012</li><li>8.613</li><li>4.992</li><li>14.932</li><li>7.98</li><li>1.2725</li><li>3.3885</li><li>11.918</li><li>11.63</li><li>43.866</li><li>34.986</li><li>33.7295</li><li>15.9275</li><li>1.476</li><li>24.8</li><li>41.17</li><li>30.148</li><li>14.14</li><li>38.3</li><li>5.803</li><li>8.745</li><li>3.0475</li><li>2.0175</li><li>48.69</li><li>1.592</li><li>3.291</li><li>30.919</li></ol>\n",
              "</dd>\n",
              "\t<dt>$payment</dt>\n",
              "\t\t<dd><style>\n",
              ".list-inline {list-style: none; margin:0; padding: 0}\n",
              ".list-inline>li {display: inline-block}\n",
              ".list-inline>li:not(:last-child)::after {content: \"\\00b7\"; padding: 0 .5ex}\n",
              "</style>\n",
              "<ol class=list-inline><li>'Ewallet'</li><li>'Cash'</li><li>'Credit card'</li></ol>\n",
              "</dd>\n",
              "\t<dt>$cogs</dt>\n",
              "\t\t<dd><style>\n",
              ".list-inline {list-style: none; margin:0; padding: 0}\n",
              ".list-inline>li {display: inline-block}\n",
              ".list-inline>li:not(:last-child)::after {content: \"\\00b7\"; padding: 0 .5ex}\n",
              "</style>\n",
              "<ol class=list-inline><li>522.83</li><li>76.4</li><li>324.31</li><li>465.76</li><li>604.17</li><li>597.73</li><li>413.04</li><li>735.6</li><li>72.52</li><li>164.52</li><li>57.92</li><li>102.04</li><li>234.75</li><li>431.9</li><li>713.8</li><li>562.32</li><li>482.51</li><li>435.66</li><li>164.01</li><li>80.6</li><li>430.2</li><li>263.94</li><li>66.4</li><li>172.8</li><li>265.89</li><li>420.72</li><li>33.52</li><li>175.34</li><li>441.8</li><li>224.01</li><li>470.65</li><li>702.63</li><li>670.24</li><li>193.16</li><li>397.68</li><li>68.12</li><li>313.1</li><li>547.92</li><li>439.36</li><li>240.96</li><li>86.72</li><li>112.22</li><li>414.72</li><li>789.6</li><li>30.74</li><li>375.84</li><li>510.21</li><li>180.09</li><li>113.58</li><li>826.3</li><li>639.8</li><li>222.95</li><li>71.48</li><li>15.43</li><li>32.32</li><li>687.84</li><li>88.68</li><li>716.8</li><li>723.5</li><li>183.66</li><li>74.22</li><li>334.38</li><li>495.63</li><li>158.1</li><li>302.96</li><li>158.7</li><li>66.94</li><li>585.66</li><li>787.7</li><li>18.33</li><li>894.8</li><li>621.2</li><li>145.56</li><li>455.46</li><li>672.03</li><li>416.5</li><li>441.36</li><li>783.1</li><li>101.9</li><li>595.14</li><li>290.04</li><li>154</li><li>321.44</li><li>244.55</li><li>581.42</li><li>382.6</li><li>345.66</li><li>42.47</li><li>461.94</li><li>189.52</li><li>448.6</li><li>153.86</li><li>579.24</li><li>89.75</li><li>97.16</li><li>878.7</li><li>74.7</li><li>158.25</li><li>496.2</li><li>48.71</li><li>706.95</li><li>207.63</li><li>349.56</li><li>212.45</li><li>886.7</li><li>164.28</li><li>372.78</li><li>305.82</li><li>819.7</li><li>32.98</li><li>294.63</li><li>509.88</li><li>522.63</li><li>727.11</li><li>81.06</li><li>109.7</li><li>51.36</li><li>109.6</li><li>106.88</li><li>796.48</li><li>399.84</li><li>899.64</li><li>511.28</li><li>451.76</li><li>655.83</li><li>161.25</li><li>285.57</li><li>548.32</li><li>812.52</li><li>277.34</li><li>552.78</li><li>139.36</li><li>524.7</li><li>487.8</li><li>270.66</li><li>131.55</li><li>206.52</li><li>519.1</li><li>580</li><li>898</li><li>905</li><li>686</li><li>30.41</li><li>467.7</li><li>277.56</li><li>301.4</li><li>264.56</li><li>574.88</li><li>259.68</li><li>366.16</li><li>241.92</li><li>749.16</li><li>98.88</li><li>647.76</li><li>461.45</li><li>72.17</li><li>251.4</li><li>874.98</li><li>560.34</li><li>345.44</li><li>63.69</li><li>320.53</li><li>152.8</li><li>399</li><li>340.56</li><li>955.8</li><li>989.8</li><li>307.68</li><li>486.64</li><li>350.05</li><li>400.25</li><li>166.8</li><li>317.34</li><li>158.32</li><li>304.56</li><li>177.36</li><li>157.57</li><li>443.28</li><li>260.4</li><li>449.82</li><li>307.76</li><li>155</li><li>274.48</li><li>86.38</li><li>54.24</li><li>755.92</li><li>185.88</li><li>74.07</li><li>279.24</li><li>231.12</li><li>147.04</li><li>790.2</li><li>102.2</li><li>163.55</li><li>74.29</li><li>87.4</li><li>25.29</li><li>166</li><li>356.95</li><li>114.9</li><li>⋯</li><li>244.9</li><li>92.78</li><li>433.45</li><li>138.06</li><li>241.6</li><li>471.73</li><li>440.64</li><li>680.31</li><li>309.88</li><li>186.36</li><li>200.92</li><li>17.75</li><li>621.8</li><li>86</li><li>402.6</li><li>324.85</li><li>95.15</li><li>388.96</li><li>425.68</li><li>318.08</li><li>271.04</li><li>384.64</li><li>235.8</li><li>211.56</li><li>95.36</li><li>10.17</li><li>206.13</li><li>420.56</li><li>88.04</li><li>648.99</li><li>123.84</li><li>649.5</li><li>742.2</li><li>84.48</li><li>250.28</li><li>94.8</li><li>91.3</li><li>285.11</li><li>52.38</li><li>192.7</li><li>267.78</li><li>558.7</li><li>175.32</li><li>155.82</li><li>60.3</li><li>78.94</li><li>29.74</li><li>21.32</li><li>281.34</li><li>73.26</li><li>22.38</li><li>655.92</li><li>594.6</li><li>74.1</li><li>196.96</li><li>372.33</li><li>527.9</li><li>479.75</li><li>328.59</li><li>168.96</li><li>113.24</li><li>345.54</li><li>428.67</li><li>86.27</li><li>25.52</li><li>101.52</li><li>357.49</li><li>238.77</li><li>101.43</li><li>724.24</li><li>125.64</li><li>72.93</li><li>258.36</li><li>173.74</li><li>56.5</li><li>214.3</li><li>534.36</li><li>93.16</li><li>522.08</li><li>52.35</li><li>39.75</li><li>720.16</li><li>96.8</li><li>332.1</li><li>81.44</li><li>319.9</li><li>166.68</li><li>319.06</li><li>87.9</li><li>734.7</li><li>97.52</li><li>769.2</li><li>418.3</li><li>463.28</li><li>462.45</li><li>141.9</li><li>302.7</li><li>793.28</li><li>425.18</li><li>283.62</li><li>599.2</li><li>315.36</li><li>403.56</li><li>183.88</li><li>138.65</li><li>80.71</li><li>116.64</li><li>313.52</li><li>846.1</li><li>414.4</li><li>159.08</li><li>490.1</li><li>87.45</li><li>224.52</li><li>744.96</li><li>410.72</li><li>298.8</li><li>212.94</li><li>42.85</li><li>378.68</li><li>206.91</li><li>78.78</li><li>322.11</li><li>98.22</li><li>25.46</li><li>581.98</li><li>211.32</li><li>55.12</li><li>88.31</li><li>356.58</li><li>794.25</li><li>50.62</li><li>599.52</li><li>166.7</li><li>744.4</li><li>378.9</li><li>257.16</li><li>552.23</li><li>447.4</li><li>276.27</li><li>343.74</li><li>266.08</li><li>898.38</li><li>456.8</li><li>253.95</li><li>70.56</li><li>657.16</li><li>168.5</li><li>53.78</li><li>179.05</li><li>211.44</li><li>119.73</li><li>65.7</li><li>84.16</li><li>395.46</li><li>297.99</li><li>454.41</li><li>276.12</li><li>158</li><li>887.94</li><li>91.98</li><li>41.78</li><li>15.5</li><li>290.46</li><li>66.66</li><li>76.54</li><li>299.7</li><li>243.03</li><li>47.4</li><li>172.45</li><li>846.3</li><li>258.37</li><li>609.56</li><li>240.24</li><li>172.26</li><li>99.84</li><li>298.64</li><li>159.6</li><li>25.45</li><li>67.77</li><li>238.36</li><li>232.6</li><li>877.32</li><li>699.72</li><li>674.59</li><li>318.55</li><li>29.52</li><li>496</li><li>823.4</li><li>602.96</li><li>282.8</li><li>766</li><li>116.06</li><li>174.9</li><li>60.95</li><li>40.35</li><li>973.8</li><li>31.84</li><li>65.82</li><li>618.38</li></ol>\n",
              "</dd>\n",
              "\t<dt>$gross.margin.percentage</dt>\n",
              "\t\t<dd>4.761904762</dd>\n",
              "\t<dt>$gross.income</dt>\n",
              "\t\t<dd><style>\n",
              ".list-inline {list-style: none; margin:0; padding: 0}\n",
              ".list-inline>li {display: inline-block}\n",
              ".list-inline>li:not(:last-child)::after {content: \"\\00b7\"; padding: 0 .5ex}\n",
              "</style>\n",
              "<ol class=list-inline><li>26.1415</li><li>3.82</li><li>16.2155</li><li>23.288</li><li>30.2085</li><li>29.8865</li><li>20.652</li><li>36.78</li><li>3.626</li><li>8.226</li><li>2.896</li><li>5.102</li><li>11.7375</li><li>21.595</li><li>35.69</li><li>28.116</li><li>24.1255</li><li>21.783</li><li>8.2005</li><li>4.03</li><li>21.51</li><li>13.197</li><li>3.32</li><li>8.64</li><li>13.2945</li><li>21.036</li><li>1.676</li><li>8.767</li><li>22.09</li><li>11.2005</li><li>23.5325</li><li>35.1315</li><li>33.512</li><li>9.658</li><li>19.884</li><li>3.406</li><li>15.655</li><li>27.396</li><li>21.968</li><li>12.048</li><li>4.336</li><li>5.611</li><li>20.736</li><li>39.48</li><li>1.537</li><li>18.792</li><li>25.5105</li><li>9.0045</li><li>5.679</li><li>41.315</li><li>31.99</li><li>11.1475</li><li>3.574</li><li>0.7715</li><li>1.616</li><li>34.392</li><li>4.434</li><li>35.84</li><li>36.175</li><li>9.183</li><li>3.711</li><li>16.719</li><li>24.7815</li><li>7.905</li><li>15.148</li><li>7.935</li><li>3.347</li><li>29.283</li><li>39.385</li><li>0.9165</li><li>44.74</li><li>31.06</li><li>7.278</li><li>22.773</li><li>33.6015</li><li>20.825</li><li>22.068</li><li>39.155</li><li>5.095</li><li>29.757</li><li>14.502</li><li>7.7</li><li>16.072</li><li>12.2275</li><li>29.071</li><li>19.13</li><li>17.283</li><li>2.1235</li><li>23.097</li><li>9.476</li><li>22.43</li><li>7.693</li><li>28.962</li><li>4.4875</li><li>4.858</li><li>43.935</li><li>3.735</li><li>7.9125</li><li>24.81</li><li>2.4355</li><li>35.3475</li><li>10.3815</li><li>17.478</li><li>10.6225</li><li>44.335</li><li>8.214</li><li>18.639</li><li>15.291</li><li>40.985</li><li>1.649</li><li>14.7315</li><li>25.494</li><li>26.1315</li><li>36.3555</li><li>4.053</li><li>5.485</li><li>2.568</li><li>5.48</li><li>5.344</li><li>39.824</li><li>19.992</li><li>44.982</li><li>25.564</li><li>22.588</li><li>32.7915</li><li>8.0625</li><li>14.2785</li><li>27.416</li><li>40.626</li><li>13.867</li><li>27.639</li><li>6.968</li><li>26.235</li><li>24.39</li><li>13.533</li><li>6.5775</li><li>10.326</li><li>25.955</li><li>29</li><li>44.9</li><li>45.25</li><li>34.3</li><li>1.5205</li><li>23.385</li><li>13.878</li><li>15.07</li><li>13.228</li><li>28.744</li><li>12.984</li><li>18.308</li><li>12.096</li><li>37.458</li><li>4.944</li><li>32.388</li><li>23.0725</li><li>3.6085</li><li>12.57</li><li>43.749</li><li>28.017</li><li>17.272</li><li>3.1845</li><li>16.0265</li><li>7.64</li><li>19.95</li><li>17.028</li><li>47.79</li><li>49.49</li><li>15.384</li><li>24.332</li><li>17.5025</li><li>20.0125</li><li>8.34</li><li>15.867</li><li>7.916</li><li>15.228</li><li>8.868</li><li>7.8785</li><li>22.164</li><li>13.02</li><li>22.491</li><li>15.388</li><li>7.75</li><li>13.724</li><li>4.319</li><li>2.712</li><li>37.796</li><li>9.294</li><li>3.7035</li><li>13.962</li><li>11.556</li><li>7.352</li><li>39.51</li><li>5.11</li><li>8.1775</li><li>3.7145</li><li>4.37</li><li>1.2645</li><li>8.3</li><li>17.8475</li><li>5.745</li><li>⋯</li><li>12.245</li><li>4.639</li><li>21.6725</li><li>6.903</li><li>12.08</li><li>23.5865</li><li>22.032</li><li>34.0155</li><li>15.494</li><li>9.318</li><li>10.046</li><li>0.8875</li><li>31.09</li><li>4.3</li><li>20.13</li><li>16.2425</li><li>4.7575</li><li>19.448</li><li>21.284</li><li>15.904</li><li>13.552</li><li>19.232</li><li>11.79</li><li>10.578</li><li>4.768</li><li>0.5085</li><li>10.3065</li><li>21.028</li><li>4.402</li><li>32.4495</li><li>6.192</li><li>32.475</li><li>37.11</li><li>4.224</li><li>12.514</li><li>4.74</li><li>4.565</li><li>14.2555</li><li>2.619</li><li>9.635</li><li>13.389</li><li>27.935</li><li>8.766</li><li>7.791</li><li>3.015</li><li>3.947</li><li>1.487</li><li>1.066</li><li>14.067</li><li>3.663</li><li>1.119</li><li>32.796</li><li>29.73</li><li>3.705</li><li>9.848</li><li>18.6165</li><li>26.395</li><li>23.9875</li><li>16.4295</li><li>8.448</li><li>5.662</li><li>17.277</li><li>21.4335</li><li>4.3135</li><li>1.276</li><li>5.076</li><li>17.8745</li><li>11.9385</li><li>5.0715</li><li>36.212</li><li>6.282</li><li>3.6465</li><li>12.918</li><li>8.687</li><li>2.825</li><li>10.715</li><li>26.718</li><li>4.658</li><li>26.104</li><li>2.6175</li><li>1.9875</li><li>36.008</li><li>4.84</li><li>16.605</li><li>4.072</li><li>15.995</li><li>8.334</li><li>15.953</li><li>4.395</li><li>36.735</li><li>4.876</li><li>38.46</li><li>20.915</li><li>23.164</li><li>23.1225</li><li>7.095</li><li>15.135</li><li>39.664</li><li>21.259</li><li>14.181</li><li>29.96</li><li>15.768</li><li>20.178</li><li>9.194</li><li>6.9325</li><li>4.0355</li><li>5.832</li><li>15.676</li><li>42.305</li><li>20.72</li><li>7.954</li><li>24.505</li><li>4.3725</li><li>11.226</li><li>37.248</li><li>20.536</li><li>14.94</li><li>10.647</li><li>2.1425</li><li>18.934</li><li>10.3455</li><li>3.939</li><li>16.1055</li><li>4.911</li><li>1.273</li><li>29.099</li><li>10.566</li><li>2.756</li><li>4.4155</li><li>17.829</li><li>39.7125</li><li>2.531</li><li>29.976</li><li>8.335</li><li>37.22</li><li>18.945</li><li>12.858</li><li>27.6115</li><li>22.37</li><li>13.8135</li><li>17.187</li><li>13.304</li><li>44.919</li><li>22.84</li><li>12.6975</li><li>3.528</li><li>32.858</li><li>8.425</li><li>2.689</li><li>8.9525</li><li>10.572</li><li>5.9865</li><li>3.285</li><li>4.208</li><li>19.773</li><li>14.8995</li><li>22.7205</li><li>13.806</li><li>7.9</li><li>44.397</li><li>4.599</li><li>2.089</li><li>0.775</li><li>14.523</li><li>3.333</li><li>3.827</li><li>14.985</li><li>12.1515</li><li>2.37</li><li>8.6225</li><li>42.315</li><li>12.9185</li><li>30.478</li><li>12.012</li><li>8.613</li><li>4.992</li><li>14.932</li><li>7.98</li><li>1.2725</li><li>3.3885</li><li>11.918</li><li>11.63</li><li>43.866</li><li>34.986</li><li>33.7295</li><li>15.9275</li><li>1.476</li><li>24.8</li><li>41.17</li><li>30.148</li><li>14.14</li><li>38.3</li><li>5.803</li><li>8.745</li><li>3.0475</li><li>2.0175</li><li>48.69</li><li>1.592</li><li>3.291</li><li>30.919</li></ol>\n",
              "</dd>\n",
              "\t<dt>$rating</dt>\n",
              "\t\t<dd><style>\n",
              ".list-inline {list-style: none; margin:0; padding: 0}\n",
              ".list-inline>li {display: inline-block}\n",
              ".list-inline>li:not(:last-child)::after {content: \"\\00b7\"; padding: 0 .5ex}\n",
              "</style>\n",
              "<ol class=list-inline><li>9.1</li><li>9.6</li><li>7.4</li><li>8.4</li><li>5.3</li><li>4.1</li><li>5.8</li><li>8</li><li>7.2</li><li>5.9</li><li>4.5</li><li>6.8</li><li>7.1</li><li>8.2</li><li>5.7</li><li>4.6</li><li>6.9</li><li>8.6</li><li>4.4</li><li>4.8</li><li>5.1</li><li>9.9</li><li>6</li><li>8.5</li><li>6.7</li><li>7.7</li><li>7.5</li><li>7</li><li>4.7</li><li>7.6</li><li>7.9</li><li>6.3</li><li>5.6</li><li>9.5</li><li>8.1</li><li>6.5</li><li>6.1</li><li>6.6</li><li>5.4</li><li>9.3</li><li>10</li><li>6.4</li><li>4.3</li><li>4</li><li>8.7</li><li>9.4</li><li>5.5</li><li>8.3</li><li>7.3</li><li>4.9</li><li>4.2</li><li>9.2</li><li>7.8</li><li>5.2</li><li>9</li><li>8.8</li><li>6.2</li><li>9.8</li><li>9.7</li><li>5</li><li>8.9</li></ol>\n",
              "</dd>\n",
              "\t<dt>$total</dt>\n",
              "\t\t<dd><style>\n",
              ".list-inline {list-style: none; margin:0; padding: 0}\n",
              ".list-inline>li {display: inline-block}\n",
              ".list-inline>li:not(:last-child)::after {content: \"\\00b7\"; padding: 0 .5ex}\n",
              "</style>\n",
              "<ol class=list-inline><li>548.9715</li><li>80.22</li><li>340.5255</li><li>489.048</li><li>634.3785</li><li>627.6165</li><li>433.692</li><li>772.38</li><li>76.146</li><li>172.746</li><li>60.816</li><li>107.142</li><li>246.4875</li><li>453.495</li><li>749.49</li><li>590.436</li><li>506.6355</li><li>457.443</li><li>172.2105</li><li>84.63</li><li>451.71</li><li>277.137</li><li>69.72</li><li>181.44</li><li>279.1845</li><li>441.756</li><li>35.196</li><li>184.107</li><li>463.89</li><li>235.2105</li><li>494.1825</li><li>737.7615</li><li>703.752</li><li>202.818</li><li>417.564</li><li>71.526</li><li>328.755</li><li>575.316</li><li>461.328</li><li>253.008</li><li>91.056</li><li>117.831</li><li>435.456</li><li>829.08</li><li>32.277</li><li>394.632</li><li>535.7205</li><li>189.0945</li><li>119.259</li><li>867.615</li><li>671.79</li><li>234.0975</li><li>75.054</li><li>16.2015</li><li>33.936</li><li>722.232</li><li>93.114</li><li>752.64</li><li>759.675</li><li>192.843</li><li>77.931</li><li>351.099</li><li>520.4115</li><li>166.005</li><li>318.108</li><li>166.635</li><li>70.287</li><li>614.943</li><li>827.085</li><li>19.2465</li><li>939.54</li><li>652.26</li><li>152.838</li><li>478.233</li><li>705.6315</li><li>437.325</li><li>463.428</li><li>822.255</li><li>106.995</li><li>624.897</li><li>304.542</li><li>161.7</li><li>337.512</li><li>256.7775</li><li>610.491</li><li>401.73</li><li>362.943</li><li>44.5935</li><li>485.037</li><li>198.996</li><li>471.03</li><li>161.553</li><li>608.202</li><li>94.2375</li><li>102.018</li><li>922.635</li><li>78.435</li><li>166.1625</li><li>521.01</li><li>51.1455</li><li>742.2975</li><li>218.0115</li><li>367.038</li><li>223.0725</li><li>931.035</li><li>172.494</li><li>391.419</li><li>321.111</li><li>860.685</li><li>34.629</li><li>309.3615</li><li>535.374</li><li>548.7615</li><li>763.4655</li><li>85.113</li><li>115.185</li><li>53.928</li><li>115.08</li><li>112.224</li><li>836.304</li><li>419.832</li><li>944.622</li><li>536.844</li><li>474.348</li><li>688.6215</li><li>169.3125</li><li>299.8485</li><li>575.736</li><li>853.146</li><li>291.207</li><li>580.419</li><li>146.328</li><li>550.935</li><li>512.19</li><li>284.193</li><li>138.1275</li><li>216.846</li><li>545.055</li><li>609</li><li>942.9</li><li>950.25</li><li>720.3</li><li>31.9305</li><li>491.085</li><li>291.438</li><li>316.47</li><li>277.788</li><li>603.624</li><li>272.664</li><li>384.468</li><li>254.016</li><li>786.618</li><li>103.824</li><li>680.148</li><li>484.5225</li><li>75.7785</li><li>263.97</li><li>918.729</li><li>588.357</li><li>362.712</li><li>66.8745</li><li>336.5565</li><li>160.44</li><li>418.95</li><li>357.588</li><li>1003.59</li><li>1039.29</li><li>323.064</li><li>510.972</li><li>367.5525</li><li>420.2625</li><li>175.14</li><li>333.207</li><li>166.236</li><li>319.788</li><li>186.228</li><li>165.4485</li><li>465.444</li><li>273.42</li><li>472.311</li><li>323.148</li><li>162.75</li><li>288.204</li><li>90.699</li><li>56.952</li><li>793.716</li><li>195.174</li><li>77.7735</li><li>293.202</li><li>242.676</li><li>154.392</li><li>829.71</li><li>107.31</li><li>171.7275</li><li>78.0045</li><li>91.77</li><li>26.5545</li><li>174.3</li><li>374.7975</li><li>120.645</li><li>⋯</li><li>257.145</li><li>97.419</li><li>455.1225</li><li>144.963</li><li>253.68</li><li>495.3165</li><li>462.672</li><li>714.3255</li><li>325.374</li><li>195.678</li><li>210.966</li><li>18.6375</li><li>652.89</li><li>90.3</li><li>422.73</li><li>341.0925</li><li>99.9075</li><li>408.408</li><li>446.964</li><li>333.984</li><li>284.592</li><li>403.872</li><li>247.59</li><li>222.138</li><li>100.128</li><li>10.6785</li><li>216.4365</li><li>441.588</li><li>92.442</li><li>681.4395</li><li>130.032</li><li>681.975</li><li>779.31</li><li>88.704</li><li>262.794</li><li>99.54</li><li>95.865</li><li>299.3655</li><li>54.999</li><li>202.335</li><li>281.169</li><li>586.635</li><li>184.086</li><li>163.611</li><li>63.315</li><li>82.887</li><li>31.227</li><li>22.386</li><li>295.407</li><li>76.923</li><li>23.499</li><li>688.716</li><li>624.33</li><li>77.805</li><li>206.808</li><li>390.9465</li><li>554.295</li><li>503.7375</li><li>345.0195</li><li>177.408</li><li>118.902</li><li>362.817</li><li>450.1035</li><li>90.5835</li><li>26.796</li><li>106.596</li><li>375.3645</li><li>250.7085</li><li>106.5015</li><li>760.452</li><li>131.922</li><li>76.5765</li><li>271.278</li><li>182.427</li><li>59.325</li><li>225.015</li><li>561.078</li><li>97.818</li><li>548.184</li><li>54.9675</li><li>41.7375</li><li>756.168</li><li>101.64</li><li>348.705</li><li>85.512</li><li>335.895</li><li>175.014</li><li>335.013</li><li>92.295</li><li>771.435</li><li>102.396</li><li>807.66</li><li>439.215</li><li>486.444</li><li>485.5725</li><li>148.995</li><li>317.835</li><li>832.944</li><li>446.439</li><li>297.801</li><li>629.16</li><li>331.128</li><li>423.738</li><li>193.074</li><li>145.5825</li><li>84.7455</li><li>122.472</li><li>329.196</li><li>888.405</li><li>435.12</li><li>167.034</li><li>514.605</li><li>91.8225</li><li>235.746</li><li>782.208</li><li>431.256</li><li>313.74</li><li>223.587</li><li>44.9925</li><li>397.614</li><li>217.2555</li><li>82.719</li><li>338.2155</li><li>103.131</li><li>26.733</li><li>611.079</li><li>221.886</li><li>57.876</li><li>92.7255</li><li>374.409</li><li>833.9625</li><li>53.151</li><li>629.496</li><li>175.035</li><li>781.62</li><li>397.845</li><li>270.018</li><li>579.8415</li><li>469.77</li><li>290.0835</li><li>360.927</li><li>279.384</li><li>943.299</li><li>479.64</li><li>266.6475</li><li>74.088</li><li>690.018</li><li>176.925</li><li>56.469</li><li>188.0025</li><li>222.012</li><li>125.7165</li><li>68.985</li><li>88.368</li><li>415.233</li><li>312.8895</li><li>477.1305</li><li>289.926</li><li>165.9</li><li>932.337</li><li>96.579</li><li>43.869</li><li>16.275</li><li>304.983</li><li>69.993</li><li>80.367</li><li>314.685</li><li>255.1815</li><li>49.77</li><li>181.0725</li><li>888.615</li><li>271.2885</li><li>640.038</li><li>252.252</li><li>180.873</li><li>104.832</li><li>313.572</li><li>167.58</li><li>26.7225</li><li>71.1585</li><li>250.278</li><li>244.23</li><li>921.186</li><li>734.706</li><li>708.3195</li><li>334.4775</li><li>30.996</li><li>520.8</li><li>864.57</li><li>633.108</li><li>296.94</li><li>804.3</li><li>121.863</li><li>183.645</li><li>63.9975</li><li>42.3675</li><li>1022.49</li><li>33.432</li><li>69.111</li><li>649.299</li></ol>\n",
              "</dd>\n",
              "\t<dt>$year</dt>\n",
              "\t\t<dd>2019</dd>\n",
              "\t<dt>$month</dt>\n",
              "\t\t<dd><style>\n",
              ".list-inline {list-style: none; margin:0; padding: 0}\n",
              ".list-inline>li {display: inline-block}\n",
              ".list-inline>li:not(:last-child)::after {content: \"\\00b7\"; padding: 0 .5ex}\n",
              "</style>\n",
              "<ol class=list-inline><li>1</li><li>3</li><li>2</li></ol>\n",
              "</dd>\n",
              "\t<dt>$day</dt>\n",
              "\t\t<dd><style>\n",
              ".list-inline {list-style: none; margin:0; padding: 0}\n",
              ".list-inline>li {display: inline-block}\n",
              ".list-inline>li:not(:last-child)::after {content: \"\\00b7\"; padding: 0 .5ex}\n",
              "</style>\n",
              "<ol class=list-inline><li>5</li><li>8</li><li>3</li><li>27</li><li>25</li><li>24</li><li>10</li><li>20</li><li>6</li><li>9</li><li>12</li><li>7</li><li>29</li><li>15</li><li>11</li><li>1</li><li>21</li><li>17</li><li>2</li><li>22</li><li>28</li><li>23</li><li>4</li><li>16</li><li>19</li><li>14</li><li>13</li><li>26</li><li>18</li><li>30</li><li>31</li></ol>\n",
              "</dd>\n",
              "\t<dt>$hour</dt>\n",
              "\t\t<dd><style>\n",
              ".list-inline {list-style: none; margin:0; padding: 0}\n",
              ".list-inline>li {display: inline-block}\n",
              ".list-inline>li:not(:last-child)::after {content: \"\\00b7\"; padding: 0 .5ex}\n",
              "</style>\n",
              "<ol class=list-inline><li>'13'</li><li>'10'</li><li>'20'</li><li>'18'</li><li>'14'</li><li>'11'</li><li>'17'</li><li>'16'</li><li>'19'</li><li>'15'</li><li>'12'</li></ol>\n",
              "</dd>\n",
              "</dl>\n"
            ]
          },
          "metadata": {}
        }
      ]
    },
    {
      "cell_type": "code",
      "metadata": {
        "colab": {
          "base_uri": "https://localhost:8080/",
          "height": 658
        },
        "id": "juYCKf9ZSyiJ",
        "outputId": "0da46b2f-5ec9-4649-995e-163b85c36225"
      },
      "source": [
        "df$invoice.id\n"
      ],
      "execution_count": 247,
      "outputs": [
        {
          "output_type": "display_data",
          "data": {
            "text/plain": [
              "   [1] \"750-67-8428\" \"226-31-3081\" \"631-41-3108\" \"123-19-1176\" \"373-73-7910\"\n",
              "   [6] \"699-14-3026\" \"355-53-5943\" \"315-22-5665\" \"665-32-9167\" \"692-92-5582\"\n",
              "  [11] \"351-62-0822\" \"529-56-3974\" \"365-64-0515\" \"252-56-2699\" \"829-34-3910\"\n",
              "  [16] \"299-46-1805\" \"656-95-9349\" \"765-26-6951\" \"329-62-1586\" \"319-50-3348\"\n",
              "  [21] \"300-71-4605\" \"371-85-5789\" \"273-16-6619\" \"636-48-8204\" \"549-59-1358\"\n",
              "  [26] \"227-03-5010\" \"649-29-6775\" \"189-17-4241\" \"145-94-9061\" \"848-62-7243\"\n",
              "  [31] \"871-79-8483\" \"149-71-6266\" \"640-49-2076\" \"595-11-5460\" \"183-56-6882\"\n",
              "  [36] \"232-16-2483\" \"129-29-8530\" \"272-65-1806\" \"333-73-7901\" \"777-82-7220\"\n",
              "  [41] \"280-35-5823\" \"554-53-8700\" \"354-25-5821\" \"228-96-1411\" \"617-15-4209\"\n",
              "  [46] \"132-32-9879\" \"370-41-7321\" \"727-46-3608\" \"669-54-1719\" \"574-22-5561\"\n",
              "  [51] \"326-78-5178\" \"162-48-8011\" \"616-24-2851\" \"778-71-5554\" \"242-55-6721\"\n",
              "  [56] \"399-46-5918\" \"106-35-6779\" \"635-40-6220\" \"817-48-8732\" \"120-06-4233\"\n",
              "  [61] \"285-68-5083\" \"803-83-5989\" \"347-34-2234\" \"199-75-8169\" \"853-23-2453\"\n",
              "  [66] \"877-22-3308\" \"838-78-4295\" \"109-28-2512\" \"232-11-3025\" \"382-03-4532\"\n",
              "  [71] \"393-65-2792\" \"796-12-2025\" \"510-95-6347\" \"841-35-6630\" \"287-21-9091\"\n",
              "  [76] \"732-94-0499\" \"263-10-3913\" \"381-20-0914\" \"829-49-1914\" \"756-01-7507\"\n",
              "  [81] \"870-72-4431\" \"847-38-7188\" \"480-63-2856\" \"787-56-0757\" \"360-39-5055\"\n",
              "  [86] \"730-50-9884\" \"362-58-8315\" \"633-44-8566\" \"504-35-8843\" \"318-68-5053\"\n",
              "  [91] \"565-80-5980\" \"225-32-0908\" \"873-51-0671\" \"152-08-9985\" \"512-91-0811\"\n",
              "  [96] \"594-34-4444\" \"766-85-7061\" \"871-39-9221\" \"865-92-6136\" \"733-01-9107\"\n",
              " [101] \"163-56-7055\" \"189-98-2939\" \"551-21-3069\" \"212-62-1842\" \"716-39-1409\"\n",
              " [106] \"704-48-3927\" \"628-34-3388\" \"630-74-5166\" \"588-01-7461\" \"861-77-0145\"\n",
              " [111] \"479-26-8945\" \"210-67-5886\" \"227-78-1148\" \"645-44-1170\" \"237-01-6122\"\n",
              " [116] \"225-98-1496\" \"291-32-1427\" \"659-65-8956\" \"642-32-2990\" \"378-24-2715\"\n",
              " [121] \"638-60-7125\" \"659-36-1684\" \"219-22-9386\" \"336-78-2147\" \"268-27-6179\"\n",
              " [126] \"668-90-8900\" \"870-54-3162\" \"189-08-9157\" \"663-86-9076\" \"549-84-7482\"\n",
              " [131] \"191-10-6171\" \"802-70-5316\" \"695-51-0018\" \"590-83-4591\" \"483-71-1164\"\n",
              " [136] \"597-78-7908\" \"700-81-1757\" \"354-39-5160\" \"241-72-9525\" \"575-30-8091\"\n",
              " [141] \"731-81-9469\" \"280-17-4359\" \"338-65-2210\" \"488-25-4221\" \"239-10-7476\"\n",
              " [146] \"458-41-1477\" \"685-64-1609\" \"568-90-5112\" \"262-47-2794\" \"238-49-0436\"\n",
              " [151] \"608-96-3517\" \"584-86-7256\" \"746-94-0204\" \"214-17-6927\" \"400-89-4171\"\n",
              " [156] \"782-95-9291\" \"279-74-2924\" \"307-85-2293\" \"743-04-1105\" \"423-57-2993\"\n",
              " [161] \"894-41-5205\" \"275-28-0149\" \"101-17-6199\" \"423-80-0988\" \"548-46-9322\"\n",
              " [166] \"505-02-0892\" \"234-65-2137\" \"687-47-8271\" \"796-32-9050\" \"105-31-1824\"\n",
              " [171] \"249-42-3782\" \"316-55-4634\" \"733-33-4967\" \"608-27-6295\" \"414-12-7047\"\n",
              " [176] \"827-26-2100\" \"175-54-2529\" \"139-52-2867\" \"407-63-8975\" \"342-65-4817\"\n",
              " [181] \"130-98-8941\" \"434-83-9547\" \"851-28-6367\" \"824-88-3614\" \"586-25-0848\"\n",
              " [186] \"895-66-0685\" \"305-14-0245\" \"732-04-5373\" \"400-60-7251\" \"593-65-1552\"\n",
              " [191] \"284-34-9626\" \"437-58-8131\" \"286-43-6208\" \"641-43-2399\" \"831-07-6050\"\n",
              " [196] \"556-86-3144\" \"848-24-9445\" \"856-22-8149\" \"699-01-4164\" \"420-11-4919\"\n",
              " [201] \"606-80-4905\" \"542-41-0513\" \"426-39-2418\" \"875-46-5808\" \"394-43-4238\"\n",
              " [206] \"749-24-1565\" \"672-51-8681\" \"263-87-5680\" \"573-58-9734\" \"817-69-8206\"\n",
              " [211] \"888-02-0338\" \"677-11-0152\" \"142-63-6033\" \"656-16-1063\" \"891-58-8335\"\n",
              " [216] \"802-43-8934\" \"560-30-5617\" \"319-74-2561\" \"549-03-9315\" \"790-29-1172\"\n",
              " [221] \"239-36-3640\" \"468-01-2051\" \"389-25-3394\" \"279-62-1445\" \"213-72-6612\"\n",
              " [226] \"746-68-6593\" \"836-82-5858\" \"583-72-1480\" \"466-61-5506\" \"721-86-6247\"\n",
              " [231] \"289-65-5721\" \"545-46-3100\" \"418-02-5978\" \"269-04-5750\" \"157-13-5295\"\n",
              " [236] \"645-78-8093\" \"211-30-9270\" \"755-12-3214\" \"346-84-3103\" \"478-06-7835\"\n",
              " [241] \"540-11-4336\" \"448-81-5016\" \"142-72-4741\" \"217-58-1179\" \"376-02-8238\"\n",
              " [246] \"530-90-9855\" \"866-05-7563\" \"604-70-6476\" \"799-71-1548\" \"785-13-7708\"\n",
              " [251] \"845-51-0542\" \"662-47-5456\" \"883-17-4236\" \"290-68-2984\" \"704-11-6354\"\n",
              " [256] \"110-48-7033\" \"366-93-0948\" \"729-09-9681\" \"151-16-1484\" \"380-94-4661\"\n",
              " [261] \"850-41-9669\" \"821-07-3596\" \"655-85-5130\" \"447-15-7839\" \"154-74-7179\"\n",
              " [266] \"253-12-6086\" \"808-65-0703\" \"571-94-0759\" \"144-51-6085\" \"731-14-2199\"\n",
              " [271] \"783-09-1637\" \"687-15-1097\" \"126-54-1082\" \"633-91-1052\" \"477-24-6490\"\n",
              " [276] \"566-19-5475\" \"526-86-8552\" \"376-56-3573\" \"537-72-0426\" \"828-61-5674\"\n",
              " [281] \"136-08-6195\" \"523-38-0215\" \"490-29-1201\" \"667-92-0055\" \"565-17-3836\"\n",
              " [286] \"498-41-1961\" \"593-95-4461\" \"226-71-3580\" \"283-79-9594\" \"430-60-3493\"\n",
              " [291] \"139-20-0155\" \"558-80-4082\" \"278-97-7759\" \"316-68-6352\" \"585-03-5943\"\n",
              " [296] \"211-05-0490\" \"727-75-6477\" \"744-02-5987\" \"307-83-9164\" \"779-06-0012\"\n",
              " [301] \"446-47-6729\" \"573-10-3877\" \"735-06-4124\" \"439-54-7422\" \"396-90-2219\"\n",
              " [306] \"411-77-0180\" \"286-01-5402\" \"803-17-8013\" \"512-98-1403\" \"848-42-2560\"\n",
              " [311] \"532-59-7201\" \"181-94-6432\" \"870-76-1733\" \"423-64-4619\" \"227-07-4446\"\n",
              " [316] \"174-36-3675\" \"428-83-5800\" \"603-07-0961\" \"704-20-4138\" \"787-15-1757\"\n",
              " [321] \"649-11-3678\" \"622-20-1945\" \"372-94-8041\" \"563-91-7120\" \"746-54-5508\"\n",
              " [326] \"276-54-0879\" \"815-11-1168\" \"719-76-3868\" \"730-61-8757\" \"340-66-0321\"\n",
              " [331] \"868-81-1752\" \"634-97-8956\" \"566-71-1091\" \"442-48-3607\" \"835-16-0096\"\n",
              " [336] \"527-09-6272\" \"898-04-2717\" \"692-27-8933\" \"633-09-3463\" \"374-17-3652\"\n",
              " [341] \"378-07-7001\" \"433-75-6987\" \"873-95-4984\" \"416-13-5917\" \"150-89-8043\"\n",
              " [346] \"135-84-8019\" \"441-94-7118\" \"725-96-3778\" \"531-80-1784\" \"400-45-1220\"\n",
              " [351] \"860-79-0874\" \"834-61-8124\" \"115-99-4379\" \"565-67-6697\" \"320-49-6392\"\n",
              " [356] \"889-04-9723\" \"632-90-0281\" \"554-42-2417\" \"453-63-6187\" \"578-80-7669\"\n",
              " [361] \"612-36-5536\" \"605-72-4132\" \"471-41-2823\" \"462-67-9126\" \"272-27-9238\"\n",
              " [366] \"834-25-9262\" \"122-61-9553\" \"468-88-0009\" \"613-59-9758\" \"254-31-0042\"\n",
              " [371] \"201-86-2184\" \"261-12-8671\" \"730-70-9830\" \"382-25-8917\" \"422-29-8786\"\n",
              " [376] \"667-23-5919\" \"843-01-4703\" \"743-88-1662\" \"595-86-2894\" \"182-69-8360\"\n",
              " [381] \"289-15-7034\" \"462-78-5240\" \"868-52-7573\" \"153-58-4872\" \"662-72-2873\"\n",
              " [386] \"525-88-7307\" \"689-16-9784\" \"725-56-0833\" \"394-41-0748\" \"596-42-3999\"\n",
              " [391] \"541-89-9860\" \"173-82-9529\" \"563-36-9814\" \"308-47-4913\" \"885-17-6250\"\n",
              " [396] \"726-27-2396\" \"316-01-3952\" \"760-54-1821\" \"793-10-3222\" \"346-12-3257\"\n",
              " [401] \"110-05-6330\" \"651-61-0874\" \"236-86-3015\" \"831-64-0259\" \"587-03-7455\"\n",
              " [406] \"882-40-4577\" \"732-67-5346\" \"725-32-9708\" \"256-08-8343\" \"372-26-1506\"\n",
              " [411] \"244-08-0162\" \"569-71-4390\" \"132-23-6451\" \"696-90-2548\" \"472-15-9636\"\n",
              " [416] \"268-03-6164\" \"750-57-9686\" \"186-09-3669\" \"848-07-1692\" \"745-71-3520\"\n",
              " [421] \"266-76-6436\" \"740-22-2500\" \"271-88-8734\" \"301-81-8610\" \"489-64-4354\"\n",
              " [426] \"198-84-7132\" \"269-10-8440\" \"650-98-6268\" \"741-73-3559\" \"325-77-6186\"\n",
              " [431] \"286-75-7818\" \"574-57-9721\" \"459-50-7686\" \"616-87-0016\" \"837-55-7229\"\n",
              " [436] \"751-69-0068\" \"257-73-1380\" \"345-08-4992\" \"549-96-4200\" \"810-60-6344\"\n",
              " [441] \"450-28-2866\" \"394-30-3170\" \"138-17-5109\" \"192-98-7397\" \"301-11-9629\"\n",
              " [446] \"390-80-5128\" \"235-46-8343\" \"453-12-7053\" \"296-11-7041\" \"449-27-2918\"\n",
              " [451] \"891-01-7034\" \"744-09-5786\" \"727-17-0390\" \"568-88-3448\" \"187-83-5490\"\n",
              " [456] \"767-54-1907\" \"710-46-4433\" \"533-33-5337\" \"325-90-8763\" \"729-46-7422\"\n",
              " [461] \"639-76-1242\" \"234-03-4040\" \"326-71-2155\" \"320-32-8842\" \"470-32-9057\"\n",
              " [466] \"878-30-2331\" \"440-59-5691\" \"554-53-3790\" \"746-19-0921\" \"233-34-0817\"\n",
              " [471] \"767-05-1286\" \"340-21-9136\" \"405-31-3305\" \"731-59-7531\" \"676-39-6028\"\n",
              " [476] \"502-05-1910\" \"485-30-8700\" \"598-47-9715\" \"701-69-8742\" \"575-67-1508\"\n",
              " [481] \"541-08-3113\" \"246-11-3901\" \"674-15-9296\" \"305-18-3552\" \"493-65-6248\"\n",
              " [486] \"438-01-4015\" \"709-58-4068\" \"795-49-7276\" \"556-72-8512\" \"627-95-3243\"\n",
              " [491] \"686-41-0932\" \"510-09-5628\" \"608-04-3797\" \"148-82-2527\" \"437-53-3084\"\n",
              " [496] \"632-32-4574\" \"556-97-7101\" \"862-59-8517\" \"401-18-8016\" \"420-18-8989\"\n",
              " [501] \"277-63-2961\" \"573-98-8548\" \"620-02-2046\" \"282-35-2475\" \"511-54-3087\"\n",
              " [506] \"726-29-6793\" \"387-49-4215\" \"862-17-9201\" \"291-21-5991\" \"602-80-9671\"\n",
              " [511] \"347-72-6115\" \"209-61-0206\" \"595-27-4851\" \"189-52-0236\" \"503-07-0930\"\n",
              " [516] \"413-20-6708\" \"425-85-2085\" \"521-18-7827\" \"220-28-1851\" \"600-38-9738\"\n",
              " [521] \"734-91-1155\" \"451-28-5717\" \"609-81-8548\" \"133-14-7229\" \"534-01-4457\"\n",
              " [526] \"719-89-8991\" \"286-62-6248\" \"339-38-9982\" \"827-44-5872\" \"827-77-7633\"\n",
              " [531] \"287-83-1405\" \"435-13-4908\" \"857-67-9057\" \"236-27-1144\" \"892-05-6689\"\n",
              " [536] \"583-41-4548\" \"339-12-4827\" \"643-38-7867\" \"308-81-0538\" \"358-88-9262\"\n",
              " [541] \"460-35-4390\" \"343-87-0864\" \"173-50-1108\" \"243-47-2663\" \"841-18-8232\"\n",
              " [546] \"701-23-5550\" \"647-50-1224\" \"541-48-8554\" \"539-21-7227\" \"213-32-1216\"\n",
              " [551] \"747-58-7183\" \"582-52-8065\" \"210-57-1719\" \"399-69-4630\" \"134-75-2619\"\n",
              " [556] \"356-44-8813\" \"198-66-9832\" \"283-26-5248\" \"712-39-0363\" \"218-59-9410\"\n",
              " [561] \"174-75-0888\" \"866-99-7614\" \"134-54-4720\" \"760-90-2357\" \"514-37-2845\"\n",
              " [566] \"698-98-5964\" \"718-57-9773\" \"651-88-7328\" \"241-11-2261\" \"408-26-9866\"\n",
              " [571] \"834-83-1826\" \"343-61-3544\" \"239-48-4278\" \"355-34-6244\" \"550-84-8664\"\n",
              " [576] \"339-96-8318\" \"458-61-0011\" \"592-34-6155\" \"797-88-0493\" \"207-73-1363\"\n",
              " [581] \"390-31-6381\" \"443-82-0585\" \"339-18-7061\" \"359-90-3665\" \"375-72-3056\"\n",
              " [586] \"127-47-6963\" \"278-86-2735\" \"695-28-6250\" \"379-17-6588\" \"227-50-3718\"\n",
              " [591] \"302-15-2162\" \"788-07-8452\" \"560-49-6611\" \"880-35-0356\" \"585-11-6748\"\n",
              " [596] \"470-31-3286\" \"152-68-2907\" \"123-35-4896\" \"258-69-7810\" \"334-64-2006\"\n",
              " [601] \"219-61-4139\" \"881-41-7302\" \"373-09-4567\" \"642-30-6693\" \"484-22-8230\"\n",
              " [606] \"830-58-2383\" \"559-98-9873\" \"544-32-5024\" \"318-12-0304\" \"349-97-8902\"\n",
              " [611] \"421-95-9805\" \"277-35-5865\" \"789-23-8625\" \"284-54-4231\" \"443-59-0061\"\n",
              " [616] \"509-29-3912\" \"327-40-9673\" \"840-19-2096\" \"828-46-6863\" \"641-96-3695\"\n",
              " [621] \"420-97-3340\" \"436-54-4512\" \"670-79-6321\" \"852-62-7105\" \"598-06-7312\"\n",
              " [626] \"135-13-8269\" \"816-57-2053\" \"628-90-8624\" \"856-66-2701\" \"308-39-1707\"\n",
              " [631] \"149-61-1929\" \"655-07-2265\" \"589-02-8023\" \"420-04-7590\" \"182-88-2763\"\n",
              " [636] \"188-55-0967\" \"610-46-4100\" \"318-81-2368\" \"364-33-8584\" \"665-63-9737\"\n",
              " [641] \"695-09-5146\" \"155-45-3814\" \"794-32-2436\" \"131-15-8856\" \"273-84-2164\"\n",
              " [646] \"706-36-6154\" \"778-89-7974\" \"574-31-8277\" \"859-71-0933\" \"740-11-5257\"\n",
              " [651] \"369-82-2676\" \"563-47-4072\" \"742-04-5161\" \"149-15-7606\" \"133-77-3154\"\n",
              " [656] \"169-52-4504\" \"250-81-7186\" \"562-12-5430\" \"816-72-8853\" \"491-38-3499\"\n",
              " [661] \"322-02-2271\" \"842-29-4695\" \"725-67-2480\" \"641-51-2661\" \"714-02-3114\"\n",
              " [666] \"518-17-2983\" \"779-42-2410\" \"190-14-3147\" \"408-66-6712\" \"679-22-6530\"\n",
              " [671] \"588-47-8641\" \"642-61-4706\" \"576-31-4774\" \"556-41-6224\" \"811-03-8790\"\n",
              " [676] \"242-11-3142\" \"752-23-3760\" \"274-05-5470\" \"648-94-3045\" \"130-67-4723\"\n",
              " [681] \"528-87-5606\" \"320-85-2052\" \"370-96-0655\" \"105-10-6182\" \"510-79-0415\"\n",
              " [686] \"241-96-5076\" \"767-97-4650\" \"648-83-1321\" \"173-57-2300\" \"305-03-2383\"\n",
              " [691] \"394-55-6384\" \"266-20-6657\" \"689-05-1884\" \"196-01-2849\" \"372-62-5264\"\n",
              " [696] \"800-09-8606\" \"182-52-7000\" \"826-58-8051\" \"868-06-0466\" \"751-41-9720\"\n",
              " [701] \"626-43-7888\" \"176-64-7711\" \"191-29-0321\" \"729-06-2010\" \"640-48-5028\"\n",
              " [706] \"186-79-9562\" \"834-45-5519\" \"162-65-8559\" \"760-27-5490\" \"445-30-9252\"\n",
              " [711] \"786-94-2700\" \"728-88-7867\" \"183-21-3799\" \"268-20-3585\" \"735-32-9839\"\n",
              " [716] \"258-92-7466\" \"857-16-3520\" \"482-17-1179\" \"788-21-5741\" \"821-14-9046\"\n",
              " [721] \"418-05-0656\" \"678-79-0726\" \"776-68-1096\" \"592-46-1692\" \"434-35-9162\"\n",
              " [726] \"149-14-0304\" \"442-44-6497\" \"174-64-0215\" \"210-74-9613\" \"299-29-0180\"\n",
              " [731] \"247-11-2470\" \"635-28-5728\" \"756-49-0168\" \"438-23-1242\" \"238-45-6950\"\n",
              " [736] \"607-65-2441\" \"386-27-7606\" \"137-63-5492\" \"197-77-7132\" \"805-86-0265\"\n",
              " [741] \"733-29-1227\" \"451-73-2711\" \"373-14-0504\" \"546-80-2899\" \"345-68-9016\"\n",
              " [746] \"390-17-5806\" \"457-13-1708\" \"664-14-2882\" \"487-79-6868\" \"314-23-4520\"\n",
              " [751] \"210-30-7976\" \"585-86-8361\" \"807-14-7833\" \"775-72-1988\" \"288-38-3758\"\n",
              " [756] \"652-43-6591\" \"785-96-0615\" \"406-46-7107\" \"250-17-5703\" \"156-95-3964\"\n",
              " [761] \"842-40-8179\" \"525-09-8450\" \"410-67-1709\" \"587-73-4862\" \"787-87-2010\"\n",
              " [766] \"593-14-4239\" \"801-88-0346\" \"388-76-2555\" \"711-31-1234\" \"886-54-6089\"\n",
              " [771] \"707-32-7409\" \"759-98-4285\" \"201-63-8275\" \"471-06-8611\" \"200-16-5952\"\n",
              " [776] \"120-54-2248\" \"102-77-2261\" \"875-31-8302\" \"102-06-2002\" \"457-94-0464\"\n",
              " [781] \"629-42-4133\" \"534-53-3526\" \"307-04-2070\" \"468-99-7231\" \"516-77-6464\"\n",
              " [786] \"404-91-5964\" \"886-77-9084\" \"790-38-4466\" \"704-10-4056\" \"497-37-6538\"\n",
              " [791] \"651-96-5970\" \"400-80-4065\" \"744-16-7898\" \"263-12-5321\" \"702-72-0487\"\n",
              " [796] \"605-83-1050\" \"443-60-9639\" \"864-24-7918\" \"359-94-5395\" \"401-09-4232\"\n",
              " [801] \"751-15-6198\" \"324-41-6833\" \"474-33-8305\" \"759-29-9521\" \"831-81-6575\"\n",
              " [806] \"220-68-6701\" \"618-34-8551\" \"257-60-7754\" \"559-61-5987\" \"189-55-2313\"\n",
              " [811] \"565-91-4567\" \"380-60-5336\" \"815-04-6282\" \"674-56-6360\" \"778-34-2523\"\n",
              " [816] \"499-27-7781\" \"477-59-2456\" \"832-51-6761\" \"869-11-3082\" \"190-59-3964\"\n",
              " [821] \"366-43-6862\" \"186-43-8965\" \"784-21-9238\" \"276-75-6884\" \"109-86-4363\"\n",
              " [826] \"569-76-2760\" \"222-42-0244\" \"760-53-9233\" \"538-22-0304\" \"416-17-9926\"\n",
              " [831] \"237-44-6163\" \"636-17-0325\" \"343-75-9322\" \"528-14-9470\" \"427-45-9297\"\n",
              " [836] \"807-34-3742\" \"288-62-1085\" \"670-71-7306\" \"660-29-7083\" \"271-77-8740\"\n",
              " [841] \"497-36-0989\" \"291-59-1384\" \"860-73-6466\" \"549-23-9016\" \"896-34-0956\"\n",
              " [846] \"804-38-3935\" \"585-90-0249\" \"862-29-5914\" \"845-94-6841\" \"125-45-2293\"\n",
              " [851] \"843-73-4724\" \"409-33-9708\" \"658-66-3967\" \"866-70-2814\" \"160-22-2687\"\n",
              " [856] \"895-03-6665\" \"770-42-8960\" \"748-45-2862\" \"234-36-2483\" \"316-66-3011\"\n",
              " [861] \"848-95-6252\" \"840-76-5966\" \"152-03-4217\" \"533-66-5566\" \"124-31-1458\"\n",
              " [866] \"176-78-1170\" \"361-59-0574\" \"101-81-4070\" \"631-34-1880\" \"852-82-2749\"\n",
              " [871] \"873-14-6353\" \"584-66-4073\" \"544-55-9589\" \"166-19-2553\" \"737-88-5876\"\n",
              " [876] \"154-87-7367\" \"885-56-0389\" \"608-05-3804\" \"448-61-3783\" \"761-49-0439\"\n",
              " [881] \"490-95-0021\" \"115-38-7388\" \"311-13-6971\" \"291-55-6563\" \"548-48-3156\"\n",
              " [886] \"460-93-5834\" \"325-89-4209\" \"884-80-6021\" \"137-74-8729\" \"880-46-5796\"\n",
              " [891] \"389-70-2397\" \"114-35-5271\" \"607-76-6216\" \"715-20-1673\" \"811-35-1094\"\n",
              " [896] \"699-88-1972\" \"781-84-8059\" \"409-49-6995\" \"725-54-0677\" \"146-09-5432\"\n",
              " [901] \"377-79-7592\" \"509-10-0516\" \"595-94-9924\" \"865-41-9075\" \"545-07-8534\"\n",
              " [906] \"118-62-1812\" \"450-42-3339\" \"851-98-3555\" \"186-71-5196\" \"624-01-8356\"\n",
              " [911] \"313-66-9943\" \"151-27-8496\" \"453-33-6436\" \"522-57-8364\" \"459-45-2396\"\n",
              " [916] \"717-96-4189\" \"722-13-2115\" \"749-81-8133\" \"777-67-2495\" \"636-98-3364\"\n",
              " [921] \"246-55-6923\" \"181-82-6255\" \"838-02-1821\" \"887-42-0517\" \"457-12-0244\"\n",
              " [926] \"226-34-0034\" \"321-49-7382\" \"397-25-8725\" \"431-66-2305\" \"825-94-5922\"\n",
              " [931] \"641-62-7288\" \"756-93-1854\" \"243-55-8457\" \"458-10-8612\" \"501-61-1753\"\n",
              " [936] \"235-06-8510\" \"433-08-7822\" \"361-85-2571\" \"131-70-8179\" \"500-02-2261\"\n",
              " [941] \"720-72-2436\" \"702-83-5291\" \"809-69-9497\" \"449-16-6770\" \"333-23-2632\"\n",
              " [946] \"489-82-1237\" \"859-97-6048\" \"676-10-2200\" \"373-88-1424\" \"365-16-4334\"\n",
              " [951] \"503-21-4385\" \"305-89-2768\" \"574-80-1489\" \"784-08-0310\" \"200-40-6154\"\n",
              " [956] \"846-10-0341\" \"577-34-7579\" \"430-02-3888\" \"867-47-1948\" \"384-59-6655\"\n",
              " [961] \"256-58-3609\" \"324-92-3863\" \"593-08-5916\" \"364-34-2972\" \"794-42-3736\"\n",
              " [966] \"172-42-8274\" \"558-60-5016\" \"195-06-0432\" \"605-03-2706\" \"214-30-2776\"\n",
              " [971] \"746-04-1077\" \"448-34-8700\" \"452-04-8808\" \"531-56-4728\" \"744-82-9138\"\n",
              " [976] \"883-69-1285\" \"221-25-5073\" \"518-71-6847\" \"156-20-0370\" \"151-33-7434\"\n",
              " [981] \"728-47-9078\" \"809-46-1866\" \"139-32-4183\" \"148-41-7930\" \"189-40-5216\"\n",
              " [986] \"374-38-5555\" \"764-44-8999\" \"552-44-5977\" \"267-62-7380\" \"430-53-4718\"\n",
              " [991] \"886-18-2897\" \"602-16-6955\" \"745-74-0715\" \"690-01-6631\" \"652-49-6720\"\n",
              " [996] \"233-67-5758\" \"303-96-2227\" \"727-02-1313\" \"347-56-2442\" \"849-09-3807\""
            ],
            "text/latex": "\\begin{enumerate*}\n\\item '750-67-8428'\n\\item '226-31-3081'\n\\item '631-41-3108'\n\\item '123-19-1176'\n\\item '373-73-7910'\n\\item '699-14-3026'\n\\item '355-53-5943'\n\\item '315-22-5665'\n\\item '665-32-9167'\n\\item '692-92-5582'\n\\item '351-62-0822'\n\\item '529-56-3974'\n\\item '365-64-0515'\n\\item '252-56-2699'\n\\item '829-34-3910'\n\\item '299-46-1805'\n\\item '656-95-9349'\n\\item '765-26-6951'\n\\item '329-62-1586'\n\\item '319-50-3348'\n\\item '300-71-4605'\n\\item '371-85-5789'\n\\item '273-16-6619'\n\\item '636-48-8204'\n\\item '549-59-1358'\n\\item '227-03-5010'\n\\item '649-29-6775'\n\\item '189-17-4241'\n\\item '145-94-9061'\n\\item '848-62-7243'\n\\item '871-79-8483'\n\\item '149-71-6266'\n\\item '640-49-2076'\n\\item '595-11-5460'\n\\item '183-56-6882'\n\\item '232-16-2483'\n\\item '129-29-8530'\n\\item '272-65-1806'\n\\item '333-73-7901'\n\\item '777-82-7220'\n\\item '280-35-5823'\n\\item '554-53-8700'\n\\item '354-25-5821'\n\\item '228-96-1411'\n\\item '617-15-4209'\n\\item '132-32-9879'\n\\item '370-41-7321'\n\\item '727-46-3608'\n\\item '669-54-1719'\n\\item '574-22-5561'\n\\item '326-78-5178'\n\\item '162-48-8011'\n\\item '616-24-2851'\n\\item '778-71-5554'\n\\item '242-55-6721'\n\\item '399-46-5918'\n\\item '106-35-6779'\n\\item '635-40-6220'\n\\item '817-48-8732'\n\\item '120-06-4233'\n\\item '285-68-5083'\n\\item '803-83-5989'\n\\item '347-34-2234'\n\\item '199-75-8169'\n\\item '853-23-2453'\n\\item '877-22-3308'\n\\item '838-78-4295'\n\\item '109-28-2512'\n\\item '232-11-3025'\n\\item '382-03-4532'\n\\item '393-65-2792'\n\\item '796-12-2025'\n\\item '510-95-6347'\n\\item '841-35-6630'\n\\item '287-21-9091'\n\\item '732-94-0499'\n\\item '263-10-3913'\n\\item '381-20-0914'\n\\item '829-49-1914'\n\\item '756-01-7507'\n\\item '870-72-4431'\n\\item '847-38-7188'\n\\item '480-63-2856'\n\\item '787-56-0757'\n\\item '360-39-5055'\n\\item '730-50-9884'\n\\item '362-58-8315'\n\\item '633-44-8566'\n\\item '504-35-8843'\n\\item '318-68-5053'\n\\item '565-80-5980'\n\\item '225-32-0908'\n\\item '873-51-0671'\n\\item '152-08-9985'\n\\item '512-91-0811'\n\\item '594-34-4444'\n\\item '766-85-7061'\n\\item '871-39-9221'\n\\item '865-92-6136'\n\\item '733-01-9107'\n\\item '163-56-7055'\n\\item '189-98-2939'\n\\item '551-21-3069'\n\\item '212-62-1842'\n\\item '716-39-1409'\n\\item '704-48-3927'\n\\item '628-34-3388'\n\\item '630-74-5166'\n\\item '588-01-7461'\n\\item '861-77-0145'\n\\item '479-26-8945'\n\\item '210-67-5886'\n\\item '227-78-1148'\n\\item '645-44-1170'\n\\item '237-01-6122'\n\\item '225-98-1496'\n\\item '291-32-1427'\n\\item '659-65-8956'\n\\item '642-32-2990'\n\\item '378-24-2715'\n\\item '638-60-7125'\n\\item '659-36-1684'\n\\item '219-22-9386'\n\\item '336-78-2147'\n\\item '268-27-6179'\n\\item '668-90-8900'\n\\item '870-54-3162'\n\\item '189-08-9157'\n\\item '663-86-9076'\n\\item '549-84-7482'\n\\item '191-10-6171'\n\\item '802-70-5316'\n\\item '695-51-0018'\n\\item '590-83-4591'\n\\item '483-71-1164'\n\\item '597-78-7908'\n\\item '700-81-1757'\n\\item '354-39-5160'\n\\item '241-72-9525'\n\\item '575-30-8091'\n\\item '731-81-9469'\n\\item '280-17-4359'\n\\item '338-65-2210'\n\\item '488-25-4221'\n\\item '239-10-7476'\n\\item '458-41-1477'\n\\item '685-64-1609'\n\\item '568-90-5112'\n\\item '262-47-2794'\n\\item '238-49-0436'\n\\item '608-96-3517'\n\\item '584-86-7256'\n\\item '746-94-0204'\n\\item '214-17-6927'\n\\item '400-89-4171'\n\\item '782-95-9291'\n\\item '279-74-2924'\n\\item '307-85-2293'\n\\item '743-04-1105'\n\\item '423-57-2993'\n\\item '894-41-5205'\n\\item '275-28-0149'\n\\item '101-17-6199'\n\\item '423-80-0988'\n\\item '548-46-9322'\n\\item '505-02-0892'\n\\item '234-65-2137'\n\\item '687-47-8271'\n\\item '796-32-9050'\n\\item '105-31-1824'\n\\item '249-42-3782'\n\\item '316-55-4634'\n\\item '733-33-4967'\n\\item '608-27-6295'\n\\item '414-12-7047'\n\\item '827-26-2100'\n\\item '175-54-2529'\n\\item '139-52-2867'\n\\item '407-63-8975'\n\\item '342-65-4817'\n\\item '130-98-8941'\n\\item '434-83-9547'\n\\item '851-28-6367'\n\\item '824-88-3614'\n\\item '586-25-0848'\n\\item '895-66-0685'\n\\item '305-14-0245'\n\\item '732-04-5373'\n\\item '400-60-7251'\n\\item '593-65-1552'\n\\item '284-34-9626'\n\\item '437-58-8131'\n\\item '286-43-6208'\n\\item '641-43-2399'\n\\item '831-07-6050'\n\\item '556-86-3144'\n\\item '848-24-9445'\n\\item '856-22-8149'\n\\item '699-01-4164'\n\\item '420-11-4919'\n\\item ⋯\n\\item '751-15-6198'\n\\item '324-41-6833'\n\\item '474-33-8305'\n\\item '759-29-9521'\n\\item '831-81-6575'\n\\item '220-68-6701'\n\\item '618-34-8551'\n\\item '257-60-7754'\n\\item '559-61-5987'\n\\item '189-55-2313'\n\\item '565-91-4567'\n\\item '380-60-5336'\n\\item '815-04-6282'\n\\item '674-56-6360'\n\\item '778-34-2523'\n\\item '499-27-7781'\n\\item '477-59-2456'\n\\item '832-51-6761'\n\\item '869-11-3082'\n\\item '190-59-3964'\n\\item '366-43-6862'\n\\item '186-43-8965'\n\\item '784-21-9238'\n\\item '276-75-6884'\n\\item '109-86-4363'\n\\item '569-76-2760'\n\\item '222-42-0244'\n\\item '760-53-9233'\n\\item '538-22-0304'\n\\item '416-17-9926'\n\\item '237-44-6163'\n\\item '636-17-0325'\n\\item '343-75-9322'\n\\item '528-14-9470'\n\\item '427-45-9297'\n\\item '807-34-3742'\n\\item '288-62-1085'\n\\item '670-71-7306'\n\\item '660-29-7083'\n\\item '271-77-8740'\n\\item '497-36-0989'\n\\item '291-59-1384'\n\\item '860-73-6466'\n\\item '549-23-9016'\n\\item '896-34-0956'\n\\item '804-38-3935'\n\\item '585-90-0249'\n\\item '862-29-5914'\n\\item '845-94-6841'\n\\item '125-45-2293'\n\\item '843-73-4724'\n\\item '409-33-9708'\n\\item '658-66-3967'\n\\item '866-70-2814'\n\\item '160-22-2687'\n\\item '895-03-6665'\n\\item '770-42-8960'\n\\item '748-45-2862'\n\\item '234-36-2483'\n\\item '316-66-3011'\n\\item '848-95-6252'\n\\item '840-76-5966'\n\\item '152-03-4217'\n\\item '533-66-5566'\n\\item '124-31-1458'\n\\item '176-78-1170'\n\\item '361-59-0574'\n\\item '101-81-4070'\n\\item '631-34-1880'\n\\item '852-82-2749'\n\\item '873-14-6353'\n\\item '584-66-4073'\n\\item '544-55-9589'\n\\item '166-19-2553'\n\\item '737-88-5876'\n\\item '154-87-7367'\n\\item '885-56-0389'\n\\item '608-05-3804'\n\\item '448-61-3783'\n\\item '761-49-0439'\n\\item '490-95-0021'\n\\item '115-38-7388'\n\\item '311-13-6971'\n\\item '291-55-6563'\n\\item '548-48-3156'\n\\item '460-93-5834'\n\\item '325-89-4209'\n\\item '884-80-6021'\n\\item '137-74-8729'\n\\item '880-46-5796'\n\\item '389-70-2397'\n\\item '114-35-5271'\n\\item '607-76-6216'\n\\item '715-20-1673'\n\\item '811-35-1094'\n\\item '699-88-1972'\n\\item '781-84-8059'\n\\item '409-49-6995'\n\\item '725-54-0677'\n\\item '146-09-5432'\n\\item '377-79-7592'\n\\item '509-10-0516'\n\\item '595-94-9924'\n\\item '865-41-9075'\n\\item '545-07-8534'\n\\item '118-62-1812'\n\\item '450-42-3339'\n\\item '851-98-3555'\n\\item '186-71-5196'\n\\item '624-01-8356'\n\\item '313-66-9943'\n\\item '151-27-8496'\n\\item '453-33-6436'\n\\item '522-57-8364'\n\\item '459-45-2396'\n\\item '717-96-4189'\n\\item '722-13-2115'\n\\item '749-81-8133'\n\\item '777-67-2495'\n\\item '636-98-3364'\n\\item '246-55-6923'\n\\item '181-82-6255'\n\\item '838-02-1821'\n\\item '887-42-0517'\n\\item '457-12-0244'\n\\item '226-34-0034'\n\\item '321-49-7382'\n\\item '397-25-8725'\n\\item '431-66-2305'\n\\item '825-94-5922'\n\\item '641-62-7288'\n\\item '756-93-1854'\n\\item '243-55-8457'\n\\item '458-10-8612'\n\\item '501-61-1753'\n\\item '235-06-8510'\n\\item '433-08-7822'\n\\item '361-85-2571'\n\\item '131-70-8179'\n\\item '500-02-2261'\n\\item '720-72-2436'\n\\item '702-83-5291'\n\\item '809-69-9497'\n\\item '449-16-6770'\n\\item '333-23-2632'\n\\item '489-82-1237'\n\\item '859-97-6048'\n\\item '676-10-2200'\n\\item '373-88-1424'\n\\item '365-16-4334'\n\\item '503-21-4385'\n\\item '305-89-2768'\n\\item '574-80-1489'\n\\item '784-08-0310'\n\\item '200-40-6154'\n\\item '846-10-0341'\n\\item '577-34-7579'\n\\item '430-02-3888'\n\\item '867-47-1948'\n\\item '384-59-6655'\n\\item '256-58-3609'\n\\item '324-92-3863'\n\\item '593-08-5916'\n\\item '364-34-2972'\n\\item '794-42-3736'\n\\item '172-42-8274'\n\\item '558-60-5016'\n\\item '195-06-0432'\n\\item '605-03-2706'\n\\item '214-30-2776'\n\\item '746-04-1077'\n\\item '448-34-8700'\n\\item '452-04-8808'\n\\item '531-56-4728'\n\\item '744-82-9138'\n\\item '883-69-1285'\n\\item '221-25-5073'\n\\item '518-71-6847'\n\\item '156-20-0370'\n\\item '151-33-7434'\n\\item '728-47-9078'\n\\item '809-46-1866'\n\\item '139-32-4183'\n\\item '148-41-7930'\n\\item '189-40-5216'\n\\item '374-38-5555'\n\\item '764-44-8999'\n\\item '552-44-5977'\n\\item '267-62-7380'\n\\item '430-53-4718'\n\\item '886-18-2897'\n\\item '602-16-6955'\n\\item '745-74-0715'\n\\item '690-01-6631'\n\\item '652-49-6720'\n\\item '233-67-5758'\n\\item '303-96-2227'\n\\item '727-02-1313'\n\\item '347-56-2442'\n\\item '849-09-3807'\n\\end{enumerate*}\n",
            "text/markdown": "1. '750-67-8428'\n2. '226-31-3081'\n3. '631-41-3108'\n4. '123-19-1176'\n5. '373-73-7910'\n6. '699-14-3026'\n7. '355-53-5943'\n8. '315-22-5665'\n9. '665-32-9167'\n10. '692-92-5582'\n11. '351-62-0822'\n12. '529-56-3974'\n13. '365-64-0515'\n14. '252-56-2699'\n15. '829-34-3910'\n16. '299-46-1805'\n17. '656-95-9349'\n18. '765-26-6951'\n19. '329-62-1586'\n20. '319-50-3348'\n21. '300-71-4605'\n22. '371-85-5789'\n23. '273-16-6619'\n24. '636-48-8204'\n25. '549-59-1358'\n26. '227-03-5010'\n27. '649-29-6775'\n28. '189-17-4241'\n29. '145-94-9061'\n30. '848-62-7243'\n31. '871-79-8483'\n32. '149-71-6266'\n33. '640-49-2076'\n34. '595-11-5460'\n35. '183-56-6882'\n36. '232-16-2483'\n37. '129-29-8530'\n38. '272-65-1806'\n39. '333-73-7901'\n40. '777-82-7220'\n41. '280-35-5823'\n42. '554-53-8700'\n43. '354-25-5821'\n44. '228-96-1411'\n45. '617-15-4209'\n46. '132-32-9879'\n47. '370-41-7321'\n48. '727-46-3608'\n49. '669-54-1719'\n50. '574-22-5561'\n51. '326-78-5178'\n52. '162-48-8011'\n53. '616-24-2851'\n54. '778-71-5554'\n55. '242-55-6721'\n56. '399-46-5918'\n57. '106-35-6779'\n58. '635-40-6220'\n59. '817-48-8732'\n60. '120-06-4233'\n61. '285-68-5083'\n62. '803-83-5989'\n63. '347-34-2234'\n64. '199-75-8169'\n65. '853-23-2453'\n66. '877-22-3308'\n67. '838-78-4295'\n68. '109-28-2512'\n69. '232-11-3025'\n70. '382-03-4532'\n71. '393-65-2792'\n72. '796-12-2025'\n73. '510-95-6347'\n74. '841-35-6630'\n75. '287-21-9091'\n76. '732-94-0499'\n77. '263-10-3913'\n78. '381-20-0914'\n79. '829-49-1914'\n80. '756-01-7507'\n81. '870-72-4431'\n82. '847-38-7188'\n83. '480-63-2856'\n84. '787-56-0757'\n85. '360-39-5055'\n86. '730-50-9884'\n87. '362-58-8315'\n88. '633-44-8566'\n89. '504-35-8843'\n90. '318-68-5053'\n91. '565-80-5980'\n92. '225-32-0908'\n93. '873-51-0671'\n94. '152-08-9985'\n95. '512-91-0811'\n96. '594-34-4444'\n97. '766-85-7061'\n98. '871-39-9221'\n99. '865-92-6136'\n100. '733-01-9107'\n101. '163-56-7055'\n102. '189-98-2939'\n103. '551-21-3069'\n104. '212-62-1842'\n105. '716-39-1409'\n106. '704-48-3927'\n107. '628-34-3388'\n108. '630-74-5166'\n109. '588-01-7461'\n110. '861-77-0145'\n111. '479-26-8945'\n112. '210-67-5886'\n113. '227-78-1148'\n114. '645-44-1170'\n115. '237-01-6122'\n116. '225-98-1496'\n117. '291-32-1427'\n118. '659-65-8956'\n119. '642-32-2990'\n120. '378-24-2715'\n121. '638-60-7125'\n122. '659-36-1684'\n123. '219-22-9386'\n124. '336-78-2147'\n125. '268-27-6179'\n126. '668-90-8900'\n127. '870-54-3162'\n128. '189-08-9157'\n129. '663-86-9076'\n130. '549-84-7482'\n131. '191-10-6171'\n132. '802-70-5316'\n133. '695-51-0018'\n134. '590-83-4591'\n135. '483-71-1164'\n136. '597-78-7908'\n137. '700-81-1757'\n138. '354-39-5160'\n139. '241-72-9525'\n140. '575-30-8091'\n141. '731-81-9469'\n142. '280-17-4359'\n143. '338-65-2210'\n144. '488-25-4221'\n145. '239-10-7476'\n146. '458-41-1477'\n147. '685-64-1609'\n148. '568-90-5112'\n149. '262-47-2794'\n150. '238-49-0436'\n151. '608-96-3517'\n152. '584-86-7256'\n153. '746-94-0204'\n154. '214-17-6927'\n155. '400-89-4171'\n156. '782-95-9291'\n157. '279-74-2924'\n158. '307-85-2293'\n159. '743-04-1105'\n160. '423-57-2993'\n161. '894-41-5205'\n162. '275-28-0149'\n163. '101-17-6199'\n164. '423-80-0988'\n165. '548-46-9322'\n166. '505-02-0892'\n167. '234-65-2137'\n168. '687-47-8271'\n169. '796-32-9050'\n170. '105-31-1824'\n171. '249-42-3782'\n172. '316-55-4634'\n173. '733-33-4967'\n174. '608-27-6295'\n175. '414-12-7047'\n176. '827-26-2100'\n177. '175-54-2529'\n178. '139-52-2867'\n179. '407-63-8975'\n180. '342-65-4817'\n181. '130-98-8941'\n182. '434-83-9547'\n183. '851-28-6367'\n184. '824-88-3614'\n185. '586-25-0848'\n186. '895-66-0685'\n187. '305-14-0245'\n188. '732-04-5373'\n189. '400-60-7251'\n190. '593-65-1552'\n191. '284-34-9626'\n192. '437-58-8131'\n193. '286-43-6208'\n194. '641-43-2399'\n195. '831-07-6050'\n196. '556-86-3144'\n197. '848-24-9445'\n198. '856-22-8149'\n199. '699-01-4164'\n200. '420-11-4919'\n201. ⋯\n202. '751-15-6198'\n203. '324-41-6833'\n204. '474-33-8305'\n205. '759-29-9521'\n206. '831-81-6575'\n207. '220-68-6701'\n208. '618-34-8551'\n209. '257-60-7754'\n210. '559-61-5987'\n211. '189-55-2313'\n212. '565-91-4567'\n213. '380-60-5336'\n214. '815-04-6282'\n215. '674-56-6360'\n216. '778-34-2523'\n217. '499-27-7781'\n218. '477-59-2456'\n219. '832-51-6761'\n220. '869-11-3082'\n221. '190-59-3964'\n222. '366-43-6862'\n223. '186-43-8965'\n224. '784-21-9238'\n225. '276-75-6884'\n226. '109-86-4363'\n227. '569-76-2760'\n228. '222-42-0244'\n229. '760-53-9233'\n230. '538-22-0304'\n231. '416-17-9926'\n232. '237-44-6163'\n233. '636-17-0325'\n234. '343-75-9322'\n235. '528-14-9470'\n236. '427-45-9297'\n237. '807-34-3742'\n238. '288-62-1085'\n239. '670-71-7306'\n240. '660-29-7083'\n241. '271-77-8740'\n242. '497-36-0989'\n243. '291-59-1384'\n244. '860-73-6466'\n245. '549-23-9016'\n246. '896-34-0956'\n247. '804-38-3935'\n248. '585-90-0249'\n249. '862-29-5914'\n250. '845-94-6841'\n251. '125-45-2293'\n252. '843-73-4724'\n253. '409-33-9708'\n254. '658-66-3967'\n255. '866-70-2814'\n256. '160-22-2687'\n257. '895-03-6665'\n258. '770-42-8960'\n259. '748-45-2862'\n260. '234-36-2483'\n261. '316-66-3011'\n262. '848-95-6252'\n263. '840-76-5966'\n264. '152-03-4217'\n265. '533-66-5566'\n266. '124-31-1458'\n267. '176-78-1170'\n268. '361-59-0574'\n269. '101-81-4070'\n270. '631-34-1880'\n271. '852-82-2749'\n272. '873-14-6353'\n273. '584-66-4073'\n274. '544-55-9589'\n275. '166-19-2553'\n276. '737-88-5876'\n277. '154-87-7367'\n278. '885-56-0389'\n279. '608-05-3804'\n280. '448-61-3783'\n281. '761-49-0439'\n282. '490-95-0021'\n283. '115-38-7388'\n284. '311-13-6971'\n285. '291-55-6563'\n286. '548-48-3156'\n287. '460-93-5834'\n288. '325-89-4209'\n289. '884-80-6021'\n290. '137-74-8729'\n291. '880-46-5796'\n292. '389-70-2397'\n293. '114-35-5271'\n294. '607-76-6216'\n295. '715-20-1673'\n296. '811-35-1094'\n297. '699-88-1972'\n298. '781-84-8059'\n299. '409-49-6995'\n300. '725-54-0677'\n301. '146-09-5432'\n302. '377-79-7592'\n303. '509-10-0516'\n304. '595-94-9924'\n305. '865-41-9075'\n306. '545-07-8534'\n307. '118-62-1812'\n308. '450-42-3339'\n309. '851-98-3555'\n310. '186-71-5196'\n311. '624-01-8356'\n312. '313-66-9943'\n313. '151-27-8496'\n314. '453-33-6436'\n315. '522-57-8364'\n316. '459-45-2396'\n317. '717-96-4189'\n318. '722-13-2115'\n319. '749-81-8133'\n320. '777-67-2495'\n321. '636-98-3364'\n322. '246-55-6923'\n323. '181-82-6255'\n324. '838-02-1821'\n325. '887-42-0517'\n326. '457-12-0244'\n327. '226-34-0034'\n328. '321-49-7382'\n329. '397-25-8725'\n330. '431-66-2305'\n331. '825-94-5922'\n332. '641-62-7288'\n333. '756-93-1854'\n334. '243-55-8457'\n335. '458-10-8612'\n336. '501-61-1753'\n337. '235-06-8510'\n338. '433-08-7822'\n339. '361-85-2571'\n340. '131-70-8179'\n341. '500-02-2261'\n342. '720-72-2436'\n343. '702-83-5291'\n344. '809-69-9497'\n345. '449-16-6770'\n346. '333-23-2632'\n347. '489-82-1237'\n348. '859-97-6048'\n349. '676-10-2200'\n350. '373-88-1424'\n351. '365-16-4334'\n352. '503-21-4385'\n353. '305-89-2768'\n354. '574-80-1489'\n355. '784-08-0310'\n356. '200-40-6154'\n357. '846-10-0341'\n358. '577-34-7579'\n359. '430-02-3888'\n360. '867-47-1948'\n361. '384-59-6655'\n362. '256-58-3609'\n363. '324-92-3863'\n364. '593-08-5916'\n365. '364-34-2972'\n366. '794-42-3736'\n367. '172-42-8274'\n368. '558-60-5016'\n369. '195-06-0432'\n370. '605-03-2706'\n371. '214-30-2776'\n372. '746-04-1077'\n373. '448-34-8700'\n374. '452-04-8808'\n375. '531-56-4728'\n376. '744-82-9138'\n377. '883-69-1285'\n378. '221-25-5073'\n379. '518-71-6847'\n380. '156-20-0370'\n381. '151-33-7434'\n382. '728-47-9078'\n383. '809-46-1866'\n384. '139-32-4183'\n385. '148-41-7930'\n386. '189-40-5216'\n387. '374-38-5555'\n388. '764-44-8999'\n389. '552-44-5977'\n390. '267-62-7380'\n391. '430-53-4718'\n392. '886-18-2897'\n393. '602-16-6955'\n394. '745-74-0715'\n395. '690-01-6631'\n396. '652-49-6720'\n397. '233-67-5758'\n398. '303-96-2227'\n399. '727-02-1313'\n400. '347-56-2442'\n401. '849-09-3807'\n\n\n",
            "text/html": [
              "<style>\n",
              ".list-inline {list-style: none; margin:0; padding: 0}\n",
              ".list-inline>li {display: inline-block}\n",
              ".list-inline>li:not(:last-child)::after {content: \"\\00b7\"; padding: 0 .5ex}\n",
              "</style>\n",
              "<ol class=list-inline><li>'750-67-8428'</li><li>'226-31-3081'</li><li>'631-41-3108'</li><li>'123-19-1176'</li><li>'373-73-7910'</li><li>'699-14-3026'</li><li>'355-53-5943'</li><li>'315-22-5665'</li><li>'665-32-9167'</li><li>'692-92-5582'</li><li>'351-62-0822'</li><li>'529-56-3974'</li><li>'365-64-0515'</li><li>'252-56-2699'</li><li>'829-34-3910'</li><li>'299-46-1805'</li><li>'656-95-9349'</li><li>'765-26-6951'</li><li>'329-62-1586'</li><li>'319-50-3348'</li><li>'300-71-4605'</li><li>'371-85-5789'</li><li>'273-16-6619'</li><li>'636-48-8204'</li><li>'549-59-1358'</li><li>'227-03-5010'</li><li>'649-29-6775'</li><li>'189-17-4241'</li><li>'145-94-9061'</li><li>'848-62-7243'</li><li>'871-79-8483'</li><li>'149-71-6266'</li><li>'640-49-2076'</li><li>'595-11-5460'</li><li>'183-56-6882'</li><li>'232-16-2483'</li><li>'129-29-8530'</li><li>'272-65-1806'</li><li>'333-73-7901'</li><li>'777-82-7220'</li><li>'280-35-5823'</li><li>'554-53-8700'</li><li>'354-25-5821'</li><li>'228-96-1411'</li><li>'617-15-4209'</li><li>'132-32-9879'</li><li>'370-41-7321'</li><li>'727-46-3608'</li><li>'669-54-1719'</li><li>'574-22-5561'</li><li>'326-78-5178'</li><li>'162-48-8011'</li><li>'616-24-2851'</li><li>'778-71-5554'</li><li>'242-55-6721'</li><li>'399-46-5918'</li><li>'106-35-6779'</li><li>'635-40-6220'</li><li>'817-48-8732'</li><li>'120-06-4233'</li><li>'285-68-5083'</li><li>'803-83-5989'</li><li>'347-34-2234'</li><li>'199-75-8169'</li><li>'853-23-2453'</li><li>'877-22-3308'</li><li>'838-78-4295'</li><li>'109-28-2512'</li><li>'232-11-3025'</li><li>'382-03-4532'</li><li>'393-65-2792'</li><li>'796-12-2025'</li><li>'510-95-6347'</li><li>'841-35-6630'</li><li>'287-21-9091'</li><li>'732-94-0499'</li><li>'263-10-3913'</li><li>'381-20-0914'</li><li>'829-49-1914'</li><li>'756-01-7507'</li><li>'870-72-4431'</li><li>'847-38-7188'</li><li>'480-63-2856'</li><li>'787-56-0757'</li><li>'360-39-5055'</li><li>'730-50-9884'</li><li>'362-58-8315'</li><li>'633-44-8566'</li><li>'504-35-8843'</li><li>'318-68-5053'</li><li>'565-80-5980'</li><li>'225-32-0908'</li><li>'873-51-0671'</li><li>'152-08-9985'</li><li>'512-91-0811'</li><li>'594-34-4444'</li><li>'766-85-7061'</li><li>'871-39-9221'</li><li>'865-92-6136'</li><li>'733-01-9107'</li><li>'163-56-7055'</li><li>'189-98-2939'</li><li>'551-21-3069'</li><li>'212-62-1842'</li><li>'716-39-1409'</li><li>'704-48-3927'</li><li>'628-34-3388'</li><li>'630-74-5166'</li><li>'588-01-7461'</li><li>'861-77-0145'</li><li>'479-26-8945'</li><li>'210-67-5886'</li><li>'227-78-1148'</li><li>'645-44-1170'</li><li>'237-01-6122'</li><li>'225-98-1496'</li><li>'291-32-1427'</li><li>'659-65-8956'</li><li>'642-32-2990'</li><li>'378-24-2715'</li><li>'638-60-7125'</li><li>'659-36-1684'</li><li>'219-22-9386'</li><li>'336-78-2147'</li><li>'268-27-6179'</li><li>'668-90-8900'</li><li>'870-54-3162'</li><li>'189-08-9157'</li><li>'663-86-9076'</li><li>'549-84-7482'</li><li>'191-10-6171'</li><li>'802-70-5316'</li><li>'695-51-0018'</li><li>'590-83-4591'</li><li>'483-71-1164'</li><li>'597-78-7908'</li><li>'700-81-1757'</li><li>'354-39-5160'</li><li>'241-72-9525'</li><li>'575-30-8091'</li><li>'731-81-9469'</li><li>'280-17-4359'</li><li>'338-65-2210'</li><li>'488-25-4221'</li><li>'239-10-7476'</li><li>'458-41-1477'</li><li>'685-64-1609'</li><li>'568-90-5112'</li><li>'262-47-2794'</li><li>'238-49-0436'</li><li>'608-96-3517'</li><li>'584-86-7256'</li><li>'746-94-0204'</li><li>'214-17-6927'</li><li>'400-89-4171'</li><li>'782-95-9291'</li><li>'279-74-2924'</li><li>'307-85-2293'</li><li>'743-04-1105'</li><li>'423-57-2993'</li><li>'894-41-5205'</li><li>'275-28-0149'</li><li>'101-17-6199'</li><li>'423-80-0988'</li><li>'548-46-9322'</li><li>'505-02-0892'</li><li>'234-65-2137'</li><li>'687-47-8271'</li><li>'796-32-9050'</li><li>'105-31-1824'</li><li>'249-42-3782'</li><li>'316-55-4634'</li><li>'733-33-4967'</li><li>'608-27-6295'</li><li>'414-12-7047'</li><li>'827-26-2100'</li><li>'175-54-2529'</li><li>'139-52-2867'</li><li>'407-63-8975'</li><li>'342-65-4817'</li><li>'130-98-8941'</li><li>'434-83-9547'</li><li>'851-28-6367'</li><li>'824-88-3614'</li><li>'586-25-0848'</li><li>'895-66-0685'</li><li>'305-14-0245'</li><li>'732-04-5373'</li><li>'400-60-7251'</li><li>'593-65-1552'</li><li>'284-34-9626'</li><li>'437-58-8131'</li><li>'286-43-6208'</li><li>'641-43-2399'</li><li>'831-07-6050'</li><li>'556-86-3144'</li><li>'848-24-9445'</li><li>'856-22-8149'</li><li>'699-01-4164'</li><li>'420-11-4919'</li><li>⋯</li><li>'751-15-6198'</li><li>'324-41-6833'</li><li>'474-33-8305'</li><li>'759-29-9521'</li><li>'831-81-6575'</li><li>'220-68-6701'</li><li>'618-34-8551'</li><li>'257-60-7754'</li><li>'559-61-5987'</li><li>'189-55-2313'</li><li>'565-91-4567'</li><li>'380-60-5336'</li><li>'815-04-6282'</li><li>'674-56-6360'</li><li>'778-34-2523'</li><li>'499-27-7781'</li><li>'477-59-2456'</li><li>'832-51-6761'</li><li>'869-11-3082'</li><li>'190-59-3964'</li><li>'366-43-6862'</li><li>'186-43-8965'</li><li>'784-21-9238'</li><li>'276-75-6884'</li><li>'109-86-4363'</li><li>'569-76-2760'</li><li>'222-42-0244'</li><li>'760-53-9233'</li><li>'538-22-0304'</li><li>'416-17-9926'</li><li>'237-44-6163'</li><li>'636-17-0325'</li><li>'343-75-9322'</li><li>'528-14-9470'</li><li>'427-45-9297'</li><li>'807-34-3742'</li><li>'288-62-1085'</li><li>'670-71-7306'</li><li>'660-29-7083'</li><li>'271-77-8740'</li><li>'497-36-0989'</li><li>'291-59-1384'</li><li>'860-73-6466'</li><li>'549-23-9016'</li><li>'896-34-0956'</li><li>'804-38-3935'</li><li>'585-90-0249'</li><li>'862-29-5914'</li><li>'845-94-6841'</li><li>'125-45-2293'</li><li>'843-73-4724'</li><li>'409-33-9708'</li><li>'658-66-3967'</li><li>'866-70-2814'</li><li>'160-22-2687'</li><li>'895-03-6665'</li><li>'770-42-8960'</li><li>'748-45-2862'</li><li>'234-36-2483'</li><li>'316-66-3011'</li><li>'848-95-6252'</li><li>'840-76-5966'</li><li>'152-03-4217'</li><li>'533-66-5566'</li><li>'124-31-1458'</li><li>'176-78-1170'</li><li>'361-59-0574'</li><li>'101-81-4070'</li><li>'631-34-1880'</li><li>'852-82-2749'</li><li>'873-14-6353'</li><li>'584-66-4073'</li><li>'544-55-9589'</li><li>'166-19-2553'</li><li>'737-88-5876'</li><li>'154-87-7367'</li><li>'885-56-0389'</li><li>'608-05-3804'</li><li>'448-61-3783'</li><li>'761-49-0439'</li><li>'490-95-0021'</li><li>'115-38-7388'</li><li>'311-13-6971'</li><li>'291-55-6563'</li><li>'548-48-3156'</li><li>'460-93-5834'</li><li>'325-89-4209'</li><li>'884-80-6021'</li><li>'137-74-8729'</li><li>'880-46-5796'</li><li>'389-70-2397'</li><li>'114-35-5271'</li><li>'607-76-6216'</li><li>'715-20-1673'</li><li>'811-35-1094'</li><li>'699-88-1972'</li><li>'781-84-8059'</li><li>'409-49-6995'</li><li>'725-54-0677'</li><li>'146-09-5432'</li><li>'377-79-7592'</li><li>'509-10-0516'</li><li>'595-94-9924'</li><li>'865-41-9075'</li><li>'545-07-8534'</li><li>'118-62-1812'</li><li>'450-42-3339'</li><li>'851-98-3555'</li><li>'186-71-5196'</li><li>'624-01-8356'</li><li>'313-66-9943'</li><li>'151-27-8496'</li><li>'453-33-6436'</li><li>'522-57-8364'</li><li>'459-45-2396'</li><li>'717-96-4189'</li><li>'722-13-2115'</li><li>'749-81-8133'</li><li>'777-67-2495'</li><li>'636-98-3364'</li><li>'246-55-6923'</li><li>'181-82-6255'</li><li>'838-02-1821'</li><li>'887-42-0517'</li><li>'457-12-0244'</li><li>'226-34-0034'</li><li>'321-49-7382'</li><li>'397-25-8725'</li><li>'431-66-2305'</li><li>'825-94-5922'</li><li>'641-62-7288'</li><li>'756-93-1854'</li><li>'243-55-8457'</li><li>'458-10-8612'</li><li>'501-61-1753'</li><li>'235-06-8510'</li><li>'433-08-7822'</li><li>'361-85-2571'</li><li>'131-70-8179'</li><li>'500-02-2261'</li><li>'720-72-2436'</li><li>'702-83-5291'</li><li>'809-69-9497'</li><li>'449-16-6770'</li><li>'333-23-2632'</li><li>'489-82-1237'</li><li>'859-97-6048'</li><li>'676-10-2200'</li><li>'373-88-1424'</li><li>'365-16-4334'</li><li>'503-21-4385'</li><li>'305-89-2768'</li><li>'574-80-1489'</li><li>'784-08-0310'</li><li>'200-40-6154'</li><li>'846-10-0341'</li><li>'577-34-7579'</li><li>'430-02-3888'</li><li>'867-47-1948'</li><li>'384-59-6655'</li><li>'256-58-3609'</li><li>'324-92-3863'</li><li>'593-08-5916'</li><li>'364-34-2972'</li><li>'794-42-3736'</li><li>'172-42-8274'</li><li>'558-60-5016'</li><li>'195-06-0432'</li><li>'605-03-2706'</li><li>'214-30-2776'</li><li>'746-04-1077'</li><li>'448-34-8700'</li><li>'452-04-8808'</li><li>'531-56-4728'</li><li>'744-82-9138'</li><li>'883-69-1285'</li><li>'221-25-5073'</li><li>'518-71-6847'</li><li>'156-20-0370'</li><li>'151-33-7434'</li><li>'728-47-9078'</li><li>'809-46-1866'</li><li>'139-32-4183'</li><li>'148-41-7930'</li><li>'189-40-5216'</li><li>'374-38-5555'</li><li>'764-44-8999'</li><li>'552-44-5977'</li><li>'267-62-7380'</li><li>'430-53-4718'</li><li>'886-18-2897'</li><li>'602-16-6955'</li><li>'745-74-0715'</li><li>'690-01-6631'</li><li>'652-49-6720'</li><li>'233-67-5758'</li><li>'303-96-2227'</li><li>'727-02-1313'</li><li>'347-56-2442'</li><li>'849-09-3807'</li></ol>\n"
            ]
          },
          "metadata": {}
        }
      ]
    },
    {
      "cell_type": "markdown",
      "metadata": {
        "id": "9BeeGTCFSXfB"
      },
      "source": [
        "df$voice id has one anomaly which has to be removed"
      ]
    },
    {
      "cell_type": "code",
      "metadata": {
        "colab": {
          "base_uri": "https://localhost:8080/"
        },
        "id": "yr2A-b5vR1Sl",
        "outputId": "0a2f9ca5-148c-489f-d46d-8bba73d4655f"
      },
      "source": [
        "show(lengths(a))"
      ],
      "execution_count": 248,
      "outputs": [
        {
          "output_type": "stream",
          "name": "stdout",
          "text": [
            "             invoice.id                  branch           customer.type \n",
            "                   1000                       3                       2 \n",
            "                 gender            product.line              unit.price \n",
            "                      2                       6                     943 \n",
            "               quantity                     tax                 payment \n",
            "                     10                     990                       3 \n",
            "                   cogs gross.margin.percentage            gross.income \n",
            "                    990                       1                     990 \n",
            "                 rating                   total                    year \n",
            "                     61                     990                       1 \n",
            "                  month                     day                    hour \n",
            "                      3                      31                      11 \n"
          ]
        }
      ]
    },
    {
      "cell_type": "markdown",
      "metadata": {
        "id": "Rtm72Oo7TOoR"
      },
      "source": [
        "this is the number of unique values for each column"
      ]
    },
    {
      "cell_type": "markdown",
      "metadata": {
        "id": "mui74uilYEq0"
      },
      "source": [
        "## EDA"
      ]
    },
    {
      "cell_type": "code",
      "metadata": {
        "colab": {
          "base_uri": "https://localhost:8080/",
          "height": 72
        },
        "id": "LDM74jUJTpYs",
        "outputId": "e443c113-236c-4519-9114-97f73ee8e020"
      },
      "source": [
        "table(df$month)"
      ],
      "execution_count": 249,
      "outputs": [
        {
          "output_type": "display_data",
          "data": {
            "text/plain": [
              "\n",
              "  1   2   3 \n",
              "352 303 345 "
            ]
          },
          "metadata": {}
        }
      ]
    },
    {
      "cell_type": "code",
      "metadata": {
        "colab": {
          "base_uri": "https://localhost:8080/",
          "height": 72
        },
        "id": "p7l8SibdUe1N",
        "outputId": "025aeed7-5220-4f8d-ece9-631bac9aaa60"
      },
      "source": [
        "table(df$payment)"
      ],
      "execution_count": 250,
      "outputs": [
        {
          "output_type": "display_data",
          "data": {
            "text/plain": [
              "\n",
              "       Cash Credit card     Ewallet \n",
              "        344         311         345 "
            ]
          },
          "metadata": {}
        }
      ]
    },
    {
      "cell_type": "code",
      "metadata": {
        "colab": {
          "base_uri": "https://localhost:8080/",
          "height": 72
        },
        "id": "qPAybsveUs05",
        "outputId": "39af5e5b-31eb-48f9-85df-df91fccd042b"
      },
      "source": [
        "table(df$hour)"
      ],
      "execution_count": 251,
      "outputs": [
        {
          "output_type": "display_data",
          "data": {
            "text/plain": [
              "\n",
              " 10  11  12  13  14  15  16  17  18  19  20 \n",
              "101  90  89 103  83 102  77  74  93 113  75 "
            ]
          },
          "metadata": {}
        }
      ]
    },
    {
      "cell_type": "code",
      "metadata": {
        "colab": {
          "base_uri": "https://localhost:8080/",
          "height": 72
        },
        "id": "XMrWGwOfUw1-",
        "outputId": "935aaaef-84e7-4504-870c-9be6e48fbaf4"
      },
      "source": [
        "table(df$branch)"
      ],
      "execution_count": 252,
      "outputs": [
        {
          "output_type": "display_data",
          "data": {
            "text/plain": [
              "\n",
              "  A   B   C \n",
              "340 332 328 "
            ]
          },
          "metadata": {}
        }
      ]
    },
    {
      "cell_type": "code",
      "metadata": {
        "colab": {
          "base_uri": "https://localhost:8080/",
          "height": 72
        },
        "id": "OheWI5VGXjUi",
        "outputId": "50e1f4fb-4dfb-46b0-d1fe-d863cb5af9cb"
      },
      "source": [
        "table(df$customer.type)"
      ],
      "execution_count": 253,
      "outputs": [
        {
          "output_type": "display_data",
          "data": {
            "text/plain": [
              "\n",
              "Member Normal \n",
              "   501    499 "
            ]
          },
          "metadata": {}
        }
      ]
    },
    {
      "cell_type": "code",
      "metadata": {
        "colab": {
          "base_uri": "https://localhost:8080/",
          "height": 108
        },
        "id": "LuyL2PhtXpei",
        "outputId": "6a17c5a1-48e5-49d6-acc5-a273d6bfb4eb"
      },
      "source": [
        "table(df$product.line)"
      ],
      "execution_count": 254,
      "outputs": [
        {
          "output_type": "display_data",
          "data": {
            "text/plain": [
              "\n",
              "Electronic accessories    Fashion accessories     Food and beverages \n",
              "                   170                    178                    174 \n",
              "     Health and beauty     Home and lifestyle      Sports and travel \n",
              "                   152                    160                    166 "
            ]
          },
          "metadata": {}
        }
      ]
    },
    {
      "cell_type": "code",
      "metadata": {
        "colab": {
          "base_uri": "https://localhost:8080/",
          "height": 72
        },
        "id": "2eGgvSVNXvX3",
        "outputId": "6b35b102-f518-4250-e9de-20132135c203"
      },
      "source": [
        "table(df$quantity)"
      ],
      "execution_count": 255,
      "outputs": [
        {
          "output_type": "display_data",
          "data": {
            "text/plain": [
              "\n",
              "  1   2   3   4   5   6   7   8   9  10 \n",
              "112  91  90 109 102  98 102  85  92 119 "
            ]
          },
          "metadata": {}
        }
      ]
    },
    {
      "cell_type": "code",
      "metadata": {
        "colab": {
          "base_uri": "https://localhost:8080/",
          "height": 183
        },
        "id": "VTPkLM59X43j",
        "outputId": "1c5d4b13-2abf-4fc3-b1c8-d723e95bdd61"
      },
      "source": [
        "table(df$rating)"
      ],
      "execution_count": 256,
      "outputs": [
        {
          "output_type": "display_data",
          "data": {
            "text/plain": [
              "\n",
              "  4 4.1 4.2 4.3 4.4 4.5 4.6 4.7 4.8 4.9   5 5.1 5.2 5.3 5.4 5.5 5.6 5.7 5.8 5.9 \n",
              " 11  17  22  18  17  17   8  12  13  18  21  21  15  11  14  19  16  14  14  17 \n",
              "  6 6.1 6.2 6.3 6.4 6.5 6.6 6.7 6.8 6.9   7 7.1 7.2 7.3 7.4 7.5 7.6 7.7 7.8 7.9 \n",
              " 26  14  21  15  16  21  24  19  13  15  20  16  18  18  16  13  20  18  15  18 \n",
              "  8 8.1 8.2 8.3 8.4 8.5 8.6 8.7 8.8 8.9   9 9.1 9.2 9.3 9.4 9.5 9.6 9.7 9.8 9.9 \n",
              " 21  13  14  11  18  18  18  20  14  16  15  14  16  16  12  22  17  14  19  16 \n",
              " 10 \n",
              "  5 "
            ]
          },
          "metadata": {}
        }
      ]
    },
    {
      "cell_type": "code",
      "metadata": {
        "colab": {
          "base_uri": "https://localhost:8080/",
          "height": 164
        },
        "id": "nRhC7KG0YdAT",
        "outputId": "689f317b-4a93-482b-da80-168a59391301"
      },
      "source": [
        "table(df$product.line, df$payment)"
      ],
      "execution_count": 257,
      "outputs": [
        {
          "output_type": "display_data",
          "data": {
            "text/plain": [
              "                        \n",
              "                         Cash Credit card Ewallet\n",
              "  Electronic accessories   71          46      53\n",
              "  Fashion accessories      57          56      65\n",
              "  Food and beverages       57          61      56\n",
              "  Health and beauty        49          50      53\n",
              "  Home and lifestyle       51          45      64\n",
              "  Sports and travel        59          53      54"
            ]
          },
          "metadata": {}
        }
      ]
    },
    {
      "cell_type": "code",
      "metadata": {
        "colab": {
          "base_uri": "https://localhost:8080/",
          "height": 755
        },
        "id": "gNMW9me5YhL4",
        "outputId": "30c8cb96-ee26-4c9f-b9bc-b0009d3b77c0"
      },
      "source": [
        "table(df$product.line, df$rating)"
      ],
      "execution_count": 258,
      "outputs": [
        {
          "output_type": "display_data",
          "data": {
            "text/plain": [
              "                        \n",
              "                         4 4.1 4.2 4.3 4.4 4.5 4.6 4.7 4.8 4.9 5 5.1 5.2 5.3\n",
              "  Electronic accessories 1   3   2   4   3   1   0   6   3   3 3   3   2   2\n",
              "  Fashion accessories    2   4   2   1   3   4   2   1   3   5 5   1   4   2\n",
              "  Food and beverages     4   1   4   2   4   4   2   0   2   1 3   2   3   0\n",
              "  Health and beauty      3   1   5   4   2   0   2   1   2   4 5   5   0   4\n",
              "  Home and lifestyle     0   4   4   5   4   3   1   4   2   4 0   5   3   0\n",
              "  Sports and travel      1   4   5   2   1   5   1   0   1   1 5   5   3   3\n",
              "                        \n",
              "                         5.4 5.5 5.6 5.7 5.8 5.9 6 6.1 6.2 6.3 6.4 6.5 6.6 6.7\n",
              "  Electronic accessories   2   6   2   1   4   3 6   3   5   3   3   5   4   4\n",
              "  Fashion accessories      1   3   3   4   1   4 2   2   3   1   1   4   5   6\n",
              "  Food and beverages       3   3   4   1   2   3 6   1   4   3   7   2   3   2\n",
              "  Health and beauty        0   3   3   2   2   1 6   2   3   1   1   1   6   1\n",
              "  Home and lifestyle       5   2   0   4   4   4 2   2   3   3   2   2   1   1\n",
              "  Sports and travel        3   2   4   2   1   2 4   4   3   4   2   7   5   5\n",
              "                        \n",
              "                         6.8 6.9 7 7.1 7.2 7.3 7.4 7.5 7.6 7.7 7.8 7.9 8 8.1\n",
              "  Electronic accessories   1   2 2   3   3   5   0   2   7   1   4   1 3   3\n",
              "  Fashion accessories      7   3 3   4   5   2   3   3   3   2   1   4 2   1\n",
              "  Food and beverages       0   2 3   3   1   4   3   3   4   4   2   3 6   3\n",
              "  Health and beauty        1   0 2   1   3   2   2   1   5   4   3   2 3   4\n",
              "  Home and lifestyle       2   3 6   3   3   3   4   3   1   5   2   5 4   1\n",
              "  Sports and travel        2   5 4   2   3   2   4   1   0   2   3   3 3   1\n",
              "                        \n",
              "                         8.2 8.3 8.4 8.5 8.6 8.7 8.8 8.9 9 9.1 9.2 9.3 9.4 9.5\n",
              "  Electronic accessories   3   0   2   1   4   2   4   2 5   1   1   2   2   3\n",
              "  Fashion accessories      4   1   2   6   3   3   0   3 3   3   5   2   2   8\n",
              "  Food and beverages       1   3   4   4   4   3   3   5 2   5   4   2   3   3\n",
              "  Health and beauty        1   3   8   1   2   4   3   3 1   3   4   3   0   4\n",
              "  Home and lifestyle       2   3   2   2   1   5   3   1 1   2   1   2   4   2\n",
              "  Sports and travel        3   1   0   4   4   3   1   2 3   0   1   5   1   2\n",
              "                        \n",
              "                         9.6 9.7 9.8 9.9 10\n",
              "  Electronic accessories   1   4   5   3  1\n",
              "  Fashion accessories      4   2   2   3  0\n",
              "  Food and beverages       4   0   2   5  0\n",
              "  Health and beauty        0   2   4   2  1\n",
              "  Home and lifestyle       2   2   5   1  0\n",
              "  Sports and travel        6   4   1   2  3"
            ]
          },
          "metadata": {}
        }
      ]
    },
    {
      "cell_type": "code",
      "metadata": {
        "colab": {
          "base_uri": "https://localhost:8080/",
          "height": 312
        },
        "id": "8EPx6EWYYtnG",
        "outputId": "4566a503-9e8d-4194-a0d4-bd083d162a68"
      },
      "source": [
        "table(df$gender, df$rating)"
      ],
      "execution_count": 259,
      "outputs": [
        {
          "output_type": "display_data",
          "data": {
            "text/plain": [
              "        \n",
              "          4 4.1 4.2 4.3 4.4 4.5 4.6 4.7 4.8 4.9  5 5.1 5.2 5.3 5.4 5.5 5.6 5.7\n",
              "  Female  6  13  14   7   7  13   4   8   7   9 11  11   7   4   7   7   5   6\n",
              "  Male    5   4   8  11  10   4   4   4   6   9 10  10   8   7   7  12  11   8\n",
              "        \n",
              "         5.8 5.9  6 6.1 6.2 6.3 6.4 6.5 6.6 6.7 6.8 6.9  7 7.1 7.2 7.3 7.4 7.5\n",
              "  Female   5   8  8   6  10   8   9  11  14   7   8   2  8  10   8  10   7   9\n",
              "  Male     9   9 18   8  11   7   7  10  10  12   5  13 12   6  10   8   9   4\n",
              "        \n",
              "         7.6 7.7 7.8 7.9  8 8.1 8.2 8.3 8.4 8.5 8.6 8.7 8.8 8.9  9 9.1 9.2 9.3\n",
              "  Female  12  12   7   8 13   5   8   6   9  12   9   9   7   7  5   9   9   7\n",
              "  Male     8   6   8  10  8   8   6   5   9   6   9  11   7   9 10   5   7   9\n",
              "        \n",
              "         9.4 9.5 9.6 9.7 9.8 9.9 10\n",
              "  Female   3  15   9   7   7   8  4\n",
              "  Male     9   7   8   7  12   8  1"
            ]
          },
          "metadata": {}
        }
      ]
    },
    {
      "cell_type": "code",
      "metadata": {
        "colab": {
          "base_uri": "https://localhost:8080/"
        },
        "id": "xYDsIGXXfIFU",
        "outputId": "73e04cd7-629d-46e4-8d86-49708d824a78"
      },
      "source": [
        "str(df)"
      ],
      "execution_count": 261,
      "outputs": [
        {
          "output_type": "stream",
          "name": "stdout",
          "text": [
            "'data.frame':\t1000 obs. of  18 variables:\n",
            " $ invoice.id             : chr  \"750-67-8428\" \"226-31-3081\" \"631-41-3108\" \"123-19-1176\" ...\n",
            " $ branch                 : chr  \"A\" \"C\" \"A\" \"A\" ...\n",
            " $ customer.type          : chr  \"Member\" \"Normal\" \"Normal\" \"Member\" ...\n",
            " $ gender                 : chr  \"Female\" \"Female\" \"Male\" \"Male\" ...\n",
            " $ product.line           : chr  \"Health and beauty\" \"Electronic accessories\" \"Home and lifestyle\" \"Health and beauty\" ...\n",
            " $ unit.price             : num  74.7 15.3 46.3 58.2 86.3 ...\n",
            " $ quantity               : int  7 5 7 8 7 7 6 10 2 3 ...\n",
            " $ tax                    : num  26.14 3.82 16.22 23.29 30.21 ...\n",
            " $ payment                : chr  \"Ewallet\" \"Cash\" \"Credit card\" \"Ewallet\" ...\n",
            " $ cogs                   : num  522.8 76.4 324.3 465.8 604.2 ...\n",
            " $ gross.margin.percentage: num  4.76 4.76 4.76 4.76 4.76 ...\n",
            " $ gross.income           : num  26.14 3.82 16.22 23.29 30.21 ...\n",
            " $ rating                 : num  9.1 9.6 7.4 8.4 5.3 4.1 5.8 8 7.2 5.9 ...\n",
            " $ total                  : num  549 80.2 340.5 489 634.4 ...\n",
            " $ year                   : num  2019 2019 2019 2019 2019 ...\n",
            " $ month                  : num  1 3 3 1 2 3 2 2 1 2 ...\n",
            " $ day                    : int  5 8 3 27 8 25 25 24 10 20 ...\n",
            " $ hour                   : chr  \"13\" \"10\" \"13\" \"20\" ...\n"
          ]
        }
      ]
    },
    {
      "cell_type": "markdown",
      "metadata": {
        "id": "x6uDNAaRf_9a"
      },
      "source": [
        "encode character columns"
      ]
    },
    {
      "cell_type": "code",
      "metadata": {
        "id": "g3LuUDnakhRl"
      },
      "source": [
        "df<- select(df, -invoice.id, -gross.margin.percentage)"
      ],
      "execution_count": 262,
      "outputs": []
    },
    {
      "cell_type": "code",
      "metadata": {
        "id": "YPUJl5LebgwP"
      },
      "source": [
        "\n",
        "df$customer.type<- ifelse(df$customer.type==\"Member\", 1, 0)#binary\n",
        "\n",
        "df$gender<- ifelse(df$gender==\"Female\", 1, 0)  #binary\n",
        "# one hot enc oding for columns with more than two labels\n",
        "# dmy<- dummyVars(\"~.\", data=df, fullRank=T)\n",
        "# df1<- data.frame(predict(dmy, newdata=df))\n",
        "# glimpse(df1)\n"
      ],
      "execution_count": 300,
      "outputs": []
    },
    {
      "cell_type": "code",
      "metadata": {
        "colab": {
          "base_uri": "https://localhost:8080/"
        },
        "id": "25n2h_c4gxxq",
        "outputId": "d7eccb58-c57d-45f1-fb5a-bd187f124b8d"
      },
      "source": [
        "str(df1)"
      ],
      "execution_count": 301,
      "outputs": [
        {
          "output_type": "stream",
          "name": "stdout",
          "text": [
            "'data.frame':\t1000 obs. of  31 variables:\n",
            " $ branchB                        : num  0 0 0 0 0 0 0 0 0 1 ...\n",
            " $ branchC                        : num  0 1 0 0 0 1 0 1 0 0 ...\n",
            " $ customer.type                  : num  1 0 0 1 0 0 1 0 1 1 ...\n",
            " $ gender                         : num  1 1 0 0 0 0 1 1 1 1 ...\n",
            " $ product.lineFashion.accessories: num  0 0 0 0 0 0 0 0 0 0 ...\n",
            " $ product.lineFood.and.beverages : num  0 0 0 0 0 0 0 0 0 1 ...\n",
            " $ product.lineHealth.and.beauty  : num  1 0 0 1 0 0 0 0 1 0 ...\n",
            " $ product.lineHome.and.lifestyle : num  0 0 1 0 0 0 0 1 0 0 ...\n",
            " $ product.lineSports.and.travel  : num  0 0 0 0 1 0 0 0 0 0 ...\n",
            " $ unit.price                     : num  74.7 15.3 46.3 58.2 86.3 ...\n",
            " $ quantity                       : num  7 5 7 8 7 7 6 10 2 3 ...\n",
            " $ tax                            : num  26.14 3.82 16.22 23.29 30.21 ...\n",
            " $ paymentCredit.card             : num  0 0 1 0 0 0 0 0 1 1 ...\n",
            " $ paymentEwallet                 : num  1 0 0 1 1 1 1 1 0 0 ...\n",
            " $ cogs                           : num  522.8 76.4 324.3 465.8 604.2 ...\n",
            " $ gross.income                   : num  26.14 3.82 16.22 23.29 30.21 ...\n",
            " $ rating                         : num  9.1 9.6 7.4 8.4 5.3 4.1 5.8 8 7.2 5.9 ...\n",
            " $ total                          : num  549 80.2 340.5 489 634.4 ...\n",
            " $ year                           : num  2019 2019 2019 2019 2019 ...\n",
            " $ month                          : num  1 3 3 1 2 3 2 2 1 2 ...\n",
            " $ day                            : num  5 8 3 27 8 25 25 24 10 20 ...\n",
            " $ hour11                         : num  0 0 0 0 0 0 0 1 0 0 ...\n",
            " $ hour12                         : num  0 0 0 0 0 0 0 0 0 0 ...\n",
            " $ hour13                         : num  1 0 1 0 0 0 0 0 0 1 ...\n",
            " $ hour14                         : num  0 0 0 0 0 0 1 0 0 0 ...\n",
            " $ hour15                         : num  0 0 0 0 0 0 0 0 0 0 ...\n",
            " $ hour16                         : num  0 0 0 0 0 0 0 0 0 0 ...\n",
            " $ hour17                         : num  0 0 0 0 0 0 0 0 1 0 ...\n",
            " $ hour18                         : num  0 0 0 0 0 1 0 0 0 0 ...\n",
            " $ hour19                         : num  0 0 0 0 0 0 0 0 0 0 ...\n",
            " $ hour20                         : num  0 0 0 1 0 0 0 0 0 0 ...\n"
          ]
        }
      ]
    },
    {
      "cell_type": "code",
      "metadata": {
        "colab": {
          "base_uri": "https://localhost:8080/"
        },
        "id": "1c5HZCQyg4_i",
        "outputId": "920ea83c-5c1d-4197-83d0-729c4b6079c6"
      },
      "source": [
        "install.packages(\"FSinR\")\n",
        "library(FSinR)"
      ],
      "execution_count": 266,
      "outputs": [
        {
          "output_type": "stream",
          "name": "stderr",
          "text": [
            "Installing package into ‘/usr/local/lib/R/site-library’\n",
            "(as ‘lib’ is unspecified)\n",
            "\n",
            "also installing the dependencies ‘Deriv’, ‘rbibutils’, ‘RcppArmadillo’, ‘neuralnet’, ‘mlbench’, ‘Rdpack’, ‘GA’\n",
            "\n",
            "\n"
          ]
        }
      ]
    },
    {
      "cell_type": "code",
      "metadata": {
        "id": "kKC8ao_Dwk0s"
      },
      "source": [
        "# Installing and loading our caret package\n",
        "# ---\n",
        "# \n",
        "suppressWarnings(\n",
        "        suppressMessages(if\n",
        "                         (!require(caret, quietly=TRUE))\n",
        "                install.packages(\"caret\")))\n",
        "library(caret)\n",
        "# Installing and loading the corrplot package for plotting\n",
        "# ---\n",
        "# \n",
        "suppressWarnings(\n",
        "        suppressMessages(if\n",
        "                         (!require(corrplot, quietly=TRUE))\n",
        "                install.packages(\"corrplot\")))\n",
        "library(corrplot)"
      ],
      "execution_count": 291,
      "outputs": []
    },
    {
      "cell_type": "code",
      "metadata": {
        "id": "6_66TW5gm3DO"
      },
      "source": [
        "# evaluator<- wrapperEvaluator(\"knn\")\n",
        "# searchAlgorithm('sequentialForwardSelection')\n",
        "# results<- featureSelection(df, searcher, evaluator)\n",
        "# results$bestFeatures\n",
        "# results$bestValue"
      ],
      "execution_count": 269,
      "outputs": []
    },
    {
      "cell_type": "code",
      "metadata": {
        "colab": {
          "base_uri": "https://localhost:8080/",
          "height": 71
        },
        "id": "lcWZPLqSpRT_",
        "outputId": "cc715ae7-4edc-4bf5-868d-6cbee653de1f"
      },
      "source": [
        "corr <- cor(df1)\n",
        "highcorr <- findCorrelation(corr, cutoff=0.8)\n",
        "names(df1[,highcorr])"
      ],
      "execution_count": 292,
      "outputs": [
        {
          "output_type": "stream",
          "name": "stderr",
          "text": [
            "Warning message in cor(df1):\n",
            "“the standard deviation is zero”\n"
          ]
        },
        {
          "output_type": "display_data",
          "data": {
            "text/plain": [
              "[1] \"tax\"          \"cogs\"         \"gross.income\""
            ],
            "text/latex": "\\begin{enumerate*}\n\\item 'tax'\n\\item 'cogs'\n\\item 'gross.income'\n\\end{enumerate*}\n",
            "text/markdown": "1. 'tax'\n2. 'cogs'\n3. 'gross.income'\n\n\n",
            "text/html": [
              "<style>\n",
              ".list-inline {list-style: none; margin:0; padding: 0}\n",
              ".list-inline>li {display: inline-block}\n",
              ".list-inline>li:not(:last-child)::after {content: \"\\00b7\"; padding: 0 .5ex}\n",
              "</style>\n",
              "<ol class=list-inline><li>'tax'</li><li>'cogs'</li><li>'gross.income'</li></ol>\n"
            ]
          },
          "metadata": {}
        }
      ]
    },
    {
      "cell_type": "code",
      "metadata": {
        "colab": {
          "base_uri": "https://localhost:8080/",
          "height": 274
        },
        "id": "1YedCNS0p_xr",
        "outputId": "ad2920dc-ed5a-4ec1-c487-c78d070b52b0"
      },
      "source": [
        "head(corr)"
      ],
      "execution_count": 298,
      "outputs": [
        {
          "output_type": "display_data",
          "data": {
            "text/plain": [
              "                                branchB      branchC     customer.type\n",
              "branchB                          1.000000000 -0.49253046 -0.005656891 \n",
              "branchC                         -0.492530462  1.00000000  0.019902707 \n",
              "customer.type                   -0.005656891  0.01990271  1.000000000 \n",
              "gender                          -0.018397637  0.05824268  0.039996160 \n",
              "product.lineFashion.accessories  0.016121054  0.03684071 -0.016616473 \n",
              "product.lineFood.and.beverages  -0.043509821  0.05016121  0.036010778 \n",
              "                                gender      product.lineFashion.accessories\n",
              "branchB                         -0.01839764  0.01612105                    \n",
              "branchC                          0.05824268  0.03684071                    \n",
              "customer.type                    0.03999616 -0.01661647                    \n",
              "gender                           1.00000000  0.03566947                    \n",
              "product.lineFashion.accessories  0.03566947  1.00000000                    \n",
              "product.lineFood.and.beverages   0.01490865 -0.21357907                    \n",
              "                                product.lineFood.and.beverages\n",
              "branchB                         -0.04350982                   \n",
              "branchC                          0.05016121                   \n",
              "customer.type                    0.03601078                   \n",
              "gender                           0.01490865                   \n",
              "product.lineFashion.accessories -0.21357907                   \n",
              "product.lineFood.and.beverages   1.00000000                   \n",
              "                                product.lineHealth.and.beauty\n",
              "branchB                          0.01499934                  \n",
              "branchC                          0.01271989                  \n",
              "customer.type                   -0.01755890                  \n",
              "gender                          -0.06769536                  \n",
              "product.lineFashion.accessories -0.19701440                  \n",
              "product.lineFood.and.beverages  -0.19431596                  \n",
              "                                product.lineHome.and.lifestyle\n",
              "branchB                         -0.018071645                  \n",
              "branchC                         -0.043459068                  \n",
              "customer.type                    0.015493501                  \n",
              "gender                          -0.006328331                  \n",
              "product.lineFashion.accessories -0.203092760                  \n",
              "product.lineFood.and.beverages  -0.200311069                  \n",
              "                                product.lineSports.and.travel unit.price    ⋯\n",
              "branchB                          0.03930962                   -0.0003421693 ⋯\n",
              "branchC                         -0.05408555                    0.0247173751 ⋯\n",
              "customer.type                    0.02060848                    0.0202378750 ⋯\n",
              "gender                           0.02598367                   -0.0154446299 ⋯\n",
              "product.lineFashion.accessories -0.20760849                    0.0260340377 ⋯\n",
              "product.lineFood.and.beverages  -0.20476495                    0.0058359784 ⋯\n",
              "                                hour11       hour12       hour13      \n",
              "branchB                          0.023150233 -0.033916341  0.026574702\n",
              "branchC                         -0.055969874  0.013524545  0.001513622\n",
              "customer.type                    0.006359607  0.009910685 -0.017127351\n",
              "gender                           0.013348187  0.009910685  0.061830856\n",
              "product.lineFashion.accessories -0.018452852  0.028994260  0.005728138\n",
              "product.lineFood.and.beverages  -0.042951597 -0.050820269 -0.025357167\n",
              "                                hour14       hour15       hour16     \n",
              "branchB                          0.018811361 -0.013078272 -0.06821395\n",
              "branchC                          0.005991236 -0.003209261  0.02192383\n",
              "customer.type                    0.046519945  0.032367667 -0.01183086\n",
              "gender                          -0.018725420 -0.060149143 -0.01933299\n",
              "product.lineFashion.accessories  0.002141602 -0.001347536 -0.01672965\n",
              "product.lineFood.and.beverages  -0.023348409  0.028343119  0.02574521\n",
              "                                hour17       hour18       hour19      \n",
              "branchB                         -0.037055056  0.030152010  0.083732769\n",
              "branchC                          0.022197367 -0.040365631 -0.007158451\n",
              "customer.type                   -0.008205665 -0.010969871  0.027713889\n",
              "gender                           0.007074903 -0.010969871 -0.016507041\n",
              "product.lineFashion.accessories -0.001717755  0.022017369  0.032088976\n",
              "product.lineFood.and.beverages  -0.069286698  0.007429225  0.052806399\n",
              "                                hour20      \n",
              "branchB                          0.008868168\n",
              "branchC                          0.019408331\n",
              "customer.type                   -0.019552694\n",
              "gender                          -0.049925810\n",
              "product.lineFashion.accessories -0.023324936\n",
              "product.lineFood.and.beverages   0.069601510"
            ],
            "text/latex": "A matrix: 6 × 31 of type dbl\n\\begin{tabular}{r|lllllllllllllllllllll}\n  & branchB & branchC & customer.type & gender & product.lineFashion.accessories & product.lineFood.and.beverages & product.lineHealth.and.beauty & product.lineHome.and.lifestyle & product.lineSports.and.travel & unit.price & ⋯ & hour11 & hour12 & hour13 & hour14 & hour15 & hour16 & hour17 & hour18 & hour19 & hour20\\\\\n\\hline\n\tbranchB &  1.000000000 & -0.49253046 & -0.005656891 & -0.01839764 &  0.01612105 & -0.04350982 &  0.01499934 & -0.018071645 &  0.03930962 & -0.0003421693 & ⋯ &  0.023150233 & -0.033916341 &  0.026574702 &  0.018811361 & -0.013078272 & -0.06821395 & -0.037055056 &  0.030152010 &  0.083732769 &  0.008868168\\\\\n\tbranchC & -0.492530462 &  1.00000000 &  0.019902707 &  0.05824268 &  0.03684071 &  0.05016121 &  0.01271989 & -0.043459068 & -0.05408555 &  0.0247173751 & ⋯ & -0.055969874 &  0.013524545 &  0.001513622 &  0.005991236 & -0.003209261 &  0.02192383 &  0.022197367 & -0.040365631 & -0.007158451 &  0.019408331\\\\\n\tcustomer.type & -0.005656891 &  0.01990271 &  1.000000000 &  0.03999616 & -0.01661647 &  0.03601078 & -0.01755890 &  0.015493501 &  0.02060848 &  0.0202378750 & ⋯ &  0.006359607 &  0.009910685 & -0.017127351 &  0.046519945 &  0.032367667 & -0.01183086 & -0.008205665 & -0.010969871 &  0.027713889 & -0.019552694\\\\\n\tgender & -0.018397637 &  0.05824268 &  0.039996160 &  1.00000000 &  0.03566947 &  0.01490865 & -0.06769536 & -0.006328331 &  0.02598367 & -0.0154446299 & ⋯ &  0.013348187 &  0.009910685 &  0.061830856 & -0.018725420 & -0.060149143 & -0.01933299 &  0.007074903 & -0.010969871 & -0.016507041 & -0.049925810\\\\\n\tproduct.lineFashion.accessories &  0.016121054 &  0.03684071 & -0.016616473 &  0.03566947 &  1.00000000 & -0.21357907 & -0.19701440 & -0.203092760 & -0.20760849 &  0.0260340377 & ⋯ & -0.018452852 &  0.028994260 &  0.005728138 &  0.002141602 & -0.001347536 & -0.01672965 & -0.001717755 &  0.022017369 &  0.032088976 & -0.023324936\\\\\n\tproduct.lineFood.and.beverages & -0.043509821 &  0.05016121 &  0.036010778 &  0.01490865 & -0.21357907 &  1.00000000 & -0.19431596 & -0.200311069 & -0.20476495 &  0.0058359784 & ⋯ & -0.042951597 & -0.050820269 & -0.025357167 & -0.023348409 &  0.028343119 &  0.02574521 & -0.069286698 &  0.007429225 &  0.052806399 &  0.069601510\\\\\n\\end{tabular}\n",
            "text/markdown": "\nA matrix: 6 × 31 of type dbl\n\n| <!--/--> | branchB | branchC | customer.type | gender | product.lineFashion.accessories | product.lineFood.and.beverages | product.lineHealth.and.beauty | product.lineHome.and.lifestyle | product.lineSports.and.travel | unit.price | ⋯ | hour11 | hour12 | hour13 | hour14 | hour15 | hour16 | hour17 | hour18 | hour19 | hour20 |\n|---|---|---|---|---|---|---|---|---|---|---|---|---|---|---|---|---|---|---|---|---|---|\n| branchB |  1.000000000 | -0.49253046 | -0.005656891 | -0.01839764 |  0.01612105 | -0.04350982 |  0.01499934 | -0.018071645 |  0.03930962 | -0.0003421693 | ⋯ |  0.023150233 | -0.033916341 |  0.026574702 |  0.018811361 | -0.013078272 | -0.06821395 | -0.037055056 |  0.030152010 |  0.083732769 |  0.008868168 |\n| branchC | -0.492530462 |  1.00000000 |  0.019902707 |  0.05824268 |  0.03684071 |  0.05016121 |  0.01271989 | -0.043459068 | -0.05408555 |  0.0247173751 | ⋯ | -0.055969874 |  0.013524545 |  0.001513622 |  0.005991236 | -0.003209261 |  0.02192383 |  0.022197367 | -0.040365631 | -0.007158451 |  0.019408331 |\n| customer.type | -0.005656891 |  0.01990271 |  1.000000000 |  0.03999616 | -0.01661647 |  0.03601078 | -0.01755890 |  0.015493501 |  0.02060848 |  0.0202378750 | ⋯ |  0.006359607 |  0.009910685 | -0.017127351 |  0.046519945 |  0.032367667 | -0.01183086 | -0.008205665 | -0.010969871 |  0.027713889 | -0.019552694 |\n| gender | -0.018397637 |  0.05824268 |  0.039996160 |  1.00000000 |  0.03566947 |  0.01490865 | -0.06769536 | -0.006328331 |  0.02598367 | -0.0154446299 | ⋯ |  0.013348187 |  0.009910685 |  0.061830856 | -0.018725420 | -0.060149143 | -0.01933299 |  0.007074903 | -0.010969871 | -0.016507041 | -0.049925810 |\n| product.lineFashion.accessories |  0.016121054 |  0.03684071 | -0.016616473 |  0.03566947 |  1.00000000 | -0.21357907 | -0.19701440 | -0.203092760 | -0.20760849 |  0.0260340377 | ⋯ | -0.018452852 |  0.028994260 |  0.005728138 |  0.002141602 | -0.001347536 | -0.01672965 | -0.001717755 |  0.022017369 |  0.032088976 | -0.023324936 |\n| product.lineFood.and.beverages | -0.043509821 |  0.05016121 |  0.036010778 |  0.01490865 | -0.21357907 |  1.00000000 | -0.19431596 | -0.200311069 | -0.20476495 |  0.0058359784 | ⋯ | -0.042951597 | -0.050820269 | -0.025357167 | -0.023348409 |  0.028343119 |  0.02574521 | -0.069286698 |  0.007429225 |  0.052806399 |  0.069601510 |\n\n",
            "text/html": [
              "<table class=\"dataframe\">\n",
              "<caption>A matrix: 6 × 31 of type dbl</caption>\n",
              "<thead>\n",
              "\t<tr><th></th><th scope=col>branchB</th><th scope=col>branchC</th><th scope=col>customer.type</th><th scope=col>gender</th><th scope=col>product.lineFashion.accessories</th><th scope=col>product.lineFood.and.beverages</th><th scope=col>product.lineHealth.and.beauty</th><th scope=col>product.lineHome.and.lifestyle</th><th scope=col>product.lineSports.and.travel</th><th scope=col>unit.price</th><th scope=col>⋯</th><th scope=col>hour11</th><th scope=col>hour12</th><th scope=col>hour13</th><th scope=col>hour14</th><th scope=col>hour15</th><th scope=col>hour16</th><th scope=col>hour17</th><th scope=col>hour18</th><th scope=col>hour19</th><th scope=col>hour20</th></tr>\n",
              "</thead>\n",
              "<tbody>\n",
              "\t<tr><th scope=row>branchB</th><td> 1.000000000</td><td>-0.49253046</td><td>-0.005656891</td><td>-0.01839764</td><td> 0.01612105</td><td>-0.04350982</td><td> 0.01499934</td><td>-0.018071645</td><td> 0.03930962</td><td>-0.0003421693</td><td>⋯</td><td> 0.023150233</td><td>-0.033916341</td><td> 0.026574702</td><td> 0.018811361</td><td>-0.013078272</td><td>-0.06821395</td><td>-0.037055056</td><td> 0.030152010</td><td> 0.083732769</td><td> 0.008868168</td></tr>\n",
              "\t<tr><th scope=row>branchC</th><td>-0.492530462</td><td> 1.00000000</td><td> 0.019902707</td><td> 0.05824268</td><td> 0.03684071</td><td> 0.05016121</td><td> 0.01271989</td><td>-0.043459068</td><td>-0.05408555</td><td> 0.0247173751</td><td>⋯</td><td>-0.055969874</td><td> 0.013524545</td><td> 0.001513622</td><td> 0.005991236</td><td>-0.003209261</td><td> 0.02192383</td><td> 0.022197367</td><td>-0.040365631</td><td>-0.007158451</td><td> 0.019408331</td></tr>\n",
              "\t<tr><th scope=row>customer.type</th><td>-0.005656891</td><td> 0.01990271</td><td> 1.000000000</td><td> 0.03999616</td><td>-0.01661647</td><td> 0.03601078</td><td>-0.01755890</td><td> 0.015493501</td><td> 0.02060848</td><td> 0.0202378750</td><td>⋯</td><td> 0.006359607</td><td> 0.009910685</td><td>-0.017127351</td><td> 0.046519945</td><td> 0.032367667</td><td>-0.01183086</td><td>-0.008205665</td><td>-0.010969871</td><td> 0.027713889</td><td>-0.019552694</td></tr>\n",
              "\t<tr><th scope=row>gender</th><td>-0.018397637</td><td> 0.05824268</td><td> 0.039996160</td><td> 1.00000000</td><td> 0.03566947</td><td> 0.01490865</td><td>-0.06769536</td><td>-0.006328331</td><td> 0.02598367</td><td>-0.0154446299</td><td>⋯</td><td> 0.013348187</td><td> 0.009910685</td><td> 0.061830856</td><td>-0.018725420</td><td>-0.060149143</td><td>-0.01933299</td><td> 0.007074903</td><td>-0.010969871</td><td>-0.016507041</td><td>-0.049925810</td></tr>\n",
              "\t<tr><th scope=row>product.lineFashion.accessories</th><td> 0.016121054</td><td> 0.03684071</td><td>-0.016616473</td><td> 0.03566947</td><td> 1.00000000</td><td>-0.21357907</td><td>-0.19701440</td><td>-0.203092760</td><td>-0.20760849</td><td> 0.0260340377</td><td>⋯</td><td>-0.018452852</td><td> 0.028994260</td><td> 0.005728138</td><td> 0.002141602</td><td>-0.001347536</td><td>-0.01672965</td><td>-0.001717755</td><td> 0.022017369</td><td> 0.032088976</td><td>-0.023324936</td></tr>\n",
              "\t<tr><th scope=row>product.lineFood.and.beverages</th><td>-0.043509821</td><td> 0.05016121</td><td> 0.036010778</td><td> 0.01490865</td><td>-0.21357907</td><td> 1.00000000</td><td>-0.19431596</td><td>-0.200311069</td><td>-0.20476495</td><td> 0.0058359784</td><td>⋯</td><td>-0.042951597</td><td>-0.050820269</td><td>-0.025357167</td><td>-0.023348409</td><td> 0.028343119</td><td> 0.02574521</td><td>-0.069286698</td><td> 0.007429225</td><td> 0.052806399</td><td> 0.069601510</td></tr>\n",
              "</tbody>\n",
              "</table>\n"
            ]
          },
          "metadata": {}
        }
      ]
    },
    {
      "cell_type": "markdown",
      "metadata": {
        "id": "Ei2gG1XnrKtE"
      },
      "source": [
        "drop the highly correlated values"
      ]
    },
    {
      "cell_type": "code",
      "metadata": {
        "id": "pzR5cimMrPH2"
      },
      "source": [
        "df2<- df1[-highcorr]"
      ],
      "execution_count": 294,
      "outputs": []
    },
    {
      "cell_type": "code",
      "metadata": {
        "colab": {
          "base_uri": "https://localhost:8080/",
          "height": 306
        },
        "id": "i374XV5esTod",
        "outputId": "eb82a154-3325-4628-96d7-0167e6babcaf"
      },
      "source": [
        "head(df2)"
      ],
      "execution_count": 295,
      "outputs": [
        {
          "output_type": "display_data",
          "data": {
            "text/plain": [
              "  branchB branchC customer.type gender product.lineFashion.accessories\n",
              "1 0       0       1             1      0                              \n",
              "2 0       1       0             1      0                              \n",
              "3 0       0       0             0      0                              \n",
              "4 0       0       1             0      0                              \n",
              "5 0       0       0             0      0                              \n",
              "6 0       1       0             0      0                              \n",
              "  product.lineFood.and.beverages product.lineHealth.and.beauty\n",
              "1 0                              1                            \n",
              "2 0                              0                            \n",
              "3 0                              0                            \n",
              "4 0                              1                            \n",
              "5 0                              0                            \n",
              "6 0                              0                            \n",
              "  product.lineHome.and.lifestyle product.lineSports.and.travel unit.price ⋯\n",
              "1 0                              0                             74.69      ⋯\n",
              "2 0                              0                             15.28      ⋯\n",
              "3 1                              0                             46.33      ⋯\n",
              "4 0                              0                             58.22      ⋯\n",
              "5 0                              1                             86.31      ⋯\n",
              "6 0                              0                             85.39      ⋯\n",
              "  hour11 hour12 hour13 hour14 hour15 hour16 hour17 hour18 hour19 hour20\n",
              "1 0      0      1      0      0      0      0      0      0      0     \n",
              "2 0      0      0      0      0      0      0      0      0      0     \n",
              "3 0      0      1      0      0      0      0      0      0      0     \n",
              "4 0      0      0      0      0      0      0      0      0      1     \n",
              "5 0      0      0      0      0      0      0      0      0      0     \n",
              "6 0      0      0      0      0      0      0      1      0      0     "
            ],
            "text/latex": "A data.frame: 6 × 28\n\\begin{tabular}{r|lllllllllllllllllllll}\n  & branchB & branchC & customer.type & gender & product.lineFashion.accessories & product.lineFood.and.beverages & product.lineHealth.and.beauty & product.lineHome.and.lifestyle & product.lineSports.and.travel & unit.price & ⋯ & hour11 & hour12 & hour13 & hour14 & hour15 & hour16 & hour17 & hour18 & hour19 & hour20\\\\\n  & <dbl> & <dbl> & <dbl> & <dbl> & <dbl> & <dbl> & <dbl> & <dbl> & <dbl> & <dbl> & ⋯ & <dbl> & <dbl> & <dbl> & <dbl> & <dbl> & <dbl> & <dbl> & <dbl> & <dbl> & <dbl>\\\\\n\\hline\n\t1 & 0 & 0 & 1 & 1 & 0 & 0 & 1 & 0 & 0 & 74.69 & ⋯ & 0 & 0 & 1 & 0 & 0 & 0 & 0 & 0 & 0 & 0\\\\\n\t2 & 0 & 1 & 0 & 1 & 0 & 0 & 0 & 0 & 0 & 15.28 & ⋯ & 0 & 0 & 0 & 0 & 0 & 0 & 0 & 0 & 0 & 0\\\\\n\t3 & 0 & 0 & 0 & 0 & 0 & 0 & 0 & 1 & 0 & 46.33 & ⋯ & 0 & 0 & 1 & 0 & 0 & 0 & 0 & 0 & 0 & 0\\\\\n\t4 & 0 & 0 & 1 & 0 & 0 & 0 & 1 & 0 & 0 & 58.22 & ⋯ & 0 & 0 & 0 & 0 & 0 & 0 & 0 & 0 & 0 & 1\\\\\n\t5 & 0 & 0 & 0 & 0 & 0 & 0 & 0 & 0 & 1 & 86.31 & ⋯ & 0 & 0 & 0 & 0 & 0 & 0 & 0 & 0 & 0 & 0\\\\\n\t6 & 0 & 1 & 0 & 0 & 0 & 0 & 0 & 0 & 0 & 85.39 & ⋯ & 0 & 0 & 0 & 0 & 0 & 0 & 0 & 1 & 0 & 0\\\\\n\\end{tabular}\n",
            "text/markdown": "\nA data.frame: 6 × 28\n\n| <!--/--> | branchB &lt;dbl&gt; | branchC &lt;dbl&gt; | customer.type &lt;dbl&gt; | gender &lt;dbl&gt; | product.lineFashion.accessories &lt;dbl&gt; | product.lineFood.and.beverages &lt;dbl&gt; | product.lineHealth.and.beauty &lt;dbl&gt; | product.lineHome.and.lifestyle &lt;dbl&gt; | product.lineSports.and.travel &lt;dbl&gt; | unit.price &lt;dbl&gt; | ⋯ ⋯ | hour11 &lt;dbl&gt; | hour12 &lt;dbl&gt; | hour13 &lt;dbl&gt; | hour14 &lt;dbl&gt; | hour15 &lt;dbl&gt; | hour16 &lt;dbl&gt; | hour17 &lt;dbl&gt; | hour18 &lt;dbl&gt; | hour19 &lt;dbl&gt; | hour20 &lt;dbl&gt; |\n|---|---|---|---|---|---|---|---|---|---|---|---|---|---|---|---|---|---|---|---|---|---|\n| 1 | 0 | 0 | 1 | 1 | 0 | 0 | 1 | 0 | 0 | 74.69 | ⋯ | 0 | 0 | 1 | 0 | 0 | 0 | 0 | 0 | 0 | 0 |\n| 2 | 0 | 1 | 0 | 1 | 0 | 0 | 0 | 0 | 0 | 15.28 | ⋯ | 0 | 0 | 0 | 0 | 0 | 0 | 0 | 0 | 0 | 0 |\n| 3 | 0 | 0 | 0 | 0 | 0 | 0 | 0 | 1 | 0 | 46.33 | ⋯ | 0 | 0 | 1 | 0 | 0 | 0 | 0 | 0 | 0 | 0 |\n| 4 | 0 | 0 | 1 | 0 | 0 | 0 | 1 | 0 | 0 | 58.22 | ⋯ | 0 | 0 | 0 | 0 | 0 | 0 | 0 | 0 | 0 | 1 |\n| 5 | 0 | 0 | 0 | 0 | 0 | 0 | 0 | 0 | 1 | 86.31 | ⋯ | 0 | 0 | 0 | 0 | 0 | 0 | 0 | 0 | 0 | 0 |\n| 6 | 0 | 1 | 0 | 0 | 0 | 0 | 0 | 0 | 0 | 85.39 | ⋯ | 0 | 0 | 0 | 0 | 0 | 0 | 0 | 1 | 0 | 0 |\n\n",
            "text/html": [
              "<table class=\"dataframe\">\n",
              "<caption>A data.frame: 6 × 28</caption>\n",
              "<thead>\n",
              "\t<tr><th></th><th scope=col>branchB</th><th scope=col>branchC</th><th scope=col>customer.type</th><th scope=col>gender</th><th scope=col>product.lineFashion.accessories</th><th scope=col>product.lineFood.and.beverages</th><th scope=col>product.lineHealth.and.beauty</th><th scope=col>product.lineHome.and.lifestyle</th><th scope=col>product.lineSports.and.travel</th><th scope=col>unit.price</th><th scope=col>⋯</th><th scope=col>hour11</th><th scope=col>hour12</th><th scope=col>hour13</th><th scope=col>hour14</th><th scope=col>hour15</th><th scope=col>hour16</th><th scope=col>hour17</th><th scope=col>hour18</th><th scope=col>hour19</th><th scope=col>hour20</th></tr>\n",
              "\t<tr><th></th><th scope=col>&lt;dbl&gt;</th><th scope=col>&lt;dbl&gt;</th><th scope=col>&lt;dbl&gt;</th><th scope=col>&lt;dbl&gt;</th><th scope=col>&lt;dbl&gt;</th><th scope=col>&lt;dbl&gt;</th><th scope=col>&lt;dbl&gt;</th><th scope=col>&lt;dbl&gt;</th><th scope=col>&lt;dbl&gt;</th><th scope=col>&lt;dbl&gt;</th><th scope=col>⋯</th><th scope=col>&lt;dbl&gt;</th><th scope=col>&lt;dbl&gt;</th><th scope=col>&lt;dbl&gt;</th><th scope=col>&lt;dbl&gt;</th><th scope=col>&lt;dbl&gt;</th><th scope=col>&lt;dbl&gt;</th><th scope=col>&lt;dbl&gt;</th><th scope=col>&lt;dbl&gt;</th><th scope=col>&lt;dbl&gt;</th><th scope=col>&lt;dbl&gt;</th></tr>\n",
              "</thead>\n",
              "<tbody>\n",
              "\t<tr><th scope=row>1</th><td>0</td><td>0</td><td>1</td><td>1</td><td>0</td><td>0</td><td>1</td><td>0</td><td>0</td><td>74.69</td><td>⋯</td><td>0</td><td>0</td><td>1</td><td>0</td><td>0</td><td>0</td><td>0</td><td>0</td><td>0</td><td>0</td></tr>\n",
              "\t<tr><th scope=row>2</th><td>0</td><td>1</td><td>0</td><td>1</td><td>0</td><td>0</td><td>0</td><td>0</td><td>0</td><td>15.28</td><td>⋯</td><td>0</td><td>0</td><td>0</td><td>0</td><td>0</td><td>0</td><td>0</td><td>0</td><td>0</td><td>0</td></tr>\n",
              "\t<tr><th scope=row>3</th><td>0</td><td>0</td><td>0</td><td>0</td><td>0</td><td>0</td><td>0</td><td>1</td><td>0</td><td>46.33</td><td>⋯</td><td>0</td><td>0</td><td>1</td><td>0</td><td>0</td><td>0</td><td>0</td><td>0</td><td>0</td><td>0</td></tr>\n",
              "\t<tr><th scope=row>4</th><td>0</td><td>0</td><td>1</td><td>0</td><td>0</td><td>0</td><td>1</td><td>0</td><td>0</td><td>58.22</td><td>⋯</td><td>0</td><td>0</td><td>0</td><td>0</td><td>0</td><td>0</td><td>0</td><td>0</td><td>0</td><td>1</td></tr>\n",
              "\t<tr><th scope=row>5</th><td>0</td><td>0</td><td>0</td><td>0</td><td>0</td><td>0</td><td>0</td><td>0</td><td>1</td><td>86.31</td><td>⋯</td><td>0</td><td>0</td><td>0</td><td>0</td><td>0</td><td>0</td><td>0</td><td>0</td><td>0</td><td>0</td></tr>\n",
              "\t<tr><th scope=row>6</th><td>0</td><td>1</td><td>0</td><td>0</td><td>0</td><td>0</td><td>0</td><td>0</td><td>0</td><td>85.39</td><td>⋯</td><td>0</td><td>0</td><td>0</td><td>0</td><td>0</td><td>0</td><td>0</td><td>1</td><td>0</td><td>0</td></tr>\n",
              "</tbody>\n",
              "</table>\n"
            ]
          },
          "metadata": {}
        }
      ]
    },
    {
      "cell_type": "code",
      "metadata": {
        "id": "i7Z5t5NttJrD"
      },
      "source": [
        ""
      ],
      "execution_count": null,
      "outputs": []
    },
    {
      "cell_type": "code",
      "metadata": {
        "colab": {
          "base_uri": "https://localhost:8080/"
        },
        "id": "qh-lwGLetQEm",
        "outputId": "74949563-2949-45b3-fcd9-e83f92f4e938"
      },
      "source": [
        "install.packages(\"corrplot\")\n",
        "library(corrplot)"
      ],
      "execution_count": 286,
      "outputs": [
        {
          "output_type": "stream",
          "name": "stderr",
          "text": [
            "Installing package into ‘/usr/local/lib/R/site-library’\n",
            "(as ‘lib’ is unspecified)\n",
            "\n"
          ]
        }
      ]
    },
    {
      "cell_type": "code",
      "metadata": {
        "colab": {
          "base_uri": "https://localhost:8080/",
          "height": 190
        },
        "id": "foDTR9C7tm_b",
        "outputId": "b76ce575-f4f7-4a08-e229-b1380da9dfa1"
      },
      "source": [
        "par(mfrow = c(1, 2))\n",
        "corrplot(corr, order = \"hclust\")\n",
        "corrplot(cor(df2), order = \"hclust\")\n"
      ],
      "execution_count": 302,
      "outputs": [
        {
          "output_type": "error",
          "ename": "ERROR",
          "evalue": "ignored",
          "traceback": [
            "Error in hclust(as.dist(1 - corr), method = hclust.method): NA/NaN/Inf in foreign function call (arg 10)\nTraceback:\n",
            "1. corrplot(corr, order = \"hclust\")",
            "2. corrMatOrder(corr, order = order, hclust.method = hclust.method)",
            "3. reorder_using_hclust(corr, hclust.method)",
            "4. hclust(as.dist(1 - corr), method = hclust.method)"
          ]
        }
      ]
    },
    {
      "cell_type": "markdown",
      "metadata": {
        "id": "imKRCS4fqBaV"
      },
      "source": [
        "the importance scores"
      ]
    },
    {
      "cell_type": "code",
      "metadata": {
        "colab": {
          "base_uri": "https://localhost:8080/",
          "height": 97
        },
        "id": "StxqtNE8qArT",
        "outputId": "fff5c9b3-c894-4fb7-9e97-5c51272a4fff"
      },
      "source": [
        "Scores <- linear.correlation(df1)\n",
        "Scores"
      ],
      "execution_count": 271,
      "outputs": [
        {
          "output_type": "error",
          "ename": "ERROR",
          "evalue": "ignored",
          "traceback": [
            "Error in linear.correlation(df1): could not find function \"linear.correlation\"\nTraceback:\n"
          ]
        }
      ]
    },
    {
      "cell_type": "code",
      "metadata": {
        "id": "rQr3Cmi6qGjC"
      },
      "source": [
        ""
      ],
      "execution_count": null,
      "outputs": []
    },
    {
      "cell_type": "markdown",
      "metadata": {
        "id": "R5pjRjm_0RU4"
      },
      "source": [
        "## DIMENSIONALITY REDUCTION"
      ]
    },
    {
      "cell_type": "code",
      "metadata": {
        "colab": {
          "base_uri": "https://localhost:8080/",
          "height": 410
        },
        "id": "ARwaWi6l0cJV",
        "outputId": "3cf0b5a1-6316-479e-97c7-b53b416b0cb5"
      },
      "source": [
        "head(df)"
      ],
      "execution_count": 305,
      "outputs": [
        {
          "output_type": "display_data",
          "data": {
            "text/plain": [
              "  branch customer.type gender product.line           unit.price quantity\n",
              "1 A      0             0      Health and beauty      74.69      7       \n",
              "2 C      0             0      Electronic accessories 15.28      5       \n",
              "3 A      0             0      Home and lifestyle     46.33      7       \n",
              "4 A      0             0      Health and beauty      58.22      8       \n",
              "5 A      0             0      Sports and travel      86.31      7       \n",
              "6 C      0             0      Electronic accessories 85.39      7       \n",
              "  tax     payment     cogs   gross.income rating total    year month day hour\n",
              "1 26.1415 Ewallet     522.83 26.1415      9.1    548.9715 2019 1      5  13  \n",
              "2  3.8200 Cash         76.40  3.8200      9.6     80.2200 2019 3      8  10  \n",
              "3 16.2155 Credit card 324.31 16.2155      7.4    340.5255 2019 3      3  13  \n",
              "4 23.2880 Ewallet     465.76 23.2880      8.4    489.0480 2019 1     27  20  \n",
              "5 30.2085 Ewallet     604.17 30.2085      5.3    634.3785 2019 2      8  10  \n",
              "6 29.8865 Ewallet     597.73 29.8865      4.1    627.6165 2019 3     25  18  "
            ],
            "text/latex": "A data.frame: 6 × 16\n\\begin{tabular}{r|llllllllllllllll}\n  & branch & customer.type & gender & product.line & unit.price & quantity & tax & payment & cogs & gross.income & rating & total & year & month & day & hour\\\\\n  & <chr> & <dbl> & <dbl> & <chr> & <dbl> & <int> & <dbl> & <chr> & <dbl> & <dbl> & <dbl> & <dbl> & <dbl> & <dbl> & <int> & <chr>\\\\\n\\hline\n\t1 & A & 0 & 0 & Health and beauty      & 74.69 & 7 & 26.1415 & Ewallet     & 522.83 & 26.1415 & 9.1 & 548.9715 & 2019 & 1 &  5 & 13\\\\\n\t2 & C & 0 & 0 & Electronic accessories & 15.28 & 5 &  3.8200 & Cash        &  76.40 &  3.8200 & 9.6 &  80.2200 & 2019 & 3 &  8 & 10\\\\\n\t3 & A & 0 & 0 & Home and lifestyle     & 46.33 & 7 & 16.2155 & Credit card & 324.31 & 16.2155 & 7.4 & 340.5255 & 2019 & 3 &  3 & 13\\\\\n\t4 & A & 0 & 0 & Health and beauty      & 58.22 & 8 & 23.2880 & Ewallet     & 465.76 & 23.2880 & 8.4 & 489.0480 & 2019 & 1 & 27 & 20\\\\\n\t5 & A & 0 & 0 & Sports and travel      & 86.31 & 7 & 30.2085 & Ewallet     & 604.17 & 30.2085 & 5.3 & 634.3785 & 2019 & 2 &  8 & 10\\\\\n\t6 & C & 0 & 0 & Electronic accessories & 85.39 & 7 & 29.8865 & Ewallet     & 597.73 & 29.8865 & 4.1 & 627.6165 & 2019 & 3 & 25 & 18\\\\\n\\end{tabular}\n",
            "text/markdown": "\nA data.frame: 6 × 16\n\n| <!--/--> | branch &lt;chr&gt; | customer.type &lt;dbl&gt; | gender &lt;dbl&gt; | product.line &lt;chr&gt; | unit.price &lt;dbl&gt; | quantity &lt;int&gt; | tax &lt;dbl&gt; | payment &lt;chr&gt; | cogs &lt;dbl&gt; | gross.income &lt;dbl&gt; | rating &lt;dbl&gt; | total &lt;dbl&gt; | year &lt;dbl&gt; | month &lt;dbl&gt; | day &lt;int&gt; | hour &lt;chr&gt; |\n|---|---|---|---|---|---|---|---|---|---|---|---|---|---|---|---|---|\n| 1 | A | 0 | 0 | Health and beauty      | 74.69 | 7 | 26.1415 | Ewallet     | 522.83 | 26.1415 | 9.1 | 548.9715 | 2019 | 1 |  5 | 13 |\n| 2 | C | 0 | 0 | Electronic accessories | 15.28 | 5 |  3.8200 | Cash        |  76.40 |  3.8200 | 9.6 |  80.2200 | 2019 | 3 |  8 | 10 |\n| 3 | A | 0 | 0 | Home and lifestyle     | 46.33 | 7 | 16.2155 | Credit card | 324.31 | 16.2155 | 7.4 | 340.5255 | 2019 | 3 |  3 | 13 |\n| 4 | A | 0 | 0 | Health and beauty      | 58.22 | 8 | 23.2880 | Ewallet     | 465.76 | 23.2880 | 8.4 | 489.0480 | 2019 | 1 | 27 | 20 |\n| 5 | A | 0 | 0 | Sports and travel      | 86.31 | 7 | 30.2085 | Ewallet     | 604.17 | 30.2085 | 5.3 | 634.3785 | 2019 | 2 |  8 | 10 |\n| 6 | C | 0 | 0 | Electronic accessories | 85.39 | 7 | 29.8865 | Ewallet     | 597.73 | 29.8865 | 4.1 | 627.6165 | 2019 | 3 | 25 | 18 |\n\n",
            "text/html": [
              "<table class=\"dataframe\">\n",
              "<caption>A data.frame: 6 × 16</caption>\n",
              "<thead>\n",
              "\t<tr><th></th><th scope=col>branch</th><th scope=col>customer.type</th><th scope=col>gender</th><th scope=col>product.line</th><th scope=col>unit.price</th><th scope=col>quantity</th><th scope=col>tax</th><th scope=col>payment</th><th scope=col>cogs</th><th scope=col>gross.income</th><th scope=col>rating</th><th scope=col>total</th><th scope=col>year</th><th scope=col>month</th><th scope=col>day</th><th scope=col>hour</th></tr>\n",
              "\t<tr><th></th><th scope=col>&lt;chr&gt;</th><th scope=col>&lt;dbl&gt;</th><th scope=col>&lt;dbl&gt;</th><th scope=col>&lt;chr&gt;</th><th scope=col>&lt;dbl&gt;</th><th scope=col>&lt;int&gt;</th><th scope=col>&lt;dbl&gt;</th><th scope=col>&lt;chr&gt;</th><th scope=col>&lt;dbl&gt;</th><th scope=col>&lt;dbl&gt;</th><th scope=col>&lt;dbl&gt;</th><th scope=col>&lt;dbl&gt;</th><th scope=col>&lt;dbl&gt;</th><th scope=col>&lt;dbl&gt;</th><th scope=col>&lt;int&gt;</th><th scope=col>&lt;chr&gt;</th></tr>\n",
              "</thead>\n",
              "<tbody>\n",
              "\t<tr><th scope=row>1</th><td>A</td><td>0</td><td>0</td><td>Health and beauty     </td><td>74.69</td><td>7</td><td>26.1415</td><td>Ewallet    </td><td>522.83</td><td>26.1415</td><td>9.1</td><td>548.9715</td><td>2019</td><td>1</td><td> 5</td><td>13</td></tr>\n",
              "\t<tr><th scope=row>2</th><td>C</td><td>0</td><td>0</td><td>Electronic accessories</td><td>15.28</td><td>5</td><td> 3.8200</td><td>Cash       </td><td> 76.40</td><td> 3.8200</td><td>9.6</td><td> 80.2200</td><td>2019</td><td>3</td><td> 8</td><td>10</td></tr>\n",
              "\t<tr><th scope=row>3</th><td>A</td><td>0</td><td>0</td><td>Home and lifestyle    </td><td>46.33</td><td>7</td><td>16.2155</td><td>Credit card</td><td>324.31</td><td>16.2155</td><td>7.4</td><td>340.5255</td><td>2019</td><td>3</td><td> 3</td><td>13</td></tr>\n",
              "\t<tr><th scope=row>4</th><td>A</td><td>0</td><td>0</td><td>Health and beauty     </td><td>58.22</td><td>8</td><td>23.2880</td><td>Ewallet    </td><td>465.76</td><td>23.2880</td><td>8.4</td><td>489.0480</td><td>2019</td><td>1</td><td>27</td><td>20</td></tr>\n",
              "\t<tr><th scope=row>5</th><td>A</td><td>0</td><td>0</td><td>Sports and travel     </td><td>86.31</td><td>7</td><td>30.2085</td><td>Ewallet    </td><td>604.17</td><td>30.2085</td><td>5.3</td><td>634.3785</td><td>2019</td><td>2</td><td> 8</td><td>10</td></tr>\n",
              "\t<tr><th scope=row>6</th><td>C</td><td>0</td><td>0</td><td>Electronic accessories</td><td>85.39</td><td>7</td><td>29.8865</td><td>Ewallet    </td><td>597.73</td><td>29.8865</td><td>4.1</td><td>627.6165</td><td>2019</td><td>3</td><td>25</td><td>18</td></tr>\n",
              "</tbody>\n",
              "</table>\n"
            ]
          },
          "metadata": {}
        }
      ]
    },
    {
      "cell_type": "markdown",
      "metadata": {
        "id": "aTjMfZnpJt0n"
      },
      "source": [
        "Identify the columns with zero column variance"
      ]
    },
    {
      "cell_type": "code",
      "metadata": {
        "colab": {
          "base_uri": "https://localhost:8080/",
          "height": 432
        },
        "id": "qcjgyhqwKQjH",
        "outputId": "b9fb6039-1ea4-45b2-9842-42db3bcbeeae"
      },
      "source": [
        "num<- select_if(df, is.numeric)\n",
        "head(num, 3)\n",
        "str(num)"
      ],
      "execution_count": 308,
      "outputs": [
        {
          "output_type": "display_data",
          "data": {
            "text/plain": [
              "  customer.type gender unit.price quantity tax     cogs   gross.income rating\n",
              "1 0             0      74.69      7        26.1415 522.83 26.1415      9.1   \n",
              "2 0             0      15.28      5         3.8200  76.40  3.8200      9.6   \n",
              "3 0             0      46.33      7        16.2155 324.31 16.2155      7.4   \n",
              "  total    year month day\n",
              "1 548.9715 2019 1     5  \n",
              "2  80.2200 2019 3     8  \n",
              "3 340.5255 2019 3     3  "
            ],
            "text/latex": "A data.frame: 3 × 12\n\\begin{tabular}{r|llllllllllll}\n  & customer.type & gender & unit.price & quantity & tax & cogs & gross.income & rating & total & year & month & day\\\\\n  & <dbl> & <dbl> & <dbl> & <int> & <dbl> & <dbl> & <dbl> & <dbl> & <dbl> & <dbl> & <dbl> & <int>\\\\\n\\hline\n\t1 & 0 & 0 & 74.69 & 7 & 26.1415 & 522.83 & 26.1415 & 9.1 & 548.9715 & 2019 & 1 & 5\\\\\n\t2 & 0 & 0 & 15.28 & 5 &  3.8200 &  76.40 &  3.8200 & 9.6 &  80.2200 & 2019 & 3 & 8\\\\\n\t3 & 0 & 0 & 46.33 & 7 & 16.2155 & 324.31 & 16.2155 & 7.4 & 340.5255 & 2019 & 3 & 3\\\\\n\\end{tabular}\n",
            "text/markdown": "\nA data.frame: 3 × 12\n\n| <!--/--> | customer.type &lt;dbl&gt; | gender &lt;dbl&gt; | unit.price &lt;dbl&gt; | quantity &lt;int&gt; | tax &lt;dbl&gt; | cogs &lt;dbl&gt; | gross.income &lt;dbl&gt; | rating &lt;dbl&gt; | total &lt;dbl&gt; | year &lt;dbl&gt; | month &lt;dbl&gt; | day &lt;int&gt; |\n|---|---|---|---|---|---|---|---|---|---|---|---|---|\n| 1 | 0 | 0 | 74.69 | 7 | 26.1415 | 522.83 | 26.1415 | 9.1 | 548.9715 | 2019 | 1 | 5 |\n| 2 | 0 | 0 | 15.28 | 5 |  3.8200 |  76.40 |  3.8200 | 9.6 |  80.2200 | 2019 | 3 | 8 |\n| 3 | 0 | 0 | 46.33 | 7 | 16.2155 | 324.31 | 16.2155 | 7.4 | 340.5255 | 2019 | 3 | 3 |\n\n",
            "text/html": [
              "<table class=\"dataframe\">\n",
              "<caption>A data.frame: 3 × 12</caption>\n",
              "<thead>\n",
              "\t<tr><th></th><th scope=col>customer.type</th><th scope=col>gender</th><th scope=col>unit.price</th><th scope=col>quantity</th><th scope=col>tax</th><th scope=col>cogs</th><th scope=col>gross.income</th><th scope=col>rating</th><th scope=col>total</th><th scope=col>year</th><th scope=col>month</th><th scope=col>day</th></tr>\n",
              "\t<tr><th></th><th scope=col>&lt;dbl&gt;</th><th scope=col>&lt;dbl&gt;</th><th scope=col>&lt;dbl&gt;</th><th scope=col>&lt;int&gt;</th><th scope=col>&lt;dbl&gt;</th><th scope=col>&lt;dbl&gt;</th><th scope=col>&lt;dbl&gt;</th><th scope=col>&lt;dbl&gt;</th><th scope=col>&lt;dbl&gt;</th><th scope=col>&lt;dbl&gt;</th><th scope=col>&lt;dbl&gt;</th><th scope=col>&lt;int&gt;</th></tr>\n",
              "</thead>\n",
              "<tbody>\n",
              "\t<tr><th scope=row>1</th><td>0</td><td>0</td><td>74.69</td><td>7</td><td>26.1415</td><td>522.83</td><td>26.1415</td><td>9.1</td><td>548.9715</td><td>2019</td><td>1</td><td>5</td></tr>\n",
              "\t<tr><th scope=row>2</th><td>0</td><td>0</td><td>15.28</td><td>5</td><td> 3.8200</td><td> 76.40</td><td> 3.8200</td><td>9.6</td><td> 80.2200</td><td>2019</td><td>3</td><td>8</td></tr>\n",
              "\t<tr><th scope=row>3</th><td>0</td><td>0</td><td>46.33</td><td>7</td><td>16.2155</td><td>324.31</td><td>16.2155</td><td>7.4</td><td>340.5255</td><td>2019</td><td>3</td><td>3</td></tr>\n",
              "</tbody>\n",
              "</table>\n"
            ]
          },
          "metadata": {}
        },
        {
          "output_type": "stream",
          "name": "stdout",
          "text": [
            "'data.frame':\t1000 obs. of  12 variables:\n",
            " $ customer.type: num  0 0 0 0 0 0 0 0 0 0 ...\n",
            " $ gender       : num  0 0 0 0 0 0 0 0 0 0 ...\n",
            " $ unit.price   : num  74.7 15.3 46.3 58.2 86.3 ...\n",
            " $ quantity     : int  7 5 7 8 7 7 6 10 2 3 ...\n",
            " $ tax          : num  26.14 3.82 16.22 23.29 30.21 ...\n",
            " $ cogs         : num  522.8 76.4 324.3 465.8 604.2 ...\n",
            " $ gross.income : num  26.14 3.82 16.22 23.29 30.21 ...\n",
            " $ rating       : num  9.1 9.6 7.4 8.4 5.3 4.1 5.8 8 7.2 5.9 ...\n",
            " $ total        : num  549 80.2 340.5 489 634.4 ...\n",
            " $ year         : num  2019 2019 2019 2019 2019 ...\n",
            " $ month        : num  1 3 3 1 2 3 2 2 1 2 ...\n",
            " $ day          : int  5 8 3 27 8 25 25 24 10 20 ...\n"
          ]
        }
      ]
    },
    {
      "cell_type": "code",
      "metadata": {
        "colab": {
          "base_uri": "https://localhost:8080/",
          "height": 34
        },
        "id": "sH-2aHqq0iun",
        "outputId": "cdc7f494-f524-484c-b8c4-aa5de78c3149"
      },
      "source": [
        "out<-names(num[, sapply(num, function(v) var(v, na.rm=TRUE)==0)])\n",
        "out"
      ],
      "execution_count": 312,
      "outputs": [
        {
          "output_type": "display_data",
          "data": {
            "text/plain": [
              "[1] \"customer.type\" \"gender\"        \"year\"         "
            ],
            "text/latex": "\\begin{enumerate*}\n\\item 'customer.type'\n\\item 'gender'\n\\item 'year'\n\\end{enumerate*}\n",
            "text/markdown": "1. 'customer.type'\n2. 'gender'\n3. 'year'\n\n\n",
            "text/html": [
              "<style>\n",
              ".list-inline {list-style: none; margin:0; padding: 0}\n",
              ".list-inline>li {display: inline-block}\n",
              ".list-inline>li:not(:last-child)::after {content: \"\\00b7\"; padding: 0 .5ex}\n",
              "</style>\n",
              "<ol class=list-inline><li>'customer.type'</li><li>'gender'</li><li>'year'</li></ol>\n"
            ]
          },
          "metadata": {}
        }
      ]
    },
    {
      "cell_type": "markdown",
      "metadata": {
        "id": "6f_iPa_bLAzG"
      },
      "source": [
        "drop these columns "
      ]
    },
    {
      "cell_type": "code",
      "metadata": {
        "colab": {
          "base_uri": "https://localhost:8080/"
        },
        "id": "EQpHyz4AK_Jf",
        "outputId": "19192ff4-78a5-483a-90c4-1755f2c00935"
      },
      "source": [
        "df3<- select(num, -customer.type, -gender, -year)\n",
        "str(df3)"
      ],
      "execution_count": 314,
      "outputs": [
        {
          "output_type": "stream",
          "name": "stdout",
          "text": [
            "'data.frame':\t1000 obs. of  9 variables:\n",
            " $ unit.price  : num  74.7 15.3 46.3 58.2 86.3 ...\n",
            " $ quantity    : int  7 5 7 8 7 7 6 10 2 3 ...\n",
            " $ tax         : num  26.14 3.82 16.22 23.29 30.21 ...\n",
            " $ cogs        : num  522.8 76.4 324.3 465.8 604.2 ...\n",
            " $ gross.income: num  26.14 3.82 16.22 23.29 30.21 ...\n",
            " $ rating      : num  9.1 9.6 7.4 8.4 5.3 4.1 5.8 8 7.2 5.9 ...\n",
            " $ total       : num  549 80.2 340.5 489 634.4 ...\n",
            " $ month       : num  1 3 3 1 2 3 2 2 1 2 ...\n",
            " $ day         : int  5 8 3 27 8 25 25 24 10 20 ...\n"
          ]
        }
      ]
    },
    {
      "cell_type": "markdown",
      "metadata": {
        "id": "hI-mJx7CMc4Q"
      },
      "source": [
        "carry out PCA with center and scale set to true then view summary"
      ]
    },
    {
      "cell_type": "code",
      "metadata": {
        "colab": {
          "base_uri": "https://localhost:8080/",
          "height": 183
        },
        "id": "YXiEKEM1LaNJ",
        "outputId": "6f836d81-5ece-4e02-9649-995042a1b723"
      },
      "source": [
        "df3.pca <- prcomp(df3, center = TRUE, scale. = TRUE)\n",
        "\n",
        "summary(df3.pca)"
      ],
      "execution_count": 315,
      "outputs": [
        {
          "output_type": "display_data",
          "data": {
            "text/plain": [
              "Importance of components:\n",
              "                          PC1    PC2    PC3    PC4     PC5     PC6       PC7\n",
              "Standard deviation     2.2187 1.0704 1.0068 0.9858 0.92540 0.29986 1.675e-16\n",
              "Proportion of Variance 0.5469 0.1273 0.1126 0.1080 0.09515 0.00999 0.000e+00\n",
              "Cumulative Proportion  0.5469 0.6743 0.7869 0.8949 0.99001 1.00000 1.000e+00\n",
              "                            PC8       PC9\n",
              "Standard deviation     1.19e-16 3.509e-17\n",
              "Proportion of Variance 0.00e+00 0.000e+00\n",
              "Cumulative Proportion  1.00e+00 1.000e+00"
            ]
          },
          "metadata": {}
        }
      ]
    },
    {
      "cell_type": "markdown",
      "metadata": {
        "id": "6HtV44DMPCGK"
      },
      "source": [
        "I obtained 9 principal components with PC1 (54%), PC2(12%), PC3(11%), PC4(10%), PC5(9%) comprising of 96%. You can observe that below."
      ]
    },
    {
      "cell_type": "code",
      "metadata": {
        "colab": {
          "base_uri": "https://localhost:8080/",
          "height": 492
        },
        "id": "PwoOsNi1OD0A",
        "outputId": "686dcba0-ef30-4e95-bc75-f61b347cabf1"
      },
      "source": [
        "install.packages(\"factoextra\")\n",
        "\n",
        "library(factoextra)\n",
        "\n",
        "res.pca <- PCA(df3,  graph = FALSE)\n",
        "\n",
        "# visualize eigenvalues/variances\n",
        "fviz_screeplot(res.pca, addlabels = TRUE, ylim = c(0, 100))"
      ],
      "execution_count": 319,
      "outputs": [
        {
          "output_type": "stream",
          "name": "stderr",
          "text": [
            "Installing package into ‘/usr/local/lib/R/site-library’\n",
            "(as ‘lib’ is unspecified)\n",
            "\n"
          ]
        },
        {
          "output_type": "display_data",
          "data": {
            "image/png": "[encoded data removed]",
            "text/plain": [
              "plot without title"
            ]
          },
          "metadata": {
            "image/png": {
              "width": 420,
              "height": 420
            }
          }
        }
      ]
    },
    {
      "cell_type": "code",
      "metadata": {
        "colab": {
          "base_uri": "https://localhost:8080/"
        },
        "id": "9_0U-RAtQXsy",
        "outputId": "6bbea016-1a82-4f10-a0dc-e09d8e925e9e"
      },
      "source": [
        "str(df3.pca)"
      ],
      "execution_count": 320,
      "outputs": [
        {
          "output_type": "stream",
          "name": "stdout",
          "text": [
            "List of 5\n",
            " $ sdev    : num [1:9] 2.219 1.07 1.007 0.986 0.925 ...\n",
            " $ rotation: num [1:9, 1:9] -0.292 -0.324 -0.45 -0.45 -0.45 ...\n",
            "  ..- attr(*, \"dimnames\")=List of 2\n",
            "  .. ..$ : chr [1:9] \"unit.price\" \"quantity\" \"tax\" \"cogs\" ...\n",
            "  .. ..$ : chr [1:9] \"PC1\" \"PC2\" \"PC3\" \"PC4\" ...\n",
            " $ center  : Named num [1:9] 55.67 5.51 15.38 307.59 15.38 ...\n",
            "  ..- attr(*, \"names\")= chr [1:9] \"unit.price\" \"quantity\" \"tax\" \"cogs\" ...\n",
            " $ scale   : Named num [1:9] 26.49 2.92 11.71 234.18 11.71 ...\n",
            "  ..- attr(*, \"names\")= chr [1:9] \"unit.price\" \"quantity\" \"tax\" \"cogs\" ...\n",
            " $ x       : num [1:1000, 1:9] -2.02 2.32 -0.17 -1.52 -2.8 ...\n",
            "  ..- attr(*, \"dimnames\")=List of 2\n",
            "  .. ..$ : NULL\n",
            "  .. ..$ : chr [1:9] \"PC1\" \"PC2\" \"PC3\" \"PC4\" ...\n",
            " - attr(*, \"class\")= chr \"prcomp\"\n"
          ]
        }
      ]
    },
    {
      "cell_type": "code",
      "metadata": {
        "colab": {
          "base_uri": "https://localhost:8080/"
        },
        "id": "KUNQA2vaQsp0",
        "outputId": "a3286dda-5419-420c-87d7-491b93f3fa75"
      },
      "source": [
        "install.packages(\"ggplot2\")\n",
        "# install.packages(\"ggfortify\")\n",
        "library(ggplot2)\n",
        "# library(ggfortify)\n"
      ],
      "execution_count": 328,
      "outputs": [
        {
          "output_type": "stream",
          "name": "stderr",
          "text": [
            "Installing package into ‘/usr/local/lib/R/site-library’\n",
            "(as ‘lib’ is unspecified)\n",
            "\n"
          ]
        }
      ]
    },
    {
      "cell_type": "code",
      "metadata": {
        "colab": {
          "base_uri": "https://localhost:8080/",
          "height": 227
        },
        "id": "yN3jyV-HTnNH",
        "outputId": "03cbfb48-bcbc-4bab-b7c2-3c61bae0d1a8"
      },
      "source": [
        "ggbiplot(res.pca)"
      ],
      "execution_count": 327,
      "outputs": [
        {
          "output_type": "error",
          "ename": "ERROR",
          "evalue": "ignored",
          "traceback": [
            "Error in fortify.list(data, ...): Unable to infer class from input list\nTraceback:\n",
            "1. ggbiplot(res.pca)",
            "2. ggplot2::ggplot(data = plot.data, mapping = mapping)",
            "3. ggplot.default(data = plot.data, mapping = mapping)",
            "4. fortify(data, ...)",
            "5. fortify.list(data, ...)",
            "6. stop(\"Unable to infer class from input list\")"
          ]
        }
      ]
    },
    {
      "cell_type": "markdown",
      "metadata": {
        "id": "B1yi3hPrZHYS"
      },
      "source": [
        "## FEATURE SELECTION"
      ]
    },
    {
      "cell_type": "code",
      "metadata": {
        "colab": {
          "base_uri": "https://localhost:8080/"
        },
        "id": "WPsRRSD8Y0kE",
        "outputId": "826d49ee-0630-4d1d-d257-94c098e41d0c"
      },
      "source": [
        "install.packages(\"caret\")\n",
        "install.packages(\"corrplot\")\n",
        "\n",
        "library(caret)\n",
        "library(corrplot)\n"
      ],
      "execution_count": 260,
      "outputs": [
        {
          "output_type": "stream",
          "name": "stderr",
          "text": [
            "Installing package into ‘/usr/local/lib/R/site-library’\n",
            "(as ‘lib’ is unspecified)\n",
            "\n",
            "Installing package into ‘/usr/local/lib/R/site-library’\n",
            "(as ‘lib’ is unspecified)\n",
            "\n"
          ]
        }
      ]
    }
  ]
}